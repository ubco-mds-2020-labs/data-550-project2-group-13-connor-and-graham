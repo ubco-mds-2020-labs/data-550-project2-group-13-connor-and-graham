{
 "cells": [
  {
   "cell_type": "code",
   "execution_count": null,
   "metadata": {},
   "outputs": [],
   "source": [
    "library(dplyr) \n",
    "library(ggplot2)\n",
    "library(tidyverse)"
   ]
  },
  {
   "cell_type": "code",
   "execution_count": null,
   "metadata": {},
   "outputs": [],
   "source": [
    "basketball_df <- read.csv('players_stats_by_season_full_details.csv')"
   ]
  },
  {
   "cell_type": "code",
   "execution_count": null,
   "metadata": {},
   "outputs": [],
   "source": [
    "names(basketball_df)[1] <- 'League'"
   ]
  },
  {
   "cell_type": "code",
   "execution_count": null,
   "metadata": {},
   "outputs": [],
   "source": [
    "head(basketball_df)"
   ]
  },
  {
   "cell_type": "code",
   "execution_count": null,
   "metadata": {},
   "outputs": [],
   "source": [
    "names <- names(basketball_df)"
   ]
  },
  {
   "cell_type": "code",
   "execution_count": null,
   "metadata": {},
   "outputs": [],
   "source": [
    "NBA_data <- filter(basketball_df, Stage == 'Regular_Season' & League == 'NBA')\n",
    "NBA_data['age'] <- 2020-NBA_data['birth_year']"
   ]
  },
  {
   "cell_type": "code",
   "execution_count": null,
   "metadata": {},
   "outputs": [],
   "source": [
    "NBA_data$age"
   ]
  },
  {
   "cell_type": "code",
   "execution_count": null,
   "metadata": {},
   "outputs": [],
   "source": [
    "#grouped_data <- aggregate(NBA_data, by = NBA_data[-1],FUN = mean)\n",
    "\n",
    "numeric_data <- unlist(lapply(NBA_data, is.numeric))  "
   ]
  },
  {
   "cell_type": "code",
   "execution_count": null,
   "metadata": {},
   "outputs": [],
   "source": [
    "grouped_data[with(grouped_data, order(age)),]"
   ]
  },
  {
   "cell_type": "code",
   "execution_count": null,
   "metadata": {},
   "outputs": [],
   "source": [
    "ggplot(grouped_data) + aes(x = age, y = GP) + geom_point()"
   ]
  },
  {
   "cell_type": "code",
   "execution_count": null,
   "metadata": {},
   "outputs": [],
   "source": [
    "options(repr.plot.width=14, repr.plot.height=12)\n",
    "numeric_data[-c(1)] %>% \n",
    "    select_if(is.numeric) %>%\n",
    "   # pivot_longer(everything()) %>%\n",
    "    ggplot(aes(x = age)) +  \n",
    "    geom_line(alpha=0.5, y ='age') #+\n",
    "    #facet_wrap(~name, scales=\"free\", ncol=2, labeller = labeller(name=names)) +\n",
    "    #labs(x= \"age\", y='Frequency', title= \"NBA player stats vs. age\") +\n",
    "   # theme(axis.title= element_text(size=16),\n",
    "      #   axis.text= element_text(size=12), plot.title= element_text(size=20),\n",
    "       #  plot.subtitle= element_text(size=14), axis.text.x= element_text(size=10),\n",
    "      #   strip.text.x = element_text(size=12))"
   ]
  },
  {
   "cell_type": "code",
   "execution_count": null,
   "metadata": {},
   "outputs": [],
   "source": []
  },
  {
   "cell_type": "code",
   "execution_count": null,
   "metadata": {},
   "outputs": [],
   "source": []
  }
 ],
 "metadata": {
  "kernelspec": {
   "display_name": "R",
   "language": "R",
   "name": "ir"
  },
  "language_info": {
   "codemirror_mode": "r",
   "file_extension": ".r",
   "mimetype": "text/x-r-source",
   "name": "R",
   "pygments_lexer": "r",
   "version": "4.0.2"
  }
 },
 "nbformat": 4,
 "nbformat_minor": 4
}
