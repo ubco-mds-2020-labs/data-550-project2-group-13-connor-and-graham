{
 "cells": [
  {
   "cell_type": "markdown",
   "metadata": {},
   "source": [
    "# Data 550 Project 2\n",
    "### Names: Connor Fairbanks, Graham Kerford"
   ]
  },
  {
   "cell_type": "markdown",
   "metadata": {},
   "source": [
    "### Description of the Data\n",
    "\n",
    "The 'basketball players stats per season-49 leagues' dataset was used for this project. It comprises player data for 49 leagues from 1999 to present. The dataset was downlaoded from [kaggle](https://www.kaggle.com/mirichoi0218/insurance/home) in January, 2020a dn is available at: [https://www.kaggle.com/jacobbaruch/basketball-players-stats-per-season-49-leagues](https://www.kaggle.com/jacobbaruch/basketball-players-stats-per-season-49-leagues). In total ~11 thousand players data was collected in 49 leagues for each season. Due to the large amount of data available the dataset used for this project was limited to the first 200 players in the NBA doing the regular season. The age of the players was added  to aid in the analysis. The dataset contains the following characteristics for each player:\n",
    "\n",
    "- `League`: The league that the players played in for the specified season, limited to the NBA for this season.\n",
    "\n",
    "- `Season`: Date of the NBA season.\n",
    "\n",
    "- `Stage`: The period in the season doing which the data was taken.\n",
    "\n",
    "- `Player`: The name of the player.\n",
    "\n",
    "- `Team`: The team the player played for doing the season.\n",
    "\n",
    "- `GP`: Games played doing the season. \n",
    "\n",
    "- `MIN`: Minutes played.\n",
    "\n",
    "- `FGM`: Field goals made.\n",
    "\n",
    "- `FGA`: Field goals against.\n",
    "\n",
    "- `3PM`: 3 pointers made.\n",
    "\n",
    "- `3PA`: 3 pointers against.\n",
    "\n",
    "- `FTM`: Free throws made.\n",
    "\n",
    "- `FTA`: Free throws against.\n",
    "\n",
    "- `TOV`: Turnovers\n",
    "\n",
    "- `PF`: Personal fouls\n",
    "\n",
    "- `ORB`: Offensive rebounds\n",
    "\n",
    "- `DRB`: Defensive rebounds\n",
    "\n",
    "- `REB`: Total rebounds\n",
    "\n",
    "- `AST`: Assists\n",
    "\n",
    "- `STL`: Steals\n",
    "\n",
    "- `BLK`: Blocks\n",
    "\n",
    "- `PTS`: Points\n",
    "\n",
    "- `Birth_year`: Year of birth\n",
    "\n",
    "- `Birth_month`: Month of birth\n",
    "\n",
    "- `Birth_date`: Birthdate\n",
    "\n",
    "- `height`:\n",
    "\n",
    "- `height`: (cm)\n",
    "\n",
    "- `weight`: Weight in pounds\n",
    "\n",
    "- `weight_kg`: Weight in kilograms\n",
    "\n",
    "- `nationality`: Nationality of the player at birth\n",
    "\n",
    "- `high_school`: High school attended\n",
    "\n",
    "- `draft_round`: Draft hound\n",
    "\n",
    "- `draft_pick`: Draft pick\n",
    "\n",
    "- `draft_team`: Team drafted to"
   ]
  },
  {
   "cell_type": "code",
   "execution_count": 1,
   "metadata": {},
   "outputs": [
    {
     "name": "stderr",
     "output_type": "stream",
     "text": [
      "\n",
      "Attaching package: 'dplyr'\n",
      "\n",
      "\n",
      "The following objects are masked from 'package:stats':\n",
      "\n",
      "    filter, lag\n",
      "\n",
      "\n",
      "The following objects are masked from 'package:base':\n",
      "\n",
      "    intersect, setdiff, setequal, union\n",
      "\n",
      "\n",
      "Warning message:\n",
      "\"package 'ggplot2' was built under R version 4.0.3\"\n",
      "Warning message:\n",
      "\"package 'tidyverse' was built under R version 4.0.3\"\n",
      "-- \u001b[1mAttaching packages\u001b[22m --------------------------------------- tidyverse 1.3.0 --\n",
      "\n",
      "\u001b[32mv\u001b[39m \u001b[34mtidyr  \u001b[39m 1.1.2     \u001b[32mv\u001b[39m \u001b[34mstringr\u001b[39m 1.4.0\n",
      "\u001b[32mv\u001b[39m \u001b[34mreadr  \u001b[39m 1.3.1     \u001b[32mv\u001b[39m \u001b[34mforcats\u001b[39m 0.5.0\n",
      "\u001b[32mv\u001b[39m \u001b[34mpurrr  \u001b[39m 0.3.4     \n",
      "\n",
      "-- \u001b[1mConflicts\u001b[22m ------------------------------------------ tidyverse_conflicts() --\n",
      "\u001b[31mx\u001b[39m \u001b[34mdplyr\u001b[39m::\u001b[32mfilter()\u001b[39m masks \u001b[34mstats\u001b[39m::filter()\n",
      "\u001b[31mx\u001b[39m \u001b[34mdplyr\u001b[39m::\u001b[32mlag()\u001b[39m    masks \u001b[34mstats\u001b[39m::lag()\n",
      "\n",
      "Warning message:\n",
      "\"package 'plotly' was built under R version 4.0.3\"\n",
      "\n",
      "Attaching package: 'plotly'\n",
      "\n",
      "\n",
      "The following object is masked from 'package:ggplot2':\n",
      "\n",
      "    last_plot\n",
      "\n",
      "\n",
      "The following object is masked from 'package:stats':\n",
      "\n",
      "    filter\n",
      "\n",
      "\n",
      "The following object is masked from 'package:graphics':\n",
      "\n",
      "    layout\n",
      "\n",
      "\n",
      "Warning message:\n",
      "\"package 'gapminder' was built under R version 4.0.3\"\n"
     ]
    }
   ],
   "source": [
    "library(dplyr) \n",
    "library(ggplot2)\n",
    "library(tibble)\n",
    "library(tidyverse)\n",
    "library(plotly)\n",
    "library(gapminder)"
   ]
  },
  {
   "cell_type": "code",
   "execution_count": 2,
   "metadata": {},
   "outputs": [],
   "source": [
    "basketball_df <- read.csv('players_stats_by_season_full_details.csv')"
   ]
  },
  {
   "cell_type": "code",
   "execution_count": 3,
   "metadata": {},
   "outputs": [],
   "source": [
    "names(basketball_df)[1] <- 'League'\n",
    "NBA_data_filtered <- filter(basketball_df, Stage == 'Regular_Season' & League == 'NBA' & GP >60)"
   ]
  },
  {
   "cell_type": "markdown",
   "metadata": {},
   "source": [
    "#### Data Wrangling - Graham\n",
    "\n",
    "To determine the variation in a players scoring ability with age, a new column was created by subtracting the season by the birth_year for each player. The new column called year was also added. \n",
    "The data was then filtered and grouped by age to include only numeric columns and to represent the mean value for each player statistic for each age group."
   ]
  },
  {
   "cell_type": "code",
   "execution_count": 4,
   "metadata": {},
   "outputs": [
    {
     "data": {
      "text/html": [
       "<table>\n",
       "<caption>A data.frame: 6 × 36</caption>\n",
       "<thead>\n",
       "\t<tr><th></th><th scope=col>League</th><th scope=col>year</th><th scope=col>Season</th><th scope=col>Stage</th><th scope=col>Player</th><th scope=col>Team</th><th scope=col>GP</th><th scope=col>MIN</th><th scope=col>FGM</th><th scope=col>FGA</th><th scope=col>...</th><th scope=col>birth_date</th><th scope=col>height</th><th scope=col>height_cm</th><th scope=col>weight</th><th scope=col>weight_kg</th><th scope=col>nationality</th><th scope=col>high_school</th><th scope=col>draft_round</th><th scope=col>draft_pick</th><th scope=col>draft_team</th></tr>\n",
       "\t<tr><th></th><th scope=col>&lt;chr&gt;</th><th scope=col>&lt;dbl&gt;</th><th scope=col>&lt;chr&gt;</th><th scope=col>&lt;chr&gt;</th><th scope=col>&lt;chr&gt;</th><th scope=col>&lt;chr&gt;</th><th scope=col>&lt;int&gt;</th><th scope=col>&lt;dbl&gt;</th><th scope=col>&lt;int&gt;</th><th scope=col>&lt;int&gt;</th><th scope=col>...</th><th scope=col>&lt;chr&gt;</th><th scope=col>&lt;chr&gt;</th><th scope=col>&lt;int&gt;</th><th scope=col>&lt;chr&gt;</th><th scope=col>&lt;int&gt;</th><th scope=col>&lt;chr&gt;</th><th scope=col>&lt;chr&gt;</th><th scope=col>&lt;int&gt;</th><th scope=col>&lt;int&gt;</th><th scope=col>&lt;chr&gt;</th></tr>\n",
       "</thead>\n",
       "<tbody>\n",
       "\t<tr><th scope=row>1</th><td>NBA</td><td>2000</td><td>1999 - 2000</td><td>Regular_Season</td><td>Shaquille O'Neal</td><td>LAL</td><td>79</td><td>3163</td><td>956</td><td>1665</td><td>...</td><td>06-Mar-72</td><td>01-Jul</td><td>216</td><td>325</td><td>147</td><td>United States</td><td>Robert G. Cole High School </td><td>1</td><td> 1</td><td>Orlando Magic        </td></tr>\n",
       "\t<tr><th scope=row>2</th><td>NBA</td><td>2000</td><td>1999 - 2000</td><td>Regular_Season</td><td>Vince Carter    </td><td>TOR</td><td>82</td><td>3126</td><td>788</td><td>1696</td><td>...</td><td>26-Jan-77</td><td>06-Jun</td><td>198</td><td>220</td><td>100</td><td>United States</td><td>Mainland High School       </td><td>1</td><td> 5</td><td>Golden State Warriors</td></tr>\n",
       "\t<tr><th scope=row>3</th><td>NBA</td><td>2000</td><td>1999 - 2000</td><td>Regular_Season</td><td>Karl Malone     </td><td>UTA</td><td>82</td><td>2947</td><td>752</td><td>1476</td><td>...</td><td>24-Jul-63</td><td>09-Jun</td><td>206</td><td>265</td><td>120</td><td>United States</td><td>Summerfield High School    </td><td>1</td><td>13</td><td>Utah Jazz            </td></tr>\n",
       "\t<tr><th scope=row>4</th><td>NBA</td><td>2000</td><td>1999 - 2000</td><td>Regular_Season</td><td>Allen Iverson   </td><td>PHI</td><td>70</td><td>2853</td><td>729</td><td>1733</td><td>...</td><td>07-Jun-75</td><td>6-0   </td><td>183</td><td>165</td><td> 75</td><td>United States</td><td>Bethel High School         </td><td>1</td><td> 1</td><td>Philadelphia Sixers  </td></tr>\n",
       "\t<tr><th scope=row>5</th><td>NBA</td><td>2000</td><td>1999 - 2000</td><td>Regular_Season</td><td>Gary Payton     </td><td>SEA</td><td>82</td><td>3425</td><td>747</td><td>1666</td><td>...</td><td>23-Jul-68</td><td>04-Jun</td><td>193</td><td>180</td><td> 82</td><td>United States</td><td>Skyline High School        </td><td>1</td><td> 2</td><td>Seattle SuperSonics  </td></tr>\n",
       "\t<tr><th scope=row>6</th><td>NBA</td><td>2000</td><td>1999 - 2000</td><td>Regular_Season</td><td>Jerry Stackhouse</td><td>DET</td><td>82</td><td>3148</td><td>619</td><td>1447</td><td>...</td><td>05-Nov-74</td><td>06-Jun</td><td>198</td><td>218</td><td> 99</td><td>United States</td><td>Oak Hill Academy           </td><td>1</td><td> 3</td><td>Philadelphia Sixers  </td></tr>\n",
       "</tbody>\n",
       "</table>\n"
      ],
      "text/latex": [
       "A data.frame: 6 × 36\n",
       "\\begin{tabular}{r|lllllllllllllllllllll}\n",
       "  & League & year & Season & Stage & Player & Team & GP & MIN & FGM & FGA & ... & birth\\_date & height & height\\_cm & weight & weight\\_kg & nationality & high\\_school & draft\\_round & draft\\_pick & draft\\_team\\\\\n",
       "  & <chr> & <dbl> & <chr> & <chr> & <chr> & <chr> & <int> & <dbl> & <int> & <int> & ... & <chr> & <chr> & <int> & <chr> & <int> & <chr> & <chr> & <int> & <int> & <chr>\\\\\n",
       "\\hline\n",
       "\t1 & NBA & 2000 & 1999 - 2000 & Regular\\_Season & Shaquille O'Neal & LAL & 79 & 3163 & 956 & 1665 & ... & 06-Mar-72 & 01-Jul & 216 & 325 & 147 & United States & Robert G. Cole High School  & 1 &  1 & Orlando Magic        \\\\\n",
       "\t2 & NBA & 2000 & 1999 - 2000 & Regular\\_Season & Vince Carter     & TOR & 82 & 3126 & 788 & 1696 & ... & 26-Jan-77 & 06-Jun & 198 & 220 & 100 & United States & Mainland High School        & 1 &  5 & Golden State Warriors\\\\\n",
       "\t3 & NBA & 2000 & 1999 - 2000 & Regular\\_Season & Karl Malone      & UTA & 82 & 2947 & 752 & 1476 & ... & 24-Jul-63 & 09-Jun & 206 & 265 & 120 & United States & Summerfield High School     & 1 & 13 & Utah Jazz            \\\\\n",
       "\t4 & NBA & 2000 & 1999 - 2000 & Regular\\_Season & Allen Iverson    & PHI & 70 & 2853 & 729 & 1733 & ... & 07-Jun-75 & 6-0    & 183 & 165 &  75 & United States & Bethel High School          & 1 &  1 & Philadelphia Sixers  \\\\\n",
       "\t5 & NBA & 2000 & 1999 - 2000 & Regular\\_Season & Gary Payton      & SEA & 82 & 3425 & 747 & 1666 & ... & 23-Jul-68 & 04-Jun & 193 & 180 &  82 & United States & Skyline High School         & 1 &  2 & Seattle SuperSonics  \\\\\n",
       "\t6 & NBA & 2000 & 1999 - 2000 & Regular\\_Season & Jerry Stackhouse & DET & 82 & 3148 & 619 & 1447 & ... & 05-Nov-74 & 06-Jun & 198 & 218 &  99 & United States & Oak Hill Academy            & 1 &  3 & Philadelphia Sixers  \\\\\n",
       "\\end{tabular}\n"
      ],
      "text/markdown": [
       "\n",
       "A data.frame: 6 × 36\n",
       "\n",
       "| <!--/--> | League &lt;chr&gt; | year &lt;dbl&gt; | Season &lt;chr&gt; | Stage &lt;chr&gt; | Player &lt;chr&gt; | Team &lt;chr&gt; | GP &lt;int&gt; | MIN &lt;dbl&gt; | FGM &lt;int&gt; | FGA &lt;int&gt; | ... ... | birth_date &lt;chr&gt; | height &lt;chr&gt; | height_cm &lt;int&gt; | weight &lt;chr&gt; | weight_kg &lt;int&gt; | nationality &lt;chr&gt; | high_school &lt;chr&gt; | draft_round &lt;int&gt; | draft_pick &lt;int&gt; | draft_team &lt;chr&gt; |\n",
       "|---|---|---|---|---|---|---|---|---|---|---|---|---|---|---|---|---|---|---|---|---|---|\n",
       "| 1 | NBA | 2000 | 1999 - 2000 | Regular_Season | Shaquille O'Neal | LAL | 79 | 3163 | 956 | 1665 | ... | 06-Mar-72 | 01-Jul | 216 | 325 | 147 | United States | Robert G. Cole High School  | 1 |  1 | Orlando Magic         |\n",
       "| 2 | NBA | 2000 | 1999 - 2000 | Regular_Season | Vince Carter     | TOR | 82 | 3126 | 788 | 1696 | ... | 26-Jan-77 | 06-Jun | 198 | 220 | 100 | United States | Mainland High School        | 1 |  5 | Golden State Warriors |\n",
       "| 3 | NBA | 2000 | 1999 - 2000 | Regular_Season | Karl Malone      | UTA | 82 | 2947 | 752 | 1476 | ... | 24-Jul-63 | 09-Jun | 206 | 265 | 120 | United States | Summerfield High School     | 1 | 13 | Utah Jazz             |\n",
       "| 4 | NBA | 2000 | 1999 - 2000 | Regular_Season | Allen Iverson    | PHI | 70 | 2853 | 729 | 1733 | ... | 07-Jun-75 | 6-0    | 183 | 165 |  75 | United States | Bethel High School          | 1 |  1 | Philadelphia Sixers   |\n",
       "| 5 | NBA | 2000 | 1999 - 2000 | Regular_Season | Gary Payton      | SEA | 82 | 3425 | 747 | 1666 | ... | 23-Jul-68 | 04-Jun | 193 | 180 |  82 | United States | Skyline High School         | 1 |  2 | Seattle SuperSonics   |\n",
       "| 6 | NBA | 2000 | 1999 - 2000 | Regular_Season | Jerry Stackhouse | DET | 82 | 3148 | 619 | 1447 | ... | 05-Nov-74 | 06-Jun | 198 | 218 |  99 | United States | Oak Hill Academy            | 1 |  3 | Philadelphia Sixers   |\n",
       "\n"
      ],
      "text/plain": [
       "  League year Season      Stage          Player           Team GP MIN  FGM FGA \n",
       "1 NBA    2000 1999 - 2000 Regular_Season Shaquille O'Neal LAL  79 3163 956 1665\n",
       "2 NBA    2000 1999 - 2000 Regular_Season Vince Carter     TOR  82 3126 788 1696\n",
       "3 NBA    2000 1999 - 2000 Regular_Season Karl Malone      UTA  82 2947 752 1476\n",
       "4 NBA    2000 1999 - 2000 Regular_Season Allen Iverson    PHI  70 2853 729 1733\n",
       "5 NBA    2000 1999 - 2000 Regular_Season Gary Payton      SEA  82 3425 747 1666\n",
       "6 NBA    2000 1999 - 2000 Regular_Season Jerry Stackhouse DET  82 3148 619 1447\n",
       "  ... birth_date height height_cm weight weight_kg nationality  \n",
       "1 ... 06-Mar-72  01-Jul 216       325    147       United States\n",
       "2 ... 26-Jan-77  06-Jun 198       220    100       United States\n",
       "3 ... 24-Jul-63  09-Jun 206       265    120       United States\n",
       "4 ... 07-Jun-75  6-0    183       165     75       United States\n",
       "5 ... 23-Jul-68  04-Jun 193       180     82       United States\n",
       "6 ... 05-Nov-74  06-Jun 198       218     99       United States\n",
       "  high_school                 draft_round draft_pick draft_team           \n",
       "1 Robert G. Cole High School  1            1         Orlando Magic        \n",
       "2 Mainland High School        1            5         Golden State Warriors\n",
       "3 Summerfield High School     1           13         Utah Jazz            \n",
       "4 Bethel High School          1            1         Philadelphia Sixers  \n",
       "5 Skyline High School         1            2         Seattle SuperSonics  \n",
       "6 Oak Hill Academy            1            3         Philadelphia Sixers  "
      ]
     },
     "metadata": {},
     "output_type": "display_data"
    }
   ],
   "source": [
    "year <- list()\n",
    "age <- list()\n",
    "for(i in 1:nrow(NBA_data_filtered)){\n",
    "    current_year <- as.numeric(substring(NBA_data_filtered[i,2], 8,11))\n",
    "    age[i] <- current_year - NBA_data_filtered$birth_year[i]\n",
    "    year[i] <- current_year\n",
    "}\n",
    "\n",
    "NBA_data_temp <-add_column(NBA_data_filtered,age = as.numeric(age),.after=22)\n",
    "NBA_data_temp <-add_column(NBA_data_temp,year = as.numeric(year),.after=1)\n",
    "head(NBA_data_temp)"
   ]
  },
  {
   "cell_type": "code",
   "execution_count": 5,
   "metadata": {},
   "outputs": [
    {
     "data": {
      "text/html": [
       "<table>\n",
       "<caption>A data.frame: 6 × 19</caption>\n",
       "<thead>\n",
       "\t<tr><th></th><th scope=col>year</th><th scope=col>GP</th><th scope=col>MIN</th><th scope=col>FGM</th><th scope=col>FGA</th><th scope=col>X3PM</th><th scope=col>X3PA</th><th scope=col>FTM</th><th scope=col>FTA</th><th scope=col>TOV</th><th scope=col>PF</th><th scope=col>ORB</th><th scope=col>DRB</th><th scope=col>REB</th><th scope=col>AST</th><th scope=col>STL</th><th scope=col>BLK</th><th scope=col>PTS</th><th scope=col>age</th></tr>\n",
       "\t<tr><th></th><th scope=col>&lt;dbl&gt;</th><th scope=col>&lt;int&gt;</th><th scope=col>&lt;dbl&gt;</th><th scope=col>&lt;int&gt;</th><th scope=col>&lt;int&gt;</th><th scope=col>&lt;int&gt;</th><th scope=col>&lt;int&gt;</th><th scope=col>&lt;int&gt;</th><th scope=col>&lt;int&gt;</th><th scope=col>&lt;int&gt;</th><th scope=col>&lt;int&gt;</th><th scope=col>&lt;int&gt;</th><th scope=col>&lt;int&gt;</th><th scope=col>&lt;int&gt;</th><th scope=col>&lt;int&gt;</th><th scope=col>&lt;int&gt;</th><th scope=col>&lt;int&gt;</th><th scope=col>&lt;int&gt;</th><th scope=col>&lt;dbl&gt;</th></tr>\n",
       "</thead>\n",
       "<tbody>\n",
       "\t<tr><th scope=row>1</th><td>2000</td><td>79</td><td>3163</td><td>956</td><td>1665</td><td>  0</td><td>  1</td><td>432</td><td>824</td><td>223</td><td>255</td><td>336</td><td>742</td><td>1078</td><td>299</td><td> 36</td><td>239</td><td>2344</td><td>28</td></tr>\n",
       "\t<tr><th scope=row>2</th><td>2000</td><td>82</td><td>3126</td><td>788</td><td>1696</td><td> 95</td><td>236</td><td>436</td><td>551</td><td>178</td><td>263</td><td>150</td><td>326</td><td> 476</td><td>322</td><td>110</td><td> 92</td><td>2107</td><td>23</td></tr>\n",
       "\t<tr><th scope=row>3</th><td>2000</td><td>82</td><td>2947</td><td>752</td><td>1476</td><td>  2</td><td>  8</td><td>589</td><td>739</td><td>231</td><td>229</td><td>169</td><td>610</td><td> 779</td><td>304</td><td> 79</td><td> 71</td><td>2095</td><td>37</td></tr>\n",
       "\t<tr><th scope=row>4</th><td>2000</td><td>70</td><td>2853</td><td>729</td><td>1733</td><td> 89</td><td>261</td><td>442</td><td>620</td><td>230</td><td>162</td><td> 71</td><td>196</td><td> 267</td><td>328</td><td>144</td><td>  5</td><td>1989</td><td>25</td></tr>\n",
       "\t<tr><th scope=row>5</th><td>2000</td><td>82</td><td>3425</td><td>747</td><td>1666</td><td>177</td><td>520</td><td>311</td><td>423</td><td>224</td><td>178</td><td>100</td><td>429</td><td> 529</td><td>732</td><td>153</td><td> 18</td><td>1982</td><td>32</td></tr>\n",
       "\t<tr><th scope=row>6</th><td>2000</td><td>82</td><td>3148</td><td>619</td><td>1447</td><td> 83</td><td>288</td><td>618</td><td>758</td><td>311</td><td>188</td><td>118</td><td>197</td><td> 315</td><td>365</td><td>103</td><td> 36</td><td>1939</td><td>26</td></tr>\n",
       "</tbody>\n",
       "</table>\n"
      ],
      "text/latex": [
       "A data.frame: 6 × 19\n",
       "\\begin{tabular}{r|lllllllllllllllllll}\n",
       "  & year & GP & MIN & FGM & FGA & X3PM & X3PA & FTM & FTA & TOV & PF & ORB & DRB & REB & AST & STL & BLK & PTS & age\\\\\n",
       "  & <dbl> & <int> & <dbl> & <int> & <int> & <int> & <int> & <int> & <int> & <int> & <int> & <int> & <int> & <int> & <int> & <int> & <int> & <int> & <dbl>\\\\\n",
       "\\hline\n",
       "\t1 & 2000 & 79 & 3163 & 956 & 1665 &   0 &   1 & 432 & 824 & 223 & 255 & 336 & 742 & 1078 & 299 &  36 & 239 & 2344 & 28\\\\\n",
       "\t2 & 2000 & 82 & 3126 & 788 & 1696 &  95 & 236 & 436 & 551 & 178 & 263 & 150 & 326 &  476 & 322 & 110 &  92 & 2107 & 23\\\\\n",
       "\t3 & 2000 & 82 & 2947 & 752 & 1476 &   2 &   8 & 589 & 739 & 231 & 229 & 169 & 610 &  779 & 304 &  79 &  71 & 2095 & 37\\\\\n",
       "\t4 & 2000 & 70 & 2853 & 729 & 1733 &  89 & 261 & 442 & 620 & 230 & 162 &  71 & 196 &  267 & 328 & 144 &   5 & 1989 & 25\\\\\n",
       "\t5 & 2000 & 82 & 3425 & 747 & 1666 & 177 & 520 & 311 & 423 & 224 & 178 & 100 & 429 &  529 & 732 & 153 &  18 & 1982 & 32\\\\\n",
       "\t6 & 2000 & 82 & 3148 & 619 & 1447 &  83 & 288 & 618 & 758 & 311 & 188 & 118 & 197 &  315 & 365 & 103 &  36 & 1939 & 26\\\\\n",
       "\\end{tabular}\n"
      ],
      "text/markdown": [
       "\n",
       "A data.frame: 6 × 19\n",
       "\n",
       "| <!--/--> | year &lt;dbl&gt; | GP &lt;int&gt; | MIN &lt;dbl&gt; | FGM &lt;int&gt; | FGA &lt;int&gt; | X3PM &lt;int&gt; | X3PA &lt;int&gt; | FTM &lt;int&gt; | FTA &lt;int&gt; | TOV &lt;int&gt; | PF &lt;int&gt; | ORB &lt;int&gt; | DRB &lt;int&gt; | REB &lt;int&gt; | AST &lt;int&gt; | STL &lt;int&gt; | BLK &lt;int&gt; | PTS &lt;int&gt; | age &lt;dbl&gt; |\n",
       "|---|---|---|---|---|---|---|---|---|---|---|---|---|---|---|---|---|---|---|---|\n",
       "| 1 | 2000 | 79 | 3163 | 956 | 1665 |   0 |   1 | 432 | 824 | 223 | 255 | 336 | 742 | 1078 | 299 |  36 | 239 | 2344 | 28 |\n",
       "| 2 | 2000 | 82 | 3126 | 788 | 1696 |  95 | 236 | 436 | 551 | 178 | 263 | 150 | 326 |  476 | 322 | 110 |  92 | 2107 | 23 |\n",
       "| 3 | 2000 | 82 | 2947 | 752 | 1476 |   2 |   8 | 589 | 739 | 231 | 229 | 169 | 610 |  779 | 304 |  79 |  71 | 2095 | 37 |\n",
       "| 4 | 2000 | 70 | 2853 | 729 | 1733 |  89 | 261 | 442 | 620 | 230 | 162 |  71 | 196 |  267 | 328 | 144 |   5 | 1989 | 25 |\n",
       "| 5 | 2000 | 82 | 3425 | 747 | 1666 | 177 | 520 | 311 | 423 | 224 | 178 | 100 | 429 |  529 | 732 | 153 |  18 | 1982 | 32 |\n",
       "| 6 | 2000 | 82 | 3148 | 619 | 1447 |  83 | 288 | 618 | 758 | 311 | 188 | 118 | 197 |  315 | 365 | 103 |  36 | 1939 | 26 |\n",
       "\n"
      ],
      "text/plain": [
       "  year GP MIN  FGM FGA  X3PM X3PA FTM FTA TOV PF  ORB DRB REB  AST STL BLK PTS \n",
       "1 2000 79 3163 956 1665   0    1  432 824 223 255 336 742 1078 299  36 239 2344\n",
       "2 2000 82 3126 788 1696  95  236  436 551 178 263 150 326  476 322 110  92 2107\n",
       "3 2000 82 2947 752 1476   2    8  589 739 231 229 169 610  779 304  79  71 2095\n",
       "4 2000 70 2853 729 1733  89  261  442 620 230 162  71 196  267 328 144   5 1989\n",
       "5 2000 82 3425 747 1666 177  520  311 423 224 178 100 429  529 732 153  18 1982\n",
       "6 2000 82 3148 619 1447  83  288  618 758 311 188 118 197  315 365 103  36 1939\n",
       "  age\n",
       "1 28 \n",
       "2 23 \n",
       "3 37 \n",
       "4 25 \n",
       "5 32 \n",
       "6 26 "
      ]
     },
     "metadata": {},
     "output_type": "display_data"
    }
   ],
   "source": [
    "head(NBA_data_temp %>% select(2,7:24))"
   ]
  },
  {
   "cell_type": "code",
   "execution_count": 6,
   "metadata": {},
   "outputs": [
    {
     "name": "stderr",
     "output_type": "stream",
     "text": [
      "`summarise()` ungrouping output (override with `.groups` argument)\n",
      "\n",
      "Warning message:\n",
      "\"`funs()` is deprecated as of dplyr 0.8.0.\n",
      "Please use a list of either functions or lambdas: \n",
      "\n",
      "  # Simple named list: \n",
      "  list(mean = mean, median = median)\n",
      "\n",
      "  # Auto named with `tibble::lst()`: \n",
      "  tibble::lst(mean, median)\n",
      "\n",
      "  # Using lambdas\n",
      "  list(~ mean(., trim = .2), ~ median(., na.rm = TRUE))\n",
      "\u001b[90mThis warning is displayed once every 8 hours.\u001b[39m\n",
      "\u001b[90mCall `lifecycle::last_warnings()` to see where this warning was generated.\u001b[39m\"\n"
     ]
    },
    {
     "data": {
      "text/html": [
       "<table>\n",
       "<caption>A tibble: 6 × 19</caption>\n",
       "<thead>\n",
       "\t<tr><th scope=col>age</th><th scope=col>year</th><th scope=col>GP</th><th scope=col>MIN</th><th scope=col>FGM</th><th scope=col>FGA</th><th scope=col>X3PM</th><th scope=col>X3PA</th><th scope=col>FTM</th><th scope=col>FTA</th><th scope=col>TOV</th><th scope=col>PF</th><th scope=col>ORB</th><th scope=col>DRB</th><th scope=col>REB</th><th scope=col>AST</th><th scope=col>STL</th><th scope=col>BLK</th><th scope=col>PTS</th></tr>\n",
       "\t<tr><th scope=col>&lt;dbl&gt;</th><th scope=col>&lt;dbl&gt;</th><th scope=col>&lt;dbl&gt;</th><th scope=col>&lt;dbl&gt;</th><th scope=col>&lt;dbl&gt;</th><th scope=col>&lt;dbl&gt;</th><th scope=col>&lt;dbl&gt;</th><th scope=col>&lt;dbl&gt;</th><th scope=col>&lt;dbl&gt;</th><th scope=col>&lt;dbl&gt;</th><th scope=col>&lt;dbl&gt;</th><th scope=col>&lt;dbl&gt;</th><th scope=col>&lt;dbl&gt;</th><th scope=col>&lt;dbl&gt;</th><th scope=col>&lt;dbl&gt;</th><th scope=col>&lt;dbl&gt;</th><th scope=col>&lt;dbl&gt;</th><th scope=col>&lt;dbl&gt;</th><th scope=col>&lt;dbl&gt;</th></tr>\n",
       "</thead>\n",
       "<tbody>\n",
       "\t<tr><td>20</td><td>2011.6</td><td>75.0</td><td>1836.6</td><td>277.8</td><td>635.0</td><td>47.2</td><td>143.9</td><td>139.4</td><td>193.3</td><td>115.0</td><td>160.0</td><td> 90.3</td><td>233.9</td><td>324.2</td><td>129.8</td><td>51.4</td><td>48.6</td><td>742.2</td></tr>\n",
       "\t<tr><td>21</td><td>2011.2</td><td>75.7</td><td>1945.2</td><td>308.3</td><td>679.2</td><td>47.9</td><td>142.0</td><td>155.0</td><td>212.7</td><td>124.0</td><td>174.6</td><td>102.1</td><td>259.7</td><td>361.8</td><td>162.1</td><td>63.9</td><td>48.5</td><td>819.4</td></tr>\n",
       "\t<tr><td>22</td><td>2011.0</td><td>74.8</td><td>1934.0</td><td>316.4</td><td>688.8</td><td>49.2</td><td>142.5</td><td>158.4</td><td>213.8</td><td>120.2</td><td>172.2</td><td> 99.3</td><td>257.7</td><td>357.0</td><td>166.5</td><td>61.6</td><td>45.4</td><td>840.3</td></tr>\n",
       "\t<tr><td>23</td><td>2010.2</td><td>75.0</td><td>1993.4</td><td>328.0</td><td>714.7</td><td>52.2</td><td>150.1</td><td>164.9</td><td>220.9</td><td>123.8</td><td>172.6</td><td> 99.6</td><td>268.2</td><td>367.8</td><td>186.9</td><td>66.1</td><td>43.0</td><td>873.1</td></tr>\n",
       "\t<tr><td>24</td><td>2010.1</td><td>75.5</td><td>1976.8</td><td>324.8</td><td>704.5</td><td>55.4</td><td>156.4</td><td>161.3</td><td>214.6</td><td>117.6</td><td>171.0</td><td> 95.3</td><td>256.8</td><td>352.2</td><td>178.8</td><td>65.1</td><td>41.9</td><td>866.3</td></tr>\n",
       "\t<tr><td>25</td><td>2010.3</td><td>75.0</td><td>2031.4</td><td>335.8</td><td>727.7</td><td>60.9</td><td>169.9</td><td>169.2</td><td>222.7</td><td>118.7</td><td>171.7</td><td> 96.9</td><td>266.0</td><td>362.9</td><td>182.6</td><td>65.5</td><td>42.1</td><td>901.7</td></tr>\n",
       "</tbody>\n",
       "</table>\n"
      ],
      "text/latex": [
       "A tibble: 6 × 19\n",
       "\\begin{tabular}{lllllllllllllllllll}\n",
       " age & year & GP & MIN & FGM & FGA & X3PM & X3PA & FTM & FTA & TOV & PF & ORB & DRB & REB & AST & STL & BLK & PTS\\\\\n",
       " <dbl> & <dbl> & <dbl> & <dbl> & <dbl> & <dbl> & <dbl> & <dbl> & <dbl> & <dbl> & <dbl> & <dbl> & <dbl> & <dbl> & <dbl> & <dbl> & <dbl> & <dbl> & <dbl>\\\\\n",
       "\\hline\n",
       "\t 20 & 2011.6 & 75.0 & 1836.6 & 277.8 & 635.0 & 47.2 & 143.9 & 139.4 & 193.3 & 115.0 & 160.0 &  90.3 & 233.9 & 324.2 & 129.8 & 51.4 & 48.6 & 742.2\\\\\n",
       "\t 21 & 2011.2 & 75.7 & 1945.2 & 308.3 & 679.2 & 47.9 & 142.0 & 155.0 & 212.7 & 124.0 & 174.6 & 102.1 & 259.7 & 361.8 & 162.1 & 63.9 & 48.5 & 819.4\\\\\n",
       "\t 22 & 2011.0 & 74.8 & 1934.0 & 316.4 & 688.8 & 49.2 & 142.5 & 158.4 & 213.8 & 120.2 & 172.2 &  99.3 & 257.7 & 357.0 & 166.5 & 61.6 & 45.4 & 840.3\\\\\n",
       "\t 23 & 2010.2 & 75.0 & 1993.4 & 328.0 & 714.7 & 52.2 & 150.1 & 164.9 & 220.9 & 123.8 & 172.6 &  99.6 & 268.2 & 367.8 & 186.9 & 66.1 & 43.0 & 873.1\\\\\n",
       "\t 24 & 2010.1 & 75.5 & 1976.8 & 324.8 & 704.5 & 55.4 & 156.4 & 161.3 & 214.6 & 117.6 & 171.0 &  95.3 & 256.8 & 352.2 & 178.8 & 65.1 & 41.9 & 866.3\\\\\n",
       "\t 25 & 2010.3 & 75.0 & 2031.4 & 335.8 & 727.7 & 60.9 & 169.9 & 169.2 & 222.7 & 118.7 & 171.7 &  96.9 & 266.0 & 362.9 & 182.6 & 65.5 & 42.1 & 901.7\\\\\n",
       "\\end{tabular}\n"
      ],
      "text/markdown": [
       "\n",
       "A tibble: 6 × 19\n",
       "\n",
       "| age &lt;dbl&gt; | year &lt;dbl&gt; | GP &lt;dbl&gt; | MIN &lt;dbl&gt; | FGM &lt;dbl&gt; | FGA &lt;dbl&gt; | X3PM &lt;dbl&gt; | X3PA &lt;dbl&gt; | FTM &lt;dbl&gt; | FTA &lt;dbl&gt; | TOV &lt;dbl&gt; | PF &lt;dbl&gt; | ORB &lt;dbl&gt; | DRB &lt;dbl&gt; | REB &lt;dbl&gt; | AST &lt;dbl&gt; | STL &lt;dbl&gt; | BLK &lt;dbl&gt; | PTS &lt;dbl&gt; |\n",
       "|---|---|---|---|---|---|---|---|---|---|---|---|---|---|---|---|---|---|---|\n",
       "| 20 | 2011.6 | 75.0 | 1836.6 | 277.8 | 635.0 | 47.2 | 143.9 | 139.4 | 193.3 | 115.0 | 160.0 |  90.3 | 233.9 | 324.2 | 129.8 | 51.4 | 48.6 | 742.2 |\n",
       "| 21 | 2011.2 | 75.7 | 1945.2 | 308.3 | 679.2 | 47.9 | 142.0 | 155.0 | 212.7 | 124.0 | 174.6 | 102.1 | 259.7 | 361.8 | 162.1 | 63.9 | 48.5 | 819.4 |\n",
       "| 22 | 2011.0 | 74.8 | 1934.0 | 316.4 | 688.8 | 49.2 | 142.5 | 158.4 | 213.8 | 120.2 | 172.2 |  99.3 | 257.7 | 357.0 | 166.5 | 61.6 | 45.4 | 840.3 |\n",
       "| 23 | 2010.2 | 75.0 | 1993.4 | 328.0 | 714.7 | 52.2 | 150.1 | 164.9 | 220.9 | 123.8 | 172.6 |  99.6 | 268.2 | 367.8 | 186.9 | 66.1 | 43.0 | 873.1 |\n",
       "| 24 | 2010.1 | 75.5 | 1976.8 | 324.8 | 704.5 | 55.4 | 156.4 | 161.3 | 214.6 | 117.6 | 171.0 |  95.3 | 256.8 | 352.2 | 178.8 | 65.1 | 41.9 | 866.3 |\n",
       "| 25 | 2010.3 | 75.0 | 2031.4 | 335.8 | 727.7 | 60.9 | 169.9 | 169.2 | 222.7 | 118.7 | 171.7 |  96.9 | 266.0 | 362.9 | 182.6 | 65.5 | 42.1 | 901.7 |\n",
       "\n"
      ],
      "text/plain": [
       "  age year   GP   MIN    FGM   FGA   X3PM X3PA  FTM   FTA   TOV   PF    ORB  \n",
       "1 20  2011.6 75.0 1836.6 277.8 635.0 47.2 143.9 139.4 193.3 115.0 160.0  90.3\n",
       "2 21  2011.2 75.7 1945.2 308.3 679.2 47.9 142.0 155.0 212.7 124.0 174.6 102.1\n",
       "3 22  2011.0 74.8 1934.0 316.4 688.8 49.2 142.5 158.4 213.8 120.2 172.2  99.3\n",
       "4 23  2010.2 75.0 1993.4 328.0 714.7 52.2 150.1 164.9 220.9 123.8 172.6  99.6\n",
       "5 24  2010.1 75.5 1976.8 324.8 704.5 55.4 156.4 161.3 214.6 117.6 171.0  95.3\n",
       "6 25  2010.3 75.0 2031.4 335.8 727.7 60.9 169.9 169.2 222.7 118.7 171.7  96.9\n",
       "  DRB   REB   AST   STL  BLK  PTS  \n",
       "1 233.9 324.2 129.8 51.4 48.6 742.2\n",
       "2 259.7 361.8 162.1 63.9 48.5 819.4\n",
       "3 257.7 357.0 166.5 61.6 45.4 840.3\n",
       "4 268.2 367.8 186.9 66.1 43.0 873.1\n",
       "5 256.8 352.2 178.8 65.1 41.9 866.3\n",
       "6 266.0 362.9 182.6 65.5 42.1 901.7"
      ]
     },
     "metadata": {},
     "output_type": "display_data"
    }
   ],
   "source": [
    "NBA_grouped_age <- subset(NBA_data_temp,select=c(2,7:24)) %>% group_by(age) %>% summarize(across(everything(), mean)) %>% mutate_at(vars(-age), funs(round(., 1)))\n",
    "head(NBA_grouped_age)"
   ]
  },
  {
   "cell_type": "code",
   "execution_count": 7,
   "metadata": {},
   "outputs": [
    {
     "data": {
      "text/html": [
       "<table>\n",
       "<caption>A data.frame: 2 × 2</caption>\n",
       "<thead>\n",
       "\t<tr><th scope=col>age == 25</th><th scope=col>n</th></tr>\n",
       "\t<tr><th scope=col>&lt;lgl&gt;</th><th scope=col>&lt;int&gt;</th></tr>\n",
       "</thead>\n",
       "<tbody>\n",
       "\t<tr><td>FALSE</td><td>3845</td></tr>\n",
       "\t<tr><td> TRUE</td><td> 400</td></tr>\n",
       "</tbody>\n",
       "</table>\n"
      ],
      "text/latex": [
       "A data.frame: 2 × 2\n",
       "\\begin{tabular}{ll}\n",
       " age == 25 & n\\\\\n",
       " <lgl> & <int>\\\\\n",
       "\\hline\n",
       "\t FALSE & 3845\\\\\n",
       "\t  TRUE &  400\\\\\n",
       "\\end{tabular}\n"
      ],
      "text/markdown": [
       "\n",
       "A data.frame: 2 × 2\n",
       "\n",
       "| age == 25 &lt;lgl&gt; | n &lt;int&gt; |\n",
       "|---|---|\n",
       "| FALSE | 3845 |\n",
       "|  TRUE |  400 |\n",
       "\n"
      ],
      "text/plain": [
       "  age == 25 n   \n",
       "1 FALSE     3845\n",
       "2  TRUE      400"
      ]
     },
     "metadata": {},
     "output_type": "display_data"
    },
    {
     "data": {
      "text/html": [
       "<table>\n",
       "<caption>A data.frame: 2 × 2</caption>\n",
       "<thead>\n",
       "\t<tr><th scope=col>age == 30</th><th scope=col>n</th></tr>\n",
       "\t<tr><th scope=col>&lt;lgl&gt;</th><th scope=col>&lt;int&gt;</th></tr>\n",
       "</thead>\n",
       "<tbody>\n",
       "\t<tr><td>FALSE</td><td>3951</td></tr>\n",
       "\t<tr><td> TRUE</td><td> 294</td></tr>\n",
       "</tbody>\n",
       "</table>\n"
      ],
      "text/latex": [
       "A data.frame: 2 × 2\n",
       "\\begin{tabular}{ll}\n",
       " age == 30 & n\\\\\n",
       " <lgl> & <int>\\\\\n",
       "\\hline\n",
       "\t FALSE & 3951\\\\\n",
       "\t  TRUE &  294\\\\\n",
       "\\end{tabular}\n"
      ],
      "text/markdown": [
       "\n",
       "A data.frame: 2 × 2\n",
       "\n",
       "| age == 30 &lt;lgl&gt; | n &lt;int&gt; |\n",
       "|---|---|\n",
       "| FALSE | 3951 |\n",
       "|  TRUE |  294 |\n",
       "\n"
      ],
      "text/plain": [
       "  age == 30 n   \n",
       "1 FALSE     3951\n",
       "2  TRUE      294"
      ]
     },
     "metadata": {},
     "output_type": "display_data"
    },
    {
     "data": {
      "text/html": [
       "<table>\n",
       "<caption>A data.frame: 2 × 2</caption>\n",
       "<thead>\n",
       "\t<tr><th scope=col>age == 35</th><th scope=col>n</th></tr>\n",
       "\t<tr><th scope=col>&lt;lgl&gt;</th><th scope=col>&lt;int&gt;</th></tr>\n",
       "</thead>\n",
       "<tbody>\n",
       "\t<tr><td>FALSE</td><td>4146</td></tr>\n",
       "\t<tr><td> TRUE</td><td>  99</td></tr>\n",
       "</tbody>\n",
       "</table>\n"
      ],
      "text/latex": [
       "A data.frame: 2 × 2\n",
       "\\begin{tabular}{ll}\n",
       " age == 35 & n\\\\\n",
       " <lgl> & <int>\\\\\n",
       "\\hline\n",
       "\t FALSE & 4146\\\\\n",
       "\t  TRUE &   99\\\\\n",
       "\\end{tabular}\n"
      ],
      "text/markdown": [
       "\n",
       "A data.frame: 2 × 2\n",
       "\n",
       "| age == 35 &lt;lgl&gt; | n &lt;int&gt; |\n",
       "|---|---|\n",
       "| FALSE | 4146 |\n",
       "|  TRUE |   99 |\n",
       "\n"
      ],
      "text/plain": [
       "  age == 35 n   \n",
       "1 FALSE     4146\n",
       "2  TRUE       99"
      ]
     },
     "metadata": {},
     "output_type": "display_data"
    },
    {
     "data": {
      "text/html": [
       "<table>\n",
       "<caption>A data.frame: 2 × 2</caption>\n",
       "<thead>\n",
       "\t<tr><th scope=col>age == 40</th><th scope=col>n</th></tr>\n",
       "\t<tr><th scope=col>&lt;lgl&gt;</th><th scope=col>&lt;int&gt;</th></tr>\n",
       "</thead>\n",
       "<tbody>\n",
       "\t<tr><td>FALSE</td><td>4234</td></tr>\n",
       "\t<tr><td> TRUE</td><td>  11</td></tr>\n",
       "</tbody>\n",
       "</table>\n"
      ],
      "text/latex": [
       "A data.frame: 2 × 2\n",
       "\\begin{tabular}{ll}\n",
       " age == 40 & n\\\\\n",
       " <lgl> & <int>\\\\\n",
       "\\hline\n",
       "\t FALSE & 4234\\\\\n",
       "\t  TRUE &   11\\\\\n",
       "\\end{tabular}\n"
      ],
      "text/markdown": [
       "\n",
       "A data.frame: 2 × 2\n",
       "\n",
       "| age == 40 &lt;lgl&gt; | n &lt;int&gt; |\n",
       "|---|---|\n",
       "| FALSE | 4234 |\n",
       "|  TRUE |   11 |\n",
       "\n"
      ],
      "text/plain": [
       "  age == 40 n   \n",
       "1 FALSE     4234\n",
       "2  TRUE       11"
      ]
     },
     "metadata": {},
     "output_type": "display_data"
    }
   ],
   "source": [
    "count(NBA_data_temp, age == 25);count(NBA_data_temp, age == 30);count(NBA_data_temp, age == 35);count(NBA_data_temp, age == 40)"
   ]
  },
  {
   "cell_type": "markdown",
   "metadata": {},
   "source": [
    "By modeling the total points scored based on the age of the player we can observe that a most players score on average 750 points their first year in the NBA, increasing to a peak of 900 points by the age of 25. At this point, a player's scoring rate plateaus till they're 29 before rapidly decreasing at a rate of 25 points each year. The data for players over 35 years old is highly variable as only a quarter of players remain in the NBA till the age of 35 with only 99 playets remain, decreasing to only 11 players by the age of 40. Too see how the distribution of points vary as players age."
   ]
  },
  {
   "cell_type": "code",
   "execution_count": 8,
   "metadata": {},
   "outputs": [
    {
     "data": {
      "image/png": "[encoded data removed]",
      "text/plain": [
       "plot without title"
      ]
     },
     "metadata": {
      "image/png": {
       "height": 420,
       "width": 420
      }
     },
     "output_type": "display_data"
    }
   ],
   "source": [
    "ggplot(NBA_grouped_age) + aes(x = age, y = PTS) + \n",
    "geom_col(fill = 'darkorange',alpha = 0.3) +\n",
    "scale_x_continuous(name=\"Age\") +\n",
    "scale_y_continuous(name=\"Total Points\") +\n",
    "ggtitle('Total points scored by NBA players each\\nseason compared to their age')+\n",
    "theme(axis.text=element_text(size=12),\n",
    "        axis.title=element_text(size=20,face=\"bold\"),\n",
    "        plot.title = element_text(size=25),\n",
    "        #panel.grid.major = element_blank(), panel.grid.minor = element_blank(),\n",
    "        legend.position = \"none\")"
   ]
  },
  {
   "cell_type": "code",
   "execution_count": 11,
   "metadata": {},
   "outputs": [
    {
     "data": {
      "text/html": [
       "<table>\n",
       "<caption>A tibble: 23 × 21</caption>\n",
       "<thead>\n",
       "\t<tr><th scope=col>age</th><th scope=col>year</th><th scope=col>GP</th><th scope=col>MIN</th><th scope=col>FGM</th><th scope=col>FGA</th><th scope=col>X3PM</th><th scope=col>X3PA</th><th scope=col>FTM</th><th scope=col>FTA</th><th scope=col>...</th><th scope=col>PF</th><th scope=col>ORB</th><th scope=col>DRB</th><th scope=col>REB</th><th scope=col>AST</th><th scope=col>STL</th><th scope=col>BLK</th><th scope=col>PTS</th><th scope=col>X3PM_corrected</th><th scope=col>X2P_corrected</th></tr>\n",
       "\t<tr><th scope=col>&lt;dbl&gt;</th><th scope=col>&lt;dbl&gt;</th><th scope=col>&lt;dbl&gt;</th><th scope=col>&lt;dbl&gt;</th><th scope=col>&lt;dbl&gt;</th><th scope=col>&lt;dbl&gt;</th><th scope=col>&lt;dbl&gt;</th><th scope=col>&lt;dbl&gt;</th><th scope=col>&lt;dbl&gt;</th><th scope=col>&lt;dbl&gt;</th><th scope=col>...</th><th scope=col>&lt;dbl&gt;</th><th scope=col>&lt;dbl&gt;</th><th scope=col>&lt;dbl&gt;</th><th scope=col>&lt;dbl&gt;</th><th scope=col>&lt;dbl&gt;</th><th scope=col>&lt;dbl&gt;</th><th scope=col>&lt;dbl&gt;</th><th scope=col>&lt;dbl&gt;</th><th scope=col>&lt;dbl&gt;</th><th scope=col>&lt;dbl&gt;</th></tr>\n",
       "</thead>\n",
       "<tbody>\n",
       "\t<tr><td>20</td><td>2011.6</td><td>75.0</td><td>1836.6</td><td>277.8</td><td>635.0</td><td> 47.2</td><td>143.9</td><td>139.4</td><td>193.3</td><td>...</td><td>160.0</td><td> 90.3</td><td>233.9</td><td>324.2</td><td>129.8</td><td>51.4</td><td>48.6</td><td>742.2</td><td>141.6</td><td>600.6</td></tr>\n",
       "\t<tr><td>21</td><td>2011.2</td><td>75.7</td><td>1945.2</td><td>308.3</td><td>679.2</td><td> 47.9</td><td>142.0</td><td>155.0</td><td>212.7</td><td>...</td><td>174.6</td><td>102.1</td><td>259.7</td><td>361.8</td><td>162.1</td><td>63.9</td><td>48.5</td><td>819.4</td><td>143.7</td><td>675.7</td></tr>\n",
       "\t<tr><td>22</td><td>2011.0</td><td>74.8</td><td>1934.0</td><td>316.4</td><td>688.8</td><td> 49.2</td><td>142.5</td><td>158.4</td><td>213.8</td><td>...</td><td>172.2</td><td> 99.3</td><td>257.7</td><td>357.0</td><td>166.5</td><td>61.6</td><td>45.4</td><td>840.3</td><td>147.6</td><td>692.7</td></tr>\n",
       "\t<tr><td>23</td><td>2010.2</td><td>75.0</td><td>1993.4</td><td>328.0</td><td>714.7</td><td> 52.2</td><td>150.1</td><td>164.9</td><td>220.9</td><td>...</td><td>172.6</td><td> 99.6</td><td>268.2</td><td>367.8</td><td>186.9</td><td>66.1</td><td>43.0</td><td>873.1</td><td>156.6</td><td>716.5</td></tr>\n",
       "\t<tr><td>24</td><td>2010.1</td><td>75.5</td><td>1976.8</td><td>324.8</td><td>704.5</td><td> 55.4</td><td>156.4</td><td>161.3</td><td>214.6</td><td>...</td><td>171.0</td><td> 95.3</td><td>256.8</td><td>352.2</td><td>178.8</td><td>65.1</td><td>41.9</td><td>866.3</td><td>166.2</td><td>700.1</td></tr>\n",
       "\t<tr><td>25</td><td>2010.3</td><td>75.0</td><td>2031.4</td><td>335.8</td><td>727.7</td><td> 60.9</td><td>169.9</td><td>169.2</td><td>222.7</td><td>...</td><td>171.7</td><td> 96.9</td><td>266.0</td><td>362.9</td><td>182.6</td><td>65.5</td><td>42.1</td><td>901.7</td><td>182.7</td><td>719.0</td></tr>\n",
       "\t<tr><td>26</td><td>2010.0</td><td>75.3</td><td>2046.4</td><td>336.0</td><td>729.6</td><td> 62.5</td><td>172.4</td><td>174.5</td><td>227.0</td><td>...</td><td>170.5</td><td> 98.2</td><td>271.7</td><td>369.9</td><td>185.1</td><td>65.4</td><td>41.9</td><td>909.1</td><td>187.5</td><td>721.6</td></tr>\n",
       "\t<tr><td>27</td><td>2010.2</td><td>75.0</td><td>2071.6</td><td>337.5</td><td>733.2</td><td> 65.3</td><td>178.1</td><td>167.7</td><td>217.2</td><td>...</td><td>171.3</td><td> 94.6</td><td>270.8</td><td>365.3</td><td>192.0</td><td>65.2</td><td>41.9</td><td>908.1</td><td>195.9</td><td>712.2</td></tr>\n",
       "\t<tr><td>28</td><td>2010.2</td><td>75.6</td><td>2090.8</td><td>345.1</td><td>751.8</td><td> 67.2</td><td>184.5</td><td>173.6</td><td>225.3</td><td>...</td><td>171.6</td><td> 92.9</td><td>269.8</td><td>362.7</td><td>199.3</td><td>65.0</td><td>42.2</td><td>931.0</td><td>201.6</td><td>729.4</td></tr>\n",
       "\t<tr><td>29</td><td>2010.1</td><td>75.0</td><td>2085.3</td><td>337.5</td><td>736.4</td><td> 72.5</td><td>197.2</td><td>168.2</td><td>217.0</td><td>...</td><td>171.0</td><td> 90.7</td><td>275.1</td><td>365.7</td><td>204.5</td><td>65.0</td><td>38.4</td><td>915.7</td><td>217.5</td><td>698.2</td></tr>\n",
       "\t<tr><td>30</td><td>2010.1</td><td>74.8</td><td>2040.3</td><td>321.4</td><td>703.2</td><td> 68.8</td><td>187.1</td><td>155.7</td><td>201.5</td><td>...</td><td>169.4</td><td> 88.0</td><td>265.7</td><td>353.7</td><td>191.2</td><td>64.0</td><td>38.9</td><td>867.3</td><td>206.4</td><td>660.9</td></tr>\n",
       "\t<tr><td>31</td><td>2010.0</td><td>75.3</td><td>2066.9</td><td>319.8</td><td>698.3</td><td> 69.1</td><td>186.0</td><td>153.9</td><td>197.8</td><td>...</td><td>172.2</td><td> 88.5</td><td>265.5</td><td>354.1</td><td>194.9</td><td>64.1</td><td>41.9</td><td>862.6</td><td>207.3</td><td>655.3</td></tr>\n",
       "\t<tr><td>32</td><td>2010.2</td><td>73.9</td><td>2009.1</td><td>307.4</td><td>670.3</td><td> 63.3</td><td>169.8</td><td>143.2</td><td>186.1</td><td>...</td><td>164.6</td><td> 85.4</td><td>256.7</td><td>342.1</td><td>195.2</td><td>62.4</td><td>36.4</td><td>821.2</td><td>189.9</td><td>631.3</td></tr>\n",
       "\t<tr><td>33</td><td>2009.6</td><td>75.5</td><td>2018.9</td><td>297.5</td><td>654.2</td><td> 64.2</td><td>173.5</td><td>139.9</td><td>181.8</td><td>...</td><td>164.2</td><td> 87.7</td><td>265.7</td><td>353.4</td><td>189.5</td><td>61.7</td><td>35.3</td><td>799.1</td><td>192.6</td><td>606.5</td></tr>\n",
       "\t<tr><td>34</td><td>2009.9</td><td>75.2</td><td>1996.7</td><td>291.0</td><td>640.9</td><td> 60.7</td><td>166.0</td><td>135.2</td><td>172.7</td><td>...</td><td>158.1</td><td> 83.3</td><td>274.6</td><td>357.9</td><td>198.6</td><td>59.4</td><td>38.4</td><td>777.8</td><td>182.1</td><td>595.7</td></tr>\n",
       "\t<tr><td>35</td><td>2008.7</td><td>74.0</td><td>1895.2</td><td>260.7</td><td>581.6</td><td> 60.3</td><td>162.4</td><td>118.2</td><td>148.9</td><td>...</td><td>150.8</td><td> 67.6</td><td>230.1</td><td>297.7</td><td>200.0</td><td>58.7</td><td>31.0</td><td>699.9</td><td>180.9</td><td>519.0</td></tr>\n",
       "\t<tr><td>36</td><td>2008.8</td><td>74.3</td><td>1940.0</td><td>267.7</td><td>596.0</td><td> 58.6</td><td>159.5</td><td>120.3</td><td>155.7</td><td>...</td><td>153.4</td><td> 81.6</td><td>258.4</td><td>340.0</td><td>190.7</td><td>57.3</td><td>43.2</td><td>714.2</td><td>175.8</td><td>538.4</td></tr>\n",
       "\t<tr><td>37</td><td>2007.7</td><td>75.2</td><td>1881.9</td><td>267.2</td><td>577.0</td><td> 49.5</td><td>130.0</td><td>133.9</td><td>172.3</td><td>...</td><td>155.0</td><td> 75.8</td><td>249.9</td><td>325.7</td><td>194.9</td><td>53.8</td><td>38.4</td><td>717.6</td><td>148.5</td><td>569.1</td></tr>\n",
       "\t<tr><td>38</td><td>2008.1</td><td>73.7</td><td>1711.8</td><td>229.3</td><td>522.0</td><td> 49.7</td><td>139.1</td><td>116.7</td><td>146.6</td><td>...</td><td>136.9</td><td> 61.4</td><td>225.7</td><td>287.1</td><td>185.2</td><td>53.0</td><td>32.8</td><td>625.1</td><td>149.1</td><td>476.0</td></tr>\n",
       "\t<tr><td>39</td><td>2006.8</td><td>76.4</td><td>1707.8</td><td>239.4</td><td>533.8</td><td> 45.6</td><td>124.1</td><td>130.9</td><td>166.7</td><td>...</td><td>140.9</td><td> 67.5</td><td>224.8</td><td>292.3</td><td>189.5</td><td>57.5</td><td>37.9</td><td>655.4</td><td>136.8</td><td>518.6</td></tr>\n",
       "\t<tr><td>40</td><td>2010.5</td><td>76.5</td><td>2030.0</td><td>301.5</td><td>683.9</td><td> 74.0</td><td>200.5</td><td>155.2</td><td>190.1</td><td>...</td><td>154.8</td><td> 43.5</td><td>245.9</td><td>289.4</td><td>227.2</td><td>84.6</td><td>25.8</td><td>832.1</td><td>222.0</td><td>610.1</td></tr>\n",
       "\t<tr><td>41</td><td>2007.8</td><td>73.2</td><td>1425.9</td><td>179.5</td><td>378.2</td><td> 23.2</td><td> 68.5</td><td>114.5</td><td>147.0</td><td>...</td><td>146.2</td><td> 79.2</td><td>185.0</td><td>264.2</td><td>207.2</td><td>55.5</td><td>32.0</td><td>496.8</td><td> 69.6</td><td>427.2</td></tr>\n",
       "\t<tr><td>42</td><td>2019.0</td><td>76.0</td><td>1330.3</td><td>196.0</td><td>468.0</td><td>123.0</td><td>316.0</td><td> 47.0</td><td> 66.0</td><td>...</td><td>141.0</td><td> 31.0</td><td>163.0</td><td>194.0</td><td> 87.0</td><td>44.0</td><td>27.0</td><td>562.0</td><td>369.0</td><td>193.0</td></tr>\n",
       "</tbody>\n",
       "</table>\n"
      ],
      "text/latex": [
       "A tibble: 23 × 21\n",
       "\\begin{tabular}{lllllllllllllllllllll}\n",
       " age & year & GP & MIN & FGM & FGA & X3PM & X3PA & FTM & FTA & ... & PF & ORB & DRB & REB & AST & STL & BLK & PTS & X3PM\\_corrected & X2P\\_corrected\\\\\n",
       " <dbl> & <dbl> & <dbl> & <dbl> & <dbl> & <dbl> & <dbl> & <dbl> & <dbl> & <dbl> & ... & <dbl> & <dbl> & <dbl> & <dbl> & <dbl> & <dbl> & <dbl> & <dbl> & <dbl> & <dbl>\\\\\n",
       "\\hline\n",
       "\t 20 & 2011.6 & 75.0 & 1836.6 & 277.8 & 635.0 &  47.2 & 143.9 & 139.4 & 193.3 & ... & 160.0 &  90.3 & 233.9 & 324.2 & 129.8 & 51.4 & 48.6 & 742.2 & 141.6 & 600.6\\\\\n",
       "\t 21 & 2011.2 & 75.7 & 1945.2 & 308.3 & 679.2 &  47.9 & 142.0 & 155.0 & 212.7 & ... & 174.6 & 102.1 & 259.7 & 361.8 & 162.1 & 63.9 & 48.5 & 819.4 & 143.7 & 675.7\\\\\n",
       "\t 22 & 2011.0 & 74.8 & 1934.0 & 316.4 & 688.8 &  49.2 & 142.5 & 158.4 & 213.8 & ... & 172.2 &  99.3 & 257.7 & 357.0 & 166.5 & 61.6 & 45.4 & 840.3 & 147.6 & 692.7\\\\\n",
       "\t 23 & 2010.2 & 75.0 & 1993.4 & 328.0 & 714.7 &  52.2 & 150.1 & 164.9 & 220.9 & ... & 172.6 &  99.6 & 268.2 & 367.8 & 186.9 & 66.1 & 43.0 & 873.1 & 156.6 & 716.5\\\\\n",
       "\t 24 & 2010.1 & 75.5 & 1976.8 & 324.8 & 704.5 &  55.4 & 156.4 & 161.3 & 214.6 & ... & 171.0 &  95.3 & 256.8 & 352.2 & 178.8 & 65.1 & 41.9 & 866.3 & 166.2 & 700.1\\\\\n",
       "\t 25 & 2010.3 & 75.0 & 2031.4 & 335.8 & 727.7 &  60.9 & 169.9 & 169.2 & 222.7 & ... & 171.7 &  96.9 & 266.0 & 362.9 & 182.6 & 65.5 & 42.1 & 901.7 & 182.7 & 719.0\\\\\n",
       "\t 26 & 2010.0 & 75.3 & 2046.4 & 336.0 & 729.6 &  62.5 & 172.4 & 174.5 & 227.0 & ... & 170.5 &  98.2 & 271.7 & 369.9 & 185.1 & 65.4 & 41.9 & 909.1 & 187.5 & 721.6\\\\\n",
       "\t 27 & 2010.2 & 75.0 & 2071.6 & 337.5 & 733.2 &  65.3 & 178.1 & 167.7 & 217.2 & ... & 171.3 &  94.6 & 270.8 & 365.3 & 192.0 & 65.2 & 41.9 & 908.1 & 195.9 & 712.2\\\\\n",
       "\t 28 & 2010.2 & 75.6 & 2090.8 & 345.1 & 751.8 &  67.2 & 184.5 & 173.6 & 225.3 & ... & 171.6 &  92.9 & 269.8 & 362.7 & 199.3 & 65.0 & 42.2 & 931.0 & 201.6 & 729.4\\\\\n",
       "\t 29 & 2010.1 & 75.0 & 2085.3 & 337.5 & 736.4 &  72.5 & 197.2 & 168.2 & 217.0 & ... & 171.0 &  90.7 & 275.1 & 365.7 & 204.5 & 65.0 & 38.4 & 915.7 & 217.5 & 698.2\\\\\n",
       "\t 30 & 2010.1 & 74.8 & 2040.3 & 321.4 & 703.2 &  68.8 & 187.1 & 155.7 & 201.5 & ... & 169.4 &  88.0 & 265.7 & 353.7 & 191.2 & 64.0 & 38.9 & 867.3 & 206.4 & 660.9\\\\\n",
       "\t 31 & 2010.0 & 75.3 & 2066.9 & 319.8 & 698.3 &  69.1 & 186.0 & 153.9 & 197.8 & ... & 172.2 &  88.5 & 265.5 & 354.1 & 194.9 & 64.1 & 41.9 & 862.6 & 207.3 & 655.3\\\\\n",
       "\t 32 & 2010.2 & 73.9 & 2009.1 & 307.4 & 670.3 &  63.3 & 169.8 & 143.2 & 186.1 & ... & 164.6 &  85.4 & 256.7 & 342.1 & 195.2 & 62.4 & 36.4 & 821.2 & 189.9 & 631.3\\\\\n",
       "\t 33 & 2009.6 & 75.5 & 2018.9 & 297.5 & 654.2 &  64.2 & 173.5 & 139.9 & 181.8 & ... & 164.2 &  87.7 & 265.7 & 353.4 & 189.5 & 61.7 & 35.3 & 799.1 & 192.6 & 606.5\\\\\n",
       "\t 34 & 2009.9 & 75.2 & 1996.7 & 291.0 & 640.9 &  60.7 & 166.0 & 135.2 & 172.7 & ... & 158.1 &  83.3 & 274.6 & 357.9 & 198.6 & 59.4 & 38.4 & 777.8 & 182.1 & 595.7\\\\\n",
       "\t 35 & 2008.7 & 74.0 & 1895.2 & 260.7 & 581.6 &  60.3 & 162.4 & 118.2 & 148.9 & ... & 150.8 &  67.6 & 230.1 & 297.7 & 200.0 & 58.7 & 31.0 & 699.9 & 180.9 & 519.0\\\\\n",
       "\t 36 & 2008.8 & 74.3 & 1940.0 & 267.7 & 596.0 &  58.6 & 159.5 & 120.3 & 155.7 & ... & 153.4 &  81.6 & 258.4 & 340.0 & 190.7 & 57.3 & 43.2 & 714.2 & 175.8 & 538.4\\\\\n",
       "\t 37 & 2007.7 & 75.2 & 1881.9 & 267.2 & 577.0 &  49.5 & 130.0 & 133.9 & 172.3 & ... & 155.0 &  75.8 & 249.9 & 325.7 & 194.9 & 53.8 & 38.4 & 717.6 & 148.5 & 569.1\\\\\n",
       "\t 38 & 2008.1 & 73.7 & 1711.8 & 229.3 & 522.0 &  49.7 & 139.1 & 116.7 & 146.6 & ... & 136.9 &  61.4 & 225.7 & 287.1 & 185.2 & 53.0 & 32.8 & 625.1 & 149.1 & 476.0\\\\\n",
       "\t 39 & 2006.8 & 76.4 & 1707.8 & 239.4 & 533.8 &  45.6 & 124.1 & 130.9 & 166.7 & ... & 140.9 &  67.5 & 224.8 & 292.3 & 189.5 & 57.5 & 37.9 & 655.4 & 136.8 & 518.6\\\\\n",
       "\t 40 & 2010.5 & 76.5 & 2030.0 & 301.5 & 683.9 &  74.0 & 200.5 & 155.2 & 190.1 & ... & 154.8 &  43.5 & 245.9 & 289.4 & 227.2 & 84.6 & 25.8 & 832.1 & 222.0 & 610.1\\\\\n",
       "\t 41 & 2007.8 & 73.2 & 1425.9 & 179.5 & 378.2 &  23.2 &  68.5 & 114.5 & 147.0 & ... & 146.2 &  79.2 & 185.0 & 264.2 & 207.2 & 55.5 & 32.0 & 496.8 &  69.6 & 427.2\\\\\n",
       "\t 42 & 2019.0 & 76.0 & 1330.3 & 196.0 & 468.0 & 123.0 & 316.0 &  47.0 &  66.0 & ... & 141.0 &  31.0 & 163.0 & 194.0 &  87.0 & 44.0 & 27.0 & 562.0 & 369.0 & 193.0\\\\\n",
       "\\end{tabular}\n"
      ],
      "text/markdown": [
       "\n",
       "A tibble: 23 × 21\n",
       "\n",
       "| age &lt;dbl&gt; | year &lt;dbl&gt; | GP &lt;dbl&gt; | MIN &lt;dbl&gt; | FGM &lt;dbl&gt; | FGA &lt;dbl&gt; | X3PM &lt;dbl&gt; | X3PA &lt;dbl&gt; | FTM &lt;dbl&gt; | FTA &lt;dbl&gt; | ... ... | PF &lt;dbl&gt; | ORB &lt;dbl&gt; | DRB &lt;dbl&gt; | REB &lt;dbl&gt; | AST &lt;dbl&gt; | STL &lt;dbl&gt; | BLK &lt;dbl&gt; | PTS &lt;dbl&gt; | X3PM_corrected &lt;dbl&gt; | X2P_corrected &lt;dbl&gt; |\n",
       "|---|---|---|---|---|---|---|---|---|---|---|---|---|---|---|---|---|---|---|---|---|\n",
       "| 20 | 2011.6 | 75.0 | 1836.6 | 277.8 | 635.0 |  47.2 | 143.9 | 139.4 | 193.3 | ... | 160.0 |  90.3 | 233.9 | 324.2 | 129.8 | 51.4 | 48.6 | 742.2 | 141.6 | 600.6 |\n",
       "| 21 | 2011.2 | 75.7 | 1945.2 | 308.3 | 679.2 |  47.9 | 142.0 | 155.0 | 212.7 | ... | 174.6 | 102.1 | 259.7 | 361.8 | 162.1 | 63.9 | 48.5 | 819.4 | 143.7 | 675.7 |\n",
       "| 22 | 2011.0 | 74.8 | 1934.0 | 316.4 | 688.8 |  49.2 | 142.5 | 158.4 | 213.8 | ... | 172.2 |  99.3 | 257.7 | 357.0 | 166.5 | 61.6 | 45.4 | 840.3 | 147.6 | 692.7 |\n",
       "| 23 | 2010.2 | 75.0 | 1993.4 | 328.0 | 714.7 |  52.2 | 150.1 | 164.9 | 220.9 | ... | 172.6 |  99.6 | 268.2 | 367.8 | 186.9 | 66.1 | 43.0 | 873.1 | 156.6 | 716.5 |\n",
       "| 24 | 2010.1 | 75.5 | 1976.8 | 324.8 | 704.5 |  55.4 | 156.4 | 161.3 | 214.6 | ... | 171.0 |  95.3 | 256.8 | 352.2 | 178.8 | 65.1 | 41.9 | 866.3 | 166.2 | 700.1 |\n",
       "| 25 | 2010.3 | 75.0 | 2031.4 | 335.8 | 727.7 |  60.9 | 169.9 | 169.2 | 222.7 | ... | 171.7 |  96.9 | 266.0 | 362.9 | 182.6 | 65.5 | 42.1 | 901.7 | 182.7 | 719.0 |\n",
       "| 26 | 2010.0 | 75.3 | 2046.4 | 336.0 | 729.6 |  62.5 | 172.4 | 174.5 | 227.0 | ... | 170.5 |  98.2 | 271.7 | 369.9 | 185.1 | 65.4 | 41.9 | 909.1 | 187.5 | 721.6 |\n",
       "| 27 | 2010.2 | 75.0 | 2071.6 | 337.5 | 733.2 |  65.3 | 178.1 | 167.7 | 217.2 | ... | 171.3 |  94.6 | 270.8 | 365.3 | 192.0 | 65.2 | 41.9 | 908.1 | 195.9 | 712.2 |\n",
       "| 28 | 2010.2 | 75.6 | 2090.8 | 345.1 | 751.8 |  67.2 | 184.5 | 173.6 | 225.3 | ... | 171.6 |  92.9 | 269.8 | 362.7 | 199.3 | 65.0 | 42.2 | 931.0 | 201.6 | 729.4 |\n",
       "| 29 | 2010.1 | 75.0 | 2085.3 | 337.5 | 736.4 |  72.5 | 197.2 | 168.2 | 217.0 | ... | 171.0 |  90.7 | 275.1 | 365.7 | 204.5 | 65.0 | 38.4 | 915.7 | 217.5 | 698.2 |\n",
       "| 30 | 2010.1 | 74.8 | 2040.3 | 321.4 | 703.2 |  68.8 | 187.1 | 155.7 | 201.5 | ... | 169.4 |  88.0 | 265.7 | 353.7 | 191.2 | 64.0 | 38.9 | 867.3 | 206.4 | 660.9 |\n",
       "| 31 | 2010.0 | 75.3 | 2066.9 | 319.8 | 698.3 |  69.1 | 186.0 | 153.9 | 197.8 | ... | 172.2 |  88.5 | 265.5 | 354.1 | 194.9 | 64.1 | 41.9 | 862.6 | 207.3 | 655.3 |\n",
       "| 32 | 2010.2 | 73.9 | 2009.1 | 307.4 | 670.3 |  63.3 | 169.8 | 143.2 | 186.1 | ... | 164.6 |  85.4 | 256.7 | 342.1 | 195.2 | 62.4 | 36.4 | 821.2 | 189.9 | 631.3 |\n",
       "| 33 | 2009.6 | 75.5 | 2018.9 | 297.5 | 654.2 |  64.2 | 173.5 | 139.9 | 181.8 | ... | 164.2 |  87.7 | 265.7 | 353.4 | 189.5 | 61.7 | 35.3 | 799.1 | 192.6 | 606.5 |\n",
       "| 34 | 2009.9 | 75.2 | 1996.7 | 291.0 | 640.9 |  60.7 | 166.0 | 135.2 | 172.7 | ... | 158.1 |  83.3 | 274.6 | 357.9 | 198.6 | 59.4 | 38.4 | 777.8 | 182.1 | 595.7 |\n",
       "| 35 | 2008.7 | 74.0 | 1895.2 | 260.7 | 581.6 |  60.3 | 162.4 | 118.2 | 148.9 | ... | 150.8 |  67.6 | 230.1 | 297.7 | 200.0 | 58.7 | 31.0 | 699.9 | 180.9 | 519.0 |\n",
       "| 36 | 2008.8 | 74.3 | 1940.0 | 267.7 | 596.0 |  58.6 | 159.5 | 120.3 | 155.7 | ... | 153.4 |  81.6 | 258.4 | 340.0 | 190.7 | 57.3 | 43.2 | 714.2 | 175.8 | 538.4 |\n",
       "| 37 | 2007.7 | 75.2 | 1881.9 | 267.2 | 577.0 |  49.5 | 130.0 | 133.9 | 172.3 | ... | 155.0 |  75.8 | 249.9 | 325.7 | 194.9 | 53.8 | 38.4 | 717.6 | 148.5 | 569.1 |\n",
       "| 38 | 2008.1 | 73.7 | 1711.8 | 229.3 | 522.0 |  49.7 | 139.1 | 116.7 | 146.6 | ... | 136.9 |  61.4 | 225.7 | 287.1 | 185.2 | 53.0 | 32.8 | 625.1 | 149.1 | 476.0 |\n",
       "| 39 | 2006.8 | 76.4 | 1707.8 | 239.4 | 533.8 |  45.6 | 124.1 | 130.9 | 166.7 | ... | 140.9 |  67.5 | 224.8 | 292.3 | 189.5 | 57.5 | 37.9 | 655.4 | 136.8 | 518.6 |\n",
       "| 40 | 2010.5 | 76.5 | 2030.0 | 301.5 | 683.9 |  74.0 | 200.5 | 155.2 | 190.1 | ... | 154.8 |  43.5 | 245.9 | 289.4 | 227.2 | 84.6 | 25.8 | 832.1 | 222.0 | 610.1 |\n",
       "| 41 | 2007.8 | 73.2 | 1425.9 | 179.5 | 378.2 |  23.2 |  68.5 | 114.5 | 147.0 | ... | 146.2 |  79.2 | 185.0 | 264.2 | 207.2 | 55.5 | 32.0 | 496.8 |  69.6 | 427.2 |\n",
       "| 42 | 2019.0 | 76.0 | 1330.3 | 196.0 | 468.0 | 123.0 | 316.0 |  47.0 |  66.0 | ... | 141.0 |  31.0 | 163.0 | 194.0 |  87.0 | 44.0 | 27.0 | 562.0 | 369.0 | 193.0 |\n",
       "\n"
      ],
      "text/plain": [
       "   age year   GP   MIN    FGM   FGA   X3PM  X3PA  FTM   FTA   ... PF    ORB  \n",
       "1  20  2011.6 75.0 1836.6 277.8 635.0  47.2 143.9 139.4 193.3 ... 160.0  90.3\n",
       "2  21  2011.2 75.7 1945.2 308.3 679.2  47.9 142.0 155.0 212.7 ... 174.6 102.1\n",
       "3  22  2011.0 74.8 1934.0 316.4 688.8  49.2 142.5 158.4 213.8 ... 172.2  99.3\n",
       "4  23  2010.2 75.0 1993.4 328.0 714.7  52.2 150.1 164.9 220.9 ... 172.6  99.6\n",
       "5  24  2010.1 75.5 1976.8 324.8 704.5  55.4 156.4 161.3 214.6 ... 171.0  95.3\n",
       "6  25  2010.3 75.0 2031.4 335.8 727.7  60.9 169.9 169.2 222.7 ... 171.7  96.9\n",
       "7  26  2010.0 75.3 2046.4 336.0 729.6  62.5 172.4 174.5 227.0 ... 170.5  98.2\n",
       "8  27  2010.2 75.0 2071.6 337.5 733.2  65.3 178.1 167.7 217.2 ... 171.3  94.6\n",
       "9  28  2010.2 75.6 2090.8 345.1 751.8  67.2 184.5 173.6 225.3 ... 171.6  92.9\n",
       "10 29  2010.1 75.0 2085.3 337.5 736.4  72.5 197.2 168.2 217.0 ... 171.0  90.7\n",
       "11 30  2010.1 74.8 2040.3 321.4 703.2  68.8 187.1 155.7 201.5 ... 169.4  88.0\n",
       "12 31  2010.0 75.3 2066.9 319.8 698.3  69.1 186.0 153.9 197.8 ... 172.2  88.5\n",
       "13 32  2010.2 73.9 2009.1 307.4 670.3  63.3 169.8 143.2 186.1 ... 164.6  85.4\n",
       "14 33  2009.6 75.5 2018.9 297.5 654.2  64.2 173.5 139.9 181.8 ... 164.2  87.7\n",
       "15 34  2009.9 75.2 1996.7 291.0 640.9  60.7 166.0 135.2 172.7 ... 158.1  83.3\n",
       "16 35  2008.7 74.0 1895.2 260.7 581.6  60.3 162.4 118.2 148.9 ... 150.8  67.6\n",
       "17 36  2008.8 74.3 1940.0 267.7 596.0  58.6 159.5 120.3 155.7 ... 153.4  81.6\n",
       "18 37  2007.7 75.2 1881.9 267.2 577.0  49.5 130.0 133.9 172.3 ... 155.0  75.8\n",
       "19 38  2008.1 73.7 1711.8 229.3 522.0  49.7 139.1 116.7 146.6 ... 136.9  61.4\n",
       "20 39  2006.8 76.4 1707.8 239.4 533.8  45.6 124.1 130.9 166.7 ... 140.9  67.5\n",
       "21 40  2010.5 76.5 2030.0 301.5 683.9  74.0 200.5 155.2 190.1 ... 154.8  43.5\n",
       "22 41  2007.8 73.2 1425.9 179.5 378.2  23.2  68.5 114.5 147.0 ... 146.2  79.2\n",
       "23 42  2019.0 76.0 1330.3 196.0 468.0 123.0 316.0  47.0  66.0 ... 141.0  31.0\n",
       "   DRB   REB   AST   STL  BLK  PTS   X3PM_corrected X2P_corrected\n",
       "1  233.9 324.2 129.8 51.4 48.6 742.2 141.6          600.6        \n",
       "2  259.7 361.8 162.1 63.9 48.5 819.4 143.7          675.7        \n",
       "3  257.7 357.0 166.5 61.6 45.4 840.3 147.6          692.7        \n",
       "4  268.2 367.8 186.9 66.1 43.0 873.1 156.6          716.5        \n",
       "5  256.8 352.2 178.8 65.1 41.9 866.3 166.2          700.1        \n",
       "6  266.0 362.9 182.6 65.5 42.1 901.7 182.7          719.0        \n",
       "7  271.7 369.9 185.1 65.4 41.9 909.1 187.5          721.6        \n",
       "8  270.8 365.3 192.0 65.2 41.9 908.1 195.9          712.2        \n",
       "9  269.8 362.7 199.3 65.0 42.2 931.0 201.6          729.4        \n",
       "10 275.1 365.7 204.5 65.0 38.4 915.7 217.5          698.2        \n",
       "11 265.7 353.7 191.2 64.0 38.9 867.3 206.4          660.9        \n",
       "12 265.5 354.1 194.9 64.1 41.9 862.6 207.3          655.3        \n",
       "13 256.7 342.1 195.2 62.4 36.4 821.2 189.9          631.3        \n",
       "14 265.7 353.4 189.5 61.7 35.3 799.1 192.6          606.5        \n",
       "15 274.6 357.9 198.6 59.4 38.4 777.8 182.1          595.7        \n",
       "16 230.1 297.7 200.0 58.7 31.0 699.9 180.9          519.0        \n",
       "17 258.4 340.0 190.7 57.3 43.2 714.2 175.8          538.4        \n",
       "18 249.9 325.7 194.9 53.8 38.4 717.6 148.5          569.1        \n",
       "19 225.7 287.1 185.2 53.0 32.8 625.1 149.1          476.0        \n",
       "20 224.8 292.3 189.5 57.5 37.9 655.4 136.8          518.6        \n",
       "21 245.9 289.4 227.2 84.6 25.8 832.1 222.0          610.1        \n",
       "22 185.0 264.2 207.2 55.5 32.0 496.8  69.6          427.2        \n",
       "23 163.0 194.0  87.0 44.0 27.0 562.0 369.0          193.0        "
      ]
     },
     "metadata": {},
     "output_type": "display_data"
    }
   ],
   "source": [
    "NBA_grouped_age <-add_column(NBA_grouped_age,X3PM_corrected = NBA_grouped_age$X3PM*3)\n",
    "NBA_grouped_age <-add_column(NBA_grouped_age,X2P_corrected = NBA_grouped_age$PTS - NBA_grouped_age$X3PM*3)\n",
    "NBA_grouped_age"
   ]
  },
  {
   "cell_type": "markdown",
   "metadata": {},
   "source": [
    "When we compared the distribution of between two and three pointers made by players with their age, we observed that players quickly maximize their scoring ability for two pointer and plateau by the age of 23. In contrast, the players reach their maximum 3 pointer scoring rate when they're 29 and decraeses significantly more slowly than that of two pointers. This is expected as 3 pointers require technical ability that would develop over time while 2 pointers require more speed and agility. This however it the average for all players and is not taken into account the position of players on the court as some players specialize in 3 pointers while others stay closer to the net. To model this we would have to replicate this plot but grouped based on the position of each player."
   ]
  },
  {
   "cell_type": "code",
   "execution_count": 12,
   "metadata": {},
   "outputs": [
    {
     "data": {
      "image/png": "[encoded data removed]",
      "text/plain": [
       "plot without title"
      ]
     },
     "metadata": {
      "image/png": {
       "height": 420,
       "width": 420
      }
     },
     "output_type": "display_data"
    }
   ],
   "source": [
    "ggplot(NBA_grouped_age) + aes(x = age, y = PTS) + \n",
    " geom_area(aes(y = X3PM_corrected), fill = 'lightblue', color ='blue', size = 1,alpha = 0.5)  +\n",
    "    geom_area(aes(y = X2P_corrected), fill = 'orangered', color ='orangered', size = 1,alpha = 0.15)  +\n",
    "    geom_area(aes(y = PTS), fill = 'lightgrey', color ='black', size = 1,alpha = 0.15)  +\n",
    "    scale_x_continuous(name=\"Age\") +\n",
    "    scale_y_continuous(name=\"Points\") +\n",
    "    ggtitle('Differences in total three pointers and\\ntwo pointers for NBA players with age')+\n",
    "    theme(axis.text=element_text(size=12),\n",
    "        axis.title=element_text(size=20,face=\"bold\"),\n",
    "        plot.title = element_text(size=25),\n",
    "        panel.grid.major = element_blank(), panel.grid.minor = element_blank(),\n",
    "        legend.position=\"bottom\",legend.text = element_text(colour=\"blue\", size=10, \n",
    "                                     face=\"bold\")\n",
    ")"
   ]
  },
  {
   "cell_type": "code",
   "execution_count": 9,
   "metadata": {},
   "outputs": [
    {
     "name": "stderr",
     "output_type": "stream",
     "text": [
      "`summarise()` ungrouping output (override with `.groups` argument)\n",
      "\n"
     ]
    },
    {
     "data": {
      "text/html": [
       "<table>\n",
       "<caption>A tibble: 21 × 22</caption>\n",
       "<thead>\n",
       "\t<tr><th scope=col>year</th><th scope=col>GP</th><th scope=col>MIN</th><th scope=col>FGM</th><th scope=col>FGA</th><th scope=col>X3PM</th><th scope=col>X3PA</th><th scope=col>FTM</th><th scope=col>FTA</th><th scope=col>TOV</th><th scope=col>...</th><th scope=col>DRB</th><th scope=col>REB</th><th scope=col>AST</th><th scope=col>STL</th><th scope=col>BLK</th><th scope=col>PTS</th><th scope=col>age</th><th scope=col>height_cm</th><th scope=col>X3PM_corrected</th><th scope=col>X2P_corrected</th></tr>\n",
       "\t<tr><th scope=col>&lt;dbl&gt;</th><th scope=col>&lt;dbl&gt;</th><th scope=col>&lt;dbl&gt;</th><th scope=col>&lt;dbl&gt;</th><th scope=col>&lt;dbl&gt;</th><th scope=col>&lt;dbl&gt;</th><th scope=col>&lt;dbl&gt;</th><th scope=col>&lt;dbl&gt;</th><th scope=col>&lt;dbl&gt;</th><th scope=col>&lt;dbl&gt;</th><th scope=col>...</th><th scope=col>&lt;dbl&gt;</th><th scope=col>&lt;dbl&gt;</th><th scope=col>&lt;dbl&gt;</th><th scope=col>&lt;dbl&gt;</th><th scope=col>&lt;dbl&gt;</th><th scope=col>&lt;dbl&gt;</th><th scope=col>&lt;dbl&gt;</th><th scope=col>&lt;dbl&gt;</th><th scope=col>&lt;dbl&gt;</th><th scope=col>&lt;dbl&gt;</th></tr>\n",
       "</thead>\n",
       "<tbody>\n",
       "\t<tr><td>2000</td><td>77.3</td><td>2096.2</td><td>331.3</td><td>728.7</td><td>44.1</td><td>122.5</td><td>172.8</td><td>228.2</td><td>130.5</td><td>...</td><td>268.8</td><td>375.3</td><td>201.3</td><td>69.6</td><td>45.4</td><td>879.4</td><td>28.8</td><td>200.5</td><td>132.3</td><td>747.1</td></tr>\n",
       "\t<tr><td>2001</td><td>77.3</td><td>2175.2</td><td>338.9</td><td>755.1</td><td>46.6</td><td>130.6</td><td>181.1</td><td>240.2</td><td>131.2</td><td>...</td><td>279.5</td><td>386.9</td><td>204.7</td><td>70.1</td><td>47.9</td><td>905.6</td><td>28.5</td><td>201.0</td><td>139.8</td><td>765.8</td></tr>\n",
       "\t<tr><td>2002</td><td>76.9</td><td>2159.0</td><td>332.1</td><td>733.0</td><td>49.4</td><td>135.9</td><td>168.3</td><td>221.9</td><td>122.2</td><td>...</td><td>275.4</td><td>385.4</td><td>201.1</td><td>69.4</td><td>49.0</td><td>881.8</td><td>28.1</td><td>201.1</td><td>148.2</td><td>733.6</td></tr>\n",
       "\t<tr><td>2003</td><td>76.6</td><td>2078.5</td><td>314.6</td><td>705.3</td><td>45.4</td><td>129.3</td><td>165.6</td><td>216.5</td><td>121.5</td><td>...</td><td>263.9</td><td>366.2</td><td>188.8</td><td>69.1</td><td>42.7</td><td>840.3</td><td>28.3</td><td>201.6</td><td>136.2</td><td>704.1</td></tr>\n",
       "\t<tr><td>2004</td><td>76.5</td><td>2136.2</td><td>318.2</td><td>715.6</td><td>47.8</td><td>136.8</td><td>167.8</td><td>222.0</td><td>125.4</td><td>...</td><td>271.4</td><td>377.8</td><td>192.2</td><td>70.1</td><td>46.6</td><td>851.9</td><td>27.8</td><td>201.5</td><td>143.4</td><td>708.5</td></tr>\n",
       "\t<tr><td>2005</td><td>75.2</td><td>2020.0</td><td>308.6</td><td>683.5</td><td>51.0</td><td>141.2</td><td>171.2</td><td>223.6</td><td>113.6</td><td>...</td><td>248.6</td><td>347.5</td><td>183.7</td><td>63.1</td><td>39.8</td><td>839.5</td><td>28.0</td><td>200.4</td><td>153.0</td><td>686.5</td></tr>\n",
       "\t<tr><td>2006</td><td>76.4</td><td>2163.7</td><td>330.9</td><td>725.4</td><td>56.8</td><td>155.6</td><td>183.7</td><td>242.0</td><td>121.5</td><td>...</td><td>262.8</td><td>356.4</td><td>192.8</td><td>63.7</td><td>38.5</td><td>902.3</td><td>27.6</td><td>200.5</td><td>170.4</td><td>731.9</td></tr>\n",
       "\t<tr><td>2007</td><td>76.1</td><td>2079.0</td><td>319.2</td><td>690.7</td><td>54.0</td><td>148.4</td><td>171.7</td><td>227.3</td><td>124.7</td><td>...</td><td>257.6</td><td>350.3</td><td>188.6</td><td>62.4</td><td>39.7</td><td>864.1</td><td>27.6</td><td>200.7</td><td>162.0</td><td>702.1</td></tr>\n",
       "\t<tr><td>2008</td><td>76.3</td><td>2060.9</td><td>329.4</td><td>710.2</td><td>58.8</td><td>159.5</td><td>168.5</td><td>220.5</td><td>113.5</td><td>...</td><td>266.6</td><td>362.9</td><td>186.0</td><td>62.4</td><td>41.3</td><td>886.1</td><td>27.5</td><td>201.2</td><td>176.4</td><td>709.7</td></tr>\n",
       "\t<tr><td>2009</td><td>76.0</td><td>2091.2</td><td>332.0</td><td>715.2</td><td>60.7</td><td>162.4</td><td>173.6</td><td>223.0</td><td>116.7</td><td>...</td><td>261.8</td><td>353.2</td><td>190.4</td><td>63.0</td><td>40.1</td><td>898.2</td><td>27.3</td><td>200.4</td><td>182.1</td><td>716.1</td></tr>\n",
       "\t<tr><td>2010</td><td>76.4</td><td>2112.0</td><td>343.7</td><td>737.2</td><td>57.4</td><td>159.5</td><td>172.1</td><td>223.8</td><td>120.3</td><td>...</td><td>275.7</td><td>370.4</td><td>190.7</td><td>63.4</td><td>41.8</td><td>917.0</td><td>27.5</td><td>200.8</td><td>172.2</td><td>744.8</td></tr>\n",
       "\t<tr><td>2011</td><td>76.8</td><td>2112.8</td><td>341.1</td><td>732.7</td><td>58.3</td><td>159.7</td><td>174.9</td><td>225.6</td><td>119.5</td><td>...</td><td>268.0</td><td>360.6</td><td>198.7</td><td>64.7</td><td>40.8</td><td>915.5</td><td>27.4</td><td>200.7</td><td>174.9</td><td>740.6</td></tr>\n",
       "\t<tr><td>2012</td><td>64.1</td><td>1716.8</td><td>266.9</td><td>584.8</td><td>45.2</td><td>126.4</td><td>123.9</td><td>164.7</td><td> 96.1</td><td>...</td><td>224.3</td><td>309.2</td><td>142.2</td><td>54.3</td><td>39.3</td><td>702.9</td><td>26.8</td><td>201.4</td><td>135.6</td><td>567.3</td></tr>\n",
       "\t<tr><td>2013</td><td>75.8</td><td>2001.9</td><td>319.1</td><td>693.6</td><td>58.6</td><td>160.6</td><td>145.5</td><td>191.6</td><td>116.8</td><td>...</td><td>262.2</td><td>357.4</td><td>185.4</td><td>64.8</td><td>43.8</td><td>842.2</td><td>27.6</td><td>201.0</td><td>175.8</td><td>666.4</td></tr>\n",
       "\t<tr><td>2014</td><td>76.0</td><td>2039.4</td><td>329.4</td><td>719.9</td><td>69.4</td><td>190.3</td><td>158.6</td><td>207.2</td><td>119.5</td><td>...</td><td>265.8</td><td>353.0</td><td>192.8</td><td>65.5</td><td>37.7</td><td>886.8</td><td>27.3</td><td>200.6</td><td>208.2</td><td>678.6</td></tr>\n",
       "\t<tr><td>2015</td><td>74.9</td><td>1948.1</td><td>310.2</td><td>679.0</td><td>63.9</td><td>179.3</td><td>142.9</td><td>189.1</td><td>111.9</td><td>...</td><td>262.4</td><td>348.6</td><td>187.1</td><td>63.5</td><td>38.3</td><td>827.2</td><td>28.2</td><td>201.0</td><td>191.7</td><td>635.5</td></tr>\n",
       "\t<tr><td>2016</td><td>76.6</td><td>2016.2</td><td>327.4</td><td>716.1</td><td>73.5</td><td>204.1</td><td>152.3</td><td>199.8</td><td>114.9</td><td>...</td><td>281.7</td><td>369.0</td><td>189.9</td><td>66.3</td><td>41.5</td><td>880.5</td><td>27.5</td><td>201.1</td><td>220.5</td><td>660.0</td></tr>\n",
       "\t<tr><td>2017</td><td>73.3</td><td>1840.2</td><td>303.1</td><td>658.6</td><td>74.9</td><td>208.6</td><td>140.1</td><td>180.2</td><td>102.6</td><td>...</td><td>256.3</td><td>333.1</td><td>177.2</td><td>59.0</td><td>36.0</td><td>821.2</td><td>27.7</td><td>200.9</td><td>224.7</td><td>596.5</td></tr>\n",
       "\t<tr><td>2018</td><td>73.7</td><td>1840.6</td><td>305.2</td><td>655.8</td><td>80.7</td><td>220.3</td><td>127.1</td><td>165.7</td><td>103.2</td><td>...</td><td>257.8</td><td>331.8</td><td>176.1</td><td>59.0</td><td>37.2</td><td>818.2</td><td>27.4</td><td>201.0</td><td>242.1</td><td>576.1</td></tr>\n",
       "\t<tr><td>2019</td><td>73.3</td><td>1885.5</td><td>330.9</td><td>710.8</td><td>92.6</td><td>256.7</td><td>145.0</td><td>186.8</td><td>106.6</td><td>...</td><td>274.1</td><td>355.1</td><td>193.9</td><td>59.4</td><td>39.0</td><td>899.4</td><td>27.3</td><td>200.9</td><td>277.8</td><td>621.6</td></tr>\n",
       "\t<tr><td>2020</td><td>66.4</td><td>1731.6</td><td>301.2</td><td>646.8</td><td>92.9</td><td>253.4</td><td>130.6</td><td>167.6</td><td> 97.7</td><td>...</td><td>251.9</td><td>320.9</td><td>177.7</td><td>53.8</td><td>35.5</td><td>826.0</td><td>27.0</td><td>200.7</td><td>278.7</td><td>547.3</td></tr>\n",
       "</tbody>\n",
       "</table>\n"
      ],
      "text/latex": [
       "A tibble: 21 × 22\n",
       "\\begin{tabular}{lllllllllllllllllllll}\n",
       " year & GP & MIN & FGM & FGA & X3PM & X3PA & FTM & FTA & TOV & ... & DRB & REB & AST & STL & BLK & PTS & age & height\\_cm & X3PM\\_corrected & X2P\\_corrected\\\\\n",
       " <dbl> & <dbl> & <dbl> & <dbl> & <dbl> & <dbl> & <dbl> & <dbl> & <dbl> & <dbl> & ... & <dbl> & <dbl> & <dbl> & <dbl> & <dbl> & <dbl> & <dbl> & <dbl> & <dbl> & <dbl>\\\\\n",
       "\\hline\n",
       "\t 2000 & 77.3 & 2096.2 & 331.3 & 728.7 & 44.1 & 122.5 & 172.8 & 228.2 & 130.5 & ... & 268.8 & 375.3 & 201.3 & 69.6 & 45.4 & 879.4 & 28.8 & 200.5 & 132.3 & 747.1\\\\\n",
       "\t 2001 & 77.3 & 2175.2 & 338.9 & 755.1 & 46.6 & 130.6 & 181.1 & 240.2 & 131.2 & ... & 279.5 & 386.9 & 204.7 & 70.1 & 47.9 & 905.6 & 28.5 & 201.0 & 139.8 & 765.8\\\\\n",
       "\t 2002 & 76.9 & 2159.0 & 332.1 & 733.0 & 49.4 & 135.9 & 168.3 & 221.9 & 122.2 & ... & 275.4 & 385.4 & 201.1 & 69.4 & 49.0 & 881.8 & 28.1 & 201.1 & 148.2 & 733.6\\\\\n",
       "\t 2003 & 76.6 & 2078.5 & 314.6 & 705.3 & 45.4 & 129.3 & 165.6 & 216.5 & 121.5 & ... & 263.9 & 366.2 & 188.8 & 69.1 & 42.7 & 840.3 & 28.3 & 201.6 & 136.2 & 704.1\\\\\n",
       "\t 2004 & 76.5 & 2136.2 & 318.2 & 715.6 & 47.8 & 136.8 & 167.8 & 222.0 & 125.4 & ... & 271.4 & 377.8 & 192.2 & 70.1 & 46.6 & 851.9 & 27.8 & 201.5 & 143.4 & 708.5\\\\\n",
       "\t 2005 & 75.2 & 2020.0 & 308.6 & 683.5 & 51.0 & 141.2 & 171.2 & 223.6 & 113.6 & ... & 248.6 & 347.5 & 183.7 & 63.1 & 39.8 & 839.5 & 28.0 & 200.4 & 153.0 & 686.5\\\\\n",
       "\t 2006 & 76.4 & 2163.7 & 330.9 & 725.4 & 56.8 & 155.6 & 183.7 & 242.0 & 121.5 & ... & 262.8 & 356.4 & 192.8 & 63.7 & 38.5 & 902.3 & 27.6 & 200.5 & 170.4 & 731.9\\\\\n",
       "\t 2007 & 76.1 & 2079.0 & 319.2 & 690.7 & 54.0 & 148.4 & 171.7 & 227.3 & 124.7 & ... & 257.6 & 350.3 & 188.6 & 62.4 & 39.7 & 864.1 & 27.6 & 200.7 & 162.0 & 702.1\\\\\n",
       "\t 2008 & 76.3 & 2060.9 & 329.4 & 710.2 & 58.8 & 159.5 & 168.5 & 220.5 & 113.5 & ... & 266.6 & 362.9 & 186.0 & 62.4 & 41.3 & 886.1 & 27.5 & 201.2 & 176.4 & 709.7\\\\\n",
       "\t 2009 & 76.0 & 2091.2 & 332.0 & 715.2 & 60.7 & 162.4 & 173.6 & 223.0 & 116.7 & ... & 261.8 & 353.2 & 190.4 & 63.0 & 40.1 & 898.2 & 27.3 & 200.4 & 182.1 & 716.1\\\\\n",
       "\t 2010 & 76.4 & 2112.0 & 343.7 & 737.2 & 57.4 & 159.5 & 172.1 & 223.8 & 120.3 & ... & 275.7 & 370.4 & 190.7 & 63.4 & 41.8 & 917.0 & 27.5 & 200.8 & 172.2 & 744.8\\\\\n",
       "\t 2011 & 76.8 & 2112.8 & 341.1 & 732.7 & 58.3 & 159.7 & 174.9 & 225.6 & 119.5 & ... & 268.0 & 360.6 & 198.7 & 64.7 & 40.8 & 915.5 & 27.4 & 200.7 & 174.9 & 740.6\\\\\n",
       "\t 2012 & 64.1 & 1716.8 & 266.9 & 584.8 & 45.2 & 126.4 & 123.9 & 164.7 &  96.1 & ... & 224.3 & 309.2 & 142.2 & 54.3 & 39.3 & 702.9 & 26.8 & 201.4 & 135.6 & 567.3\\\\\n",
       "\t 2013 & 75.8 & 2001.9 & 319.1 & 693.6 & 58.6 & 160.6 & 145.5 & 191.6 & 116.8 & ... & 262.2 & 357.4 & 185.4 & 64.8 & 43.8 & 842.2 & 27.6 & 201.0 & 175.8 & 666.4\\\\\n",
       "\t 2014 & 76.0 & 2039.4 & 329.4 & 719.9 & 69.4 & 190.3 & 158.6 & 207.2 & 119.5 & ... & 265.8 & 353.0 & 192.8 & 65.5 & 37.7 & 886.8 & 27.3 & 200.6 & 208.2 & 678.6\\\\\n",
       "\t 2015 & 74.9 & 1948.1 & 310.2 & 679.0 & 63.9 & 179.3 & 142.9 & 189.1 & 111.9 & ... & 262.4 & 348.6 & 187.1 & 63.5 & 38.3 & 827.2 & 28.2 & 201.0 & 191.7 & 635.5\\\\\n",
       "\t 2016 & 76.6 & 2016.2 & 327.4 & 716.1 & 73.5 & 204.1 & 152.3 & 199.8 & 114.9 & ... & 281.7 & 369.0 & 189.9 & 66.3 & 41.5 & 880.5 & 27.5 & 201.1 & 220.5 & 660.0\\\\\n",
       "\t 2017 & 73.3 & 1840.2 & 303.1 & 658.6 & 74.9 & 208.6 & 140.1 & 180.2 & 102.6 & ... & 256.3 & 333.1 & 177.2 & 59.0 & 36.0 & 821.2 & 27.7 & 200.9 & 224.7 & 596.5\\\\\n",
       "\t 2018 & 73.7 & 1840.6 & 305.2 & 655.8 & 80.7 & 220.3 & 127.1 & 165.7 & 103.2 & ... & 257.8 & 331.8 & 176.1 & 59.0 & 37.2 & 818.2 & 27.4 & 201.0 & 242.1 & 576.1\\\\\n",
       "\t 2019 & 73.3 & 1885.5 & 330.9 & 710.8 & 92.6 & 256.7 & 145.0 & 186.8 & 106.6 & ... & 274.1 & 355.1 & 193.9 & 59.4 & 39.0 & 899.4 & 27.3 & 200.9 & 277.8 & 621.6\\\\\n",
       "\t 2020 & 66.4 & 1731.6 & 301.2 & 646.8 & 92.9 & 253.4 & 130.6 & 167.6 &  97.7 & ... & 251.9 & 320.9 & 177.7 & 53.8 & 35.5 & 826.0 & 27.0 & 200.7 & 278.7 & 547.3\\\\\n",
       "\\end{tabular}\n"
      ],
      "text/markdown": [
       "\n",
       "A tibble: 21 × 22\n",
       "\n",
       "| year &lt;dbl&gt; | GP &lt;dbl&gt; | MIN &lt;dbl&gt; | FGM &lt;dbl&gt; | FGA &lt;dbl&gt; | X3PM &lt;dbl&gt; | X3PA &lt;dbl&gt; | FTM &lt;dbl&gt; | FTA &lt;dbl&gt; | TOV &lt;dbl&gt; | ... ... | DRB &lt;dbl&gt; | REB &lt;dbl&gt; | AST &lt;dbl&gt; | STL &lt;dbl&gt; | BLK &lt;dbl&gt; | PTS &lt;dbl&gt; | age &lt;dbl&gt; | height_cm &lt;dbl&gt; | X3PM_corrected &lt;dbl&gt; | X2P_corrected &lt;dbl&gt; |\n",
       "|---|---|---|---|---|---|---|---|---|---|---|---|---|---|---|---|---|---|---|---|---|\n",
       "| 2000 | 77.3 | 2096.2 | 331.3 | 728.7 | 44.1 | 122.5 | 172.8 | 228.2 | 130.5 | ... | 268.8 | 375.3 | 201.3 | 69.6 | 45.4 | 879.4 | 28.8 | 200.5 | 132.3 | 747.1 |\n",
       "| 2001 | 77.3 | 2175.2 | 338.9 | 755.1 | 46.6 | 130.6 | 181.1 | 240.2 | 131.2 | ... | 279.5 | 386.9 | 204.7 | 70.1 | 47.9 | 905.6 | 28.5 | 201.0 | 139.8 | 765.8 |\n",
       "| 2002 | 76.9 | 2159.0 | 332.1 | 733.0 | 49.4 | 135.9 | 168.3 | 221.9 | 122.2 | ... | 275.4 | 385.4 | 201.1 | 69.4 | 49.0 | 881.8 | 28.1 | 201.1 | 148.2 | 733.6 |\n",
       "| 2003 | 76.6 | 2078.5 | 314.6 | 705.3 | 45.4 | 129.3 | 165.6 | 216.5 | 121.5 | ... | 263.9 | 366.2 | 188.8 | 69.1 | 42.7 | 840.3 | 28.3 | 201.6 | 136.2 | 704.1 |\n",
       "| 2004 | 76.5 | 2136.2 | 318.2 | 715.6 | 47.8 | 136.8 | 167.8 | 222.0 | 125.4 | ... | 271.4 | 377.8 | 192.2 | 70.1 | 46.6 | 851.9 | 27.8 | 201.5 | 143.4 | 708.5 |\n",
       "| 2005 | 75.2 | 2020.0 | 308.6 | 683.5 | 51.0 | 141.2 | 171.2 | 223.6 | 113.6 | ... | 248.6 | 347.5 | 183.7 | 63.1 | 39.8 | 839.5 | 28.0 | 200.4 | 153.0 | 686.5 |\n",
       "| 2006 | 76.4 | 2163.7 | 330.9 | 725.4 | 56.8 | 155.6 | 183.7 | 242.0 | 121.5 | ... | 262.8 | 356.4 | 192.8 | 63.7 | 38.5 | 902.3 | 27.6 | 200.5 | 170.4 | 731.9 |\n",
       "| 2007 | 76.1 | 2079.0 | 319.2 | 690.7 | 54.0 | 148.4 | 171.7 | 227.3 | 124.7 | ... | 257.6 | 350.3 | 188.6 | 62.4 | 39.7 | 864.1 | 27.6 | 200.7 | 162.0 | 702.1 |\n",
       "| 2008 | 76.3 | 2060.9 | 329.4 | 710.2 | 58.8 | 159.5 | 168.5 | 220.5 | 113.5 | ... | 266.6 | 362.9 | 186.0 | 62.4 | 41.3 | 886.1 | 27.5 | 201.2 | 176.4 | 709.7 |\n",
       "| 2009 | 76.0 | 2091.2 | 332.0 | 715.2 | 60.7 | 162.4 | 173.6 | 223.0 | 116.7 | ... | 261.8 | 353.2 | 190.4 | 63.0 | 40.1 | 898.2 | 27.3 | 200.4 | 182.1 | 716.1 |\n",
       "| 2010 | 76.4 | 2112.0 | 343.7 | 737.2 | 57.4 | 159.5 | 172.1 | 223.8 | 120.3 | ... | 275.7 | 370.4 | 190.7 | 63.4 | 41.8 | 917.0 | 27.5 | 200.8 | 172.2 | 744.8 |\n",
       "| 2011 | 76.8 | 2112.8 | 341.1 | 732.7 | 58.3 | 159.7 | 174.9 | 225.6 | 119.5 | ... | 268.0 | 360.6 | 198.7 | 64.7 | 40.8 | 915.5 | 27.4 | 200.7 | 174.9 | 740.6 |\n",
       "| 2012 | 64.1 | 1716.8 | 266.9 | 584.8 | 45.2 | 126.4 | 123.9 | 164.7 |  96.1 | ... | 224.3 | 309.2 | 142.2 | 54.3 | 39.3 | 702.9 | 26.8 | 201.4 | 135.6 | 567.3 |\n",
       "| 2013 | 75.8 | 2001.9 | 319.1 | 693.6 | 58.6 | 160.6 | 145.5 | 191.6 | 116.8 | ... | 262.2 | 357.4 | 185.4 | 64.8 | 43.8 | 842.2 | 27.6 | 201.0 | 175.8 | 666.4 |\n",
       "| 2014 | 76.0 | 2039.4 | 329.4 | 719.9 | 69.4 | 190.3 | 158.6 | 207.2 | 119.5 | ... | 265.8 | 353.0 | 192.8 | 65.5 | 37.7 | 886.8 | 27.3 | 200.6 | 208.2 | 678.6 |\n",
       "| 2015 | 74.9 | 1948.1 | 310.2 | 679.0 | 63.9 | 179.3 | 142.9 | 189.1 | 111.9 | ... | 262.4 | 348.6 | 187.1 | 63.5 | 38.3 | 827.2 | 28.2 | 201.0 | 191.7 | 635.5 |\n",
       "| 2016 | 76.6 | 2016.2 | 327.4 | 716.1 | 73.5 | 204.1 | 152.3 | 199.8 | 114.9 | ... | 281.7 | 369.0 | 189.9 | 66.3 | 41.5 | 880.5 | 27.5 | 201.1 | 220.5 | 660.0 |\n",
       "| 2017 | 73.3 | 1840.2 | 303.1 | 658.6 | 74.9 | 208.6 | 140.1 | 180.2 | 102.6 | ... | 256.3 | 333.1 | 177.2 | 59.0 | 36.0 | 821.2 | 27.7 | 200.9 | 224.7 | 596.5 |\n",
       "| 2018 | 73.7 | 1840.6 | 305.2 | 655.8 | 80.7 | 220.3 | 127.1 | 165.7 | 103.2 | ... | 257.8 | 331.8 | 176.1 | 59.0 | 37.2 | 818.2 | 27.4 | 201.0 | 242.1 | 576.1 |\n",
       "| 2019 | 73.3 | 1885.5 | 330.9 | 710.8 | 92.6 | 256.7 | 145.0 | 186.8 | 106.6 | ... | 274.1 | 355.1 | 193.9 | 59.4 | 39.0 | 899.4 | 27.3 | 200.9 | 277.8 | 621.6 |\n",
       "| 2020 | 66.4 | 1731.6 | 301.2 | 646.8 | 92.9 | 253.4 | 130.6 | 167.6 |  97.7 | ... | 251.9 | 320.9 | 177.7 | 53.8 | 35.5 | 826.0 | 27.0 | 200.7 | 278.7 | 547.3 |\n",
       "\n"
      ],
      "text/plain": [
       "   year GP   MIN    FGM   FGA   X3PM X3PA  FTM   FTA   TOV   ... DRB   REB  \n",
       "1  2000 77.3 2096.2 331.3 728.7 44.1 122.5 172.8 228.2 130.5 ... 268.8 375.3\n",
       "2  2001 77.3 2175.2 338.9 755.1 46.6 130.6 181.1 240.2 131.2 ... 279.5 386.9\n",
       "3  2002 76.9 2159.0 332.1 733.0 49.4 135.9 168.3 221.9 122.2 ... 275.4 385.4\n",
       "4  2003 76.6 2078.5 314.6 705.3 45.4 129.3 165.6 216.5 121.5 ... 263.9 366.2\n",
       "5  2004 76.5 2136.2 318.2 715.6 47.8 136.8 167.8 222.0 125.4 ... 271.4 377.8\n",
       "6  2005 75.2 2020.0 308.6 683.5 51.0 141.2 171.2 223.6 113.6 ... 248.6 347.5\n",
       "7  2006 76.4 2163.7 330.9 725.4 56.8 155.6 183.7 242.0 121.5 ... 262.8 356.4\n",
       "8  2007 76.1 2079.0 319.2 690.7 54.0 148.4 171.7 227.3 124.7 ... 257.6 350.3\n",
       "9  2008 76.3 2060.9 329.4 710.2 58.8 159.5 168.5 220.5 113.5 ... 266.6 362.9\n",
       "10 2009 76.0 2091.2 332.0 715.2 60.7 162.4 173.6 223.0 116.7 ... 261.8 353.2\n",
       "11 2010 76.4 2112.0 343.7 737.2 57.4 159.5 172.1 223.8 120.3 ... 275.7 370.4\n",
       "12 2011 76.8 2112.8 341.1 732.7 58.3 159.7 174.9 225.6 119.5 ... 268.0 360.6\n",
       "13 2012 64.1 1716.8 266.9 584.8 45.2 126.4 123.9 164.7  96.1 ... 224.3 309.2\n",
       "14 2013 75.8 2001.9 319.1 693.6 58.6 160.6 145.5 191.6 116.8 ... 262.2 357.4\n",
       "15 2014 76.0 2039.4 329.4 719.9 69.4 190.3 158.6 207.2 119.5 ... 265.8 353.0\n",
       "16 2015 74.9 1948.1 310.2 679.0 63.9 179.3 142.9 189.1 111.9 ... 262.4 348.6\n",
       "17 2016 76.6 2016.2 327.4 716.1 73.5 204.1 152.3 199.8 114.9 ... 281.7 369.0\n",
       "18 2017 73.3 1840.2 303.1 658.6 74.9 208.6 140.1 180.2 102.6 ... 256.3 333.1\n",
       "19 2018 73.7 1840.6 305.2 655.8 80.7 220.3 127.1 165.7 103.2 ... 257.8 331.8\n",
       "20 2019 73.3 1885.5 330.9 710.8 92.6 256.7 145.0 186.8 106.6 ... 274.1 355.1\n",
       "21 2020 66.4 1731.6 301.2 646.8 92.9 253.4 130.6 167.6  97.7 ... 251.9 320.9\n",
       "   AST   STL  BLK  PTS   age  height_cm X3PM_corrected X2P_corrected\n",
       "1  201.3 69.6 45.4 879.4 28.8 200.5     132.3          747.1        \n",
       "2  204.7 70.1 47.9 905.6 28.5 201.0     139.8          765.8        \n",
       "3  201.1 69.4 49.0 881.8 28.1 201.1     148.2          733.6        \n",
       "4  188.8 69.1 42.7 840.3 28.3 201.6     136.2          704.1        \n",
       "5  192.2 70.1 46.6 851.9 27.8 201.5     143.4          708.5        \n",
       "6  183.7 63.1 39.8 839.5 28.0 200.4     153.0          686.5        \n",
       "7  192.8 63.7 38.5 902.3 27.6 200.5     170.4          731.9        \n",
       "8  188.6 62.4 39.7 864.1 27.6 200.7     162.0          702.1        \n",
       "9  186.0 62.4 41.3 886.1 27.5 201.2     176.4          709.7        \n",
       "10 190.4 63.0 40.1 898.2 27.3 200.4     182.1          716.1        \n",
       "11 190.7 63.4 41.8 917.0 27.5 200.8     172.2          744.8        \n",
       "12 198.7 64.7 40.8 915.5 27.4 200.7     174.9          740.6        \n",
       "13 142.2 54.3 39.3 702.9 26.8 201.4     135.6          567.3        \n",
       "14 185.4 64.8 43.8 842.2 27.6 201.0     175.8          666.4        \n",
       "15 192.8 65.5 37.7 886.8 27.3 200.6     208.2          678.6        \n",
       "16 187.1 63.5 38.3 827.2 28.2 201.0     191.7          635.5        \n",
       "17 189.9 66.3 41.5 880.5 27.5 201.1     220.5          660.0        \n",
       "18 177.2 59.0 36.0 821.2 27.7 200.9     224.7          596.5        \n",
       "19 176.1 59.0 37.2 818.2 27.4 201.0     242.1          576.1        \n",
       "20 193.9 59.4 39.0 899.4 27.3 200.9     277.8          621.6        \n",
       "21 177.7 53.8 35.5 826.0 27.0 200.7     278.7          547.3        "
      ]
     },
     "metadata": {},
     "output_type": "display_data"
    }
   ],
   "source": [
    "NBA_grouped_year <- subset(NBA_data_temp,select=c(2,7:24,29)) %>% group_by(year) %>% summarize(across(everything(), mean)) %>% mutate_at(vars(-year), funs(round(., 1)))\n",
    "NBA_grouped_year <-add_column(NBA_grouped_year,X3PM_corrected = NBA_grouped_year$X3PM*3)\n",
    "NBA_grouped_year <-add_column(NBA_grouped_year,X2P_corrected = NBA_grouped_year$PTS - NBA_grouped_year$X3PM*3)\n",
    "NBA_grouped_year"
   ]
  },
  {
   "cell_type": "markdown",
   "metadata": {},
   "source": [
    "When the data is grouped by year, we modelled the total points from 3 pointers vs and the total points from 2 pointers over time. What we observed is that from the years 2000-2020. The total number of points scored from 2 pointers is significantly larger than that from 3 pointer, with 2 pointers scoring 750 points and 3 pointers 130 points each year. However by the year 2020, the number of points from 3 pointers has increased to 280 point while points from 2 pointers has decreased to 550 points. This change in the distribution of points is fairly consistent suggesting that within the next 16 years, assuming the trend stays consistent that the number of points from 3 pointers could overtake that from 2 pointers."
   ]
  },
  {
   "cell_type": "code",
   "execution_count": 10,
   "metadata": {},
   "outputs": [
    {
     "data": {
      "image/png": "[encoded data removed]",
      "text/plain": [
       "plot without title"
      ]
     },
     "metadata": {
      "image/png": {
       "height": 420,
       "width": 420
      }
     },
     "output_type": "display_data"
    }
   ],
   "source": [
    "ggplot(NBA_grouped_year, aes(x = year)) + \n",
    "    geom_area(aes(y = X3PM_corrected), fill = 'lightblue', color ='blue', size = 1,alpha = 0.5)  +\n",
    "    geom_area(aes(y = X2P_corrected), fill = 'orangered', color ='orangered', size = 1,alpha = 0.15)  +\n",
    "    geom_area(aes(y = PTS), fill = 'lightgrey', color ='black', size = 1,alpha = 0.15)  +\n",
    "    scale_x_continuous(name=\"Year\") +\n",
    "    scale_y_continuous(name=\"Points\") +\n",
    "    ggtitle('Total points gained in the NBA using\\nthree and two pointers per year')+\n",
    "    theme(axis.text=element_text(size=12),\n",
    "        axis.title=element_text(size=20,face=\"bold\"),\n",
    "        plot.title = element_text(size=25),\n",
    "        panel.grid.major = element_blank(), panel.grid.minor = element_blank(),\n",
    "        legend.position=\"bottom\",legend.text = element_text(colour=\"blue\", size=10, \n",
    "                                     face=\"bold\")\n",
    ")"
   ]
  },
  {
   "cell_type": "markdown",
   "metadata": {},
   "source": [
    "The increased in scoring using 3 pointers suggest that it might be due to an increase in the average age of players in the NBA whome are more skilled and better at making 3 pointers. However the average age in the NBA has actually decreased ever so slightly in the pass 20 years. There this change may be due to improved ability for younger players to make 3 pointers and and shift in strategy towards a more shooting based game. To plot this we would have to plot the ratio of 2 & 3 pointers for each age group for each year and also compare the ratio of 3 pointers made versus attempted."
   ]
  },
  {
   "cell_type": "code",
   "execution_count": 24,
   "metadata": {},
   "outputs": [
    {
     "data": {
      "image/png": "[encoded data removed]",
      "text/plain": [
       "plot without title"
      ]
     },
     "metadata": {
      "image/png": {
       "height": 420,
       "width": 420
      }
     },
     "output_type": "display_data"
    }
   ],
   "source": [
    "ggplot(NBA_grouped_year, aes(x = year)) + \n",
    "    geom_area(aes(y = age), fill = 'orangered', color ='orangered', size = 1,alpha = 0.15)+\n",
    "    scale_x_continuous(name=\"Year\") +\n",
    "    scale_y_continuous(name=\"Age\",limits = c(0, 30)) +\n",
    "    ggtitle('Average age of players in the\\nNBA per year')+\n",
    "    theme(axis.text=element_text(size=12),\n",
    "        axis.title=element_text(size=20,face=\"bold\"),\n",
    "        plot.title = element_text(size=25),\n",
    "        panel.grid.major = element_blank(), panel.grid.minor = element_blank(),\n",
    "        legend.position=\"bottom\",legend.text = element_text(colour=\"blue\", size=10, \n",
    "                                     face=\"bold\")\n",
    ")"
   ]
  },
  {
   "cell_type": "code",
   "execution_count": null,
   "metadata": {},
   "outputs": [],
   "source": []
  }
 ],
 "metadata": {
  "kernelspec": {
   "display_name": "R",
   "language": "R",
   "name": "ir"
  },
  "language_info": {
   "codemirror_mode": "r",
   "file_extension": ".r",
   "mimetype": "text/x-r-source",
   "name": "R",
   "pygments_lexer": "r",
   "version": "4.0.2"
  }
 },
 "nbformat": 4,
 "nbformat_minor": 4
}
