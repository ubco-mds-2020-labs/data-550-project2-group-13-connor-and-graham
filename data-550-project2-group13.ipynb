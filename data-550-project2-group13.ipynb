{
 "cells": [
  {
   "cell_type": "markdown",
   "metadata": {},
   "source": [
    "# Data 550 Project 2\n",
    "### Names: Connor Fairbanks, Graham Kerford"
   ]
  },
  {
   "cell_type": "markdown",
   "metadata": {},
   "source": [
    "### Description of the Data\n",
    "\n",
    "The 'basketball players stats per season-49 leagues' dataset was used for this project. It comprises player data for 49 leagues from 1999 to present. The dataset was downlaoded from [kaggle](https://www.kaggle.com/mirichoi0218/insurance/home) in January, 2020a dn is available at: [https://www.kaggle.com/jacobbaruch/basketball-players-stats-per-season-49-leagues](https://www.kaggle.com/jacobbaruch/basketball-players-stats-per-season-49-leagues). In total ~11 thousand players data was collected in 49 leagues for each season. Due to the large amount of data available the dataset used for this project was limited to the first 200 players in the NBA doing the regular season. The age of the players was added  to aid in the analysis. The dataset contains the following characteristics for each player:\n",
    "\n",
    "- `League`: The league that the players played in for the specified season, limited to the NBA for this season.\n",
    "\n",
    "- `Season`: Date of the NBA season.\n",
    "\n",
    "- `Stage`: The period in the season doing which the data was taken.\n",
    "\n",
    "- `Player`: The name of the player.\n",
    "\n",
    "- `Team`: The team the player played for doing the season.\n",
    "\n",
    "- `GP`: Games played doing the season. \n",
    "\n",
    "- `MIN`: Minutes played.\n",
    "\n",
    "- `FGM`: Field goals made.\n",
    "\n",
    "- `FGA`: Field goals against.\n",
    "\n",
    "- `3PM`: 3 pointers made.\n",
    "\n",
    "- `3PA`: 3 pointers against.\n",
    "\n",
    "- `FTM`: Free throws made.\n",
    "\n",
    "- `FTA`: Free throws against.\n",
    "\n",
    "- `TOV`: Turnovers\n",
    "\n",
    "- `PF`: Personal fouls\n",
    "\n",
    "- `ORB`: Offensive rebounds\n",
    "\n",
    "- `DRB`: Defensive rebounds\n",
    "\n",
    "- `REB`: Total rebounds\n",
    "\n",
    "- `AST`: Assists\n",
    "\n",
    "- `STL`: Steals\n",
    "\n",
    "- `BLK`: Blocks\n",
    "\n",
    "- `PTS`: Points\n",
    "\n",
    "- `Birth_year`: Year of birth\n",
    "\n",
    "- `Birth_month`: Month of birth\n",
    "\n",
    "- `Birth_date`: Birthdate\n",
    "\n",
    "- `height`:\n",
    "\n",
    "- `height`: (cm)\n",
    "\n",
    "- `weight`: Weight in pounds\n",
    "\n",
    "- `weight_kg`: Weight in kilograms\n",
    "\n",
    "- `nationality`: Nationality of the player at birth\n",
    "\n",
    "- `high_school`: High school attended\n",
    "\n",
    "- `draft_round`: Draft hound\n",
    "\n",
    "- `draft_pick`: Draft pick\n",
    "\n",
    "- `draft_team`: Team drafted to"
   ]
  },
  {
   "cell_type": "code",
   "execution_count": 1,
   "metadata": {},
   "outputs": [
    {
     "name": "stderr",
     "output_type": "stream",
     "text": [
      "\n",
      "Attaching package: 'dplyr'\n",
      "\n",
      "\n",
      "The following objects are masked from 'package:stats':\n",
      "\n",
      "    filter, lag\n",
      "\n",
      "\n",
      "The following objects are masked from 'package:base':\n",
      "\n",
      "    intersect, setdiff, setequal, union\n",
      "\n",
      "\n",
      "Warning message:\n",
      "\"package 'ggplot2' was built under R version 4.0.3\"\n",
      "Warning message:\n",
      "\"package 'tidyverse' was built under R version 4.0.3\"\n",
      "-- \u001b[1mAttaching packages\u001b[22m --------------------------------------- tidyverse 1.3.0 --\n",
      "\n",
      "\u001b[32mv\u001b[39m \u001b[34mtibble \u001b[39m 3.0.3     \u001b[32mv\u001b[39m \u001b[34mpurrr  \u001b[39m 0.3.4\n",
      "\u001b[32mv\u001b[39m \u001b[34mtidyr  \u001b[39m 1.1.2     \u001b[32mv\u001b[39m \u001b[34mstringr\u001b[39m 1.4.0\n",
      "\u001b[32mv\u001b[39m \u001b[34mreadr  \u001b[39m 1.3.1     \u001b[32mv\u001b[39m \u001b[34mforcats\u001b[39m 0.5.0\n",
      "\n",
      "-- \u001b[1mConflicts\u001b[22m ------------------------------------------ tidyverse_conflicts() --\n",
      "\u001b[31mx\u001b[39m \u001b[34mdplyr\u001b[39m::\u001b[32mfilter()\u001b[39m masks \u001b[34mstats\u001b[39m::filter()\n",
      "\u001b[31mx\u001b[39m \u001b[34mdplyr\u001b[39m::\u001b[32mlag()\u001b[39m    masks \u001b[34mstats\u001b[39m::lag()\n",
      "\n"
     ]
    }
   ],
   "source": [
    "library(dplyr) \n",
    "library(ggplot2)\n",
    "library(tidyverse)"
   ]
  },
  {
   "cell_type": "code",
   "execution_count": 2,
   "metadata": {},
   "outputs": [],
   "source": [
    "basketball_df <- read.csv('players_stats_by_season_full_details.csv')"
   ]
  },
  {
   "cell_type": "code",
   "execution_count": 3,
   "metadata": {},
   "outputs": [],
   "source": [
    "names(basketball_df)[1] <- 'League'"
   ]
  },
  {
   "cell_type": "code",
   "execution_count": 4,
   "metadata": {},
   "outputs": [],
   "source": [
    "names <- names(basketball_df)"
   ]
  },
  {
   "cell_type": "code",
   "execution_count": 5,
   "metadata": {},
   "outputs": [],
   "source": [
    "NBA_data <- filter(basketball_df, Stage == 'Regular_Season' & League == 'NBA' & 'GP' > 60)\n",
    "#THIS IS INCORRECT, 2020 SHOULD BE REPLACED BY 'SEASON'\n",
    "#NBA_data['age'] <- 2020-NBA_data['birth_year']"
   ]
  },
  {
   "cell_type": "code",
   "execution_count": 6,
   "metadata": {},
   "outputs": [
    {
     "data": {
      "text/html": [
       "<table>\n",
       "<caption>A data.frame: 1 × 1</caption>\n",
       "<thead>\n",
       "\t<tr><th scope=col>n</th></tr>\n",
       "\t<tr><th scope=col>&lt;int&gt;</th></tr>\n",
       "</thead>\n",
       "<tbody>\n",
       "\t<tr><td>1074</td></tr>\n",
       "</tbody>\n",
       "</table>\n"
      ],
      "text/latex": [
       "A data.frame: 1 × 1\n",
       "\\begin{tabular}{l}\n",
       " n\\\\\n",
       " <int>\\\\\n",
       "\\hline\n",
       "\t 1074\\\\\n",
       "\\end{tabular}\n"
      ],
      "text/markdown": [
       "\n",
       "A data.frame: 1 × 1\n",
       "\n",
       "| n &lt;int&gt; |\n",
       "|---|\n",
       "| 1074 |\n",
       "\n"
      ],
      "text/plain": [
       "  n   \n",
       "1 1074"
      ]
     },
     "metadata": {},
     "output_type": "display_data"
    }
   ],
   "source": [
    "count(as.data.frame(unique(NBA_data$Player)))"
   ]
  },
  {
   "cell_type": "code",
   "execution_count": 63,
   "metadata": {},
   "outputs": [],
   "source": [
    "age <- list()\n",
    "for(i in 1:nrow(NBA_data)){\n",
    "    current_year <- as.numeric(substring(NBA_data$Season[[1]], 8,11))\n",
    "    age[i] <- current_year - NBA_data$birth_year[i] \n",
    "}\n",
    "\n",
    "NBA_data$age <- as.numeric(age)"
   ]
  },
  {
   "cell_type": "code",
   "execution_count": 64,
   "metadata": {},
   "outputs": [
    {
     "data": {
      "text/html": [
       "<table>\n",
       "<caption>A data.frame: 6 × 35</caption>\n",
       "<thead>\n",
       "\t<tr><th></th><th scope=col>League</th><th scope=col>Season</th><th scope=col>Stage</th><th scope=col>Player</th><th scope=col>Team</th><th scope=col>GP</th><th scope=col>MIN</th><th scope=col>FGM</th><th scope=col>FGA</th><th scope=col>X3PM</th><th scope=col>...</th><th scope=col>height</th><th scope=col>height_cm</th><th scope=col>weight</th><th scope=col>weight_kg</th><th scope=col>nationality</th><th scope=col>high_school</th><th scope=col>draft_round</th><th scope=col>draft_pick</th><th scope=col>draft_team</th><th scope=col>age</th></tr>\n",
       "\t<tr><th></th><th scope=col>&lt;chr&gt;</th><th scope=col>&lt;chr&gt;</th><th scope=col>&lt;chr&gt;</th><th scope=col>&lt;chr&gt;</th><th scope=col>&lt;chr&gt;</th><th scope=col>&lt;int&gt;</th><th scope=col>&lt;dbl&gt;</th><th scope=col>&lt;int&gt;</th><th scope=col>&lt;int&gt;</th><th scope=col>&lt;int&gt;</th><th scope=col>...</th><th scope=col>&lt;chr&gt;</th><th scope=col>&lt;int&gt;</th><th scope=col>&lt;chr&gt;</th><th scope=col>&lt;int&gt;</th><th scope=col>&lt;chr&gt;</th><th scope=col>&lt;chr&gt;</th><th scope=col>&lt;int&gt;</th><th scope=col>&lt;int&gt;</th><th scope=col>&lt;chr&gt;</th><th scope=col>&lt;dbl&gt;</th></tr>\n",
       "</thead>\n",
       "<tbody>\n",
       "\t<tr><th scope=row>1</th><td>NBA</td><td>1999 - 2000</td><td>Regular_Season</td><td>Shaquille O'Neal</td><td>LAL</td><td>79</td><td>3163</td><td>956</td><td>1665</td><td>  0</td><td>...</td><td>01-Jul</td><td>216</td><td>325</td><td>147</td><td>United States</td><td>Robert G. Cole High School </td><td>1</td><td> 1</td><td>Orlando Magic        </td><td>28</td></tr>\n",
       "\t<tr><th scope=row>2</th><td>NBA</td><td>1999 - 2000</td><td>Regular_Season</td><td>Vince Carter    </td><td>TOR</td><td>82</td><td>3126</td><td>788</td><td>1696</td><td> 95</td><td>...</td><td>06-Jun</td><td>198</td><td>220</td><td>100</td><td>United States</td><td>Mainland High School       </td><td>1</td><td> 5</td><td>Golden State Warriors</td><td>23</td></tr>\n",
       "\t<tr><th scope=row>3</th><td>NBA</td><td>1999 - 2000</td><td>Regular_Season</td><td>Karl Malone     </td><td>UTA</td><td>82</td><td>2947</td><td>752</td><td>1476</td><td>  2</td><td>...</td><td>09-Jun</td><td>206</td><td>265</td><td>120</td><td>United States</td><td>Summerfield High School    </td><td>1</td><td>13</td><td>Utah Jazz            </td><td>37</td></tr>\n",
       "\t<tr><th scope=row>4</th><td>NBA</td><td>1999 - 2000</td><td>Regular_Season</td><td>Allen Iverson   </td><td>PHI</td><td>70</td><td>2853</td><td>729</td><td>1733</td><td> 89</td><td>...</td><td>6-0   </td><td>183</td><td>165</td><td> 75</td><td>United States</td><td>Bethel High School         </td><td>1</td><td> 1</td><td>Philadelphia Sixers  </td><td>25</td></tr>\n",
       "\t<tr><th scope=row>5</th><td>NBA</td><td>1999 - 2000</td><td>Regular_Season</td><td>Gary Payton     </td><td>SEA</td><td>82</td><td>3425</td><td>747</td><td>1666</td><td>177</td><td>...</td><td>04-Jun</td><td>193</td><td>180</td><td> 82</td><td>United States</td><td>Skyline High School        </td><td>1</td><td> 2</td><td>Seattle SuperSonics  </td><td>32</td></tr>\n",
       "\t<tr><th scope=row>6</th><td>NBA</td><td>1999 - 2000</td><td>Regular_Season</td><td>Jerry Stackhouse</td><td>DET</td><td>82</td><td>3148</td><td>619</td><td>1447</td><td> 83</td><td>...</td><td>06-Jun</td><td>198</td><td>218</td><td> 99</td><td>United States</td><td>Oak Hill Academy           </td><td>1</td><td> 3</td><td>Philadelphia Sixers  </td><td>26</td></tr>\n",
       "</tbody>\n",
       "</table>\n"
      ],
      "text/latex": [
       "A data.frame: 6 × 35\n",
       "\\begin{tabular}{r|lllllllllllllllllllll}\n",
       "  & League & Season & Stage & Player & Team & GP & MIN & FGM & FGA & X3PM & ... & height & height\\_cm & weight & weight\\_kg & nationality & high\\_school & draft\\_round & draft\\_pick & draft\\_team & age\\\\\n",
       "  & <chr> & <chr> & <chr> & <chr> & <chr> & <int> & <dbl> & <int> & <int> & <int> & ... & <chr> & <int> & <chr> & <int> & <chr> & <chr> & <int> & <int> & <chr> & <dbl>\\\\\n",
       "\\hline\n",
       "\t1 & NBA & 1999 - 2000 & Regular\\_Season & Shaquille O'Neal & LAL & 79 & 3163 & 956 & 1665 &   0 & ... & 01-Jul & 216 & 325 & 147 & United States & Robert G. Cole High School  & 1 &  1 & Orlando Magic         & 28\\\\\n",
       "\t2 & NBA & 1999 - 2000 & Regular\\_Season & Vince Carter     & TOR & 82 & 3126 & 788 & 1696 &  95 & ... & 06-Jun & 198 & 220 & 100 & United States & Mainland High School        & 1 &  5 & Golden State Warriors & 23\\\\\n",
       "\t3 & NBA & 1999 - 2000 & Regular\\_Season & Karl Malone      & UTA & 82 & 2947 & 752 & 1476 &   2 & ... & 09-Jun & 206 & 265 & 120 & United States & Summerfield High School     & 1 & 13 & Utah Jazz             & 37\\\\\n",
       "\t4 & NBA & 1999 - 2000 & Regular\\_Season & Allen Iverson    & PHI & 70 & 2853 & 729 & 1733 &  89 & ... & 6-0    & 183 & 165 &  75 & United States & Bethel High School          & 1 &  1 & Philadelphia Sixers   & 25\\\\\n",
       "\t5 & NBA & 1999 - 2000 & Regular\\_Season & Gary Payton      & SEA & 82 & 3425 & 747 & 1666 & 177 & ... & 04-Jun & 193 & 180 &  82 & United States & Skyline High School         & 1 &  2 & Seattle SuperSonics   & 32\\\\\n",
       "\t6 & NBA & 1999 - 2000 & Regular\\_Season & Jerry Stackhouse & DET & 82 & 3148 & 619 & 1447 &  83 & ... & 06-Jun & 198 & 218 &  99 & United States & Oak Hill Academy            & 1 &  3 & Philadelphia Sixers   & 26\\\\\n",
       "\\end{tabular}\n"
      ],
      "text/markdown": [
       "\n",
       "A data.frame: 6 × 35\n",
       "\n",
       "| <!--/--> | League &lt;chr&gt; | Season &lt;chr&gt; | Stage &lt;chr&gt; | Player &lt;chr&gt; | Team &lt;chr&gt; | GP &lt;int&gt; | MIN &lt;dbl&gt; | FGM &lt;int&gt; | FGA &lt;int&gt; | X3PM &lt;int&gt; | ... ... | height &lt;chr&gt; | height_cm &lt;int&gt; | weight &lt;chr&gt; | weight_kg &lt;int&gt; | nationality &lt;chr&gt; | high_school &lt;chr&gt; | draft_round &lt;int&gt; | draft_pick &lt;int&gt; | draft_team &lt;chr&gt; | age &lt;dbl&gt; |\n",
       "|---|---|---|---|---|---|---|---|---|---|---|---|---|---|---|---|---|---|---|---|---|---|\n",
       "| 1 | NBA | 1999 - 2000 | Regular_Season | Shaquille O'Neal | LAL | 79 | 3163 | 956 | 1665 |   0 | ... | 01-Jul | 216 | 325 | 147 | United States | Robert G. Cole High School  | 1 |  1 | Orlando Magic         | 28 |\n",
       "| 2 | NBA | 1999 - 2000 | Regular_Season | Vince Carter     | TOR | 82 | 3126 | 788 | 1696 |  95 | ... | 06-Jun | 198 | 220 | 100 | United States | Mainland High School        | 1 |  5 | Golden State Warriors | 23 |\n",
       "| 3 | NBA | 1999 - 2000 | Regular_Season | Karl Malone      | UTA | 82 | 2947 | 752 | 1476 |   2 | ... | 09-Jun | 206 | 265 | 120 | United States | Summerfield High School     | 1 | 13 | Utah Jazz             | 37 |\n",
       "| 4 | NBA | 1999 - 2000 | Regular_Season | Allen Iverson    | PHI | 70 | 2853 | 729 | 1733 |  89 | ... | 6-0    | 183 | 165 |  75 | United States | Bethel High School          | 1 |  1 | Philadelphia Sixers   | 25 |\n",
       "| 5 | NBA | 1999 - 2000 | Regular_Season | Gary Payton      | SEA | 82 | 3425 | 747 | 1666 | 177 | ... | 04-Jun | 193 | 180 |  82 | United States | Skyline High School         | 1 |  2 | Seattle SuperSonics   | 32 |\n",
       "| 6 | NBA | 1999 - 2000 | Regular_Season | Jerry Stackhouse | DET | 82 | 3148 | 619 | 1447 |  83 | ... | 06-Jun | 198 | 218 |  99 | United States | Oak Hill Academy            | 1 |  3 | Philadelphia Sixers   | 26 |\n",
       "\n"
      ],
      "text/plain": [
       "  League Season      Stage          Player           Team GP MIN  FGM FGA  X3PM\n",
       "1 NBA    1999 - 2000 Regular_Season Shaquille O'Neal LAL  79 3163 956 1665   0 \n",
       "2 NBA    1999 - 2000 Regular_Season Vince Carter     TOR  82 3126 788 1696  95 \n",
       "3 NBA    1999 - 2000 Regular_Season Karl Malone      UTA  82 2947 752 1476   2 \n",
       "4 NBA    1999 - 2000 Regular_Season Allen Iverson    PHI  70 2853 729 1733  89 \n",
       "5 NBA    1999 - 2000 Regular_Season Gary Payton      SEA  82 3425 747 1666 177 \n",
       "6 NBA    1999 - 2000 Regular_Season Jerry Stackhouse DET  82 3148 619 1447  83 \n",
       "  ... height height_cm weight weight_kg nationality  \n",
       "1 ... 01-Jul 216       325    147       United States\n",
       "2 ... 06-Jun 198       220    100       United States\n",
       "3 ... 09-Jun 206       265    120       United States\n",
       "4 ... 6-0    183       165     75       United States\n",
       "5 ... 04-Jun 193       180     82       United States\n",
       "6 ... 06-Jun 198       218     99       United States\n",
       "  high_school                 draft_round draft_pick draft_team            age\n",
       "1 Robert G. Cole High School  1            1         Orlando Magic         28 \n",
       "2 Mainland High School        1            5         Golden State Warriors 23 \n",
       "3 Summerfield High School     1           13         Utah Jazz             37 \n",
       "4 Bethel High School          1            1         Philadelphia Sixers   25 \n",
       "5 Skyline High School         1            2         Seattle SuperSonics   32 \n",
       "6 Oak Hill Academy            1            3         Philadelphia Sixers   26 "
      ]
     },
     "metadata": {},
     "output_type": "display_data"
    }
   ],
   "source": [
    "head(NBA_data)"
   ]
  },
  {
   "cell_type": "code",
   "execution_count": 8,
   "metadata": {},
   "outputs": [],
   "source": [
    "#grouped_data <- aggregate(NBA_data, by = NBA_data[-1],FUN = mean)\n",
    "\n",
    "numeric_data <- unlist(lapply(NBA_data, is.numeric))  "
   ]
  },
  {
   "cell_type": "code",
   "execution_count": 67,
   "metadata": {},
   "outputs": [
    {
     "ename": "ERROR",
     "evalue": "Error in eval(expr, envir, enclos): object 'grouped_data' not found\n",
     "output_type": "error",
     "traceback": [
      "Error in eval(expr, envir, enclos): object 'grouped_data' not found\nTraceback:\n"
     ]
    }
   ],
   "source": [
    "grouped_data[with(NBA_data, order(age)),]"
   ]
  },
  {
   "cell_type": "code",
   "execution_count": 65,
   "metadata": {},
   "outputs": [
    {
     "data": {
      "image/png": "[encoded data removed]",
      "text/plain": [
       "plot without title"
      ]
     },
     "metadata": {
      "image/png": {
       "height": 420,
       "width": 420
      }
     },
     "output_type": "display_data"
    }
   ],
   "source": [
    "ggplot(grouped_data) + aes(x = age, y = GP) + geom_point()"
   ]
  },
  {
   "cell_type": "code",
   "execution_count": null,
   "metadata": {},
   "outputs": [],
   "source": []
  },
  {
   "cell_type": "code",
   "execution_count": null,
   "metadata": {},
   "outputs": [],
   "source": [
    "839+1074"
   ]
  },
  {
   "cell_type": "code",
   "execution_count": null,
   "metadata": {},
   "outputs": [],
   "source": []
  }
 ],
 "metadata": {
  "kernelspec": {
   "display_name": "R",
   "language": "R",
   "name": "ir"
  },
  "language_info": {
   "codemirror_mode": "r",
   "file_extension": ".r",
   "mimetype": "text/x-r-source",
   "name": "R",
   "pygments_lexer": "r",
   "version": "4.0.2"
  }
 },
 "nbformat": 4,
 "nbformat_minor": 4
}
