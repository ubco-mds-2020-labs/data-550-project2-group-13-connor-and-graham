{
 "cells": [
  {
   "cell_type": "markdown",
   "metadata": {},
   "source": [
    "# Data 550 Project 2\n",
    "### Names: Connor Fairbanks, Graham Kerford"
   ]
  },
  {
   "cell_type": "markdown",
   "metadata": {},
   "source": [
    "### Description of the Data\n",
    "\n",
    "The 'basketball players stats per season-49 leagues' dataset was used for this project. It comprises player data for 49 leagues from 1999 to present. The dataset was downlaoded from [kaggle](https://www.kaggle.com/mirichoi0218/insurance/home) in January, 2020a dn is available at: [https://www.kaggle.com/jacobbaruch/basketball-players-stats-per-season-49-leagues](https://www.kaggle.com/jacobbaruch/basketball-players-stats-per-season-49-leagues). In total ~11 thousand players data was collected in 49 leagues for each season. Due to the large amount of data available the dataset used for this project was limited to the first 200 players in the NBA doing the regular season. The age of the players was added  to aid in the analysis. The dataset contains the following characteristics for each player:\n",
    "\n",
    "- `League`: The league that the players played in for the specified season, limited to the NBA for this season.\n",
    "\n",
    "- `Season`: Date of the NBA season.\n",
    "\n",
    "- `Stage`: The period in the season doing which the data was taken.\n",
    "\n",
    "- `Player`: The name of the player.\n",
    "\n",
    "- `Team`: The team the player played for doing the season.\n",
    "\n",
    "- `GP`: Games played doing the season. \n",
    "\n",
    "- `MIN`: Minutes played.\n",
    "\n",
    "- `FGM`: Field goals made.\n",
    "\n",
    "- `FGA`: Field goals against.\n",
    "\n",
    "- `3PM`: 3 pointers made.\n",
    "\n",
    "- `3PA`: 3 pointers against.\n",
    "\n",
    "- `FTM`: Free throws made.\n",
    "\n",
    "- `FTA`: Free throws against.\n",
    "\n",
    "- `TOV`: Turnovers\n",
    "\n",
    "- `PF`: Personal fouls\n",
    "\n",
    "- `ORB`: Offensive rebounds\n",
    "\n",
    "- `DRB`: Defensive rebounds\n",
    "\n",
    "- `REB`: Total rebounds\n",
    "\n",
    "- `AST`: Assists\n",
    "\n",
    "- `STL`: Steals\n",
    "\n",
    "- `BLK`: Blocks\n",
    "\n",
    "- `PTS`: Points\n",
    "\n",
    "- `Birth_year`: Year of birth\n",
    "\n",
    "- `Birth_month`: Month of birth\n",
    "\n",
    "- `Birth_date`: Birthdate\n",
    "\n",
    "- `height`:\n",
    "\n",
    "- `height`: (cm)\n",
    "\n",
    "- `weight`: Weight in pounds\n",
    "\n",
    "- `weight_kg`: Weight in kilograms\n",
    "\n",
    "- `nationality`: Nationality of the player at birth\n",
    "\n",
    "- `high_school`: High school attended\n",
    "\n",
    "- `draft_round`: Draft hound\n",
    "\n",
    "- `draft_pick`: Draft pick\n",
    "\n",
    "- `draft_team`: Team drafted to"
   ]
  },
  {
   "cell_type": "code",
   "execution_count": 67,
   "metadata": {},
   "outputs": [],
   "source": [
    "library(dplyr) \n",
    "library(ggplot2)\n",
    "library(tibble)\n",
    "library(tidyverse)"
   ]
  },
  {
   "cell_type": "code",
   "execution_count": 2,
   "metadata": {},
   "outputs": [],
   "source": [
    "basketball_df <- read.csv('players_stats_by_season_full_details.csv')"
   ]
  },
  {
   "cell_type": "code",
   "execution_count": 5,
   "metadata": {},
   "outputs": [],
   "source": [
    "names(basketball_df)[1] <- 'League'\n",
    "NBA_data_filtered <- filter(basketball_df, Stage == 'Regular_Season' & League == 'NBA' & 'GP' > 60)"
   ]
  },
  {
   "cell_type": "code",
   "execution_count": 75,
   "metadata": {},
   "outputs": [
    {
     "data": {
      "text/html": [
       "<table>\n",
       "<caption>A data.frame: 6 × 35</caption>\n",
       "<thead>\n",
       "\t<tr><th></th><th scope=col>League</th><th scope=col>Season</th><th scope=col>Stage</th><th scope=col>Player</th><th scope=col>Team</th><th scope=col>GP</th><th scope=col>MIN</th><th scope=col>FGM</th><th scope=col>FGA</th><th scope=col>X3PM</th><th scope=col>...</th><th scope=col>birth_date</th><th scope=col>height</th><th scope=col>height_cm</th><th scope=col>weight</th><th scope=col>weight_kg</th><th scope=col>nationality</th><th scope=col>high_school</th><th scope=col>draft_round</th><th scope=col>draft_pick</th><th scope=col>draft_team</th></tr>\n",
       "\t<tr><th></th><th scope=col>&lt;chr&gt;</th><th scope=col>&lt;chr&gt;</th><th scope=col>&lt;chr&gt;</th><th scope=col>&lt;chr&gt;</th><th scope=col>&lt;chr&gt;</th><th scope=col>&lt;int&gt;</th><th scope=col>&lt;dbl&gt;</th><th scope=col>&lt;int&gt;</th><th scope=col>&lt;int&gt;</th><th scope=col>&lt;int&gt;</th><th scope=col>...</th><th scope=col>&lt;chr&gt;</th><th scope=col>&lt;chr&gt;</th><th scope=col>&lt;int&gt;</th><th scope=col>&lt;chr&gt;</th><th scope=col>&lt;int&gt;</th><th scope=col>&lt;chr&gt;</th><th scope=col>&lt;chr&gt;</th><th scope=col>&lt;int&gt;</th><th scope=col>&lt;int&gt;</th><th scope=col>&lt;chr&gt;</th></tr>\n",
       "</thead>\n",
       "<tbody>\n",
       "\t<tr><th scope=row>1</th><td>NBA</td><td>1999 - 2000</td><td>Regular_Season</td><td>Shaquille O'Neal</td><td>LAL</td><td>79</td><td>3163</td><td>956</td><td>1665</td><td>  0</td><td>...</td><td>06-Mar-72</td><td>01-Jul</td><td>216</td><td>325</td><td>147</td><td>United States</td><td>Robert G. Cole High School </td><td>1</td><td> 1</td><td>Orlando Magic        </td></tr>\n",
       "\t<tr><th scope=row>2</th><td>NBA</td><td>1999 - 2000</td><td>Regular_Season</td><td>Vince Carter    </td><td>TOR</td><td>82</td><td>3126</td><td>788</td><td>1696</td><td> 95</td><td>...</td><td>26-Jan-77</td><td>06-Jun</td><td>198</td><td>220</td><td>100</td><td>United States</td><td>Mainland High School       </td><td>1</td><td> 5</td><td>Golden State Warriors</td></tr>\n",
       "\t<tr><th scope=row>3</th><td>NBA</td><td>1999 - 2000</td><td>Regular_Season</td><td>Karl Malone     </td><td>UTA</td><td>82</td><td>2947</td><td>752</td><td>1476</td><td>  2</td><td>...</td><td>24-Jul-63</td><td>09-Jun</td><td>206</td><td>265</td><td>120</td><td>United States</td><td>Summerfield High School    </td><td>1</td><td>13</td><td>Utah Jazz            </td></tr>\n",
       "\t<tr><th scope=row>4</th><td>NBA</td><td>1999 - 2000</td><td>Regular_Season</td><td>Allen Iverson   </td><td>PHI</td><td>70</td><td>2853</td><td>729</td><td>1733</td><td> 89</td><td>...</td><td>07-Jun-75</td><td>6-0   </td><td>183</td><td>165</td><td> 75</td><td>United States</td><td>Bethel High School         </td><td>1</td><td> 1</td><td>Philadelphia Sixers  </td></tr>\n",
       "\t<tr><th scope=row>5</th><td>NBA</td><td>1999 - 2000</td><td>Regular_Season</td><td>Gary Payton     </td><td>SEA</td><td>82</td><td>3425</td><td>747</td><td>1666</td><td>177</td><td>...</td><td>23-Jul-68</td><td>04-Jun</td><td>193</td><td>180</td><td> 82</td><td>United States</td><td>Skyline High School        </td><td>1</td><td> 2</td><td>Seattle SuperSonics  </td></tr>\n",
       "\t<tr><th scope=row>6</th><td>NBA</td><td>1999 - 2000</td><td>Regular_Season</td><td>Jerry Stackhouse</td><td>DET</td><td>82</td><td>3148</td><td>619</td><td>1447</td><td> 83</td><td>...</td><td>05-Nov-74</td><td>06-Jun</td><td>198</td><td>218</td><td> 99</td><td>United States</td><td>Oak Hill Academy           </td><td>1</td><td> 3</td><td>Philadelphia Sixers  </td></tr>\n",
       "</tbody>\n",
       "</table>\n"
      ],
      "text/latex": [
       "A data.frame: 6 × 35\n",
       "\\begin{tabular}{r|lllllllllllllllllllll}\n",
       "  & League & Season & Stage & Player & Team & GP & MIN & FGM & FGA & X3PM & ... & birth\\_date & height & height\\_cm & weight & weight\\_kg & nationality & high\\_school & draft\\_round & draft\\_pick & draft\\_team\\\\\n",
       "  & <chr> & <chr> & <chr> & <chr> & <chr> & <int> & <dbl> & <int> & <int> & <int> & ... & <chr> & <chr> & <int> & <chr> & <int> & <chr> & <chr> & <int> & <int> & <chr>\\\\\n",
       "\\hline\n",
       "\t1 & NBA & 1999 - 2000 & Regular\\_Season & Shaquille O'Neal & LAL & 79 & 3163 & 956 & 1665 &   0 & ... & 06-Mar-72 & 01-Jul & 216 & 325 & 147 & United States & Robert G. Cole High School  & 1 &  1 & Orlando Magic        \\\\\n",
       "\t2 & NBA & 1999 - 2000 & Regular\\_Season & Vince Carter     & TOR & 82 & 3126 & 788 & 1696 &  95 & ... & 26-Jan-77 & 06-Jun & 198 & 220 & 100 & United States & Mainland High School        & 1 &  5 & Golden State Warriors\\\\\n",
       "\t3 & NBA & 1999 - 2000 & Regular\\_Season & Karl Malone      & UTA & 82 & 2947 & 752 & 1476 &   2 & ... & 24-Jul-63 & 09-Jun & 206 & 265 & 120 & United States & Summerfield High School     & 1 & 13 & Utah Jazz            \\\\\n",
       "\t4 & NBA & 1999 - 2000 & Regular\\_Season & Allen Iverson    & PHI & 70 & 2853 & 729 & 1733 &  89 & ... & 07-Jun-75 & 6-0    & 183 & 165 &  75 & United States & Bethel High School          & 1 &  1 & Philadelphia Sixers  \\\\\n",
       "\t5 & NBA & 1999 - 2000 & Regular\\_Season & Gary Payton      & SEA & 82 & 3425 & 747 & 1666 & 177 & ... & 23-Jul-68 & 04-Jun & 193 & 180 &  82 & United States & Skyline High School         & 1 &  2 & Seattle SuperSonics  \\\\\n",
       "\t6 & NBA & 1999 - 2000 & Regular\\_Season & Jerry Stackhouse & DET & 82 & 3148 & 619 & 1447 &  83 & ... & 05-Nov-74 & 06-Jun & 198 & 218 &  99 & United States & Oak Hill Academy            & 1 &  3 & Philadelphia Sixers  \\\\\n",
       "\\end{tabular}\n"
      ],
      "text/markdown": [
       "\n",
       "A data.frame: 6 × 35\n",
       "\n",
       "| <!--/--> | League &lt;chr&gt; | Season &lt;chr&gt; | Stage &lt;chr&gt; | Player &lt;chr&gt; | Team &lt;chr&gt; | GP &lt;int&gt; | MIN &lt;dbl&gt; | FGM &lt;int&gt; | FGA &lt;int&gt; | X3PM &lt;int&gt; | ... ... | birth_date &lt;chr&gt; | height &lt;chr&gt; | height_cm &lt;int&gt; | weight &lt;chr&gt; | weight_kg &lt;int&gt; | nationality &lt;chr&gt; | high_school &lt;chr&gt; | draft_round &lt;int&gt; | draft_pick &lt;int&gt; | draft_team &lt;chr&gt; |\n",
       "|---|---|---|---|---|---|---|---|---|---|---|---|---|---|---|---|---|---|---|---|---|---|\n",
       "| 1 | NBA | 1999 - 2000 | Regular_Season | Shaquille O'Neal | LAL | 79 | 3163 | 956 | 1665 |   0 | ... | 06-Mar-72 | 01-Jul | 216 | 325 | 147 | United States | Robert G. Cole High School  | 1 |  1 | Orlando Magic         |\n",
       "| 2 | NBA | 1999 - 2000 | Regular_Season | Vince Carter     | TOR | 82 | 3126 | 788 | 1696 |  95 | ... | 26-Jan-77 | 06-Jun | 198 | 220 | 100 | United States | Mainland High School        | 1 |  5 | Golden State Warriors |\n",
       "| 3 | NBA | 1999 - 2000 | Regular_Season | Karl Malone      | UTA | 82 | 2947 | 752 | 1476 |   2 | ... | 24-Jul-63 | 09-Jun | 206 | 265 | 120 | United States | Summerfield High School     | 1 | 13 | Utah Jazz             |\n",
       "| 4 | NBA | 1999 - 2000 | Regular_Season | Allen Iverson    | PHI | 70 | 2853 | 729 | 1733 |  89 | ... | 07-Jun-75 | 6-0    | 183 | 165 |  75 | United States | Bethel High School          | 1 |  1 | Philadelphia Sixers   |\n",
       "| 5 | NBA | 1999 - 2000 | Regular_Season | Gary Payton      | SEA | 82 | 3425 | 747 | 1666 | 177 | ... | 23-Jul-68 | 04-Jun | 193 | 180 |  82 | United States | Skyline High School         | 1 |  2 | Seattle SuperSonics   |\n",
       "| 6 | NBA | 1999 - 2000 | Regular_Season | Jerry Stackhouse | DET | 82 | 3148 | 619 | 1447 |  83 | ... | 05-Nov-74 | 06-Jun | 198 | 218 |  99 | United States | Oak Hill Academy            | 1 |  3 | Philadelphia Sixers   |\n",
       "\n"
      ],
      "text/plain": [
       "  League Season      Stage          Player           Team GP MIN  FGM FGA  X3PM\n",
       "1 NBA    1999 - 2000 Regular_Season Shaquille O'Neal LAL  79 3163 956 1665   0 \n",
       "2 NBA    1999 - 2000 Regular_Season Vince Carter     TOR  82 3126 788 1696  95 \n",
       "3 NBA    1999 - 2000 Regular_Season Karl Malone      UTA  82 2947 752 1476   2 \n",
       "4 NBA    1999 - 2000 Regular_Season Allen Iverson    PHI  70 2853 729 1733  89 \n",
       "5 NBA    1999 - 2000 Regular_Season Gary Payton      SEA  82 3425 747 1666 177 \n",
       "6 NBA    1999 - 2000 Regular_Season Jerry Stackhouse DET  82 3148 619 1447  83 \n",
       "  ... birth_date height height_cm weight weight_kg nationality  \n",
       "1 ... 06-Mar-72  01-Jul 216       325    147       United States\n",
       "2 ... 26-Jan-77  06-Jun 198       220    100       United States\n",
       "3 ... 24-Jul-63  09-Jun 206       265    120       United States\n",
       "4 ... 07-Jun-75  6-0    183       165     75       United States\n",
       "5 ... 23-Jul-68  04-Jun 193       180     82       United States\n",
       "6 ... 05-Nov-74  06-Jun 198       218     99       United States\n",
       "  high_school                 draft_round draft_pick draft_team           \n",
       "1 Robert G. Cole High School  1            1         Orlando Magic        \n",
       "2 Mainland High School        1            5         Golden State Warriors\n",
       "3 Summerfield High School     1           13         Utah Jazz            \n",
       "4 Bethel High School          1            1         Philadelphia Sixers  \n",
       "5 Skyline High School         1            2         Seattle SuperSonics  \n",
       "6 Oak Hill Academy            1            3         Philadelphia Sixers  "
      ]
     },
     "metadata": {},
     "output_type": "display_data"
    }
   ],
   "source": [
    "age <- list()\n",
    "for(i in 1:nrow(NBA_data_filtered)){\n",
    "    current_year <- as.numeric(substring(NBA_data_filtered[i,2], 8,11))\n",
    "    age[i] <- current_year - NBA_data_filtered$birth_year[i] \n",
    "}\n",
    "\n",
    "NBA_data <-add_column(NBA_data_filtered,age = as.numeric(age),.after=22)\n",
    "head(NBA_data)"
   ]
  },
  {
   "cell_type": "code",
   "execution_count": 92,
   "metadata": {},
   "outputs": [
    {
     "name": "stderr",
     "output_type": "stream",
     "text": [
      "`summarise()` ungrouping output (override with `.groups` argument)\n",
      "\n",
      "Warning message:\n",
      "\"`funs()` is deprecated as of dplyr 0.8.0.\n",
      "Please use a list of either functions or lambdas: \n",
      "\n",
      "  # Simple named list: \n",
      "  list(mean = mean, median = median)\n",
      "\n",
      "  # Auto named with `tibble::lst()`: \n",
      "  tibble::lst(mean, median)\n",
      "\n",
      "  # Using lambdas\n",
      "  list(~ mean(., trim = .2), ~ median(., na.rm = TRUE))\n",
      "\u001b[90mThis warning is displayed once every 8 hours.\u001b[39m\n",
      "\u001b[90mCall `lifecycle::last_warnings()` to see where this warning was generated.\u001b[39m\"\n"
     ]
    },
    {
     "data": {
      "text/html": [
       "<table>\n",
       "<caption>A tibble: 24 × 18</caption>\n",
       "<thead>\n",
       "\t<tr><th scope=col>age</th><th scope=col>GP</th><th scope=col>MIN</th><th scope=col>FGM</th><th scope=col>FGA</th><th scope=col>X3PM</th><th scope=col>X3PA</th><th scope=col>FTM</th><th scope=col>FTA</th><th scope=col>TOV</th><th scope=col>PF</th><th scope=col>ORB</th><th scope=col>DRB</th><th scope=col>REB</th><th scope=col>AST</th><th scope=col>STL</th><th scope=col>BLK</th><th scope=col>PTS</th></tr>\n",
       "\t<tr><th scope=col>&lt;dbl&gt;</th><th scope=col>&lt;dbl&gt;</th><th scope=col>&lt;dbl&gt;</th><th scope=col>&lt;dbl&gt;</th><th scope=col>&lt;dbl&gt;</th><th scope=col>&lt;dbl&gt;</th><th scope=col>&lt;dbl&gt;</th><th scope=col>&lt;dbl&gt;</th><th scope=col>&lt;dbl&gt;</th><th scope=col>&lt;dbl&gt;</th><th scope=col>&lt;dbl&gt;</th><th scope=col>&lt;dbl&gt;</th><th scope=col>&lt;dbl&gt;</th><th scope=col>&lt;dbl&gt;</th><th scope=col>&lt;dbl&gt;</th><th scope=col>&lt;dbl&gt;</th><th scope=col>&lt;dbl&gt;</th><th scope=col>&lt;dbl&gt;</th></tr>\n",
       "</thead>\n",
       "<tbody>\n",
       "\t<tr><td>20</td><td>72.0</td><td>1754.9</td><td>268.0</td><td>612.4</td><td> 48.2</td><td>145.7</td><td>131.8</td><td>182.7</td><td>110.3</td><td>154.4</td><td>83.8</td><td>222.8</td><td>306.7</td><td>125.5</td><td>49.1</td><td>45.8</td><td>716.1</td></tr>\n",
       "\t<tr><td>21</td><td>74.0</td><td>1878.3</td><td>297.5</td><td>656.6</td><td> 47.2</td><td>139.8</td><td>149.0</td><td>204.9</td><td>119.6</td><td>169.8</td><td>98.2</td><td>249.9</td><td>348.1</td><td>156.2</td><td>61.4</td><td>47.2</td><td>791.2</td></tr>\n",
       "\t<tr><td>22</td><td>72.7</td><td>1851.7</td><td>302.4</td><td>657.8</td><td> 48.0</td><td>139.3</td><td>150.4</td><td>202.9</td><td>114.9</td><td>166.3</td><td>95.4</td><td>247.6</td><td>342.9</td><td>160.2</td><td>59.0</td><td>43.4</td><td>803.3</td></tr>\n",
       "\t<tr><td>23</td><td>73.4</td><td>1932.2</td><td>317.6</td><td>691.9</td><td> 51.5</td><td>148.5</td><td>159.3</td><td>213.4</td><td>119.6</td><td>166.9</td><td>95.7</td><td>259.2</td><td>354.9</td><td>181.0</td><td>64.0</td><td>41.7</td><td>846.0</td></tr>\n",
       "\t<tr><td>24</td><td>73.9</td><td>1925.3</td><td>316.6</td><td>686.1</td><td> 54.8</td><td>154.6</td><td>156.7</td><td>208.7</td><td>114.4</td><td>166.6</td><td>92.8</td><td>250.9</td><td>343.7</td><td>174.3</td><td>63.3</td><td>40.5</td><td>844.7</td></tr>\n",
       "\t<tr><td>25</td><td>73.3</td><td>1966.4</td><td>325.8</td><td>706.5</td><td> 59.6</td><td>166.4</td><td>164.1</td><td>215.9</td><td>115.0</td><td>166.5</td><td>94.5</td><td>258.7</td><td>353.2</td><td>175.4</td><td>63.4</td><td>41.3</td><td>875.3</td></tr>\n",
       "\t<tr><td>26</td><td>73.3</td><td>1980.5</td><td>326.1</td><td>707.9</td><td> 61.4</td><td>169.6</td><td>168.3</td><td>219.2</td><td>114.9</td><td>164.8</td><td>94.5</td><td>263.6</td><td>358.1</td><td>180.8</td><td>64.1</td><td>40.6</td><td>882.1</td></tr>\n",
       "\t<tr><td>27</td><td>72.8</td><td>1987.1</td><td>325.2</td><td>706.7</td><td> 63.0</td><td>172.5</td><td>160.5</td><td>208.2</td><td>113.1</td><td>164.1</td><td>90.6</td><td>259.8</td><td>350.4</td><td>184.2</td><td>63.2</td><td>40.3</td><td>873.8</td></tr>\n",
       "\t<tr><td>28</td><td>73.9</td><td>2024.6</td><td>334.4</td><td>728.1</td><td> 65.2</td><td>179.2</td><td>168.5</td><td>218.5</td><td>117.1</td><td>166.3</td><td>90.2</td><td>262.2</td><td>352.4</td><td>193.9</td><td>63.2</td><td>40.4</td><td>902.5</td></tr>\n",
       "\t<tr><td>29</td><td>73.2</td><td>2024.8</td><td>328.3</td><td>715.7</td><td> 70.8</td><td>192.6</td><td>163.5</td><td>211.0</td><td>116.4</td><td>165.8</td><td>89.2</td><td>270.0</td><td>359.2</td><td>198.8</td><td>63.4</td><td>37.4</td><td>890.9</td></tr>\n",
       "\t<tr><td>30</td><td>72.8</td><td>1978.7</td><td>313.7</td><td>686.0</td><td> 67.5</td><td>183.6</td><td>151.3</td><td>195.5</td><td>112.0</td><td>164.3</td><td>85.1</td><td>258.3</td><td>343.4</td><td>187.4</td><td>62.3</td><td>37.5</td><td>846.1</td></tr>\n",
       "\t<tr><td>31</td><td>73.5</td><td>2006.6</td><td>311.3</td><td>680.4</td><td> 68.8</td><td>184.8</td><td>149.3</td><td>191.4</td><td>108.9</td><td>165.6</td><td>84.8</td><td>255.7</td><td>340.6</td><td>191.7</td><td>61.9</td><td>39.9</td><td>840.6</td></tr>\n",
       "\t<tr><td>32</td><td>71.5</td><td>1922.2</td><td>294.8</td><td>644.6</td><td> 62.6</td><td>168.8</td><td>136.9</td><td>177.4</td><td>104.9</td><td>157.1</td><td>80.3</td><td>244.8</td><td>325.2</td><td>187.8</td><td>60.0</td><td>34.1</td><td>789.1</td></tr>\n",
       "\t<tr><td>33</td><td>74.0</td><td>1969.9</td><td>290.0</td><td>638.5</td><td> 63.5</td><td>171.6</td><td>136.2</td><td>177.0</td><td>102.5</td><td>160.0</td><td>85.3</td><td>258.9</td><td>344.2</td><td>187.5</td><td>60.1</td><td>34.5</td><td>779.6</td></tr>\n",
       "\t<tr><td>34</td><td>73.2</td><td>1937.0</td><td>285.8</td><td>630.4</td><td> 61.9</td><td>169.8</td><td>134.4</td><td>172.4</td><td>103.3</td><td>154.0</td><td>79.4</td><td>264.8</td><td>344.2</td><td>196.6</td><td>58.0</td><td>36.8</td><td>767.9</td></tr>\n",
       "\t<tr><td>35</td><td>71.1</td><td>1805.8</td><td>252.6</td><td>561.9</td><td> 58.8</td><td>159.1</td><td>114.7</td><td>145.3</td><td> 94.9</td><td>143.4</td><td>65.7</td><td>223.2</td><td>288.9</td><td>190.9</td><td>56.3</td><td>30.6</td><td>678.7</td></tr>\n",
       "\t<tr><td>36</td><td>72.6</td><td>1879.9</td><td>265.6</td><td>589.5</td><td> 57.6</td><td>155.9</td><td>120.0</td><td>155.2</td><td> 96.4</td><td>148.4</td><td>77.9</td><td>254.4</td><td>332.3</td><td>185.4</td><td>55.6</td><td>41.6</td><td>708.8</td></tr>\n",
       "\t<tr><td>37</td><td>72.7</td><td>1792.7</td><td>255.7</td><td>552.3</td><td> 48.8</td><td>128.3</td><td>125.2</td><td>161.1</td><td> 98.3</td><td>146.4</td><td>71.3</td><td>237.9</td><td>309.1</td><td>184.1</td><td>50.7</td><td>34.9</td><td>685.3</td></tr>\n",
       "\t<tr><td>38</td><td>73.4</td><td>1702.8</td><td>226.8</td><td>516.1</td><td> 48.5</td><td>135.7</td><td>114.5</td><td>144.6</td><td> 96.6</td><td>136.7</td><td>63.8</td><td>229.3</td><td>293.2</td><td>183.3</td><td>53.0</td><td>34.1</td><td>616.6</td></tr>\n",
       "\t<tr><td>39</td><td>74.5</td><td>1651.5</td><td>233.7</td><td>522.2</td><td> 47.1</td><td>127.1</td><td>126.1</td><td>159.6</td><td> 96.4</td><td>135.9</td><td>62.6</td><td>214.2</td><td>276.8</td><td>184.9</td><td>55.0</td><td>35.1</td><td>640.7</td></tr>\n",
       "\t<tr><td>40</td><td>76.5</td><td>2030.0</td><td>301.5</td><td>683.9</td><td> 74.0</td><td>200.5</td><td>155.2</td><td>190.1</td><td> 98.8</td><td>154.8</td><td>43.5</td><td>245.9</td><td>289.4</td><td>227.2</td><td>84.6</td><td>25.8</td><td>832.1</td></tr>\n",
       "\t<tr><td>41</td><td>70.2</td><td>1345.9</td><td>166.4</td><td>359.2</td><td> 30.0</td><td> 87.8</td><td> 97.2</td><td>125.0</td><td> 84.2</td><td>136.2</td><td>67.0</td><td>174.0</td><td>241.0</td><td>179.6</td><td>52.8</td><td>30.8</td><td>460.0</td></tr>\n",
       "\t<tr><td>42</td><td>76.0</td><td>1330.3</td><td>196.0</td><td>468.0</td><td>123.0</td><td>316.0</td><td> 47.0</td><td> 66.0</td><td> 48.0</td><td>141.0</td><td>31.0</td><td>163.0</td><td>194.0</td><td> 87.0</td><td>44.0</td><td>27.0</td><td>562.0</td></tr>\n",
       "\t<tr><td>43</td><td>60.0</td><td> 875.5</td><td>107.0</td><td>304.0</td><td> 61.0</td><td>202.0</td><td> 23.0</td><td> 29.0</td><td> 33.0</td><td> 90.0</td><td>18.0</td><td>106.0</td><td>124.0</td><td> 48.0</td><td>23.0</td><td>25.0</td><td>298.0</td></tr>\n",
       "</tbody>\n",
       "</table>\n"
      ],
      "text/latex": [
       "A tibble: 24 × 18\n",
       "\\begin{tabular}{llllllllllllllllll}\n",
       " age & GP & MIN & FGM & FGA & X3PM & X3PA & FTM & FTA & TOV & PF & ORB & DRB & REB & AST & STL & BLK & PTS\\\\\n",
       " <dbl> & <dbl> & <dbl> & <dbl> & <dbl> & <dbl> & <dbl> & <dbl> & <dbl> & <dbl> & <dbl> & <dbl> & <dbl> & <dbl> & <dbl> & <dbl> & <dbl> & <dbl>\\\\\n",
       "\\hline\n",
       "\t 20 & 72.0 & 1754.9 & 268.0 & 612.4 &  48.2 & 145.7 & 131.8 & 182.7 & 110.3 & 154.4 & 83.8 & 222.8 & 306.7 & 125.5 & 49.1 & 45.8 & 716.1\\\\\n",
       "\t 21 & 74.0 & 1878.3 & 297.5 & 656.6 &  47.2 & 139.8 & 149.0 & 204.9 & 119.6 & 169.8 & 98.2 & 249.9 & 348.1 & 156.2 & 61.4 & 47.2 & 791.2\\\\\n",
       "\t 22 & 72.7 & 1851.7 & 302.4 & 657.8 &  48.0 & 139.3 & 150.4 & 202.9 & 114.9 & 166.3 & 95.4 & 247.6 & 342.9 & 160.2 & 59.0 & 43.4 & 803.3\\\\\n",
       "\t 23 & 73.4 & 1932.2 & 317.6 & 691.9 &  51.5 & 148.5 & 159.3 & 213.4 & 119.6 & 166.9 & 95.7 & 259.2 & 354.9 & 181.0 & 64.0 & 41.7 & 846.0\\\\\n",
       "\t 24 & 73.9 & 1925.3 & 316.6 & 686.1 &  54.8 & 154.6 & 156.7 & 208.7 & 114.4 & 166.6 & 92.8 & 250.9 & 343.7 & 174.3 & 63.3 & 40.5 & 844.7\\\\\n",
       "\t 25 & 73.3 & 1966.4 & 325.8 & 706.5 &  59.6 & 166.4 & 164.1 & 215.9 & 115.0 & 166.5 & 94.5 & 258.7 & 353.2 & 175.4 & 63.4 & 41.3 & 875.3\\\\\n",
       "\t 26 & 73.3 & 1980.5 & 326.1 & 707.9 &  61.4 & 169.6 & 168.3 & 219.2 & 114.9 & 164.8 & 94.5 & 263.6 & 358.1 & 180.8 & 64.1 & 40.6 & 882.1\\\\\n",
       "\t 27 & 72.8 & 1987.1 & 325.2 & 706.7 &  63.0 & 172.5 & 160.5 & 208.2 & 113.1 & 164.1 & 90.6 & 259.8 & 350.4 & 184.2 & 63.2 & 40.3 & 873.8\\\\\n",
       "\t 28 & 73.9 & 2024.6 & 334.4 & 728.1 &  65.2 & 179.2 & 168.5 & 218.5 & 117.1 & 166.3 & 90.2 & 262.2 & 352.4 & 193.9 & 63.2 & 40.4 & 902.5\\\\\n",
       "\t 29 & 73.2 & 2024.8 & 328.3 & 715.7 &  70.8 & 192.6 & 163.5 & 211.0 & 116.4 & 165.8 & 89.2 & 270.0 & 359.2 & 198.8 & 63.4 & 37.4 & 890.9\\\\\n",
       "\t 30 & 72.8 & 1978.7 & 313.7 & 686.0 &  67.5 & 183.6 & 151.3 & 195.5 & 112.0 & 164.3 & 85.1 & 258.3 & 343.4 & 187.4 & 62.3 & 37.5 & 846.1\\\\\n",
       "\t 31 & 73.5 & 2006.6 & 311.3 & 680.4 &  68.8 & 184.8 & 149.3 & 191.4 & 108.9 & 165.6 & 84.8 & 255.7 & 340.6 & 191.7 & 61.9 & 39.9 & 840.6\\\\\n",
       "\t 32 & 71.5 & 1922.2 & 294.8 & 644.6 &  62.6 & 168.8 & 136.9 & 177.4 & 104.9 & 157.1 & 80.3 & 244.8 & 325.2 & 187.8 & 60.0 & 34.1 & 789.1\\\\\n",
       "\t 33 & 74.0 & 1969.9 & 290.0 & 638.5 &  63.5 & 171.6 & 136.2 & 177.0 & 102.5 & 160.0 & 85.3 & 258.9 & 344.2 & 187.5 & 60.1 & 34.5 & 779.6\\\\\n",
       "\t 34 & 73.2 & 1937.0 & 285.8 & 630.4 &  61.9 & 169.8 & 134.4 & 172.4 & 103.3 & 154.0 & 79.4 & 264.8 & 344.2 & 196.6 & 58.0 & 36.8 & 767.9\\\\\n",
       "\t 35 & 71.1 & 1805.8 & 252.6 & 561.9 &  58.8 & 159.1 & 114.7 & 145.3 &  94.9 & 143.4 & 65.7 & 223.2 & 288.9 & 190.9 & 56.3 & 30.6 & 678.7\\\\\n",
       "\t 36 & 72.6 & 1879.9 & 265.6 & 589.5 &  57.6 & 155.9 & 120.0 & 155.2 &  96.4 & 148.4 & 77.9 & 254.4 & 332.3 & 185.4 & 55.6 & 41.6 & 708.8\\\\\n",
       "\t 37 & 72.7 & 1792.7 & 255.7 & 552.3 &  48.8 & 128.3 & 125.2 & 161.1 &  98.3 & 146.4 & 71.3 & 237.9 & 309.1 & 184.1 & 50.7 & 34.9 & 685.3\\\\\n",
       "\t 38 & 73.4 & 1702.8 & 226.8 & 516.1 &  48.5 & 135.7 & 114.5 & 144.6 &  96.6 & 136.7 & 63.8 & 229.3 & 293.2 & 183.3 & 53.0 & 34.1 & 616.6\\\\\n",
       "\t 39 & 74.5 & 1651.5 & 233.7 & 522.2 &  47.1 & 127.1 & 126.1 & 159.6 &  96.4 & 135.9 & 62.6 & 214.2 & 276.8 & 184.9 & 55.0 & 35.1 & 640.7\\\\\n",
       "\t 40 & 76.5 & 2030.0 & 301.5 & 683.9 &  74.0 & 200.5 & 155.2 & 190.1 &  98.8 & 154.8 & 43.5 & 245.9 & 289.4 & 227.2 & 84.6 & 25.8 & 832.1\\\\\n",
       "\t 41 & 70.2 & 1345.9 & 166.4 & 359.2 &  30.0 &  87.8 &  97.2 & 125.0 &  84.2 & 136.2 & 67.0 & 174.0 & 241.0 & 179.6 & 52.8 & 30.8 & 460.0\\\\\n",
       "\t 42 & 76.0 & 1330.3 & 196.0 & 468.0 & 123.0 & 316.0 &  47.0 &  66.0 &  48.0 & 141.0 & 31.0 & 163.0 & 194.0 &  87.0 & 44.0 & 27.0 & 562.0\\\\\n",
       "\t 43 & 60.0 &  875.5 & 107.0 & 304.0 &  61.0 & 202.0 &  23.0 &  29.0 &  33.0 &  90.0 & 18.0 & 106.0 & 124.0 &  48.0 & 23.0 & 25.0 & 298.0\\\\\n",
       "\\end{tabular}\n"
      ],
      "text/markdown": [
       "\n",
       "A tibble: 24 × 18\n",
       "\n",
       "| age &lt;dbl&gt; | GP &lt;dbl&gt; | MIN &lt;dbl&gt; | FGM &lt;dbl&gt; | FGA &lt;dbl&gt; | X3PM &lt;dbl&gt; | X3PA &lt;dbl&gt; | FTM &lt;dbl&gt; | FTA &lt;dbl&gt; | TOV &lt;dbl&gt; | PF &lt;dbl&gt; | ORB &lt;dbl&gt; | DRB &lt;dbl&gt; | REB &lt;dbl&gt; | AST &lt;dbl&gt; | STL &lt;dbl&gt; | BLK &lt;dbl&gt; | PTS &lt;dbl&gt; |\n",
       "|---|---|---|---|---|---|---|---|---|---|---|---|---|---|---|---|---|---|\n",
       "| 20 | 72.0 | 1754.9 | 268.0 | 612.4 |  48.2 | 145.7 | 131.8 | 182.7 | 110.3 | 154.4 | 83.8 | 222.8 | 306.7 | 125.5 | 49.1 | 45.8 | 716.1 |\n",
       "| 21 | 74.0 | 1878.3 | 297.5 | 656.6 |  47.2 | 139.8 | 149.0 | 204.9 | 119.6 | 169.8 | 98.2 | 249.9 | 348.1 | 156.2 | 61.4 | 47.2 | 791.2 |\n",
       "| 22 | 72.7 | 1851.7 | 302.4 | 657.8 |  48.0 | 139.3 | 150.4 | 202.9 | 114.9 | 166.3 | 95.4 | 247.6 | 342.9 | 160.2 | 59.0 | 43.4 | 803.3 |\n",
       "| 23 | 73.4 | 1932.2 | 317.6 | 691.9 |  51.5 | 148.5 | 159.3 | 213.4 | 119.6 | 166.9 | 95.7 | 259.2 | 354.9 | 181.0 | 64.0 | 41.7 | 846.0 |\n",
       "| 24 | 73.9 | 1925.3 | 316.6 | 686.1 |  54.8 | 154.6 | 156.7 | 208.7 | 114.4 | 166.6 | 92.8 | 250.9 | 343.7 | 174.3 | 63.3 | 40.5 | 844.7 |\n",
       "| 25 | 73.3 | 1966.4 | 325.8 | 706.5 |  59.6 | 166.4 | 164.1 | 215.9 | 115.0 | 166.5 | 94.5 | 258.7 | 353.2 | 175.4 | 63.4 | 41.3 | 875.3 |\n",
       "| 26 | 73.3 | 1980.5 | 326.1 | 707.9 |  61.4 | 169.6 | 168.3 | 219.2 | 114.9 | 164.8 | 94.5 | 263.6 | 358.1 | 180.8 | 64.1 | 40.6 | 882.1 |\n",
       "| 27 | 72.8 | 1987.1 | 325.2 | 706.7 |  63.0 | 172.5 | 160.5 | 208.2 | 113.1 | 164.1 | 90.6 | 259.8 | 350.4 | 184.2 | 63.2 | 40.3 | 873.8 |\n",
       "| 28 | 73.9 | 2024.6 | 334.4 | 728.1 |  65.2 | 179.2 | 168.5 | 218.5 | 117.1 | 166.3 | 90.2 | 262.2 | 352.4 | 193.9 | 63.2 | 40.4 | 902.5 |\n",
       "| 29 | 73.2 | 2024.8 | 328.3 | 715.7 |  70.8 | 192.6 | 163.5 | 211.0 | 116.4 | 165.8 | 89.2 | 270.0 | 359.2 | 198.8 | 63.4 | 37.4 | 890.9 |\n",
       "| 30 | 72.8 | 1978.7 | 313.7 | 686.0 |  67.5 | 183.6 | 151.3 | 195.5 | 112.0 | 164.3 | 85.1 | 258.3 | 343.4 | 187.4 | 62.3 | 37.5 | 846.1 |\n",
       "| 31 | 73.5 | 2006.6 | 311.3 | 680.4 |  68.8 | 184.8 | 149.3 | 191.4 | 108.9 | 165.6 | 84.8 | 255.7 | 340.6 | 191.7 | 61.9 | 39.9 | 840.6 |\n",
       "| 32 | 71.5 | 1922.2 | 294.8 | 644.6 |  62.6 | 168.8 | 136.9 | 177.4 | 104.9 | 157.1 | 80.3 | 244.8 | 325.2 | 187.8 | 60.0 | 34.1 | 789.1 |\n",
       "| 33 | 74.0 | 1969.9 | 290.0 | 638.5 |  63.5 | 171.6 | 136.2 | 177.0 | 102.5 | 160.0 | 85.3 | 258.9 | 344.2 | 187.5 | 60.1 | 34.5 | 779.6 |\n",
       "| 34 | 73.2 | 1937.0 | 285.8 | 630.4 |  61.9 | 169.8 | 134.4 | 172.4 | 103.3 | 154.0 | 79.4 | 264.8 | 344.2 | 196.6 | 58.0 | 36.8 | 767.9 |\n",
       "| 35 | 71.1 | 1805.8 | 252.6 | 561.9 |  58.8 | 159.1 | 114.7 | 145.3 |  94.9 | 143.4 | 65.7 | 223.2 | 288.9 | 190.9 | 56.3 | 30.6 | 678.7 |\n",
       "| 36 | 72.6 | 1879.9 | 265.6 | 589.5 |  57.6 | 155.9 | 120.0 | 155.2 |  96.4 | 148.4 | 77.9 | 254.4 | 332.3 | 185.4 | 55.6 | 41.6 | 708.8 |\n",
       "| 37 | 72.7 | 1792.7 | 255.7 | 552.3 |  48.8 | 128.3 | 125.2 | 161.1 |  98.3 | 146.4 | 71.3 | 237.9 | 309.1 | 184.1 | 50.7 | 34.9 | 685.3 |\n",
       "| 38 | 73.4 | 1702.8 | 226.8 | 516.1 |  48.5 | 135.7 | 114.5 | 144.6 |  96.6 | 136.7 | 63.8 | 229.3 | 293.2 | 183.3 | 53.0 | 34.1 | 616.6 |\n",
       "| 39 | 74.5 | 1651.5 | 233.7 | 522.2 |  47.1 | 127.1 | 126.1 | 159.6 |  96.4 | 135.9 | 62.6 | 214.2 | 276.8 | 184.9 | 55.0 | 35.1 | 640.7 |\n",
       "| 40 | 76.5 | 2030.0 | 301.5 | 683.9 |  74.0 | 200.5 | 155.2 | 190.1 |  98.8 | 154.8 | 43.5 | 245.9 | 289.4 | 227.2 | 84.6 | 25.8 | 832.1 |\n",
       "| 41 | 70.2 | 1345.9 | 166.4 | 359.2 |  30.0 |  87.8 |  97.2 | 125.0 |  84.2 | 136.2 | 67.0 | 174.0 | 241.0 | 179.6 | 52.8 | 30.8 | 460.0 |\n",
       "| 42 | 76.0 | 1330.3 | 196.0 | 468.0 | 123.0 | 316.0 |  47.0 |  66.0 |  48.0 | 141.0 | 31.0 | 163.0 | 194.0 |  87.0 | 44.0 | 27.0 | 562.0 |\n",
       "| 43 | 60.0 |  875.5 | 107.0 | 304.0 |  61.0 | 202.0 |  23.0 |  29.0 |  33.0 |  90.0 | 18.0 | 106.0 | 124.0 |  48.0 | 23.0 | 25.0 | 298.0 |\n",
       "\n"
      ],
      "text/plain": [
       "   age GP   MIN    FGM   FGA   X3PM  X3PA  FTM   FTA   TOV   PF    ORB  DRB  \n",
       "1  20  72.0 1754.9 268.0 612.4  48.2 145.7 131.8 182.7 110.3 154.4 83.8 222.8\n",
       "2  21  74.0 1878.3 297.5 656.6  47.2 139.8 149.0 204.9 119.6 169.8 98.2 249.9\n",
       "3  22  72.7 1851.7 302.4 657.8  48.0 139.3 150.4 202.9 114.9 166.3 95.4 247.6\n",
       "4  23  73.4 1932.2 317.6 691.9  51.5 148.5 159.3 213.4 119.6 166.9 95.7 259.2\n",
       "5  24  73.9 1925.3 316.6 686.1  54.8 154.6 156.7 208.7 114.4 166.6 92.8 250.9\n",
       "6  25  73.3 1966.4 325.8 706.5  59.6 166.4 164.1 215.9 115.0 166.5 94.5 258.7\n",
       "7  26  73.3 1980.5 326.1 707.9  61.4 169.6 168.3 219.2 114.9 164.8 94.5 263.6\n",
       "8  27  72.8 1987.1 325.2 706.7  63.0 172.5 160.5 208.2 113.1 164.1 90.6 259.8\n",
       "9  28  73.9 2024.6 334.4 728.1  65.2 179.2 168.5 218.5 117.1 166.3 90.2 262.2\n",
       "10 29  73.2 2024.8 328.3 715.7  70.8 192.6 163.5 211.0 116.4 165.8 89.2 270.0\n",
       "11 30  72.8 1978.7 313.7 686.0  67.5 183.6 151.3 195.5 112.0 164.3 85.1 258.3\n",
       "12 31  73.5 2006.6 311.3 680.4  68.8 184.8 149.3 191.4 108.9 165.6 84.8 255.7\n",
       "13 32  71.5 1922.2 294.8 644.6  62.6 168.8 136.9 177.4 104.9 157.1 80.3 244.8\n",
       "14 33  74.0 1969.9 290.0 638.5  63.5 171.6 136.2 177.0 102.5 160.0 85.3 258.9\n",
       "15 34  73.2 1937.0 285.8 630.4  61.9 169.8 134.4 172.4 103.3 154.0 79.4 264.8\n",
       "16 35  71.1 1805.8 252.6 561.9  58.8 159.1 114.7 145.3  94.9 143.4 65.7 223.2\n",
       "17 36  72.6 1879.9 265.6 589.5  57.6 155.9 120.0 155.2  96.4 148.4 77.9 254.4\n",
       "18 37  72.7 1792.7 255.7 552.3  48.8 128.3 125.2 161.1  98.3 146.4 71.3 237.9\n",
       "19 38  73.4 1702.8 226.8 516.1  48.5 135.7 114.5 144.6  96.6 136.7 63.8 229.3\n",
       "20 39  74.5 1651.5 233.7 522.2  47.1 127.1 126.1 159.6  96.4 135.9 62.6 214.2\n",
       "21 40  76.5 2030.0 301.5 683.9  74.0 200.5 155.2 190.1  98.8 154.8 43.5 245.9\n",
       "22 41  70.2 1345.9 166.4 359.2  30.0  87.8  97.2 125.0  84.2 136.2 67.0 174.0\n",
       "23 42  76.0 1330.3 196.0 468.0 123.0 316.0  47.0  66.0  48.0 141.0 31.0 163.0\n",
       "24 43  60.0  875.5 107.0 304.0  61.0 202.0  23.0  29.0  33.0  90.0 18.0 106.0\n",
       "   REB   AST   STL  BLK  PTS  \n",
       "1  306.7 125.5 49.1 45.8 716.1\n",
       "2  348.1 156.2 61.4 47.2 791.2\n",
       "3  342.9 160.2 59.0 43.4 803.3\n",
       "4  354.9 181.0 64.0 41.7 846.0\n",
       "5  343.7 174.3 63.3 40.5 844.7\n",
       "6  353.2 175.4 63.4 41.3 875.3\n",
       "7  358.1 180.8 64.1 40.6 882.1\n",
       "8  350.4 184.2 63.2 40.3 873.8\n",
       "9  352.4 193.9 63.2 40.4 902.5\n",
       "10 359.2 198.8 63.4 37.4 890.9\n",
       "11 343.4 187.4 62.3 37.5 846.1\n",
       "12 340.6 191.7 61.9 39.9 840.6\n",
       "13 325.2 187.8 60.0 34.1 789.1\n",
       "14 344.2 187.5 60.1 34.5 779.6\n",
       "15 344.2 196.6 58.0 36.8 767.9\n",
       "16 288.9 190.9 56.3 30.6 678.7\n",
       "17 332.3 185.4 55.6 41.6 708.8\n",
       "18 309.1 184.1 50.7 34.9 685.3\n",
       "19 293.2 183.3 53.0 34.1 616.6\n",
       "20 276.8 184.9 55.0 35.1 640.7\n",
       "21 289.4 227.2 84.6 25.8 832.1\n",
       "22 241.0 179.6 52.8 30.8 460.0\n",
       "23 194.0  87.0 44.0 27.0 562.0\n",
       "24 124.0  48.0 23.0 25.0 298.0"
      ]
     },
     "metadata": {},
     "output_type": "display_data"
    }
   ],
   "source": [
    "NBA_grouped_age <- subset(NBA_data,select=c(GP:age)) %>% group_by(age) %>% summarize(across(everything(), mean)) %>% mutate_at(vars(-age), funs(round(., 1)))\n",
    "NBA_grouped_age"
   ]
  },
  {
   "cell_type": "code",
   "execution_count": 93,
   "metadata": {},
   "outputs": [
    {
     "data": {
      "image/png": "[encoded data removed]",
      "text/plain": [
       "plot without title"
      ]
     },
     "metadata": {
      "image/png": {
       "height": 420,
       "width": 420
      }
     },
     "output_type": "display_data"
    }
   ],
   "source": [
    "ggplot(NBA_grouped_age) + aes(x = age, y = GP) + geom_point()"
   ]
  },
  {
   "cell_type": "code",
   "execution_count": null,
   "metadata": {},
   "outputs": [],
   "source": []
  },
  {
   "cell_type": "code",
   "execution_count": null,
   "metadata": {},
   "outputs": [],
   "source": [
    "839+1074"
   ]
  },
  {
   "cell_type": "code",
   "execution_count": null,
   "metadata": {},
   "outputs": [],
   "source": []
  }
 ],
 "metadata": {
  "kernelspec": {
   "display_name": "R",
   "language": "R",
   "name": "ir"
  },
  "language_info": {
   "codemirror_mode": "r",
   "file_extension": ".r",
   "mimetype": "text/x-r-source",
   "name": "R",
   "pygments_lexer": "r",
   "version": "4.0.2"
  }
 },
 "nbformat": 4,
 "nbformat_minor": 4
}
