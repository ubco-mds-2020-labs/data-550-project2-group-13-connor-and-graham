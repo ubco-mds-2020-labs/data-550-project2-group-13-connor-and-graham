{
 "cells": [
  {
   "cell_type": "markdown",
   "metadata": {},
   "source": [
    "# Data 550 Project 2\n",
    "### Names: Connor Fairbanks, Graham Kerford"
   ]
  },
  {
   "cell_type": "markdown",
   "metadata": {},
   "source": [
    "### Description of the Data\n",
    "\n",
    "The 'basketball players stats per season-49 leagues' dataset was used for this project. It comprises player data for 49 leagues from 1999 to present. The dataset was downlaoded from [kaggle](https://www.kaggle.com/mirichoi0218/insurance/home) in January, 2020a dn is available at: [https://www.kaggle.com/jacobbaruch/basketball-players-stats-per-season-49-leagues](https://www.kaggle.com/jacobbaruch/basketball-players-stats-per-season-49-leagues).\n",
    "\n",
    "\n",
    "This dataset contains characteristics of a sample of medical insurance policy holders from the US population, including their yearly medical costs billed by their health insurance. This dataset is available from the site [kaggle](https://www.kaggle.com/mirichoi0218/insurance/home), where it was stated that this dataset was used in the textbook [\"Machine Learning with R\" by Brett Lantz](https://www.amazon.com/Machine-Learning-R-Brett-Lantz/dp/1782162143). The textbook explained that the U.S. Census Bureau demographic statistics were used to create this simulated dataset. The details (including date, collection method, etc) of the associated Census data was collected was not provided. This dataset was created for educational purposes (to allow students to practice manipulating/analyzing a dataset). The dataset contains the following characteristics for each individual:\n",
    "\n",
    "- `age`: The age of the policy holder (those above 64 years old were excluded as their medical insurance is generally provided by the government).\n",
    "\n",
    "- `sex`: The sex of the policy holder (`male` or `female`).\n",
    "\n",
    "- `bmi`: The body mass index of the policy holder. This is a numerical value that is meant to give an idea of a persons weight in relation to their height. BMI is equal to a person's weight (in kilograms) divided by their height (in meters) squared. BMI values are often interpreted based on the follwing ranges: \n",
    "    - underweight: < 18.5 kg/m$^2$ \n",
    "    - normal weight: 18.5 kg/m$^2$ - 24.9 kg/m$^2$\n",
    "    - overweight: 25 kg/m$^2$ - 29.9 kg/m$^2$\n",
    "    - obese: > 30 kg/m$^2$\n",
    "\n",
    "- `children`: The number of children/dependents covered bt the insurance plan.\n",
    "\n",
    "- `smoker`: A `yes` or `no` answer to the question \"Does the policy holder regularly smoke tobacco?\"\n",
    "\n",
    "- `region`: The geographical region of the policy holder's place of residence in the United States. Possible regions include: `northeast`, `southeast`, `southwest`, `northwest`. \n",
    "\n",
    "- `charges`: The total medical expenses (in USD) of the policy holder billed by the health insurance company for the given year.  "
   ]
  },
  {
   "cell_type": "code",
   "execution_count": null,
   "metadata": {},
   "outputs": [],
   "source": [
    "library(dplyr) \n",
    "library(ggplot2)\n",
    "library(tidyverse)"
   ]
  },
  {
   "cell_type": "code",
   "execution_count": null,
   "metadata": {},
   "outputs": [],
   "source": [
    "basketball_df <- read.csv('players_stats_by_season_full_details.csv')"
   ]
  },
  {
   "cell_type": "code",
   "execution_count": null,
   "metadata": {},
   "outputs": [],
   "source": [
    "names(basketball_df)[1] <- 'League'"
   ]
  },
  {
   "cell_type": "code",
   "execution_count": null,
   "metadata": {},
   "outputs": [],
   "source": [
    "head(basketball_df)"
   ]
  },
  {
   "cell_type": "code",
   "execution_count": null,
   "metadata": {},
   "outputs": [],
   "source": [
    "names <- names(basketball_df)"
   ]
  },
  {
   "cell_type": "code",
   "execution_count": null,
   "metadata": {},
   "outputs": [],
   "source": [
    "NBA_data <- filter(basketball_df, Stage == 'Regular_Season' & League == 'NBA')\n",
    "NBA_data['age'] <- 2020-NBA_data['birth_year']"
   ]
  },
  {
   "cell_type": "code",
   "execution_count": null,
   "metadata": {},
   "outputs": [],
   "source": [
    "NBA_data$age"
   ]
  },
  {
   "cell_type": "code",
   "execution_count": null,
   "metadata": {},
   "outputs": [],
   "source": [
    "#grouped_data <- aggregate(NBA_data, by = NBA_data[-1],FUN = mean)\n",
    "\n",
    "numeric_data <- unlist(lapply(NBA_data, is.numeric))  "
   ]
  },
  {
   "cell_type": "code",
   "execution_count": null,
   "metadata": {},
   "outputs": [],
   "source": [
    "grouped_data[with(grouped_data, order(age)),]"
   ]
  },
  {
   "cell_type": "code",
   "execution_count": null,
   "metadata": {},
   "outputs": [],
   "source": [
    "ggplot(grouped_data) + aes(x = age, y = GP) + geom_point()"
   ]
  },
  {
   "cell_type": "code",
   "execution_count": null,
   "metadata": {},
   "outputs": [],
   "source": [
    "options(repr.plot.width=14, repr.plot.height=12)\n",
    "numeric_data[-c(1)] %>% \n",
    "    select_if(is.numeric) %>%\n",
    "   # pivot_longer(everything()) %>%\n",
    "    ggplot(aes(x = age)) +  \n",
    "    geom_line(alpha=0.5, y ='age') #+\n",
    "    #facet_wrap(~name, scales=\"free\", ncol=2, labeller = labeller(name=names)) +\n",
    "    #labs(x= \"age\", y='Frequency', title= \"NBA player stats vs. age\") +\n",
    "   # theme(axis.title= element_text(size=16),\n",
    "      #   axis.text= element_text(size=12), plot.title= element_text(size=20),\n",
    "       #  plot.subtitle= element_text(size=14), axis.text.x= element_text(size=10),\n",
    "      #   strip.text.x = element_text(size=12))"
   ]
  },
  {
   "cell_type": "code",
   "execution_count": null,
   "metadata": {},
   "outputs": [],
   "source": []
  },
  {
   "cell_type": "code",
   "execution_count": null,
   "metadata": {},
   "outputs": [],
   "source": []
  }
 ],
 "metadata": {
  "kernelspec": {
   "display_name": "R",
   "language": "R",
   "name": "ir"
  },
  "language_info": {
   "codemirror_mode": "r",
   "file_extension": ".r",
   "mimetype": "text/x-r-source",
   "name": "R",
   "pygments_lexer": "r",
   "version": "4.0.2"
  }
 },
 "nbformat": 4,
 "nbformat_minor": 4
}
