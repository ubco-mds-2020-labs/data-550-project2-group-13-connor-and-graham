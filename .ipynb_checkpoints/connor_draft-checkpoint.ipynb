{
 "cells": [
  {
   "cell_type": "markdown",
   "metadata": {},
   "source": [
    "# Data 550 Project 2\n",
    "### Names: Connor Fairbanks, Graham Kerford"
   ]
  },
  {
   "cell_type": "markdown",
   "metadata": {},
   "source": [
    "### Description of the Data\n",
    "\n",
    "The 'basketball players stats per season-49 leagues' dataset was used for this project. It comprises player data for 49 leagues from the year 1999 to present for each season. The dataset was downlaoded from [kaggle](https://www.kaggle.com/mirichoi0218/insurance/home) in January, 2020 and is available at: [https://www.kaggle.com/jacobbaruch/basketball-players-stats-per-season-49-leagues](https://www.kaggle.com/jacobbaruch/basketball-players-stats-per-season-49-leagues). In total ~11 thousand player's data was collected in 49 leagues. Due to the large amount of data available, the dataset used for this project was limited to players who played in more than 60 out of the possible 82 regular season games in only one league (the NBA). We omitted statistics from playoff games for this analysis. If a player played in more than 60 games in a season, it means they had close to a full season and did not miss an inordinate amount of games due to injury. The dataset contains the following characteristics for each player:\n",
    "\n",
    "- `League`: The league that the players played in for the specified season, limited to the NBA for this analysis.\n",
    "\n",
    "- `Season`: Date of the NBA season (by year).\n",
    "\n",
    "- `Stage`: The period in the season during which the data was taken.\n",
    "\n",
    "- `Player`: The name of the player.\n",
    "\n",
    "- `Team`: The team the player played for during the season.\n",
    "\n",
    "- `GP`: Games played during the season. \n",
    "\n",
    "- `MIN`: Minutes played.\n",
    "\n",
    "- `FGM`: Field goals made.\n",
    "\n",
    "- `FGA`: Field goals attempts.\n",
    "\n",
    "- `3PM`: 3 pointers made.\n",
    "\n",
    "- `3PA`: 3 point attempts.\n",
    "\n",
    "- `FTM`: Free throws made.\n",
    "\n",
    "- `FTA`: Free throws attempts.\n",
    "\n",
    "- `TOV`: Turnovers\n",
    "\n",
    "- `PF`: Personal fouls\n",
    "\n",
    "- `ORB`: Offensive rebounds\n",
    "\n",
    "- `DRB`: Defensive rebounds\n",
    "\n",
    "- `REB`: Total rebounds\n",
    "\n",
    "- `AST`: Assists\n",
    "\n",
    "- `STL`: Steals\n",
    "\n",
    "- `BLK`: Blocks\n",
    "\n",
    "- `PTS`: Points\n",
    "\n",
    "- `Birth_year`: Year of birth\n",
    "\n",
    "- `Birth_month`: Month of birth\n",
    "\n",
    "- `Birth_date`: Birthdate\n",
    "\n",
    "- `height`: (feet - inches)\n",
    "\n",
    "- `height`: (cm)\n",
    "\n",
    "- `weight`: Weight in pounds\n",
    "\n",
    "- `weight_kg`: Weight in kilograms\n",
    "\n",
    "- `nationality`: Nationality of the player at birth\n",
    "\n",
    "- `high_school`: High school attended\n",
    "\n",
    "- `draft_round`: Draft hound\n",
    "\n",
    "- `draft_pick`: Draft pick\n",
    "\n",
    "- `draft_team`: Team drafted to"
   ]
  },
  {
   "cell_type": "code",
   "execution_count": 262,
   "metadata": {},
   "outputs": [
    {
     "name": "stderr",
     "output_type": "stream",
     "text": [
      "Warning message:\n",
      "\"package 'ggrepel' was built under R version 4.0.3\"\n"
     ]
    }
   ],
   "source": [
    "# Load necessary libraries\n",
    "library(dplyr) \n",
    "library(ggplot2)\n",
    "library(tibble)\n",
    "library(tidyverse)\n",
    "library(plotly)\n",
    "library(gapminder)\n",
    "library(GGally)\n",
    "library(ggrepel)\n",
    "\n",
    "# Set global theme\n",
    "my_theme <- theme_bw() +\n",
    "  theme(\n",
    "    text = element_text(size = 12),\n",
    "    panel.border = element_rect(colour = 'grey80'), \n",
    "    panel.grid.minor = element_blank(), \n",
    "    axis.title.x = element_text(margin = margin(t=10)),\n",
    "    axis.title.y = element_text(margin = margin(r=10))\n",
    "  )\n",
    "theme_set(my_theme)"
   ]
  },
  {
   "cell_type": "markdown",
   "metadata": {},
   "source": [
    "### Read in the data: "
   ]
  },
  {
   "cell_type": "code",
   "execution_count": 69,
   "metadata": {},
   "outputs": [
    {
     "data": {
      "text/html": [
       "<pre class=language-r><code>function (file, header = TRUE, sep = \",\", quote = \"\\\"\", dec = \".\", \n",
       "<span style=white-space:pre-wrap>    fill = TRUE, comment.char = \"\", ...) </span>\n",
       "read.table(file = file, header = header, sep = sep, quote = quote, \n",
       "<span style=white-space:pre-wrap>    dec = dec, fill = fill, comment.char = comment.char, ...)</span></code></pre>"
      ],
      "text/latex": [
       "\\begin{minted}{r}\n",
       "function (file, header = TRUE, sep = \",\", quote = \"\\textbackslash{}\"\", dec = \".\", \n",
       "    fill = TRUE, comment.char = \"\", ...) \n",
       "read.table(file = file, header = header, sep = sep, quote = quote, \n",
       "    dec = dec, fill = fill, comment.char = comment.char, ...)\n",
       "\\end{minted}"
      ],
      "text/markdown": [
       "```r\n",
       "function (file, header = TRUE, sep = \",\", quote = \"\\\"\", dec = \".\", \n",
       "    fill = TRUE, comment.char = \"\", ...) \n",
       "read.table(file = file, header = header, sep = sep, quote = quote, \n",
       "    dec = dec, fill = fill, comment.char = comment.char, ...)\n",
       "```"
      ],
      "text/plain": [
       "function (file, header = TRUE, sep = \",\", quote = \"\\\"\", dec = \".\", \n",
       "    fill = TRUE, comment.char = \"\", ...) \n",
       "read.table(file = file, header = header, sep = sep, quote = quote, \n",
       "    dec = dec, fill = fill, comment.char = comment.char, ...)\n",
       "<bytecode: 0x0000000013c5a528>\n",
       "<environment: namespace:utils>"
      ]
     },
     "metadata": {},
     "output_type": "display_data"
    }
   ],
   "source": [
    "basketball_df <- read.csv('players_stats_by_season_full_details.csv')\n",
    "read.csv"
   ]
  },
  {
   "cell_type": "markdown",
   "metadata": {},
   "source": [
    "#### Filter the data to a more manageable size as mentioned in the description above: "
   ]
  },
  {
   "cell_type": "code",
   "execution_count": 70,
   "metadata": {},
   "outputs": [],
   "source": [
    "names(basketball_df)[1] <- 'League'\n",
    "NBA_data_filtered <- filter(basketball_df, Stage == 'Regular_Season' & League == 'NBA' & GP >60)"
   ]
  },
  {
   "cell_type": "markdown",
   "metadata": {},
   "source": [
    "### Exploration of the data and initial thoughts\n",
    "\n",
    "First we will look at some summary statistics and the types of data in each column."
   ]
  },
  {
   "cell_type": "code",
   "execution_count": 71,
   "metadata": {},
   "outputs": [
    {
     "data": {
      "text/plain": [
       "    League             Season             Stage              Player         \n",
       " Length:4245        Length:4245        Length:4245        Length:4245       \n",
       " Class :character   Class :character   Class :character   Class :character  \n",
       " Mode  :character   Mode  :character   Mode  :character   Mode  :character  \n",
       "                                                                            \n",
       "                                                                            \n",
       "                                                                            \n",
       "                                                                            \n",
       "     Team                 GP             MIN              FGM       \n",
       " Length:4245        Min.   :61.00   Min.   : 266.8   Min.   : 17.0  \n",
       " Class :character   1st Qu.:71.00   1st Qu.:1549.7   1st Qu.:198.0  \n",
       " Mode  :character   Median :76.00   Median :2029.0   Median :290.0  \n",
       "                    Mean   :75.08   Mean   :2016.8   Mean   :321.3  \n",
       "                    3rd Qu.:80.00   3rd Qu.:2485.6   3rd Qu.:419.0  \n",
       "                    Max.   :85.00   Max.   :3485.0   Max.   :978.0  \n",
       "                                                                    \n",
       "      FGA              X3PM             X3PA           FTM       \n",
       " Min.   :  49.0   Min.   :  0.00   Min.   :   0   Min.   :  6.0  \n",
       " 1st Qu.: 438.0   1st Qu.:  3.00   1st Qu.:  15   1st Qu.: 75.0  \n",
       " Median : 642.0   Median : 53.00   Median : 155   Median :127.0  \n",
       " Mean   : 701.2   Mean   : 61.55   Mean   : 170   Mean   :159.1  \n",
       " 3rd Qu.: 913.0   3rd Qu.:101.00   3rd Qu.: 274   3rd Qu.:208.0  \n",
       " Max.   :2173.0   Max.   :402.00   Max.   :1028   Max.   :756.0  \n",
       "                                                                 \n",
       "      FTA             TOV              PF             ORB        \n",
       " Min.   : 10.0   Min.   :  7.0   Min.   : 27.0   Min.   :  5.00  \n",
       " 1st Qu.:101.0   1st Qu.: 70.0   1st Qu.:132.0   1st Qu.: 39.00  \n",
       " Median :171.0   Median :104.0   Median :167.0   Median : 71.00  \n",
       " Mean   :208.1   Mean   :115.8   Mean   :168.8   Mean   : 91.99  \n",
       " 3rd Qu.:271.0   3rd Qu.:150.0   3rd Qu.:204.0   3rd Qu.:129.00  \n",
       " Max.   :972.0   Max.   :464.0   Max.   :371.0   Max.   :440.00  \n",
       "                                                                 \n",
       "      DRB             REB              AST             STL        \n",
       " Min.   : 17.0   Min.   :  22.0   Min.   :  8.0   Min.   :  4.00  \n",
       " 1st Qu.:165.0   1st Qu.: 216.0   1st Qu.: 81.0   1st Qu.: 40.00  \n",
       " Median :230.0   Median : 309.0   Median :140.0   Median : 58.00  \n",
       " Mean   :264.2   Mean   : 356.2   Mean   :188.2   Mean   : 63.76  \n",
       " 3rd Qu.:333.0   3rd Qu.: 457.0   3rd Qu.:249.0   3rd Qu.: 82.00  \n",
       " Max.   :894.0   Max.   :1247.0   Max.   :925.0   Max.   :225.00  \n",
       "                                                                  \n",
       "      BLK              PTS           birth_year   birth_month       \n",
       " Min.   :  0.00   Min.   :  59.0   Min.   :1961   Length:4245       \n",
       " 1st Qu.: 14.00   1st Qu.: 523.0   1st Qu.:1977   Class :character  \n",
       " Median : 27.00   Median : 775.0   Median :1983   Mode  :character  \n",
       " Mean   : 40.97   Mean   : 863.2   Mean   :1982                     \n",
       " 3rd Qu.: 53.00   3rd Qu.:1119.0   3rd Qu.:1988                     \n",
       " Max.   :307.00   Max.   :2832.0   Max.   :2000                     \n",
       "                                                                    \n",
       "  birth_date           height            height_cm        weight         \n",
       " Length:4245        Length:4245        Min.   :160.0   Length:4245       \n",
       " Class :character   Class :character   1st Qu.:196.0   Class :character  \n",
       " Mode  :character   Mode  :character   Median :201.0   Mode  :character  \n",
       "                                       Mean   :200.9                     \n",
       "                                       3rd Qu.:208.0                     \n",
       "                                       Max.   :229.0                     \n",
       "                                                                         \n",
       "   weight_kg     nationality        high_school         draft_round   \n",
       " Min.   : 61.0   Length:4245        Length:4245        Min.   :1.000  \n",
       " 1st Qu.: 91.0   Class :character   Class :character   1st Qu.:1.000  \n",
       " Median :100.0   Mode  :character   Mode  :character   Median :1.000  \n",
       " Mean   :100.8                                         Mean   :1.224  \n",
       " 3rd Qu.:109.0                                         3rd Qu.:1.000  \n",
       " Max.   :147.0                                         Max.   :7.000  \n",
       "                                                       NA's   :419    \n",
       "   draft_pick    draft_team       \n",
       " Min.   : 1.0   Length:4245       \n",
       " 1st Qu.: 5.0   Class :character  \n",
       " Median :11.0   Mode  :character  \n",
       " Mean   :12.4                     \n",
       " 3rd Qu.:19.0                     \n",
       " Max.   :30.0                     \n",
       " NA's   :419                      "
      ]
     },
     "metadata": {},
     "output_type": "display_data"
    }
   ],
   "source": [
    "summary(NBA_data_filtered)"
   ]
  },
  {
   "cell_type": "markdown",
   "metadata": {},
   "source": [
    "\n",
    "Next we will look at the first few rows of the table to get an idea of what it looks like. \n"
   ]
  },
  {
   "cell_type": "code",
   "execution_count": 72,
   "metadata": {},
   "outputs": [
    {
     "data": {
      "text/html": [
       "<table>\n",
       "<caption>A data.frame: 6 × 34</caption>\n",
       "<thead>\n",
       "\t<tr><th></th><th scope=col>League</th><th scope=col>Season</th><th scope=col>Stage</th><th scope=col>Player</th><th scope=col>Team</th><th scope=col>GP</th><th scope=col>MIN</th><th scope=col>FGM</th><th scope=col>FGA</th><th scope=col>X3PM</th><th scope=col>...</th><th scope=col>birth_date</th><th scope=col>height</th><th scope=col>height_cm</th><th scope=col>weight</th><th scope=col>weight_kg</th><th scope=col>nationality</th><th scope=col>high_school</th><th scope=col>draft_round</th><th scope=col>draft_pick</th><th scope=col>draft_team</th></tr>\n",
       "\t<tr><th></th><th scope=col>&lt;chr&gt;</th><th scope=col>&lt;chr&gt;</th><th scope=col>&lt;chr&gt;</th><th scope=col>&lt;chr&gt;</th><th scope=col>&lt;chr&gt;</th><th scope=col>&lt;int&gt;</th><th scope=col>&lt;dbl&gt;</th><th scope=col>&lt;int&gt;</th><th scope=col>&lt;int&gt;</th><th scope=col>&lt;int&gt;</th><th scope=col>...</th><th scope=col>&lt;chr&gt;</th><th scope=col>&lt;chr&gt;</th><th scope=col>&lt;int&gt;</th><th scope=col>&lt;chr&gt;</th><th scope=col>&lt;int&gt;</th><th scope=col>&lt;chr&gt;</th><th scope=col>&lt;chr&gt;</th><th scope=col>&lt;int&gt;</th><th scope=col>&lt;int&gt;</th><th scope=col>&lt;chr&gt;</th></tr>\n",
       "</thead>\n",
       "<tbody>\n",
       "\t<tr><th scope=row>1</th><td>NBA</td><td>1999 - 2000</td><td>Regular_Season</td><td>Shaquille O'Neal</td><td>LAL</td><td>79</td><td>3163</td><td>956</td><td>1665</td><td>  0</td><td>...</td><td>Mar 6, 1972 </td><td>7-1</td><td>216</td><td>325</td><td>147</td><td>United States</td><td>Robert G. Cole High School </td><td>1</td><td> 1</td><td>Orlando Magic        </td></tr>\n",
       "\t<tr><th scope=row>2</th><td>NBA</td><td>1999 - 2000</td><td>Regular_Season</td><td>Vince Carter    </td><td>TOR</td><td>82</td><td>3126</td><td>788</td><td>1696</td><td> 95</td><td>...</td><td>Jan 26, 1977</td><td>6-6</td><td>198</td><td>220</td><td>100</td><td>United States</td><td>Mainland High School       </td><td>1</td><td> 5</td><td>Golden State Warriors</td></tr>\n",
       "\t<tr><th scope=row>3</th><td>NBA</td><td>1999 - 2000</td><td>Regular_Season</td><td>Karl Malone     </td><td>UTA</td><td>82</td><td>2947</td><td>752</td><td>1476</td><td>  2</td><td>...</td><td>Jul 24, 1963</td><td>6-9</td><td>206</td><td>265</td><td>120</td><td>United States</td><td>Summerfield High School    </td><td>1</td><td>13</td><td>Utah Jazz            </td></tr>\n",
       "\t<tr><th scope=row>4</th><td>NBA</td><td>1999 - 2000</td><td>Regular_Season</td><td>Allen Iverson   </td><td>PHI</td><td>70</td><td>2853</td><td>729</td><td>1733</td><td> 89</td><td>...</td><td>Jun 7, 1975 </td><td>6-0</td><td>183</td><td>165</td><td> 75</td><td>United States</td><td>Bethel High School         </td><td>1</td><td> 1</td><td>Philadelphia Sixers  </td></tr>\n",
       "\t<tr><th scope=row>5</th><td>NBA</td><td>1999 - 2000</td><td>Regular_Season</td><td>Gary Payton     </td><td>SEA</td><td>82</td><td>3425</td><td>747</td><td>1666</td><td>177</td><td>...</td><td>Jul 23, 1968</td><td>6-4</td><td>193</td><td>180</td><td> 82</td><td>United States</td><td>Skyline High School        </td><td>1</td><td> 2</td><td>Seattle SuperSonics  </td></tr>\n",
       "\t<tr><th scope=row>6</th><td>NBA</td><td>1999 - 2000</td><td>Regular_Season</td><td>Jerry Stackhouse</td><td>DET</td><td>82</td><td>3148</td><td>619</td><td>1447</td><td> 83</td><td>...</td><td>Nov 5, 1974 </td><td>6-6</td><td>198</td><td>218</td><td> 99</td><td>United States</td><td>Oak Hill Academy           </td><td>1</td><td> 3</td><td>Philadelphia Sixers  </td></tr>\n",
       "</tbody>\n",
       "</table>\n"
      ],
      "text/latex": [
       "A data.frame: 6 × 34\n",
       "\\begin{tabular}{r|lllllllllllllllllllll}\n",
       "  & League & Season & Stage & Player & Team & GP & MIN & FGM & FGA & X3PM & ... & birth\\_date & height & height\\_cm & weight & weight\\_kg & nationality & high\\_school & draft\\_round & draft\\_pick & draft\\_team\\\\\n",
       "  & <chr> & <chr> & <chr> & <chr> & <chr> & <int> & <dbl> & <int> & <int> & <int> & ... & <chr> & <chr> & <int> & <chr> & <int> & <chr> & <chr> & <int> & <int> & <chr>\\\\\n",
       "\\hline\n",
       "\t1 & NBA & 1999 - 2000 & Regular\\_Season & Shaquille O'Neal & LAL & 79 & 3163 & 956 & 1665 &   0 & ... & Mar 6, 1972  & 7-1 & 216 & 325 & 147 & United States & Robert G. Cole High School  & 1 &  1 & Orlando Magic        \\\\\n",
       "\t2 & NBA & 1999 - 2000 & Regular\\_Season & Vince Carter     & TOR & 82 & 3126 & 788 & 1696 &  95 & ... & Jan 26, 1977 & 6-6 & 198 & 220 & 100 & United States & Mainland High School        & 1 &  5 & Golden State Warriors\\\\\n",
       "\t3 & NBA & 1999 - 2000 & Regular\\_Season & Karl Malone      & UTA & 82 & 2947 & 752 & 1476 &   2 & ... & Jul 24, 1963 & 6-9 & 206 & 265 & 120 & United States & Summerfield High School     & 1 & 13 & Utah Jazz            \\\\\n",
       "\t4 & NBA & 1999 - 2000 & Regular\\_Season & Allen Iverson    & PHI & 70 & 2853 & 729 & 1733 &  89 & ... & Jun 7, 1975  & 6-0 & 183 & 165 &  75 & United States & Bethel High School          & 1 &  1 & Philadelphia Sixers  \\\\\n",
       "\t5 & NBA & 1999 - 2000 & Regular\\_Season & Gary Payton      & SEA & 82 & 3425 & 747 & 1666 & 177 & ... & Jul 23, 1968 & 6-4 & 193 & 180 &  82 & United States & Skyline High School         & 1 &  2 & Seattle SuperSonics  \\\\\n",
       "\t6 & NBA & 1999 - 2000 & Regular\\_Season & Jerry Stackhouse & DET & 82 & 3148 & 619 & 1447 &  83 & ... & Nov 5, 1974  & 6-6 & 198 & 218 &  99 & United States & Oak Hill Academy            & 1 &  3 & Philadelphia Sixers  \\\\\n",
       "\\end{tabular}\n"
      ],
      "text/markdown": [
       "\n",
       "A data.frame: 6 × 34\n",
       "\n",
       "| <!--/--> | League &lt;chr&gt; | Season &lt;chr&gt; | Stage &lt;chr&gt; | Player &lt;chr&gt; | Team &lt;chr&gt; | GP &lt;int&gt; | MIN &lt;dbl&gt; | FGM &lt;int&gt; | FGA &lt;int&gt; | X3PM &lt;int&gt; | ... ... | birth_date &lt;chr&gt; | height &lt;chr&gt; | height_cm &lt;int&gt; | weight &lt;chr&gt; | weight_kg &lt;int&gt; | nationality &lt;chr&gt; | high_school &lt;chr&gt; | draft_round &lt;int&gt; | draft_pick &lt;int&gt; | draft_team &lt;chr&gt; |\n",
       "|---|---|---|---|---|---|---|---|---|---|---|---|---|---|---|---|---|---|---|---|---|---|\n",
       "| 1 | NBA | 1999 - 2000 | Regular_Season | Shaquille O'Neal | LAL | 79 | 3163 | 956 | 1665 |   0 | ... | Mar 6, 1972  | 7-1 | 216 | 325 | 147 | United States | Robert G. Cole High School  | 1 |  1 | Orlando Magic         |\n",
       "| 2 | NBA | 1999 - 2000 | Regular_Season | Vince Carter     | TOR | 82 | 3126 | 788 | 1696 |  95 | ... | Jan 26, 1977 | 6-6 | 198 | 220 | 100 | United States | Mainland High School        | 1 |  5 | Golden State Warriors |\n",
       "| 3 | NBA | 1999 - 2000 | Regular_Season | Karl Malone      | UTA | 82 | 2947 | 752 | 1476 |   2 | ... | Jul 24, 1963 | 6-9 | 206 | 265 | 120 | United States | Summerfield High School     | 1 | 13 | Utah Jazz             |\n",
       "| 4 | NBA | 1999 - 2000 | Regular_Season | Allen Iverson    | PHI | 70 | 2853 | 729 | 1733 |  89 | ... | Jun 7, 1975  | 6-0 | 183 | 165 |  75 | United States | Bethel High School          | 1 |  1 | Philadelphia Sixers   |\n",
       "| 5 | NBA | 1999 - 2000 | Regular_Season | Gary Payton      | SEA | 82 | 3425 | 747 | 1666 | 177 | ... | Jul 23, 1968 | 6-4 | 193 | 180 |  82 | United States | Skyline High School         | 1 |  2 | Seattle SuperSonics   |\n",
       "| 6 | NBA | 1999 - 2000 | Regular_Season | Jerry Stackhouse | DET | 82 | 3148 | 619 | 1447 |  83 | ... | Nov 5, 1974  | 6-6 | 198 | 218 |  99 | United States | Oak Hill Academy            | 1 |  3 | Philadelphia Sixers   |\n",
       "\n"
      ],
      "text/plain": [
       "  League Season      Stage          Player           Team GP MIN  FGM FGA  X3PM\n",
       "1 NBA    1999 - 2000 Regular_Season Shaquille O'Neal LAL  79 3163 956 1665   0 \n",
       "2 NBA    1999 - 2000 Regular_Season Vince Carter     TOR  82 3126 788 1696  95 \n",
       "3 NBA    1999 - 2000 Regular_Season Karl Malone      UTA  82 2947 752 1476   2 \n",
       "4 NBA    1999 - 2000 Regular_Season Allen Iverson    PHI  70 2853 729 1733  89 \n",
       "5 NBA    1999 - 2000 Regular_Season Gary Payton      SEA  82 3425 747 1666 177 \n",
       "6 NBA    1999 - 2000 Regular_Season Jerry Stackhouse DET  82 3148 619 1447  83 \n",
       "  ... birth_date   height height_cm weight weight_kg nationality  \n",
       "1 ... Mar 6, 1972  7-1    216       325    147       United States\n",
       "2 ... Jan 26, 1977 6-6    198       220    100       United States\n",
       "3 ... Jul 24, 1963 6-9    206       265    120       United States\n",
       "4 ... Jun 7, 1975  6-0    183       165     75       United States\n",
       "5 ... Jul 23, 1968 6-4    193       180     82       United States\n",
       "6 ... Nov 5, 1974  6-6    198       218     99       United States\n",
       "  high_school                 draft_round draft_pick draft_team           \n",
       "1 Robert G. Cole High School  1            1         Orlando Magic        \n",
       "2 Mainland High School        1            5         Golden State Warriors\n",
       "3 Summerfield High School     1           13         Utah Jazz            \n",
       "4 Bethel High School          1            1         Philadelphia Sixers  \n",
       "5 Skyline High School         1            2         Seattle SuperSonics  \n",
       "6 Oak Hill Academy            1            3         Philadelphia Sixers  "
      ]
     },
     "metadata": {},
     "output_type": "display_data"
    }
   ],
   "source": [
    "head(NBA_data_filtered)"
   ]
  },
  {
   "cell_type": "markdown",
   "metadata": {},
   "source": [
    "\n",
    "We will perform part of our analysis on the nationality of NBA players, so we will first explore what the unqiue values are in that column. \n"
   ]
  },
  {
   "cell_type": "code",
   "execution_count": 73,
   "metadata": {},
   "outputs": [
    {
     "data": {
      "text/html": [
       "<style>\n",
       ".list-inline {list-style: none; margin:0; padding: 0}\n",
       ".list-inline>li {display: inline-block}\n",
       ".list-inline>li:not(:last-child)::after {content: \"\\00b7\"; padding: 0 .5ex}\n",
       "</style>\n",
       "<ol class=list-inline><li>'United States'</li><li>'Germany'</li><li>'Netherlands'</li><li>'Serbia'</li><li>'Democratic Republic of the Congo'</li><li>'United States / Jamaica'</li><li>'Serbia / Greece'</li><li>'United States / Spain'</li><li>'Nigeria / England'</li><li>'Lithuania'</li><li>'Ukraine'</li><li>'United States / Germany'</li><li>'Germany / United States'</li><li>'Canada / Bahamas'</li><li>'Slovenia'</li><li>'Australia'</li><li>'Haiti'</li><li>'Saint Vincent and the Grenadines / United States'</li><li>'Canada / South Africa'</li><li>'Dominican Republic'</li><li>'Turkey'</li><li>'Canada'</li><li>'Finland'</li><li>'Spain'</li><li>'Russia'</li><li>'France'</li><li>'Mexico'</li><li>'China'</li><li>'Croatia'</li><li>'Brazil'</li><li>'Montenegro'</li><li>'Argentina'</li><li>'Georgia'</li><li>'United States / Norway'</li><li>'Senegal'</li><li>'Puerto Rico / United States'</li><li>'Czech Republic'</li><li>'United States / Qatar'</li><li>'Canada / Haiti'</li><li>'Netherlands / United States'</li><li>'England / United States'</li><li>'England / South Sudan'</li><li>'United States / Dominican Republic'</li><li>'Netherlands / South Sudan'</li><li>'Latvia'</li><li>'Italy'</li><li>'United States / Nigeria'</li><li>'Argentina / Italy'</li><li>'Switzerland'</li><li>'Dominican Republic / United States'</li><li>'England / Nigeria'</li><li>'United States / Philippines'</li><li>'France / United States'</li><li>'Cameroon'</li><li>'Poland'</li><li>'Israel'</li><li>'Sweden'</li><li>'United States / Lebanon'</li><li>'Republic of the Congo / Spain'</li><li>'Venezuela'</li><li>'Switzerland / Turkey'</li><li>'Switzerland / Montenegro'</li><li>'United States / Greece'</li><li>'United States / Puerto Rico'</li><li>'Italy / United States'</li><li>'Nigeria'</li><li>'Tanzania'</li><li>'United States / Australia'</li><li>'Bosnia and Herzegovina'</li><li>'Greece / Nigeria'</li><li>'New Zealand'</li><li>'Montenegro / Spain'</li><li>'Bosnia and Herzegovina / Croatia'</li><li>'United States / Turkey'</li><li>'New Zealand / Australia'</li><li>'North Macedonia'</li><li>'Canada / United States'</li><li>'Bahamas'</li><li>'United States / Lithuania'</li><li>'United States / Croatia'</li><li>'Tunisia'</li><li>'Austria'</li><li>'United States / Democratic Republic of the Congo'</li><li>'Belgium / France'</li><li>'South Sudan / Australia'</li><li>'North Macedonia / Turkey'</li><li>'Nigeria / United States'</li><li>'Mali'</li><li>'United States / Egypt'</li><li>'Saint Lucia / Canada'</li></ol>\n"
      ],
      "text/latex": [
       "\\begin{enumerate*}\n",
       "\\item 'United States'\n",
       "\\item 'Germany'\n",
       "\\item 'Netherlands'\n",
       "\\item 'Serbia'\n",
       "\\item 'Democratic Republic of the Congo'\n",
       "\\item 'United States / Jamaica'\n",
       "\\item 'Serbia / Greece'\n",
       "\\item 'United States / Spain'\n",
       "\\item 'Nigeria / England'\n",
       "\\item 'Lithuania'\n",
       "\\item 'Ukraine'\n",
       "\\item 'United States / Germany'\n",
       "\\item 'Germany / United States'\n",
       "\\item 'Canada / Bahamas'\n",
       "\\item 'Slovenia'\n",
       "\\item 'Australia'\n",
       "\\item 'Haiti'\n",
       "\\item 'Saint Vincent and the Grenadines / United States'\n",
       "\\item 'Canada / South Africa'\n",
       "\\item 'Dominican Republic'\n",
       "\\item 'Turkey'\n",
       "\\item 'Canada'\n",
       "\\item 'Finland'\n",
       "\\item 'Spain'\n",
       "\\item 'Russia'\n",
       "\\item 'France'\n",
       "\\item 'Mexico'\n",
       "\\item 'China'\n",
       "\\item 'Croatia'\n",
       "\\item 'Brazil'\n",
       "\\item 'Montenegro'\n",
       "\\item 'Argentina'\n",
       "\\item 'Georgia'\n",
       "\\item 'United States / Norway'\n",
       "\\item 'Senegal'\n",
       "\\item 'Puerto Rico / United States'\n",
       "\\item 'Czech Republic'\n",
       "\\item 'United States / Qatar'\n",
       "\\item 'Canada / Haiti'\n",
       "\\item 'Netherlands / United States'\n",
       "\\item 'England / United States'\n",
       "\\item 'England / South Sudan'\n",
       "\\item 'United States / Dominican Republic'\n",
       "\\item 'Netherlands / South Sudan'\n",
       "\\item 'Latvia'\n",
       "\\item 'Italy'\n",
       "\\item 'United States / Nigeria'\n",
       "\\item 'Argentina / Italy'\n",
       "\\item 'Switzerland'\n",
       "\\item 'Dominican Republic / United States'\n",
       "\\item 'England / Nigeria'\n",
       "\\item 'United States / Philippines'\n",
       "\\item 'France / United States'\n",
       "\\item 'Cameroon'\n",
       "\\item 'Poland'\n",
       "\\item 'Israel'\n",
       "\\item 'Sweden'\n",
       "\\item 'United States / Lebanon'\n",
       "\\item 'Republic of the Congo / Spain'\n",
       "\\item 'Venezuela'\n",
       "\\item 'Switzerland / Turkey'\n",
       "\\item 'Switzerland / Montenegro'\n",
       "\\item 'United States / Greece'\n",
       "\\item 'United States / Puerto Rico'\n",
       "\\item 'Italy / United States'\n",
       "\\item 'Nigeria'\n",
       "\\item 'Tanzania'\n",
       "\\item 'United States / Australia'\n",
       "\\item 'Bosnia and Herzegovina'\n",
       "\\item 'Greece / Nigeria'\n",
       "\\item 'New Zealand'\n",
       "\\item 'Montenegro / Spain'\n",
       "\\item 'Bosnia and Herzegovina / Croatia'\n",
       "\\item 'United States / Turkey'\n",
       "\\item 'New Zealand / Australia'\n",
       "\\item 'North Macedonia'\n",
       "\\item 'Canada / United States'\n",
       "\\item 'Bahamas'\n",
       "\\item 'United States / Lithuania'\n",
       "\\item 'United States / Croatia'\n",
       "\\item 'Tunisia'\n",
       "\\item 'Austria'\n",
       "\\item 'United States / Democratic Republic of the Congo'\n",
       "\\item 'Belgium / France'\n",
       "\\item 'South Sudan / Australia'\n",
       "\\item 'North Macedonia / Turkey'\n",
       "\\item 'Nigeria / United States'\n",
       "\\item 'Mali'\n",
       "\\item 'United States / Egypt'\n",
       "\\item 'Saint Lucia / Canada'\n",
       "\\end{enumerate*}\n"
      ],
      "text/markdown": [
       "1. 'United States'\n",
       "2. 'Germany'\n",
       "3. 'Netherlands'\n",
       "4. 'Serbia'\n",
       "5. 'Democratic Republic of the Congo'\n",
       "6. 'United States / Jamaica'\n",
       "7. 'Serbia / Greece'\n",
       "8. 'United States / Spain'\n",
       "9. 'Nigeria / England'\n",
       "10. 'Lithuania'\n",
       "11. 'Ukraine'\n",
       "12. 'United States / Germany'\n",
       "13. 'Germany / United States'\n",
       "14. 'Canada / Bahamas'\n",
       "15. 'Slovenia'\n",
       "16. 'Australia'\n",
       "17. 'Haiti'\n",
       "18. 'Saint Vincent and the Grenadines / United States'\n",
       "19. 'Canada / South Africa'\n",
       "20. 'Dominican Republic'\n",
       "21. 'Turkey'\n",
       "22. 'Canada'\n",
       "23. 'Finland'\n",
       "24. 'Spain'\n",
       "25. 'Russia'\n",
       "26. 'France'\n",
       "27. 'Mexico'\n",
       "28. 'China'\n",
       "29. 'Croatia'\n",
       "30. 'Brazil'\n",
       "31. 'Montenegro'\n",
       "32. 'Argentina'\n",
       "33. 'Georgia'\n",
       "34. 'United States / Norway'\n",
       "35. 'Senegal'\n",
       "36. 'Puerto Rico / United States'\n",
       "37. 'Czech Republic'\n",
       "38. 'United States / Qatar'\n",
       "39. 'Canada / Haiti'\n",
       "40. 'Netherlands / United States'\n",
       "41. 'England / United States'\n",
       "42. 'England / South Sudan'\n",
       "43. 'United States / Dominican Republic'\n",
       "44. 'Netherlands / South Sudan'\n",
       "45. 'Latvia'\n",
       "46. 'Italy'\n",
       "47. 'United States / Nigeria'\n",
       "48. 'Argentina / Italy'\n",
       "49. 'Switzerland'\n",
       "50. 'Dominican Republic / United States'\n",
       "51. 'England / Nigeria'\n",
       "52. 'United States / Philippines'\n",
       "53. 'France / United States'\n",
       "54. 'Cameroon'\n",
       "55. 'Poland'\n",
       "56. 'Israel'\n",
       "57. 'Sweden'\n",
       "58. 'United States / Lebanon'\n",
       "59. 'Republic of the Congo / Spain'\n",
       "60. 'Venezuela'\n",
       "61. 'Switzerland / Turkey'\n",
       "62. 'Switzerland / Montenegro'\n",
       "63. 'United States / Greece'\n",
       "64. 'United States / Puerto Rico'\n",
       "65. 'Italy / United States'\n",
       "66. 'Nigeria'\n",
       "67. 'Tanzania'\n",
       "68. 'United States / Australia'\n",
       "69. 'Bosnia and Herzegovina'\n",
       "70. 'Greece / Nigeria'\n",
       "71. 'New Zealand'\n",
       "72. 'Montenegro / Spain'\n",
       "73. 'Bosnia and Herzegovina / Croatia'\n",
       "74. 'United States / Turkey'\n",
       "75. 'New Zealand / Australia'\n",
       "76. 'North Macedonia'\n",
       "77. 'Canada / United States'\n",
       "78. 'Bahamas'\n",
       "79. 'United States / Lithuania'\n",
       "80. 'United States / Croatia'\n",
       "81. 'Tunisia'\n",
       "82. 'Austria'\n",
       "83. 'United States / Democratic Republic of the Congo'\n",
       "84. 'Belgium / France'\n",
       "85. 'South Sudan / Australia'\n",
       "86. 'North Macedonia / Turkey'\n",
       "87. 'Nigeria / United States'\n",
       "88. 'Mali'\n",
       "89. 'United States / Egypt'\n",
       "90. 'Saint Lucia / Canada'\n",
       "\n",
       "\n"
      ],
      "text/plain": [
       " [1] \"United States\"                                   \n",
       " [2] \"Germany\"                                         \n",
       " [3] \"Netherlands\"                                     \n",
       " [4] \"Serbia\"                                          \n",
       " [5] \"Democratic Republic of the Congo\"                \n",
       " [6] \"United States / Jamaica\"                         \n",
       " [7] \"Serbia / Greece\"                                 \n",
       " [8] \"United States / Spain\"                           \n",
       " [9] \"Nigeria / England\"                               \n",
       "[10] \"Lithuania\"                                       \n",
       "[11] \"Ukraine\"                                         \n",
       "[12] \"United States / Germany\"                         \n",
       "[13] \"Germany / United States\"                         \n",
       "[14] \"Canada / Bahamas\"                                \n",
       "[15] \"Slovenia\"                                        \n",
       "[16] \"Australia\"                                       \n",
       "[17] \"Haiti\"                                           \n",
       "[18] \"Saint Vincent and the Grenadines / United States\"\n",
       "[19] \"Canada / South Africa\"                           \n",
       "[20] \"Dominican Republic\"                              \n",
       "[21] \"Turkey\"                                          \n",
       "[22] \"Canada\"                                          \n",
       "[23] \"Finland\"                                         \n",
       "[24] \"Spain\"                                           \n",
       "[25] \"Russia\"                                          \n",
       "[26] \"France\"                                          \n",
       "[27] \"Mexico\"                                          \n",
       "[28] \"China\"                                           \n",
       "[29] \"Croatia\"                                         \n",
       "[30] \"Brazil\"                                          \n",
       "[31] \"Montenegro\"                                      \n",
       "[32] \"Argentina\"                                       \n",
       "[33] \"Georgia\"                                         \n",
       "[34] \"United States / Norway\"                          \n",
       "[35] \"Senegal\"                                         \n",
       "[36] \"Puerto Rico / United States\"                     \n",
       "[37] \"Czech Republic\"                                  \n",
       "[38] \"United States / Qatar\"                           \n",
       "[39] \"Canada / Haiti\"                                  \n",
       "[40] \"Netherlands / United States\"                     \n",
       "[41] \"England / United States\"                         \n",
       "[42] \"England / South Sudan\"                           \n",
       "[43] \"United States / Dominican Republic\"              \n",
       "[44] \"Netherlands / South Sudan\"                       \n",
       "[45] \"Latvia\"                                          \n",
       "[46] \"Italy\"                                           \n",
       "[47] \"United States / Nigeria\"                         \n",
       "[48] \"Argentina / Italy\"                               \n",
       "[49] \"Switzerland\"                                     \n",
       "[50] \"Dominican Republic / United States\"              \n",
       "[51] \"England / Nigeria\"                               \n",
       "[52] \"United States / Philippines\"                     \n",
       "[53] \"France / United States\"                          \n",
       "[54] \"Cameroon\"                                        \n",
       "[55] \"Poland\"                                          \n",
       "[56] \"Israel\"                                          \n",
       "[57] \"Sweden\"                                          \n",
       "[58] \"United States / Lebanon\"                         \n",
       "[59] \"Republic of the Congo / Spain\"                   \n",
       "[60] \"Venezuela\"                                       \n",
       "[61] \"Switzerland / Turkey\"                            \n",
       "[62] \"Switzerland / Montenegro\"                        \n",
       "[63] \"United States / Greece\"                          \n",
       "[64] \"United States / Puerto Rico\"                     \n",
       "[65] \"Italy / United States\"                           \n",
       "[66] \"Nigeria\"                                         \n",
       "[67] \"Tanzania\"                                        \n",
       "[68] \"United States / Australia\"                       \n",
       "[69] \"Bosnia and Herzegovina\"                          \n",
       "[70] \"Greece / Nigeria\"                                \n",
       "[71] \"New Zealand\"                                     \n",
       "[72] \"Montenegro / Spain\"                              \n",
       "[73] \"Bosnia and Herzegovina / Croatia\"                \n",
       "[74] \"United States / Turkey\"                          \n",
       "[75] \"New Zealand / Australia\"                         \n",
       "[76] \"North Macedonia\"                                 \n",
       "[77] \"Canada / United States\"                          \n",
       "[78] \"Bahamas\"                                         \n",
       "[79] \"United States / Lithuania\"                       \n",
       "[80] \"United States / Croatia\"                         \n",
       "[81] \"Tunisia\"                                         \n",
       "[82] \"Austria\"                                         \n",
       "[83] \"United States / Democratic Republic of the Congo\"\n",
       "[84] \"Belgium / France\"                                \n",
       "[85] \"South Sudan / Australia\"                         \n",
       "[86] \"North Macedonia / Turkey\"                        \n",
       "[87] \"Nigeria / United States\"                         \n",
       "[88] \"Mali\"                                            \n",
       "[89] \"United States / Egypt\"                           \n",
       "[90] \"Saint Lucia / Canada\"                            "
      ]
     },
     "metadata": {},
     "output_type": "display_data"
    }
   ],
   "source": [
    "unique(NBA_data_filtered$nationality)"
   ]
  },
  {
   "cell_type": "markdown",
   "metadata": {},
   "source": [
    "\n",
    "We can see that there are many nationalities that state two countries for one entry (separated by a backslash). This will be an important aspect to keep in mind when we perform our analysis. \n",
    "\n",
    "Next we would also like to see the range of heights present in this dataset (in the format of \"feet - inches\")\n"
   ]
  },
  {
   "cell_type": "code",
   "execution_count": 74,
   "metadata": {},
   "outputs": [
    {
     "data": {
      "text/html": [
       "<style>\n",
       ".list-inline {list-style: none; margin:0; padding: 0}\n",
       ".list-inline>li {display: inline-block}\n",
       ".list-inline>li:not(:last-child)::after {content: \"\\00b7\"; padding: 0 .5ex}\n",
       "</style>\n",
       "<ol class=list-inline><li>'5-10'</li><li>'5-11'</li><li>'5-3'</li><li>'5-5'</li><li>'5-9'</li><li>'6-0'</li><li>'6-1'</li><li>'6-10'</li><li>'6-11'</li><li>'6-2'</li><li>'6-3'</li><li>'6-4'</li><li>'6-5'</li><li>'6-6'</li><li>'6-7'</li><li>'6-8'</li><li>'6-9'</li><li>'7-0'</li><li>'7-1'</li><li>'7-2'</li><li>'7-3'</li><li>'7-4'</li><li>'7-6'</li></ol>\n"
      ],
      "text/latex": [
       "\\begin{enumerate*}\n",
       "\\item '5-10'\n",
       "\\item '5-11'\n",
       "\\item '5-3'\n",
       "\\item '5-5'\n",
       "\\item '5-9'\n",
       "\\item '6-0'\n",
       "\\item '6-1'\n",
       "\\item '6-10'\n",
       "\\item '6-11'\n",
       "\\item '6-2'\n",
       "\\item '6-3'\n",
       "\\item '6-4'\n",
       "\\item '6-5'\n",
       "\\item '6-6'\n",
       "\\item '6-7'\n",
       "\\item '6-8'\n",
       "\\item '6-9'\n",
       "\\item '7-0'\n",
       "\\item '7-1'\n",
       "\\item '7-2'\n",
       "\\item '7-3'\n",
       "\\item '7-4'\n",
       "\\item '7-6'\n",
       "\\end{enumerate*}\n"
      ],
      "text/markdown": [
       "1. '5-10'\n",
       "2. '5-11'\n",
       "3. '5-3'\n",
       "4. '5-5'\n",
       "5. '5-9'\n",
       "6. '6-0'\n",
       "7. '6-1'\n",
       "8. '6-10'\n",
       "9. '6-11'\n",
       "10. '6-2'\n",
       "11. '6-3'\n",
       "12. '6-4'\n",
       "13. '6-5'\n",
       "14. '6-6'\n",
       "15. '6-7'\n",
       "16. '6-8'\n",
       "17. '6-9'\n",
       "18. '7-0'\n",
       "19. '7-1'\n",
       "20. '7-2'\n",
       "21. '7-3'\n",
       "22. '7-4'\n",
       "23. '7-6'\n",
       "\n",
       "\n"
      ],
      "text/plain": [
       " [1] \"5-10\" \"5-11\" \"5-3\"  \"5-5\"  \"5-9\"  \"6-0\"  \"6-1\"  \"6-10\" \"6-11\" \"6-2\" \n",
       "[11] \"6-3\"  \"6-4\"  \"6-5\"  \"6-6\"  \"6-7\"  \"6-8\"  \"6-9\"  \"7-0\"  \"7-1\"  \"7-2\" \n",
       "[21] \"7-3\"  \"7-4\"  \"7-6\" "
      ]
     },
     "metadata": {},
     "output_type": "display_data"
    },
    {
     "data": {
      "text/html": [
       "<pre class=language-r><code>function (x, decreasing = FALSE, ...) \n",
       "{\n",
       "<span style=white-space:pre-wrap>    if (!is.logical(decreasing) || length(decreasing) != 1L) </span>\n",
       "<span style=white-space:pre-wrap>        stop(\"'decreasing' must be a length-1 logical vector.\\nDid you intend to set 'partial'?\")</span>\n",
       "<span style=white-space:pre-wrap>    UseMethod(\"sort\")</span>\n",
       "}</code></pre>"
      ],
      "text/latex": [
       "\\begin{minted}{r}\n",
       "function (x, decreasing = FALSE, ...) \n",
       "\\{\n",
       "    if (!is.logical(decreasing) \\textbar{}\\textbar{} length(decreasing) != 1L) \n",
       "        stop(\"'decreasing' must be a length-1 logical vector.\\textbackslash{}nDid you intend to set 'partial'?\")\n",
       "    UseMethod(\"sort\")\n",
       "\\}\n",
       "\\end{minted}"
      ],
      "text/markdown": [
       "```r\n",
       "function (x, decreasing = FALSE, ...) \n",
       "{\n",
       "    if (!is.logical(decreasing) || length(decreasing) != 1L) \n",
       "        stop(\"'decreasing' must be a length-1 logical vector.\\nDid you intend to set 'partial'?\")\n",
       "    UseMethod(\"sort\")\n",
       "}\n",
       "```"
      ],
      "text/plain": [
       "function (x, decreasing = FALSE, ...) \n",
       "{\n",
       "    if (!is.logical(decreasing) || length(decreasing) != 1L) \n",
       "        stop(\"'decreasing' must be a length-1 logical vector.\\nDid you intend to set 'partial'?\")\n",
       "    UseMethod(\"sort\")\n",
       "}\n",
       "<bytecode: 0x0000000014eee478>\n",
       "<environment: namespace:base>"
      ]
     },
     "metadata": {},
     "output_type": "display_data"
    }
   ],
   "source": [
    "sort(unique(NBA_data_filtered$height))\n",
    "sort"
   ]
  },
  {
   "cell_type": "markdown",
   "metadata": {},
   "source": [
    "\n",
    "We can see from the list above that our heights range from 5 foot 3 inches to 7 foot 6 inches. We can see that this column is in the class 'character', so it can't be sorted perfectly in ascending order. We will need to wrangle this data to be in some sort of numerical format if we want to use it properly in our analysis. \n",
    "\n",
    "Out of curiosity, who in the NBA was 5 foot 3?\n"
   ]
  },
  {
   "cell_type": "code",
   "execution_count": 75,
   "metadata": {},
   "outputs": [
    {
     "data": {
      "text/html": [
       "'Muggsy Bogues'"
      ],
      "text/latex": [
       "'Muggsy Bogues'"
      ],
      "text/markdown": [
       "'Muggsy Bogues'"
      ],
      "text/plain": [
       "[1] \"Muggsy Bogues\""
      ]
     },
     "metadata": {},
     "output_type": "display_data"
    }
   ],
   "source": [
    "NBA_data_filtered$Player[NBA_data_filtered$height == '5-3']"
   ]
  },
  {
   "cell_type": "markdown",
   "metadata": {},
   "source": [
    "That's amazing that Muggsy Bogues was 5 foot 3 inches tall and he is still being considered for the [NBA Hall of Fame](https://godeacs.com/news/2019/12/20/mens-basketball-bogues-and-duncan-on-2020-naismith-hall-of-fame-ballot.aspx#:~:text=Muggsy%20Bogues%20(Class%20of%201987,for%20the%20fourth%20consecutive%20year.)\n",
    "\n",
    "Now back to the data, we will also check for missing values in our data.\n"
   ]
  },
  {
   "cell_type": "code",
   "execution_count": 76,
   "metadata": {},
   "outputs": [
    {
     "data": {
      "text/html": [
       "<style>\n",
       ".dl-inline {width: auto; margin:0; padding: 0}\n",
       ".dl-inline>dt, .dl-inline>dd {float: none; width: auto; display: inline-block}\n",
       ".dl-inline>dt::after {content: \":\\0020\"; padding-right: .5ex}\n",
       ".dl-inline>dt:not(:first-of-type) {padding-left: .5ex}\n",
       "</style><dl class=dl-inline><dt>League</dt><dd>0</dd><dt>Season</dt><dd>0</dd><dt>Stage</dt><dd>0</dd><dt>Player</dt><dd>0</dd><dt>Team</dt><dd>0</dd><dt>GP</dt><dd>0</dd><dt>MIN</dt><dd>0</dd><dt>FGM</dt><dd>0</dd><dt>FGA</dt><dd>0</dd><dt>X3PM</dt><dd>0</dd><dt>X3PA</dt><dd>0</dd><dt>FTM</dt><dd>0</dd><dt>FTA</dt><dd>0</dd><dt>TOV</dt><dd>0</dd><dt>PF</dt><dd>0</dd><dt>ORB</dt><dd>0</dd><dt>DRB</dt><dd>0</dd><dt>REB</dt><dd>0</dd><dt>AST</dt><dd>0</dd><dt>STL</dt><dd>0</dd><dt>BLK</dt><dd>0</dd><dt>PTS</dt><dd>0</dd><dt>birth_year</dt><dd>0</dd><dt>birth_month</dt><dd>0</dd><dt>birth_date</dt><dd>0</dd><dt>height</dt><dd>0</dd><dt>height_cm</dt><dd>0</dd><dt>weight</dt><dd>0</dd><dt>weight_kg</dt><dd>0</dd><dt>nationality</dt><dd>0</dd><dt>high_school</dt><dd>0</dd><dt>draft_round</dt><dd>419</dd><dt>draft_pick</dt><dd>419</dd><dt>draft_team</dt><dd>0</dd></dl>\n"
      ],
      "text/latex": [
       "\\begin{description*}\n",
       "\\item[League] 0\n",
       "\\item[Season] 0\n",
       "\\item[Stage] 0\n",
       "\\item[Player] 0\n",
       "\\item[Team] 0\n",
       "\\item[GP] 0\n",
       "\\item[MIN] 0\n",
       "\\item[FGM] 0\n",
       "\\item[FGA] 0\n",
       "\\item[X3PM] 0\n",
       "\\item[X3PA] 0\n",
       "\\item[FTM] 0\n",
       "\\item[FTA] 0\n",
       "\\item[TOV] 0\n",
       "\\item[PF] 0\n",
       "\\item[ORB] 0\n",
       "\\item[DRB] 0\n",
       "\\item[REB] 0\n",
       "\\item[AST] 0\n",
       "\\item[STL] 0\n",
       "\\item[BLK] 0\n",
       "\\item[PTS] 0\n",
       "\\item[birth\\textbackslash{}\\_year] 0\n",
       "\\item[birth\\textbackslash{}\\_month] 0\n",
       "\\item[birth\\textbackslash{}\\_date] 0\n",
       "\\item[height] 0\n",
       "\\item[height\\textbackslash{}\\_cm] 0\n",
       "\\item[weight] 0\n",
       "\\item[weight\\textbackslash{}\\_kg] 0\n",
       "\\item[nationality] 0\n",
       "\\item[high\\textbackslash{}\\_school] 0\n",
       "\\item[draft\\textbackslash{}\\_round] 419\n",
       "\\item[draft\\textbackslash{}\\_pick] 419\n",
       "\\item[draft\\textbackslash{}\\_team] 0\n",
       "\\end{description*}\n"
      ],
      "text/markdown": [
       "League\n",
       ":   0Season\n",
       ":   0Stage\n",
       ":   0Player\n",
       ":   0Team\n",
       ":   0GP\n",
       ":   0MIN\n",
       ":   0FGM\n",
       ":   0FGA\n",
       ":   0X3PM\n",
       ":   0X3PA\n",
       ":   0FTM\n",
       ":   0FTA\n",
       ":   0TOV\n",
       ":   0PF\n",
       ":   0ORB\n",
       ":   0DRB\n",
       ":   0REB\n",
       ":   0AST\n",
       ":   0STL\n",
       ":   0BLK\n",
       ":   0PTS\n",
       ":   0birth_year\n",
       ":   0birth_month\n",
       ":   0birth_date\n",
       ":   0height\n",
       ":   0height_cm\n",
       ":   0weight\n",
       ":   0weight_kg\n",
       ":   0nationality\n",
       ":   0high_school\n",
       ":   0draft_round\n",
       ":   419draft_pick\n",
       ":   419draft_team\n",
       ":   0\n",
       "\n"
      ],
      "text/plain": [
       "     League      Season       Stage      Player        Team          GP \n",
       "          0           0           0           0           0           0 \n",
       "        MIN         FGM         FGA        X3PM        X3PA         FTM \n",
       "          0           0           0           0           0           0 \n",
       "        FTA         TOV          PF         ORB         DRB         REB \n",
       "          0           0           0           0           0           0 \n",
       "        AST         STL         BLK         PTS  birth_year birth_month \n",
       "          0           0           0           0           0           0 \n",
       " birth_date      height   height_cm      weight   weight_kg nationality \n",
       "          0           0           0           0           0           0 \n",
       "high_school draft_round  draft_pick  draft_team \n",
       "          0         419         419           0 "
      ]
     },
     "metadata": {},
     "output_type": "display_data"
    }
   ],
   "source": [
    "colSums(is.na(NBA_data_filtered))"
   ]
  },
  {
   "cell_type": "markdown",
   "metadata": {},
   "source": [
    "\n",
    "We can see that there are only NA values in the `draft_round` and `draft_pick` columns. This makes sense because not all players make it into the NBA through the draft (for instance some players get signed after playing in other professional leagues overseas prior to the NBA).\n",
    "\n",
    "The last part of the initial data exploration will be to examine the correlation between the numerical categories in the dataset:\n"
   ]
  },
  {
   "cell_type": "code",
   "execution_count": 77,
   "metadata": {},
   "outputs": [
    {
     "data": {
      "image/png": "[encoded data removed]",
      "text/plain": [
       "plot without title"
      ]
     },
     "metadata": {
      "image/png": {
       "height": 420,
       "width": 420
      }
     },
     "output_type": "display_data"
    }
   ],
   "source": [
    "numbers <- NBA_data_filtered %>% select_if(is.numeric) \n",
    "\n",
    "# Drop draft_pick and draft_round columns that contain NA values. \n",
    "numbers_na <- numbers %>% select(which(colSums(is.na(.)) == 0))\n",
    "\n",
    "corr_df <- ggcorr(numbers_na) + ggtitle('Correlation of Numerical Statistics') + theme(title = element_text(size=20))\n",
    "\n",
    "corr_df\n"
   ]
  },
  {
   "cell_type": "markdown",
   "metadata": {},
   "source": [
    "\n",
    "The correlation plot above gives us a many potential relationships that we can explore in the future. One interesting relationship that we will not explore further in this analysis is the fact that there is a weakly positive correlation between birth year. As birth years increase (which means the player is younger), the number of three pointers attempted and made increases. The influence of Stephen Curry and his amazing three point shooting may be influencing the younger generation  of players to shoot more three pointers. \n",
    "\n",
    "## Add this as a question not answered in this analysis (would need data before and after steph curry was named MVP, or data stating when stephen curry became popular). "
   ]
  },
  {
   "cell_type": "markdown",
   "metadata": {},
   "source": [
    "### Data Wrangling and Visualizations"
   ]
  },
  {
   "cell_type": "code",
   "execution_count": 129,
   "metadata": {},
   "outputs": [],
   "source": [
    "# Set size of plot\n",
    "options(repr.plot.width=10, repr.plot.height=10)\n",
    " \n",
    "# Make new data frame with two seasons that had a shortened amount of games removed (NBA lockout year and pandemic year). \n",
    "df_country <- NBA_data_filtered %>% filter(NBA_data_filtered$Season != '2011 - 2012' & NBA_data_filtered$Season != '2019 - 2020')\n",
    "# alter nationality column to be either 'United States' or 'International'\n",
    "df_int <- df_country %>% mutate(nationality = ifelse(nationality != 'United States', 'International', nationality))\n",
    "# Find out how many international and US players there are in each season. \n",
    "df_int_count <- df_int %>% group_by(Season) %>% count(nationality)"
   ]
  },
  {
   "cell_type": "code",
   "execution_count": 130,
   "metadata": {},
   "outputs": [
    {
     "data": {
      "image/png": "[encoded data removed]",
      "text/plain": [
       "plot without title"
      ]
     },
     "metadata": {
      "image/png": {
       "height": 600,
       "width": 600
      }
     },
     "output_type": "display_data"
    }
   ],
   "source": [
    "# Set variables for making the ticks marks on the x axis once every 10 years. \n",
    "end <- length(df_int_count$Season)\n",
    "var <- df_int_count$Season\n",
    "interval <- var[seq(1, end, by=10)]\n",
    "\n",
    "# Create the plot\n",
    "ggplot(df_int_count) + aes(x= Season, y= n, color= nationality) + geom_point(size=3) +\n",
    "scale_x_discrete(breaks= interval, labels= interval) + \n",
    "theme(axis.text.x = element_text(angle=-60, hjust=-0.1, size=12), axis.text.y= element_text(size = 12),\n",
    "     panel.grid.major = element_blank(), plot.title= element_text(size=18), axis.title.x= element_text(size=14),\n",
    "     axis.title.y= element_text(size=14), legend.title= element_text(size=14), legend.text = element_text(size = 12))+\n",
    "labs(x= \"Year of Season\", y=\"Number of Players\", title= \"International Recruiting Efforts of the NBA\", color= \"Player Nationality\")\n"
   ]
  },
  {
   "cell_type": "code",
   "execution_count": 326,
   "metadata": {},
   "outputs": [
    {
     "data": {
      "image/png": "[encoded data removed]",
      "text/plain": [
       "plot without title"
      ]
     },
     "metadata": {
      "image/png": {
       "height": 600,
       "width": 600
      }
     },
     "output_type": "display_data"
    }
   ],
   "source": [
    "# Make new data frame to alter for this plot \n",
    "df_threes <- NBA_data_filtered \n",
    "\n",
    "df_3_ratio <- df_threes %>% group_by(Season) %>% mutate(X3PM_FGM_ratio = mean(X3PA/FGA))\n",
    "\n",
    "df_3_ratio <- df_3_ratio %>% distinct(Season, X3PM_FGM_ratio)\n",
    "\n",
    "# Create new columns with the Steph Curry MVP season rows to be highlighted as the only TRUE values. \n",
    "df_3_ratio$highlight <- FALSE\n",
    "df_3_ratio$highlight[df_3_ratio$Season == '2014 - 2015' | df_3_ratio$Season == '2015 - 2016'] <- TRUE\n",
    "\n",
    "#df_3_ratio\n",
    "mvp_seasons <- c(\"2014 - 2015\")\n",
    "ggplot(df_3_ratio) + aes(x= Season, y= X3PM_FGM_ratio, fill= highlight) + \n",
    "    geom_col(show.legend=FALSE) +  \n",
    "    theme(axis.text.x = element_text(angle=-70, hjust=-0.2, size=12), axis.text.y= element_text(size = 12),\n",
    "     panel.grid.major = element_blank(), plot.title= element_text(size=18), axis.title.x= element_text(size=14),\n",
    "     axis.title.y= element_text(size=14), legend.title= element_text(size=14), legend.text = element_text(size = 12))+\n",
    "    labs(x= \"Year of Season\", y=\"Percentage of Shots that were 3-Pointers\", title= \"The Rise of the 3-Pointer in the NBA\") + \n",
    "    scale_y_continuous(labels = scales::percent) + scale_fill_manual(values= c(\"blue3\", \"gold\"))+\n",
    "    annotate('text', label = 'S. Curry MVP', x = 16.3, y = 0.295, size=4)\n",
    "\n"
   ]
  },
  {
   "cell_type": "code",
   "execution_count": null,
   "metadata": {},
   "outputs": [],
   "source": []
  },
  {
   "cell_type": "code",
   "execution_count": null,
   "metadata": {},
   "outputs": [],
   "source": []
  },
  {
   "cell_type": "code",
   "execution_count": null,
   "metadata": {},
   "outputs": [],
   "source": []
  },
  {
   "cell_type": "code",
   "execution_count": 4,
   "metadata": {},
   "outputs": [
    {
     "data": {
      "text/html": [
       "<table>\n",
       "<caption>A data.frame: 6 × 36</caption>\n",
       "<thead>\n",
       "\t<tr><th></th><th scope=col>League</th><th scope=col>year</th><th scope=col>Season</th><th scope=col>Stage</th><th scope=col>Player</th><th scope=col>Team</th><th scope=col>GP</th><th scope=col>MIN</th><th scope=col>FGM</th><th scope=col>FGA</th><th scope=col>...</th><th scope=col>birth_date</th><th scope=col>height</th><th scope=col>height_cm</th><th scope=col>weight</th><th scope=col>weight_kg</th><th scope=col>nationality</th><th scope=col>high_school</th><th scope=col>draft_round</th><th scope=col>draft_pick</th><th scope=col>draft_team</th></tr>\n",
       "\t<tr><th></th><th scope=col>&lt;chr&gt;</th><th scope=col>&lt;dbl&gt;</th><th scope=col>&lt;chr&gt;</th><th scope=col>&lt;chr&gt;</th><th scope=col>&lt;chr&gt;</th><th scope=col>&lt;chr&gt;</th><th scope=col>&lt;int&gt;</th><th scope=col>&lt;dbl&gt;</th><th scope=col>&lt;int&gt;</th><th scope=col>&lt;int&gt;</th><th scope=col>...</th><th scope=col>&lt;chr&gt;</th><th scope=col>&lt;chr&gt;</th><th scope=col>&lt;int&gt;</th><th scope=col>&lt;chr&gt;</th><th scope=col>&lt;int&gt;</th><th scope=col>&lt;chr&gt;</th><th scope=col>&lt;chr&gt;</th><th scope=col>&lt;int&gt;</th><th scope=col>&lt;int&gt;</th><th scope=col>&lt;chr&gt;</th></tr>\n",
       "</thead>\n",
       "<tbody>\n",
       "\t<tr><th scope=row>1</th><td>NBA</td><td>2000</td><td>1999 - 2000</td><td>Regular_Season</td><td>Shaquille O'Neal</td><td>LAL</td><td>79</td><td>3163</td><td>956</td><td>1665</td><td>...</td><td>06-Mar-72</td><td>01-Jul</td><td>216</td><td>325</td><td>147</td><td>United States</td><td>Robert G. Cole High School </td><td>1</td><td> 1</td><td>Orlando Magic        </td></tr>\n",
       "\t<tr><th scope=row>2</th><td>NBA</td><td>2000</td><td>1999 - 2000</td><td>Regular_Season</td><td>Vince Carter    </td><td>TOR</td><td>82</td><td>3126</td><td>788</td><td>1696</td><td>...</td><td>26-Jan-77</td><td>06-Jun</td><td>198</td><td>220</td><td>100</td><td>United States</td><td>Mainland High School       </td><td>1</td><td> 5</td><td>Golden State Warriors</td></tr>\n",
       "\t<tr><th scope=row>3</th><td>NBA</td><td>2000</td><td>1999 - 2000</td><td>Regular_Season</td><td>Karl Malone     </td><td>UTA</td><td>82</td><td>2947</td><td>752</td><td>1476</td><td>...</td><td>24-Jul-63</td><td>09-Jun</td><td>206</td><td>265</td><td>120</td><td>United States</td><td>Summerfield High School    </td><td>1</td><td>13</td><td>Utah Jazz            </td></tr>\n",
       "\t<tr><th scope=row>4</th><td>NBA</td><td>2000</td><td>1999 - 2000</td><td>Regular_Season</td><td>Allen Iverson   </td><td>PHI</td><td>70</td><td>2853</td><td>729</td><td>1733</td><td>...</td><td>07-Jun-75</td><td>6-0   </td><td>183</td><td>165</td><td> 75</td><td>United States</td><td>Bethel High School         </td><td>1</td><td> 1</td><td>Philadelphia Sixers  </td></tr>\n",
       "\t<tr><th scope=row>5</th><td>NBA</td><td>2000</td><td>1999 - 2000</td><td>Regular_Season</td><td>Gary Payton     </td><td>SEA</td><td>82</td><td>3425</td><td>747</td><td>1666</td><td>...</td><td>23-Jul-68</td><td>04-Jun</td><td>193</td><td>180</td><td> 82</td><td>United States</td><td>Skyline High School        </td><td>1</td><td> 2</td><td>Seattle SuperSonics  </td></tr>\n",
       "\t<tr><th scope=row>6</th><td>NBA</td><td>2000</td><td>1999 - 2000</td><td>Regular_Season</td><td>Jerry Stackhouse</td><td>DET</td><td>82</td><td>3148</td><td>619</td><td>1447</td><td>...</td><td>05-Nov-74</td><td>06-Jun</td><td>198</td><td>218</td><td> 99</td><td>United States</td><td>Oak Hill Academy           </td><td>1</td><td> 3</td><td>Philadelphia Sixers  </td></tr>\n",
       "</tbody>\n",
       "</table>\n"
      ],
      "text/latex": [
       "A data.frame: 6 × 36\n",
       "\\begin{tabular}{r|lllllllllllllllllllll}\n",
       "  & League & year & Season & Stage & Player & Team & GP & MIN & FGM & FGA & ... & birth\\_date & height & height\\_cm & weight & weight\\_kg & nationality & high\\_school & draft\\_round & draft\\_pick & draft\\_team\\\\\n",
       "  & <chr> & <dbl> & <chr> & <chr> & <chr> & <chr> & <int> & <dbl> & <int> & <int> & ... & <chr> & <chr> & <int> & <chr> & <int> & <chr> & <chr> & <int> & <int> & <chr>\\\\\n",
       "\\hline\n",
       "\t1 & NBA & 2000 & 1999 - 2000 & Regular\\_Season & Shaquille O'Neal & LAL & 79 & 3163 & 956 & 1665 & ... & 06-Mar-72 & 01-Jul & 216 & 325 & 147 & United States & Robert G. Cole High School  & 1 &  1 & Orlando Magic        \\\\\n",
       "\t2 & NBA & 2000 & 1999 - 2000 & Regular\\_Season & Vince Carter     & TOR & 82 & 3126 & 788 & 1696 & ... & 26-Jan-77 & 06-Jun & 198 & 220 & 100 & United States & Mainland High School        & 1 &  5 & Golden State Warriors\\\\\n",
       "\t3 & NBA & 2000 & 1999 - 2000 & Regular\\_Season & Karl Malone      & UTA & 82 & 2947 & 752 & 1476 & ... & 24-Jul-63 & 09-Jun & 206 & 265 & 120 & United States & Summerfield High School     & 1 & 13 & Utah Jazz            \\\\\n",
       "\t4 & NBA & 2000 & 1999 - 2000 & Regular\\_Season & Allen Iverson    & PHI & 70 & 2853 & 729 & 1733 & ... & 07-Jun-75 & 6-0    & 183 & 165 &  75 & United States & Bethel High School          & 1 &  1 & Philadelphia Sixers  \\\\\n",
       "\t5 & NBA & 2000 & 1999 - 2000 & Regular\\_Season & Gary Payton      & SEA & 82 & 3425 & 747 & 1666 & ... & 23-Jul-68 & 04-Jun & 193 & 180 &  82 & United States & Skyline High School         & 1 &  2 & Seattle SuperSonics  \\\\\n",
       "\t6 & NBA & 2000 & 1999 - 2000 & Regular\\_Season & Jerry Stackhouse & DET & 82 & 3148 & 619 & 1447 & ... & 05-Nov-74 & 06-Jun & 198 & 218 &  99 & United States & Oak Hill Academy            & 1 &  3 & Philadelphia Sixers  \\\\\n",
       "\\end{tabular}\n"
      ],
      "text/markdown": [
       "\n",
       "A data.frame: 6 × 36\n",
       "\n",
       "| <!--/--> | League &lt;chr&gt; | year &lt;dbl&gt; | Season &lt;chr&gt; | Stage &lt;chr&gt; | Player &lt;chr&gt; | Team &lt;chr&gt; | GP &lt;int&gt; | MIN &lt;dbl&gt; | FGM &lt;int&gt; | FGA &lt;int&gt; | ... ... | birth_date &lt;chr&gt; | height &lt;chr&gt; | height_cm &lt;int&gt; | weight &lt;chr&gt; | weight_kg &lt;int&gt; | nationality &lt;chr&gt; | high_school &lt;chr&gt; | draft_round &lt;int&gt; | draft_pick &lt;int&gt; | draft_team &lt;chr&gt; |\n",
       "|---|---|---|---|---|---|---|---|---|---|---|---|---|---|---|---|---|---|---|---|---|---|\n",
       "| 1 | NBA | 2000 | 1999 - 2000 | Regular_Season | Shaquille O'Neal | LAL | 79 | 3163 | 956 | 1665 | ... | 06-Mar-72 | 01-Jul | 216 | 325 | 147 | United States | Robert G. Cole High School  | 1 |  1 | Orlando Magic         |\n",
       "| 2 | NBA | 2000 | 1999 - 2000 | Regular_Season | Vince Carter     | TOR | 82 | 3126 | 788 | 1696 | ... | 26-Jan-77 | 06-Jun | 198 | 220 | 100 | United States | Mainland High School        | 1 |  5 | Golden State Warriors |\n",
       "| 3 | NBA | 2000 | 1999 - 2000 | Regular_Season | Karl Malone      | UTA | 82 | 2947 | 752 | 1476 | ... | 24-Jul-63 | 09-Jun | 206 | 265 | 120 | United States | Summerfield High School     | 1 | 13 | Utah Jazz             |\n",
       "| 4 | NBA | 2000 | 1999 - 2000 | Regular_Season | Allen Iverson    | PHI | 70 | 2853 | 729 | 1733 | ... | 07-Jun-75 | 6-0    | 183 | 165 |  75 | United States | Bethel High School          | 1 |  1 | Philadelphia Sixers   |\n",
       "| 5 | NBA | 2000 | 1999 - 2000 | Regular_Season | Gary Payton      | SEA | 82 | 3425 | 747 | 1666 | ... | 23-Jul-68 | 04-Jun | 193 | 180 |  82 | United States | Skyline High School         | 1 |  2 | Seattle SuperSonics   |\n",
       "| 6 | NBA | 2000 | 1999 - 2000 | Regular_Season | Jerry Stackhouse | DET | 82 | 3148 | 619 | 1447 | ... | 05-Nov-74 | 06-Jun | 198 | 218 |  99 | United States | Oak Hill Academy            | 1 |  3 | Philadelphia Sixers   |\n",
       "\n"
      ],
      "text/plain": [
       "  League year Season      Stage          Player           Team GP MIN  FGM FGA \n",
       "1 NBA    2000 1999 - 2000 Regular_Season Shaquille O'Neal LAL  79 3163 956 1665\n",
       "2 NBA    2000 1999 - 2000 Regular_Season Vince Carter     TOR  82 3126 788 1696\n",
       "3 NBA    2000 1999 - 2000 Regular_Season Karl Malone      UTA  82 2947 752 1476\n",
       "4 NBA    2000 1999 - 2000 Regular_Season Allen Iverson    PHI  70 2853 729 1733\n",
       "5 NBA    2000 1999 - 2000 Regular_Season Gary Payton      SEA  82 3425 747 1666\n",
       "6 NBA    2000 1999 - 2000 Regular_Season Jerry Stackhouse DET  82 3148 619 1447\n",
       "  ... birth_date height height_cm weight weight_kg nationality  \n",
       "1 ... 06-Mar-72  01-Jul 216       325    147       United States\n",
       "2 ... 26-Jan-77  06-Jun 198       220    100       United States\n",
       "3 ... 24-Jul-63  09-Jun 206       265    120       United States\n",
       "4 ... 07-Jun-75  6-0    183       165     75       United States\n",
       "5 ... 23-Jul-68  04-Jun 193       180     82       United States\n",
       "6 ... 05-Nov-74  06-Jun 198       218     99       United States\n",
       "  high_school                 draft_round draft_pick draft_team           \n",
       "1 Robert G. Cole High School  1            1         Orlando Magic        \n",
       "2 Mainland High School        1            5         Golden State Warriors\n",
       "3 Summerfield High School     1           13         Utah Jazz            \n",
       "4 Bethel High School          1            1         Philadelphia Sixers  \n",
       "5 Skyline High School         1            2         Seattle SuperSonics  \n",
       "6 Oak Hill Academy            1            3         Philadelphia Sixers  "
      ]
     },
     "metadata": {},
     "output_type": "display_data"
    }
   ],
   "source": [
    "year <- list()\n",
    "age <- list()\n",
    "for(i in 1:nrow(NBA_data_filtered)){\n",
    "    current_year <- as.numeric(substring(NBA_data_filtered[i,2], 8,11))\n",
    "    age[i] <- current_year - NBA_data_filtered$birth_year[i]\n",
    "    year[i] <- current_year\n",
    "}\n",
    "\n",
    "NBA_data <-add_column(NBA_data_filtered,age = as.numeric(age),.after=22)\n",
    "NBA_data <-add_column(NBA_data,year = as.numeric(year),.after=1)\n",
    "head(NBA_data)"
   ]
  },
  {
   "cell_type": "code",
   "execution_count": 5,
   "metadata": {},
   "outputs": [
    {
     "data": {
      "text/html": [
       "<table>\n",
       "<caption>A data.frame: 6 × 19</caption>\n",
       "<thead>\n",
       "\t<tr><th></th><th scope=col>year</th><th scope=col>GP</th><th scope=col>MIN</th><th scope=col>FGM</th><th scope=col>FGA</th><th scope=col>X3PM</th><th scope=col>X3PA</th><th scope=col>FTM</th><th scope=col>FTA</th><th scope=col>TOV</th><th scope=col>PF</th><th scope=col>ORB</th><th scope=col>DRB</th><th scope=col>REB</th><th scope=col>AST</th><th scope=col>STL</th><th scope=col>BLK</th><th scope=col>PTS</th><th scope=col>age</th></tr>\n",
       "\t<tr><th></th><th scope=col>&lt;dbl&gt;</th><th scope=col>&lt;int&gt;</th><th scope=col>&lt;dbl&gt;</th><th scope=col>&lt;int&gt;</th><th scope=col>&lt;int&gt;</th><th scope=col>&lt;int&gt;</th><th scope=col>&lt;int&gt;</th><th scope=col>&lt;int&gt;</th><th scope=col>&lt;int&gt;</th><th scope=col>&lt;int&gt;</th><th scope=col>&lt;int&gt;</th><th scope=col>&lt;int&gt;</th><th scope=col>&lt;int&gt;</th><th scope=col>&lt;int&gt;</th><th scope=col>&lt;int&gt;</th><th scope=col>&lt;int&gt;</th><th scope=col>&lt;int&gt;</th><th scope=col>&lt;int&gt;</th><th scope=col>&lt;dbl&gt;</th></tr>\n",
       "</thead>\n",
       "<tbody>\n",
       "\t<tr><th scope=row>1</th><td>2000</td><td>79</td><td>3163</td><td>956</td><td>1665</td><td>  0</td><td>  1</td><td>432</td><td>824</td><td>223</td><td>255</td><td>336</td><td>742</td><td>1078</td><td>299</td><td> 36</td><td>239</td><td>2344</td><td>28</td></tr>\n",
       "\t<tr><th scope=row>2</th><td>2000</td><td>82</td><td>3126</td><td>788</td><td>1696</td><td> 95</td><td>236</td><td>436</td><td>551</td><td>178</td><td>263</td><td>150</td><td>326</td><td> 476</td><td>322</td><td>110</td><td> 92</td><td>2107</td><td>23</td></tr>\n",
       "\t<tr><th scope=row>3</th><td>2000</td><td>82</td><td>2947</td><td>752</td><td>1476</td><td>  2</td><td>  8</td><td>589</td><td>739</td><td>231</td><td>229</td><td>169</td><td>610</td><td> 779</td><td>304</td><td> 79</td><td> 71</td><td>2095</td><td>37</td></tr>\n",
       "\t<tr><th scope=row>4</th><td>2000</td><td>70</td><td>2853</td><td>729</td><td>1733</td><td> 89</td><td>261</td><td>442</td><td>620</td><td>230</td><td>162</td><td> 71</td><td>196</td><td> 267</td><td>328</td><td>144</td><td>  5</td><td>1989</td><td>25</td></tr>\n",
       "\t<tr><th scope=row>5</th><td>2000</td><td>82</td><td>3425</td><td>747</td><td>1666</td><td>177</td><td>520</td><td>311</td><td>423</td><td>224</td><td>178</td><td>100</td><td>429</td><td> 529</td><td>732</td><td>153</td><td> 18</td><td>1982</td><td>32</td></tr>\n",
       "\t<tr><th scope=row>6</th><td>2000</td><td>82</td><td>3148</td><td>619</td><td>1447</td><td> 83</td><td>288</td><td>618</td><td>758</td><td>311</td><td>188</td><td>118</td><td>197</td><td> 315</td><td>365</td><td>103</td><td> 36</td><td>1939</td><td>26</td></tr>\n",
       "</tbody>\n",
       "</table>\n"
      ],
      "text/latex": [
       "A data.frame: 6 × 19\n",
       "\\begin{tabular}{r|lllllllllllllllllll}\n",
       "  & year & GP & MIN & FGM & FGA & X3PM & X3PA & FTM & FTA & TOV & PF & ORB & DRB & REB & AST & STL & BLK & PTS & age\\\\\n",
       "  & <dbl> & <int> & <dbl> & <int> & <int> & <int> & <int> & <int> & <int> & <int> & <int> & <int> & <int> & <int> & <int> & <int> & <int> & <int> & <dbl>\\\\\n",
       "\\hline\n",
       "\t1 & 2000 & 79 & 3163 & 956 & 1665 &   0 &   1 & 432 & 824 & 223 & 255 & 336 & 742 & 1078 & 299 &  36 & 239 & 2344 & 28\\\\\n",
       "\t2 & 2000 & 82 & 3126 & 788 & 1696 &  95 & 236 & 436 & 551 & 178 & 263 & 150 & 326 &  476 & 322 & 110 &  92 & 2107 & 23\\\\\n",
       "\t3 & 2000 & 82 & 2947 & 752 & 1476 &   2 &   8 & 589 & 739 & 231 & 229 & 169 & 610 &  779 & 304 &  79 &  71 & 2095 & 37\\\\\n",
       "\t4 & 2000 & 70 & 2853 & 729 & 1733 &  89 & 261 & 442 & 620 & 230 & 162 &  71 & 196 &  267 & 328 & 144 &   5 & 1989 & 25\\\\\n",
       "\t5 & 2000 & 82 & 3425 & 747 & 1666 & 177 & 520 & 311 & 423 & 224 & 178 & 100 & 429 &  529 & 732 & 153 &  18 & 1982 & 32\\\\\n",
       "\t6 & 2000 & 82 & 3148 & 619 & 1447 &  83 & 288 & 618 & 758 & 311 & 188 & 118 & 197 &  315 & 365 & 103 &  36 & 1939 & 26\\\\\n",
       "\\end{tabular}\n"
      ],
      "text/markdown": [
       "\n",
       "A data.frame: 6 × 19\n",
       "\n",
       "| <!--/--> | year &lt;dbl&gt; | GP &lt;int&gt; | MIN &lt;dbl&gt; | FGM &lt;int&gt; | FGA &lt;int&gt; | X3PM &lt;int&gt; | X3PA &lt;int&gt; | FTM &lt;int&gt; | FTA &lt;int&gt; | TOV &lt;int&gt; | PF &lt;int&gt; | ORB &lt;int&gt; | DRB &lt;int&gt; | REB &lt;int&gt; | AST &lt;int&gt; | STL &lt;int&gt; | BLK &lt;int&gt; | PTS &lt;int&gt; | age &lt;dbl&gt; |\n",
       "|---|---|---|---|---|---|---|---|---|---|---|---|---|---|---|---|---|---|---|---|\n",
       "| 1 | 2000 | 79 | 3163 | 956 | 1665 |   0 |   1 | 432 | 824 | 223 | 255 | 336 | 742 | 1078 | 299 |  36 | 239 | 2344 | 28 |\n",
       "| 2 | 2000 | 82 | 3126 | 788 | 1696 |  95 | 236 | 436 | 551 | 178 | 263 | 150 | 326 |  476 | 322 | 110 |  92 | 2107 | 23 |\n",
       "| 3 | 2000 | 82 | 2947 | 752 | 1476 |   2 |   8 | 589 | 739 | 231 | 229 | 169 | 610 |  779 | 304 |  79 |  71 | 2095 | 37 |\n",
       "| 4 | 2000 | 70 | 2853 | 729 | 1733 |  89 | 261 | 442 | 620 | 230 | 162 |  71 | 196 |  267 | 328 | 144 |   5 | 1989 | 25 |\n",
       "| 5 | 2000 | 82 | 3425 | 747 | 1666 | 177 | 520 | 311 | 423 | 224 | 178 | 100 | 429 |  529 | 732 | 153 |  18 | 1982 | 32 |\n",
       "| 6 | 2000 | 82 | 3148 | 619 | 1447 |  83 | 288 | 618 | 758 | 311 | 188 | 118 | 197 |  315 | 365 | 103 |  36 | 1939 | 26 |\n",
       "\n"
      ],
      "text/plain": [
       "  year GP MIN  FGM FGA  X3PM X3PA FTM FTA TOV PF  ORB DRB REB  AST STL BLK PTS \n",
       "1 2000 79 3163 956 1665   0    1  432 824 223 255 336 742 1078 299  36 239 2344\n",
       "2 2000 82 3126 788 1696  95  236  436 551 178 263 150 326  476 322 110  92 2107\n",
       "3 2000 82 2947 752 1476   2    8  589 739 231 229 169 610  779 304  79  71 2095\n",
       "4 2000 70 2853 729 1733  89  261  442 620 230 162  71 196  267 328 144   5 1989\n",
       "5 2000 82 3425 747 1666 177  520  311 423 224 178 100 429  529 732 153  18 1982\n",
       "6 2000 82 3148 619 1447  83  288  618 758 311 188 118 197  315 365 103  36 1939\n",
       "  age\n",
       "1 28 \n",
       "2 23 \n",
       "3 37 \n",
       "4 25 \n",
       "5 32 \n",
       "6 26 "
      ]
     },
     "metadata": {},
     "output_type": "display_data"
    }
   ],
   "source": [
    "head(NBA_data %>% select(2,7:24))"
   ]
  },
  {
   "cell_type": "code",
   "execution_count": 6,
   "metadata": {},
   "outputs": [
    {
     "name": "stderr",
     "output_type": "stream",
     "text": [
      "`summarise()` ungrouping output (override with `.groups` argument)\n",
      "\n",
      "Warning message:\n",
      "\"`funs()` is deprecated as of dplyr 0.8.0.\n",
      "Please use a list of either functions or lambdas: \n",
      "\n",
      "  # Simple named list: \n",
      "  list(mean = mean, median = median)\n",
      "\n",
      "  # Auto named with `tibble::lst()`: \n",
      "  tibble::lst(mean, median)\n",
      "\n",
      "  # Using lambdas\n",
      "  list(~ mean(., trim = .2), ~ median(., na.rm = TRUE))\n",
      "\u001b[90mThis warning is displayed once every 8 hours.\u001b[39m\n",
      "\u001b[90mCall `lifecycle::last_warnings()` to see where this warning was generated.\u001b[39m\"\n"
     ]
    },
    {
     "data": {
      "text/html": [
       "<table>\n",
       "<caption>A tibble: 23 × 19</caption>\n",
       "<thead>\n",
       "\t<tr><th scope=col>age</th><th scope=col>year</th><th scope=col>GP</th><th scope=col>MIN</th><th scope=col>FGM</th><th scope=col>FGA</th><th scope=col>X3PM</th><th scope=col>X3PA</th><th scope=col>FTM</th><th scope=col>FTA</th><th scope=col>TOV</th><th scope=col>PF</th><th scope=col>ORB</th><th scope=col>DRB</th><th scope=col>REB</th><th scope=col>AST</th><th scope=col>STL</th><th scope=col>BLK</th><th scope=col>PTS</th></tr>\n",
       "\t<tr><th scope=col>&lt;dbl&gt;</th><th scope=col>&lt;dbl&gt;</th><th scope=col>&lt;dbl&gt;</th><th scope=col>&lt;dbl&gt;</th><th scope=col>&lt;dbl&gt;</th><th scope=col>&lt;dbl&gt;</th><th scope=col>&lt;dbl&gt;</th><th scope=col>&lt;dbl&gt;</th><th scope=col>&lt;dbl&gt;</th><th scope=col>&lt;dbl&gt;</th><th scope=col>&lt;dbl&gt;</th><th scope=col>&lt;dbl&gt;</th><th scope=col>&lt;dbl&gt;</th><th scope=col>&lt;dbl&gt;</th><th scope=col>&lt;dbl&gt;</th><th scope=col>&lt;dbl&gt;</th><th scope=col>&lt;dbl&gt;</th><th scope=col>&lt;dbl&gt;</th><th scope=col>&lt;dbl&gt;</th></tr>\n",
       "</thead>\n",
       "<tbody>\n",
       "\t<tr><td>20</td><td>2011.6</td><td>75.0</td><td>1836.6</td><td>277.8</td><td>635.0</td><td> 47.2</td><td>143.9</td><td>139.4</td><td>193.3</td><td>115.0</td><td>160.0</td><td> 90.3</td><td>233.9</td><td>324.2</td><td>129.8</td><td>51.4</td><td>48.6</td><td>742.2</td></tr>\n",
       "\t<tr><td>21</td><td>2011.2</td><td>75.7</td><td>1945.2</td><td>308.3</td><td>679.2</td><td> 47.9</td><td>142.0</td><td>155.0</td><td>212.7</td><td>124.0</td><td>174.6</td><td>102.1</td><td>259.7</td><td>361.8</td><td>162.1</td><td>63.9</td><td>48.5</td><td>819.4</td></tr>\n",
       "\t<tr><td>22</td><td>2011.0</td><td>74.8</td><td>1934.0</td><td>316.4</td><td>688.8</td><td> 49.2</td><td>142.5</td><td>158.4</td><td>213.8</td><td>120.2</td><td>172.2</td><td> 99.3</td><td>257.7</td><td>357.0</td><td>166.5</td><td>61.6</td><td>45.4</td><td>840.3</td></tr>\n",
       "\t<tr><td>23</td><td>2010.2</td><td>75.0</td><td>1993.4</td><td>328.0</td><td>714.7</td><td> 52.2</td><td>150.1</td><td>164.9</td><td>220.9</td><td>123.8</td><td>172.6</td><td> 99.6</td><td>268.2</td><td>367.8</td><td>186.9</td><td>66.1</td><td>43.0</td><td>873.1</td></tr>\n",
       "\t<tr><td>24</td><td>2010.1</td><td>75.5</td><td>1976.8</td><td>324.8</td><td>704.5</td><td> 55.4</td><td>156.4</td><td>161.3</td><td>214.6</td><td>117.6</td><td>171.0</td><td> 95.3</td><td>256.8</td><td>352.2</td><td>178.8</td><td>65.1</td><td>41.9</td><td>866.3</td></tr>\n",
       "\t<tr><td>25</td><td>2010.3</td><td>75.0</td><td>2031.4</td><td>335.8</td><td>727.7</td><td> 60.9</td><td>169.9</td><td>169.2</td><td>222.7</td><td>118.7</td><td>171.7</td><td> 96.9</td><td>266.0</td><td>362.9</td><td>182.6</td><td>65.5</td><td>42.1</td><td>901.7</td></tr>\n",
       "\t<tr><td>26</td><td>2010.0</td><td>75.3</td><td>2046.4</td><td>336.0</td><td>729.6</td><td> 62.5</td><td>172.4</td><td>174.5</td><td>227.0</td><td>118.9</td><td>170.5</td><td> 98.2</td><td>271.7</td><td>369.9</td><td>185.1</td><td>65.4</td><td>41.9</td><td>909.1</td></tr>\n",
       "\t<tr><td>27</td><td>2010.2</td><td>75.0</td><td>2071.6</td><td>337.5</td><td>733.2</td><td> 65.3</td><td>178.1</td><td>167.7</td><td>217.2</td><td>117.8</td><td>171.3</td><td> 94.6</td><td>270.8</td><td>365.3</td><td>192.0</td><td>65.2</td><td>41.9</td><td>908.1</td></tr>\n",
       "\t<tr><td>28</td><td>2010.2</td><td>75.6</td><td>2090.8</td><td>345.1</td><td>751.8</td><td> 67.2</td><td>184.5</td><td>173.6</td><td>225.3</td><td>120.4</td><td>171.6</td><td> 92.9</td><td>269.8</td><td>362.7</td><td>199.3</td><td>65.0</td><td>42.2</td><td>931.0</td></tr>\n",
       "\t<tr><td>29</td><td>2010.1</td><td>75.0</td><td>2085.3</td><td>337.5</td><td>736.4</td><td> 72.5</td><td>197.2</td><td>168.2</td><td>217.0</td><td>119.9</td><td>171.0</td><td> 90.7</td><td>275.1</td><td>365.7</td><td>204.5</td><td>65.0</td><td>38.4</td><td>915.7</td></tr>\n",
       "\t<tr><td>30</td><td>2010.1</td><td>74.8</td><td>2040.3</td><td>321.4</td><td>703.2</td><td> 68.8</td><td>187.1</td><td>155.7</td><td>201.5</td><td>114.4</td><td>169.4</td><td> 88.0</td><td>265.7</td><td>353.7</td><td>191.2</td><td>64.0</td><td>38.9</td><td>867.3</td></tr>\n",
       "\t<tr><td>31</td><td>2010.0</td><td>75.3</td><td>2066.9</td><td>319.8</td><td>698.3</td><td> 69.1</td><td>186.0</td><td>153.9</td><td>197.8</td><td>112.0</td><td>172.2</td><td> 88.5</td><td>265.5</td><td>354.1</td><td>194.9</td><td>64.1</td><td>41.9</td><td>862.6</td></tr>\n",
       "\t<tr><td>32</td><td>2010.2</td><td>73.9</td><td>2009.1</td><td>307.4</td><td>670.3</td><td> 63.3</td><td>169.8</td><td>143.2</td><td>186.1</td><td>108.6</td><td>164.6</td><td> 85.4</td><td>256.7</td><td>342.1</td><td>195.2</td><td>62.4</td><td>36.4</td><td>821.2</td></tr>\n",
       "\t<tr><td>33</td><td>2009.6</td><td>75.5</td><td>2018.9</td><td>297.5</td><td>654.2</td><td> 64.2</td><td>173.5</td><td>139.9</td><td>181.8</td><td>104.7</td><td>164.2</td><td> 87.7</td><td>265.7</td><td>353.4</td><td>189.5</td><td>61.7</td><td>35.3</td><td>799.1</td></tr>\n",
       "\t<tr><td>34</td><td>2009.9</td><td>75.2</td><td>1996.7</td><td>291.0</td><td>640.9</td><td> 60.7</td><td>166.0</td><td>135.2</td><td>172.7</td><td>104.3</td><td>158.1</td><td> 83.3</td><td>274.6</td><td>357.9</td><td>198.6</td><td>59.4</td><td>38.4</td><td>777.8</td></tr>\n",
       "\t<tr><td>35</td><td>2008.7</td><td>74.0</td><td>1895.2</td><td>260.7</td><td>581.6</td><td> 60.3</td><td>162.4</td><td>118.2</td><td>148.9</td><td> 98.9</td><td>150.8</td><td> 67.6</td><td>230.1</td><td>297.7</td><td>200.0</td><td>58.7</td><td>31.0</td><td>699.9</td></tr>\n",
       "\t<tr><td>36</td><td>2008.8</td><td>74.3</td><td>1940.0</td><td>267.7</td><td>596.0</td><td> 58.6</td><td>159.5</td><td>120.3</td><td>155.7</td><td> 98.2</td><td>153.4</td><td> 81.6</td><td>258.4</td><td>340.0</td><td>190.7</td><td>57.3</td><td>43.2</td><td>714.2</td></tr>\n",
       "\t<tr><td>37</td><td>2007.7</td><td>75.2</td><td>1881.9</td><td>267.2</td><td>577.0</td><td> 49.5</td><td>130.0</td><td>133.9</td><td>172.3</td><td>103.5</td><td>155.0</td><td> 75.8</td><td>249.9</td><td>325.7</td><td>194.9</td><td>53.8</td><td>38.4</td><td>717.6</td></tr>\n",
       "\t<tr><td>38</td><td>2008.1</td><td>73.7</td><td>1711.8</td><td>229.3</td><td>522.0</td><td> 49.7</td><td>139.1</td><td>116.7</td><td>146.6</td><td> 97.6</td><td>136.9</td><td> 61.4</td><td>225.7</td><td>287.1</td><td>185.2</td><td>53.0</td><td>32.8</td><td>625.1</td></tr>\n",
       "\t<tr><td>39</td><td>2006.8</td><td>76.4</td><td>1707.8</td><td>239.4</td><td>533.8</td><td> 45.6</td><td>124.1</td><td>130.9</td><td>166.7</td><td> 98.9</td><td>140.9</td><td> 67.5</td><td>224.8</td><td>292.3</td><td>189.5</td><td>57.5</td><td>37.9</td><td>655.4</td></tr>\n",
       "\t<tr><td>40</td><td>2010.5</td><td>76.5</td><td>2030.0</td><td>301.5</td><td>683.9</td><td> 74.0</td><td>200.5</td><td>155.2</td><td>190.1</td><td> 98.8</td><td>154.8</td><td> 43.5</td><td>245.9</td><td>289.4</td><td>227.2</td><td>84.6</td><td>25.8</td><td>832.1</td></tr>\n",
       "\t<tr><td>41</td><td>2007.8</td><td>73.2</td><td>1425.9</td><td>179.5</td><td>378.2</td><td> 23.2</td><td> 68.5</td><td>114.5</td><td>147.0</td><td> 96.2</td><td>146.2</td><td> 79.2</td><td>185.0</td><td>264.2</td><td>207.2</td><td>55.5</td><td>32.0</td><td>496.8</td></tr>\n",
       "\t<tr><td>42</td><td>2019.0</td><td>76.0</td><td>1330.3</td><td>196.0</td><td>468.0</td><td>123.0</td><td>316.0</td><td> 47.0</td><td> 66.0</td><td> 48.0</td><td>141.0</td><td> 31.0</td><td>163.0</td><td>194.0</td><td> 87.0</td><td>44.0</td><td>27.0</td><td>562.0</td></tr>\n",
       "</tbody>\n",
       "</table>\n"
      ],
      "text/latex": [
       "A tibble: 23 × 19\n",
       "\\begin{tabular}{lllllllllllllllllll}\n",
       " age & year & GP & MIN & FGM & FGA & X3PM & X3PA & FTM & FTA & TOV & PF & ORB & DRB & REB & AST & STL & BLK & PTS\\\\\n",
       " <dbl> & <dbl> & <dbl> & <dbl> & <dbl> & <dbl> & <dbl> & <dbl> & <dbl> & <dbl> & <dbl> & <dbl> & <dbl> & <dbl> & <dbl> & <dbl> & <dbl> & <dbl> & <dbl>\\\\\n",
       "\\hline\n",
       "\t 20 & 2011.6 & 75.0 & 1836.6 & 277.8 & 635.0 &  47.2 & 143.9 & 139.4 & 193.3 & 115.0 & 160.0 &  90.3 & 233.9 & 324.2 & 129.8 & 51.4 & 48.6 & 742.2\\\\\n",
       "\t 21 & 2011.2 & 75.7 & 1945.2 & 308.3 & 679.2 &  47.9 & 142.0 & 155.0 & 212.7 & 124.0 & 174.6 & 102.1 & 259.7 & 361.8 & 162.1 & 63.9 & 48.5 & 819.4\\\\\n",
       "\t 22 & 2011.0 & 74.8 & 1934.0 & 316.4 & 688.8 &  49.2 & 142.5 & 158.4 & 213.8 & 120.2 & 172.2 &  99.3 & 257.7 & 357.0 & 166.5 & 61.6 & 45.4 & 840.3\\\\\n",
       "\t 23 & 2010.2 & 75.0 & 1993.4 & 328.0 & 714.7 &  52.2 & 150.1 & 164.9 & 220.9 & 123.8 & 172.6 &  99.6 & 268.2 & 367.8 & 186.9 & 66.1 & 43.0 & 873.1\\\\\n",
       "\t 24 & 2010.1 & 75.5 & 1976.8 & 324.8 & 704.5 &  55.4 & 156.4 & 161.3 & 214.6 & 117.6 & 171.0 &  95.3 & 256.8 & 352.2 & 178.8 & 65.1 & 41.9 & 866.3\\\\\n",
       "\t 25 & 2010.3 & 75.0 & 2031.4 & 335.8 & 727.7 &  60.9 & 169.9 & 169.2 & 222.7 & 118.7 & 171.7 &  96.9 & 266.0 & 362.9 & 182.6 & 65.5 & 42.1 & 901.7\\\\\n",
       "\t 26 & 2010.0 & 75.3 & 2046.4 & 336.0 & 729.6 &  62.5 & 172.4 & 174.5 & 227.0 & 118.9 & 170.5 &  98.2 & 271.7 & 369.9 & 185.1 & 65.4 & 41.9 & 909.1\\\\\n",
       "\t 27 & 2010.2 & 75.0 & 2071.6 & 337.5 & 733.2 &  65.3 & 178.1 & 167.7 & 217.2 & 117.8 & 171.3 &  94.6 & 270.8 & 365.3 & 192.0 & 65.2 & 41.9 & 908.1\\\\\n",
       "\t 28 & 2010.2 & 75.6 & 2090.8 & 345.1 & 751.8 &  67.2 & 184.5 & 173.6 & 225.3 & 120.4 & 171.6 &  92.9 & 269.8 & 362.7 & 199.3 & 65.0 & 42.2 & 931.0\\\\\n",
       "\t 29 & 2010.1 & 75.0 & 2085.3 & 337.5 & 736.4 &  72.5 & 197.2 & 168.2 & 217.0 & 119.9 & 171.0 &  90.7 & 275.1 & 365.7 & 204.5 & 65.0 & 38.4 & 915.7\\\\\n",
       "\t 30 & 2010.1 & 74.8 & 2040.3 & 321.4 & 703.2 &  68.8 & 187.1 & 155.7 & 201.5 & 114.4 & 169.4 &  88.0 & 265.7 & 353.7 & 191.2 & 64.0 & 38.9 & 867.3\\\\\n",
       "\t 31 & 2010.0 & 75.3 & 2066.9 & 319.8 & 698.3 &  69.1 & 186.0 & 153.9 & 197.8 & 112.0 & 172.2 &  88.5 & 265.5 & 354.1 & 194.9 & 64.1 & 41.9 & 862.6\\\\\n",
       "\t 32 & 2010.2 & 73.9 & 2009.1 & 307.4 & 670.3 &  63.3 & 169.8 & 143.2 & 186.1 & 108.6 & 164.6 &  85.4 & 256.7 & 342.1 & 195.2 & 62.4 & 36.4 & 821.2\\\\\n",
       "\t 33 & 2009.6 & 75.5 & 2018.9 & 297.5 & 654.2 &  64.2 & 173.5 & 139.9 & 181.8 & 104.7 & 164.2 &  87.7 & 265.7 & 353.4 & 189.5 & 61.7 & 35.3 & 799.1\\\\\n",
       "\t 34 & 2009.9 & 75.2 & 1996.7 & 291.0 & 640.9 &  60.7 & 166.0 & 135.2 & 172.7 & 104.3 & 158.1 &  83.3 & 274.6 & 357.9 & 198.6 & 59.4 & 38.4 & 777.8\\\\\n",
       "\t 35 & 2008.7 & 74.0 & 1895.2 & 260.7 & 581.6 &  60.3 & 162.4 & 118.2 & 148.9 &  98.9 & 150.8 &  67.6 & 230.1 & 297.7 & 200.0 & 58.7 & 31.0 & 699.9\\\\\n",
       "\t 36 & 2008.8 & 74.3 & 1940.0 & 267.7 & 596.0 &  58.6 & 159.5 & 120.3 & 155.7 &  98.2 & 153.4 &  81.6 & 258.4 & 340.0 & 190.7 & 57.3 & 43.2 & 714.2\\\\\n",
       "\t 37 & 2007.7 & 75.2 & 1881.9 & 267.2 & 577.0 &  49.5 & 130.0 & 133.9 & 172.3 & 103.5 & 155.0 &  75.8 & 249.9 & 325.7 & 194.9 & 53.8 & 38.4 & 717.6\\\\\n",
       "\t 38 & 2008.1 & 73.7 & 1711.8 & 229.3 & 522.0 &  49.7 & 139.1 & 116.7 & 146.6 &  97.6 & 136.9 &  61.4 & 225.7 & 287.1 & 185.2 & 53.0 & 32.8 & 625.1\\\\\n",
       "\t 39 & 2006.8 & 76.4 & 1707.8 & 239.4 & 533.8 &  45.6 & 124.1 & 130.9 & 166.7 &  98.9 & 140.9 &  67.5 & 224.8 & 292.3 & 189.5 & 57.5 & 37.9 & 655.4\\\\\n",
       "\t 40 & 2010.5 & 76.5 & 2030.0 & 301.5 & 683.9 &  74.0 & 200.5 & 155.2 & 190.1 &  98.8 & 154.8 &  43.5 & 245.9 & 289.4 & 227.2 & 84.6 & 25.8 & 832.1\\\\\n",
       "\t 41 & 2007.8 & 73.2 & 1425.9 & 179.5 & 378.2 &  23.2 &  68.5 & 114.5 & 147.0 &  96.2 & 146.2 &  79.2 & 185.0 & 264.2 & 207.2 & 55.5 & 32.0 & 496.8\\\\\n",
       "\t 42 & 2019.0 & 76.0 & 1330.3 & 196.0 & 468.0 & 123.0 & 316.0 &  47.0 &  66.0 &  48.0 & 141.0 &  31.0 & 163.0 & 194.0 &  87.0 & 44.0 & 27.0 & 562.0\\\\\n",
       "\\end{tabular}\n"
      ],
      "text/markdown": [
       "\n",
       "A tibble: 23 × 19\n",
       "\n",
       "| age &lt;dbl&gt; | year &lt;dbl&gt; | GP &lt;dbl&gt; | MIN &lt;dbl&gt; | FGM &lt;dbl&gt; | FGA &lt;dbl&gt; | X3PM &lt;dbl&gt; | X3PA &lt;dbl&gt; | FTM &lt;dbl&gt; | FTA &lt;dbl&gt; | TOV &lt;dbl&gt; | PF &lt;dbl&gt; | ORB &lt;dbl&gt; | DRB &lt;dbl&gt; | REB &lt;dbl&gt; | AST &lt;dbl&gt; | STL &lt;dbl&gt; | BLK &lt;dbl&gt; | PTS &lt;dbl&gt; |\n",
       "|---|---|---|---|---|---|---|---|---|---|---|---|---|---|---|---|---|---|---|\n",
       "| 20 | 2011.6 | 75.0 | 1836.6 | 277.8 | 635.0 |  47.2 | 143.9 | 139.4 | 193.3 | 115.0 | 160.0 |  90.3 | 233.9 | 324.2 | 129.8 | 51.4 | 48.6 | 742.2 |\n",
       "| 21 | 2011.2 | 75.7 | 1945.2 | 308.3 | 679.2 |  47.9 | 142.0 | 155.0 | 212.7 | 124.0 | 174.6 | 102.1 | 259.7 | 361.8 | 162.1 | 63.9 | 48.5 | 819.4 |\n",
       "| 22 | 2011.0 | 74.8 | 1934.0 | 316.4 | 688.8 |  49.2 | 142.5 | 158.4 | 213.8 | 120.2 | 172.2 |  99.3 | 257.7 | 357.0 | 166.5 | 61.6 | 45.4 | 840.3 |\n",
       "| 23 | 2010.2 | 75.0 | 1993.4 | 328.0 | 714.7 |  52.2 | 150.1 | 164.9 | 220.9 | 123.8 | 172.6 |  99.6 | 268.2 | 367.8 | 186.9 | 66.1 | 43.0 | 873.1 |\n",
       "| 24 | 2010.1 | 75.5 | 1976.8 | 324.8 | 704.5 |  55.4 | 156.4 | 161.3 | 214.6 | 117.6 | 171.0 |  95.3 | 256.8 | 352.2 | 178.8 | 65.1 | 41.9 | 866.3 |\n",
       "| 25 | 2010.3 | 75.0 | 2031.4 | 335.8 | 727.7 |  60.9 | 169.9 | 169.2 | 222.7 | 118.7 | 171.7 |  96.9 | 266.0 | 362.9 | 182.6 | 65.5 | 42.1 | 901.7 |\n",
       "| 26 | 2010.0 | 75.3 | 2046.4 | 336.0 | 729.6 |  62.5 | 172.4 | 174.5 | 227.0 | 118.9 | 170.5 |  98.2 | 271.7 | 369.9 | 185.1 | 65.4 | 41.9 | 909.1 |\n",
       "| 27 | 2010.2 | 75.0 | 2071.6 | 337.5 | 733.2 |  65.3 | 178.1 | 167.7 | 217.2 | 117.8 | 171.3 |  94.6 | 270.8 | 365.3 | 192.0 | 65.2 | 41.9 | 908.1 |\n",
       "| 28 | 2010.2 | 75.6 | 2090.8 | 345.1 | 751.8 |  67.2 | 184.5 | 173.6 | 225.3 | 120.4 | 171.6 |  92.9 | 269.8 | 362.7 | 199.3 | 65.0 | 42.2 | 931.0 |\n",
       "| 29 | 2010.1 | 75.0 | 2085.3 | 337.5 | 736.4 |  72.5 | 197.2 | 168.2 | 217.0 | 119.9 | 171.0 |  90.7 | 275.1 | 365.7 | 204.5 | 65.0 | 38.4 | 915.7 |\n",
       "| 30 | 2010.1 | 74.8 | 2040.3 | 321.4 | 703.2 |  68.8 | 187.1 | 155.7 | 201.5 | 114.4 | 169.4 |  88.0 | 265.7 | 353.7 | 191.2 | 64.0 | 38.9 | 867.3 |\n",
       "| 31 | 2010.0 | 75.3 | 2066.9 | 319.8 | 698.3 |  69.1 | 186.0 | 153.9 | 197.8 | 112.0 | 172.2 |  88.5 | 265.5 | 354.1 | 194.9 | 64.1 | 41.9 | 862.6 |\n",
       "| 32 | 2010.2 | 73.9 | 2009.1 | 307.4 | 670.3 |  63.3 | 169.8 | 143.2 | 186.1 | 108.6 | 164.6 |  85.4 | 256.7 | 342.1 | 195.2 | 62.4 | 36.4 | 821.2 |\n",
       "| 33 | 2009.6 | 75.5 | 2018.9 | 297.5 | 654.2 |  64.2 | 173.5 | 139.9 | 181.8 | 104.7 | 164.2 |  87.7 | 265.7 | 353.4 | 189.5 | 61.7 | 35.3 | 799.1 |\n",
       "| 34 | 2009.9 | 75.2 | 1996.7 | 291.0 | 640.9 |  60.7 | 166.0 | 135.2 | 172.7 | 104.3 | 158.1 |  83.3 | 274.6 | 357.9 | 198.6 | 59.4 | 38.4 | 777.8 |\n",
       "| 35 | 2008.7 | 74.0 | 1895.2 | 260.7 | 581.6 |  60.3 | 162.4 | 118.2 | 148.9 |  98.9 | 150.8 |  67.6 | 230.1 | 297.7 | 200.0 | 58.7 | 31.0 | 699.9 |\n",
       "| 36 | 2008.8 | 74.3 | 1940.0 | 267.7 | 596.0 |  58.6 | 159.5 | 120.3 | 155.7 |  98.2 | 153.4 |  81.6 | 258.4 | 340.0 | 190.7 | 57.3 | 43.2 | 714.2 |\n",
       "| 37 | 2007.7 | 75.2 | 1881.9 | 267.2 | 577.0 |  49.5 | 130.0 | 133.9 | 172.3 | 103.5 | 155.0 |  75.8 | 249.9 | 325.7 | 194.9 | 53.8 | 38.4 | 717.6 |\n",
       "| 38 | 2008.1 | 73.7 | 1711.8 | 229.3 | 522.0 |  49.7 | 139.1 | 116.7 | 146.6 |  97.6 | 136.9 |  61.4 | 225.7 | 287.1 | 185.2 | 53.0 | 32.8 | 625.1 |\n",
       "| 39 | 2006.8 | 76.4 | 1707.8 | 239.4 | 533.8 |  45.6 | 124.1 | 130.9 | 166.7 |  98.9 | 140.9 |  67.5 | 224.8 | 292.3 | 189.5 | 57.5 | 37.9 | 655.4 |\n",
       "| 40 | 2010.5 | 76.5 | 2030.0 | 301.5 | 683.9 |  74.0 | 200.5 | 155.2 | 190.1 |  98.8 | 154.8 |  43.5 | 245.9 | 289.4 | 227.2 | 84.6 | 25.8 | 832.1 |\n",
       "| 41 | 2007.8 | 73.2 | 1425.9 | 179.5 | 378.2 |  23.2 |  68.5 | 114.5 | 147.0 |  96.2 | 146.2 |  79.2 | 185.0 | 264.2 | 207.2 | 55.5 | 32.0 | 496.8 |\n",
       "| 42 | 2019.0 | 76.0 | 1330.3 | 196.0 | 468.0 | 123.0 | 316.0 |  47.0 |  66.0 |  48.0 | 141.0 |  31.0 | 163.0 | 194.0 |  87.0 | 44.0 | 27.0 | 562.0 |\n",
       "\n"
      ],
      "text/plain": [
       "   age year   GP   MIN    FGM   FGA   X3PM  X3PA  FTM   FTA   TOV   PF    ORB  \n",
       "1  20  2011.6 75.0 1836.6 277.8 635.0  47.2 143.9 139.4 193.3 115.0 160.0  90.3\n",
       "2  21  2011.2 75.7 1945.2 308.3 679.2  47.9 142.0 155.0 212.7 124.0 174.6 102.1\n",
       "3  22  2011.0 74.8 1934.0 316.4 688.8  49.2 142.5 158.4 213.8 120.2 172.2  99.3\n",
       "4  23  2010.2 75.0 1993.4 328.0 714.7  52.2 150.1 164.9 220.9 123.8 172.6  99.6\n",
       "5  24  2010.1 75.5 1976.8 324.8 704.5  55.4 156.4 161.3 214.6 117.6 171.0  95.3\n",
       "6  25  2010.3 75.0 2031.4 335.8 727.7  60.9 169.9 169.2 222.7 118.7 171.7  96.9\n",
       "7  26  2010.0 75.3 2046.4 336.0 729.6  62.5 172.4 174.5 227.0 118.9 170.5  98.2\n",
       "8  27  2010.2 75.0 2071.6 337.5 733.2  65.3 178.1 167.7 217.2 117.8 171.3  94.6\n",
       "9  28  2010.2 75.6 2090.8 345.1 751.8  67.2 184.5 173.6 225.3 120.4 171.6  92.9\n",
       "10 29  2010.1 75.0 2085.3 337.5 736.4  72.5 197.2 168.2 217.0 119.9 171.0  90.7\n",
       "11 30  2010.1 74.8 2040.3 321.4 703.2  68.8 187.1 155.7 201.5 114.4 169.4  88.0\n",
       "12 31  2010.0 75.3 2066.9 319.8 698.3  69.1 186.0 153.9 197.8 112.0 172.2  88.5\n",
       "13 32  2010.2 73.9 2009.1 307.4 670.3  63.3 169.8 143.2 186.1 108.6 164.6  85.4\n",
       "14 33  2009.6 75.5 2018.9 297.5 654.2  64.2 173.5 139.9 181.8 104.7 164.2  87.7\n",
       "15 34  2009.9 75.2 1996.7 291.0 640.9  60.7 166.0 135.2 172.7 104.3 158.1  83.3\n",
       "16 35  2008.7 74.0 1895.2 260.7 581.6  60.3 162.4 118.2 148.9  98.9 150.8  67.6\n",
       "17 36  2008.8 74.3 1940.0 267.7 596.0  58.6 159.5 120.3 155.7  98.2 153.4  81.6\n",
       "18 37  2007.7 75.2 1881.9 267.2 577.0  49.5 130.0 133.9 172.3 103.5 155.0  75.8\n",
       "19 38  2008.1 73.7 1711.8 229.3 522.0  49.7 139.1 116.7 146.6  97.6 136.9  61.4\n",
       "20 39  2006.8 76.4 1707.8 239.4 533.8  45.6 124.1 130.9 166.7  98.9 140.9  67.5\n",
       "21 40  2010.5 76.5 2030.0 301.5 683.9  74.0 200.5 155.2 190.1  98.8 154.8  43.5\n",
       "22 41  2007.8 73.2 1425.9 179.5 378.2  23.2  68.5 114.5 147.0  96.2 146.2  79.2\n",
       "23 42  2019.0 76.0 1330.3 196.0 468.0 123.0 316.0  47.0  66.0  48.0 141.0  31.0\n",
       "   DRB   REB   AST   STL  BLK  PTS  \n",
       "1  233.9 324.2 129.8 51.4 48.6 742.2\n",
       "2  259.7 361.8 162.1 63.9 48.5 819.4\n",
       "3  257.7 357.0 166.5 61.6 45.4 840.3\n",
       "4  268.2 367.8 186.9 66.1 43.0 873.1\n",
       "5  256.8 352.2 178.8 65.1 41.9 866.3\n",
       "6  266.0 362.9 182.6 65.5 42.1 901.7\n",
       "7  271.7 369.9 185.1 65.4 41.9 909.1\n",
       "8  270.8 365.3 192.0 65.2 41.9 908.1\n",
       "9  269.8 362.7 199.3 65.0 42.2 931.0\n",
       "10 275.1 365.7 204.5 65.0 38.4 915.7\n",
       "11 265.7 353.7 191.2 64.0 38.9 867.3\n",
       "12 265.5 354.1 194.9 64.1 41.9 862.6\n",
       "13 256.7 342.1 195.2 62.4 36.4 821.2\n",
       "14 265.7 353.4 189.5 61.7 35.3 799.1\n",
       "15 274.6 357.9 198.6 59.4 38.4 777.8\n",
       "16 230.1 297.7 200.0 58.7 31.0 699.9\n",
       "17 258.4 340.0 190.7 57.3 43.2 714.2\n",
       "18 249.9 325.7 194.9 53.8 38.4 717.6\n",
       "19 225.7 287.1 185.2 53.0 32.8 625.1\n",
       "20 224.8 292.3 189.5 57.5 37.9 655.4\n",
       "21 245.9 289.4 227.2 84.6 25.8 832.1\n",
       "22 185.0 264.2 207.2 55.5 32.0 496.8\n",
       "23 163.0 194.0  87.0 44.0 27.0 562.0"
      ]
     },
     "metadata": {},
     "output_type": "display_data"
    }
   ],
   "source": [
    "NBA_grouped_age <- subset(NBA_data,select=c(2,7:24)) %>% group_by(age) %>% summarize(across(everything(), mean)) %>% mutate_at(vars(-age), funs(round(., 1)))\n",
    "NBA_grouped_age"
   ]
  },
  {
   "cell_type": "code",
   "execution_count": 15,
   "metadata": {},
   "outputs": [
    {
     "name": "stderr",
     "output_type": "stream",
     "text": [
      "`summarise()` ungrouping output (override with `.groups` argument)\n",
      "\n"
     ]
    },
    {
     "data": {
      "text/html": [
       "<table>\n",
       "<caption>A tibble: 21 × 20</caption>\n",
       "<thead>\n",
       "\t<tr><th scope=col>year</th><th scope=col>GP</th><th scope=col>MIN</th><th scope=col>FGM</th><th scope=col>FGA</th><th scope=col>X3PM</th><th scope=col>X3PA</th><th scope=col>FTM</th><th scope=col>FTA</th><th scope=col>TOV</th><th scope=col>PF</th><th scope=col>ORB</th><th scope=col>DRB</th><th scope=col>REB</th><th scope=col>AST</th><th scope=col>STL</th><th scope=col>BLK</th><th scope=col>PTS</th><th scope=col>age</th><th scope=col>height_cm</th></tr>\n",
       "\t<tr><th scope=col>&lt;dbl&gt;</th><th scope=col>&lt;dbl&gt;</th><th scope=col>&lt;dbl&gt;</th><th scope=col>&lt;dbl&gt;</th><th scope=col>&lt;dbl&gt;</th><th scope=col>&lt;dbl&gt;</th><th scope=col>&lt;dbl&gt;</th><th scope=col>&lt;dbl&gt;</th><th scope=col>&lt;dbl&gt;</th><th scope=col>&lt;dbl&gt;</th><th scope=col>&lt;dbl&gt;</th><th scope=col>&lt;dbl&gt;</th><th scope=col>&lt;dbl&gt;</th><th scope=col>&lt;dbl&gt;</th><th scope=col>&lt;dbl&gt;</th><th scope=col>&lt;dbl&gt;</th><th scope=col>&lt;dbl&gt;</th><th scope=col>&lt;dbl&gt;</th><th scope=col>&lt;dbl&gt;</th><th scope=col>&lt;dbl&gt;</th></tr>\n",
       "</thead>\n",
       "<tbody>\n",
       "\t<tr><td>2000</td><td>77.3</td><td>2096.2</td><td>331.3</td><td>728.7</td><td>44.1</td><td>122.5</td><td>172.8</td><td>228.2</td><td>130.5</td><td>195.0</td><td>106.6</td><td>268.8</td><td>375.3</td><td>201.3</td><td>69.6</td><td>45.4</td><td>879.4</td><td>28.8</td><td>200.5</td></tr>\n",
       "\t<tr><td>2001</td><td>77.3</td><td>2175.2</td><td>338.9</td><td>755.1</td><td>46.6</td><td>130.6</td><td>181.1</td><td>240.2</td><td>131.2</td><td>190.6</td><td>107.4</td><td>279.5</td><td>386.9</td><td>204.7</td><td>70.1</td><td>47.9</td><td>905.6</td><td>28.5</td><td>201.0</td></tr>\n",
       "\t<tr><td>2002</td><td>76.9</td><td>2159.0</td><td>332.1</td><td>733.0</td><td>49.4</td><td>135.9</td><td>168.3</td><td>221.9</td><td>122.2</td><td>181.8</td><td>110.0</td><td>275.4</td><td>385.4</td><td>201.1</td><td>69.4</td><td>49.0</td><td>881.8</td><td>28.1</td><td>201.1</td></tr>\n",
       "\t<tr><td>2003</td><td>76.6</td><td>2078.5</td><td>314.6</td><td>705.3</td><td>45.4</td><td>129.3</td><td>165.6</td><td>216.5</td><td>121.5</td><td>180.6</td><td>102.3</td><td>263.9</td><td>366.2</td><td>188.8</td><td>69.1</td><td>42.7</td><td>840.3</td><td>28.3</td><td>201.6</td></tr>\n",
       "\t<tr><td>2004</td><td>76.5</td><td>2136.2</td><td>318.2</td><td>715.6</td><td>47.8</td><td>136.8</td><td>167.8</td><td>222.0</td><td>125.4</td><td>180.3</td><td>106.3</td><td>271.4</td><td>377.8</td><td>192.2</td><td>70.1</td><td>46.6</td><td>851.9</td><td>27.8</td><td>201.5</td></tr>\n",
       "\t<tr><td>2005</td><td>75.2</td><td>2020.0</td><td>308.6</td><td>683.5</td><td>51.0</td><td>141.2</td><td>171.2</td><td>223.6</td><td>113.6</td><td>178.3</td><td> 98.9</td><td>248.6</td><td>347.5</td><td>183.7</td><td>63.1</td><td>39.8</td><td>839.5</td><td>28.0</td><td>200.4</td></tr>\n",
       "\t<tr><td>2006</td><td>76.4</td><td>2163.7</td><td>330.9</td><td>725.4</td><td>56.8</td><td>155.6</td><td>183.7</td><td>242.0</td><td>121.5</td><td>188.3</td><td> 93.6</td><td>262.8</td><td>356.4</td><td>192.8</td><td>63.7</td><td>38.5</td><td>902.3</td><td>27.6</td><td>200.5</td></tr>\n",
       "\t<tr><td>2007</td><td>76.1</td><td>2079.0</td><td>319.2</td><td>690.7</td><td>54.0</td><td>148.4</td><td>171.7</td><td>227.3</td><td>124.7</td><td>184.2</td><td> 92.7</td><td>257.6</td><td>350.3</td><td>188.6</td><td>62.4</td><td>39.7</td><td>864.1</td><td>27.6</td><td>200.7</td></tr>\n",
       "\t<tr><td>2008</td><td>76.3</td><td>2060.9</td><td>329.4</td><td>710.2</td><td>58.8</td><td>159.5</td><td>168.5</td><td>220.5</td><td>113.5</td><td>172.0</td><td> 96.3</td><td>266.6</td><td>362.9</td><td>186.0</td><td>62.4</td><td>41.3</td><td>886.1</td><td>27.5</td><td>201.2</td></tr>\n",
       "\t<tr><td>2009</td><td>76.0</td><td>2091.2</td><td>332.0</td><td>715.2</td><td>60.7</td><td>162.4</td><td>173.6</td><td>223.0</td><td>116.7</td><td>174.4</td><td> 91.3</td><td>261.8</td><td>353.2</td><td>190.4</td><td>63.0</td><td>40.1</td><td>898.2</td><td>27.3</td><td>200.4</td></tr>\n",
       "\t<tr><td>2010</td><td>76.4</td><td>2112.0</td><td>343.7</td><td>737.2</td><td>57.4</td><td>159.5</td><td>172.1</td><td>223.8</td><td>120.3</td><td>175.4</td><td> 94.7</td><td>275.7</td><td>370.4</td><td>190.7</td><td>63.4</td><td>41.8</td><td>917.0</td><td>27.5</td><td>200.8</td></tr>\n",
       "\t<tr><td>2011</td><td>76.8</td><td>2112.8</td><td>341.1</td><td>732.7</td><td>58.3</td><td>159.7</td><td>174.9</td><td>225.6</td><td>119.5</td><td>169.7</td><td> 92.6</td><td>268.0</td><td>360.6</td><td>198.7</td><td>64.7</td><td>40.8</td><td>915.5</td><td>27.4</td><td>200.7</td></tr>\n",
       "\t<tr><td>2012</td><td>64.1</td><td>1716.8</td><td>266.9</td><td>584.8</td><td>45.2</td><td>126.4</td><td>123.9</td><td>164.7</td><td> 96.1</td><td>133.8</td><td> 85.0</td><td>224.3</td><td>309.2</td><td>142.2</td><td>54.3</td><td>39.3</td><td>702.9</td><td>26.8</td><td>201.4</td></tr>\n",
       "\t<tr><td>2013</td><td>75.8</td><td>2001.9</td><td>319.1</td><td>693.6</td><td>58.6</td><td>160.6</td><td>145.5</td><td>191.6</td><td>116.8</td><td>157.9</td><td> 95.1</td><td>262.2</td><td>357.4</td><td>185.4</td><td>64.8</td><td>43.8</td><td>842.2</td><td>27.6</td><td>201.0</td></tr>\n",
       "\t<tr><td>2014</td><td>76.0</td><td>2039.4</td><td>329.4</td><td>719.9</td><td>69.4</td><td>190.3</td><td>158.6</td><td>207.2</td><td>119.5</td><td>165.5</td><td> 87.2</td><td>265.8</td><td>353.0</td><td>192.8</td><td>65.5</td><td>37.7</td><td>886.8</td><td>27.3</td><td>200.6</td></tr>\n",
       "\t<tr><td>2015</td><td>74.9</td><td>1948.1</td><td>310.2</td><td>679.0</td><td>63.9</td><td>179.3</td><td>142.9</td><td>189.1</td><td>111.9</td><td>156.7</td><td> 86.2</td><td>262.4</td><td>348.6</td><td>187.1</td><td>63.5</td><td>38.3</td><td>827.2</td><td>28.2</td><td>201.0</td></tr>\n",
       "\t<tr><td>2016</td><td>76.6</td><td>2016.2</td><td>327.4</td><td>716.1</td><td>73.5</td><td>204.1</td><td>152.3</td><td>199.8</td><td>114.9</td><td>160.9</td><td> 87.3</td><td>281.7</td><td>369.0</td><td>189.9</td><td>66.3</td><td>41.5</td><td>880.5</td><td>27.5</td><td>201.1</td></tr>\n",
       "\t<tr><td>2017</td><td>73.3</td><td>1840.2</td><td>303.1</td><td>658.6</td><td>74.9</td><td>208.6</td><td>140.1</td><td>180.2</td><td>102.6</td><td>147.5</td><td> 76.8</td><td>256.3</td><td>333.1</td><td>177.2</td><td>59.0</td><td>36.0</td><td>821.2</td><td>27.7</td><td>200.9</td></tr>\n",
       "\t<tr><td>2018</td><td>73.7</td><td>1840.6</td><td>305.2</td><td>655.8</td><td>80.7</td><td>220.3</td><td>127.1</td><td>165.7</td><td>103.2</td><td>148.4</td><td> 74.0</td><td>257.8</td><td>331.8</td><td>176.1</td><td>59.0</td><td>37.2</td><td>818.2</td><td>27.4</td><td>201.0</td></tr>\n",
       "\t<tr><td>2019</td><td>73.3</td><td>1885.5</td><td>330.9</td><td>710.8</td><td>92.6</td><td>256.7</td><td>145.0</td><td>186.8</td><td>106.6</td><td>157.0</td><td> 81.0</td><td>274.1</td><td>355.1</td><td>193.9</td><td>59.4</td><td>39.0</td><td>899.4</td><td>27.3</td><td>200.9</td></tr>\n",
       "\t<tr><td>2020</td><td>66.4</td><td>1731.6</td><td>301.2</td><td>646.8</td><td>92.9</td><td>253.4</td><td>130.6</td><td>167.6</td><td> 97.7</td><td>140.9</td><td> 68.9</td><td>251.9</td><td>320.9</td><td>177.7</td><td>53.8</td><td>35.5</td><td>826.0</td><td>27.0</td><td>200.7</td></tr>\n",
       "</tbody>\n",
       "</table>\n"
      ],
      "text/latex": [
       "A tibble: 21 × 20\n",
       "\\begin{tabular}{llllllllllllllllllll}\n",
       " year & GP & MIN & FGM & FGA & X3PM & X3PA & FTM & FTA & TOV & PF & ORB & DRB & REB & AST & STL & BLK & PTS & age & height\\_cm\\\\\n",
       " <dbl> & <dbl> & <dbl> & <dbl> & <dbl> & <dbl> & <dbl> & <dbl> & <dbl> & <dbl> & <dbl> & <dbl> & <dbl> & <dbl> & <dbl> & <dbl> & <dbl> & <dbl> & <dbl> & <dbl>\\\\\n",
       "\\hline\n",
       "\t 2000 & 77.3 & 2096.2 & 331.3 & 728.7 & 44.1 & 122.5 & 172.8 & 228.2 & 130.5 & 195.0 & 106.6 & 268.8 & 375.3 & 201.3 & 69.6 & 45.4 & 879.4 & 28.8 & 200.5\\\\\n",
       "\t 2001 & 77.3 & 2175.2 & 338.9 & 755.1 & 46.6 & 130.6 & 181.1 & 240.2 & 131.2 & 190.6 & 107.4 & 279.5 & 386.9 & 204.7 & 70.1 & 47.9 & 905.6 & 28.5 & 201.0\\\\\n",
       "\t 2002 & 76.9 & 2159.0 & 332.1 & 733.0 & 49.4 & 135.9 & 168.3 & 221.9 & 122.2 & 181.8 & 110.0 & 275.4 & 385.4 & 201.1 & 69.4 & 49.0 & 881.8 & 28.1 & 201.1\\\\\n",
       "\t 2003 & 76.6 & 2078.5 & 314.6 & 705.3 & 45.4 & 129.3 & 165.6 & 216.5 & 121.5 & 180.6 & 102.3 & 263.9 & 366.2 & 188.8 & 69.1 & 42.7 & 840.3 & 28.3 & 201.6\\\\\n",
       "\t 2004 & 76.5 & 2136.2 & 318.2 & 715.6 & 47.8 & 136.8 & 167.8 & 222.0 & 125.4 & 180.3 & 106.3 & 271.4 & 377.8 & 192.2 & 70.1 & 46.6 & 851.9 & 27.8 & 201.5\\\\\n",
       "\t 2005 & 75.2 & 2020.0 & 308.6 & 683.5 & 51.0 & 141.2 & 171.2 & 223.6 & 113.6 & 178.3 &  98.9 & 248.6 & 347.5 & 183.7 & 63.1 & 39.8 & 839.5 & 28.0 & 200.4\\\\\n",
       "\t 2006 & 76.4 & 2163.7 & 330.9 & 725.4 & 56.8 & 155.6 & 183.7 & 242.0 & 121.5 & 188.3 &  93.6 & 262.8 & 356.4 & 192.8 & 63.7 & 38.5 & 902.3 & 27.6 & 200.5\\\\\n",
       "\t 2007 & 76.1 & 2079.0 & 319.2 & 690.7 & 54.0 & 148.4 & 171.7 & 227.3 & 124.7 & 184.2 &  92.7 & 257.6 & 350.3 & 188.6 & 62.4 & 39.7 & 864.1 & 27.6 & 200.7\\\\\n",
       "\t 2008 & 76.3 & 2060.9 & 329.4 & 710.2 & 58.8 & 159.5 & 168.5 & 220.5 & 113.5 & 172.0 &  96.3 & 266.6 & 362.9 & 186.0 & 62.4 & 41.3 & 886.1 & 27.5 & 201.2\\\\\n",
       "\t 2009 & 76.0 & 2091.2 & 332.0 & 715.2 & 60.7 & 162.4 & 173.6 & 223.0 & 116.7 & 174.4 &  91.3 & 261.8 & 353.2 & 190.4 & 63.0 & 40.1 & 898.2 & 27.3 & 200.4\\\\\n",
       "\t 2010 & 76.4 & 2112.0 & 343.7 & 737.2 & 57.4 & 159.5 & 172.1 & 223.8 & 120.3 & 175.4 &  94.7 & 275.7 & 370.4 & 190.7 & 63.4 & 41.8 & 917.0 & 27.5 & 200.8\\\\\n",
       "\t 2011 & 76.8 & 2112.8 & 341.1 & 732.7 & 58.3 & 159.7 & 174.9 & 225.6 & 119.5 & 169.7 &  92.6 & 268.0 & 360.6 & 198.7 & 64.7 & 40.8 & 915.5 & 27.4 & 200.7\\\\\n",
       "\t 2012 & 64.1 & 1716.8 & 266.9 & 584.8 & 45.2 & 126.4 & 123.9 & 164.7 &  96.1 & 133.8 &  85.0 & 224.3 & 309.2 & 142.2 & 54.3 & 39.3 & 702.9 & 26.8 & 201.4\\\\\n",
       "\t 2013 & 75.8 & 2001.9 & 319.1 & 693.6 & 58.6 & 160.6 & 145.5 & 191.6 & 116.8 & 157.9 &  95.1 & 262.2 & 357.4 & 185.4 & 64.8 & 43.8 & 842.2 & 27.6 & 201.0\\\\\n",
       "\t 2014 & 76.0 & 2039.4 & 329.4 & 719.9 & 69.4 & 190.3 & 158.6 & 207.2 & 119.5 & 165.5 &  87.2 & 265.8 & 353.0 & 192.8 & 65.5 & 37.7 & 886.8 & 27.3 & 200.6\\\\\n",
       "\t 2015 & 74.9 & 1948.1 & 310.2 & 679.0 & 63.9 & 179.3 & 142.9 & 189.1 & 111.9 & 156.7 &  86.2 & 262.4 & 348.6 & 187.1 & 63.5 & 38.3 & 827.2 & 28.2 & 201.0\\\\\n",
       "\t 2016 & 76.6 & 2016.2 & 327.4 & 716.1 & 73.5 & 204.1 & 152.3 & 199.8 & 114.9 & 160.9 &  87.3 & 281.7 & 369.0 & 189.9 & 66.3 & 41.5 & 880.5 & 27.5 & 201.1\\\\\n",
       "\t 2017 & 73.3 & 1840.2 & 303.1 & 658.6 & 74.9 & 208.6 & 140.1 & 180.2 & 102.6 & 147.5 &  76.8 & 256.3 & 333.1 & 177.2 & 59.0 & 36.0 & 821.2 & 27.7 & 200.9\\\\\n",
       "\t 2018 & 73.7 & 1840.6 & 305.2 & 655.8 & 80.7 & 220.3 & 127.1 & 165.7 & 103.2 & 148.4 &  74.0 & 257.8 & 331.8 & 176.1 & 59.0 & 37.2 & 818.2 & 27.4 & 201.0\\\\\n",
       "\t 2019 & 73.3 & 1885.5 & 330.9 & 710.8 & 92.6 & 256.7 & 145.0 & 186.8 & 106.6 & 157.0 &  81.0 & 274.1 & 355.1 & 193.9 & 59.4 & 39.0 & 899.4 & 27.3 & 200.9\\\\\n",
       "\t 2020 & 66.4 & 1731.6 & 301.2 & 646.8 & 92.9 & 253.4 & 130.6 & 167.6 &  97.7 & 140.9 &  68.9 & 251.9 & 320.9 & 177.7 & 53.8 & 35.5 & 826.0 & 27.0 & 200.7\\\\\n",
       "\\end{tabular}\n"
      ],
      "text/markdown": [
       "\n",
       "A tibble: 21 × 20\n",
       "\n",
       "| year &lt;dbl&gt; | GP &lt;dbl&gt; | MIN &lt;dbl&gt; | FGM &lt;dbl&gt; | FGA &lt;dbl&gt; | X3PM &lt;dbl&gt; | X3PA &lt;dbl&gt; | FTM &lt;dbl&gt; | FTA &lt;dbl&gt; | TOV &lt;dbl&gt; | PF &lt;dbl&gt; | ORB &lt;dbl&gt; | DRB &lt;dbl&gt; | REB &lt;dbl&gt; | AST &lt;dbl&gt; | STL &lt;dbl&gt; | BLK &lt;dbl&gt; | PTS &lt;dbl&gt; | age &lt;dbl&gt; | height_cm &lt;dbl&gt; |\n",
       "|---|---|---|---|---|---|---|---|---|---|---|---|---|---|---|---|---|---|---|---|\n",
       "| 2000 | 77.3 | 2096.2 | 331.3 | 728.7 | 44.1 | 122.5 | 172.8 | 228.2 | 130.5 | 195.0 | 106.6 | 268.8 | 375.3 | 201.3 | 69.6 | 45.4 | 879.4 | 28.8 | 200.5 |\n",
       "| 2001 | 77.3 | 2175.2 | 338.9 | 755.1 | 46.6 | 130.6 | 181.1 | 240.2 | 131.2 | 190.6 | 107.4 | 279.5 | 386.9 | 204.7 | 70.1 | 47.9 | 905.6 | 28.5 | 201.0 |\n",
       "| 2002 | 76.9 | 2159.0 | 332.1 | 733.0 | 49.4 | 135.9 | 168.3 | 221.9 | 122.2 | 181.8 | 110.0 | 275.4 | 385.4 | 201.1 | 69.4 | 49.0 | 881.8 | 28.1 | 201.1 |\n",
       "| 2003 | 76.6 | 2078.5 | 314.6 | 705.3 | 45.4 | 129.3 | 165.6 | 216.5 | 121.5 | 180.6 | 102.3 | 263.9 | 366.2 | 188.8 | 69.1 | 42.7 | 840.3 | 28.3 | 201.6 |\n",
       "| 2004 | 76.5 | 2136.2 | 318.2 | 715.6 | 47.8 | 136.8 | 167.8 | 222.0 | 125.4 | 180.3 | 106.3 | 271.4 | 377.8 | 192.2 | 70.1 | 46.6 | 851.9 | 27.8 | 201.5 |\n",
       "| 2005 | 75.2 | 2020.0 | 308.6 | 683.5 | 51.0 | 141.2 | 171.2 | 223.6 | 113.6 | 178.3 |  98.9 | 248.6 | 347.5 | 183.7 | 63.1 | 39.8 | 839.5 | 28.0 | 200.4 |\n",
       "| 2006 | 76.4 | 2163.7 | 330.9 | 725.4 | 56.8 | 155.6 | 183.7 | 242.0 | 121.5 | 188.3 |  93.6 | 262.8 | 356.4 | 192.8 | 63.7 | 38.5 | 902.3 | 27.6 | 200.5 |\n",
       "| 2007 | 76.1 | 2079.0 | 319.2 | 690.7 | 54.0 | 148.4 | 171.7 | 227.3 | 124.7 | 184.2 |  92.7 | 257.6 | 350.3 | 188.6 | 62.4 | 39.7 | 864.1 | 27.6 | 200.7 |\n",
       "| 2008 | 76.3 | 2060.9 | 329.4 | 710.2 | 58.8 | 159.5 | 168.5 | 220.5 | 113.5 | 172.0 |  96.3 | 266.6 | 362.9 | 186.0 | 62.4 | 41.3 | 886.1 | 27.5 | 201.2 |\n",
       "| 2009 | 76.0 | 2091.2 | 332.0 | 715.2 | 60.7 | 162.4 | 173.6 | 223.0 | 116.7 | 174.4 |  91.3 | 261.8 | 353.2 | 190.4 | 63.0 | 40.1 | 898.2 | 27.3 | 200.4 |\n",
       "| 2010 | 76.4 | 2112.0 | 343.7 | 737.2 | 57.4 | 159.5 | 172.1 | 223.8 | 120.3 | 175.4 |  94.7 | 275.7 | 370.4 | 190.7 | 63.4 | 41.8 | 917.0 | 27.5 | 200.8 |\n",
       "| 2011 | 76.8 | 2112.8 | 341.1 | 732.7 | 58.3 | 159.7 | 174.9 | 225.6 | 119.5 | 169.7 |  92.6 | 268.0 | 360.6 | 198.7 | 64.7 | 40.8 | 915.5 | 27.4 | 200.7 |\n",
       "| 2012 | 64.1 | 1716.8 | 266.9 | 584.8 | 45.2 | 126.4 | 123.9 | 164.7 |  96.1 | 133.8 |  85.0 | 224.3 | 309.2 | 142.2 | 54.3 | 39.3 | 702.9 | 26.8 | 201.4 |\n",
       "| 2013 | 75.8 | 2001.9 | 319.1 | 693.6 | 58.6 | 160.6 | 145.5 | 191.6 | 116.8 | 157.9 |  95.1 | 262.2 | 357.4 | 185.4 | 64.8 | 43.8 | 842.2 | 27.6 | 201.0 |\n",
       "| 2014 | 76.0 | 2039.4 | 329.4 | 719.9 | 69.4 | 190.3 | 158.6 | 207.2 | 119.5 | 165.5 |  87.2 | 265.8 | 353.0 | 192.8 | 65.5 | 37.7 | 886.8 | 27.3 | 200.6 |\n",
       "| 2015 | 74.9 | 1948.1 | 310.2 | 679.0 | 63.9 | 179.3 | 142.9 | 189.1 | 111.9 | 156.7 |  86.2 | 262.4 | 348.6 | 187.1 | 63.5 | 38.3 | 827.2 | 28.2 | 201.0 |\n",
       "| 2016 | 76.6 | 2016.2 | 327.4 | 716.1 | 73.5 | 204.1 | 152.3 | 199.8 | 114.9 | 160.9 |  87.3 | 281.7 | 369.0 | 189.9 | 66.3 | 41.5 | 880.5 | 27.5 | 201.1 |\n",
       "| 2017 | 73.3 | 1840.2 | 303.1 | 658.6 | 74.9 | 208.6 | 140.1 | 180.2 | 102.6 | 147.5 |  76.8 | 256.3 | 333.1 | 177.2 | 59.0 | 36.0 | 821.2 | 27.7 | 200.9 |\n",
       "| 2018 | 73.7 | 1840.6 | 305.2 | 655.8 | 80.7 | 220.3 | 127.1 | 165.7 | 103.2 | 148.4 |  74.0 | 257.8 | 331.8 | 176.1 | 59.0 | 37.2 | 818.2 | 27.4 | 201.0 |\n",
       "| 2019 | 73.3 | 1885.5 | 330.9 | 710.8 | 92.6 | 256.7 | 145.0 | 186.8 | 106.6 | 157.0 |  81.0 | 274.1 | 355.1 | 193.9 | 59.4 | 39.0 | 899.4 | 27.3 | 200.9 |\n",
       "| 2020 | 66.4 | 1731.6 | 301.2 | 646.8 | 92.9 | 253.4 | 130.6 | 167.6 |  97.7 | 140.9 |  68.9 | 251.9 | 320.9 | 177.7 | 53.8 | 35.5 | 826.0 | 27.0 | 200.7 |\n",
       "\n"
      ],
      "text/plain": [
       "   year GP   MIN    FGM   FGA   X3PM X3PA  FTM   FTA   TOV   PF    ORB   DRB  \n",
       "1  2000 77.3 2096.2 331.3 728.7 44.1 122.5 172.8 228.2 130.5 195.0 106.6 268.8\n",
       "2  2001 77.3 2175.2 338.9 755.1 46.6 130.6 181.1 240.2 131.2 190.6 107.4 279.5\n",
       "3  2002 76.9 2159.0 332.1 733.0 49.4 135.9 168.3 221.9 122.2 181.8 110.0 275.4\n",
       "4  2003 76.6 2078.5 314.6 705.3 45.4 129.3 165.6 216.5 121.5 180.6 102.3 263.9\n",
       "5  2004 76.5 2136.2 318.2 715.6 47.8 136.8 167.8 222.0 125.4 180.3 106.3 271.4\n",
       "6  2005 75.2 2020.0 308.6 683.5 51.0 141.2 171.2 223.6 113.6 178.3  98.9 248.6\n",
       "7  2006 76.4 2163.7 330.9 725.4 56.8 155.6 183.7 242.0 121.5 188.3  93.6 262.8\n",
       "8  2007 76.1 2079.0 319.2 690.7 54.0 148.4 171.7 227.3 124.7 184.2  92.7 257.6\n",
       "9  2008 76.3 2060.9 329.4 710.2 58.8 159.5 168.5 220.5 113.5 172.0  96.3 266.6\n",
       "10 2009 76.0 2091.2 332.0 715.2 60.7 162.4 173.6 223.0 116.7 174.4  91.3 261.8\n",
       "11 2010 76.4 2112.0 343.7 737.2 57.4 159.5 172.1 223.8 120.3 175.4  94.7 275.7\n",
       "12 2011 76.8 2112.8 341.1 732.7 58.3 159.7 174.9 225.6 119.5 169.7  92.6 268.0\n",
       "13 2012 64.1 1716.8 266.9 584.8 45.2 126.4 123.9 164.7  96.1 133.8  85.0 224.3\n",
       "14 2013 75.8 2001.9 319.1 693.6 58.6 160.6 145.5 191.6 116.8 157.9  95.1 262.2\n",
       "15 2014 76.0 2039.4 329.4 719.9 69.4 190.3 158.6 207.2 119.5 165.5  87.2 265.8\n",
       "16 2015 74.9 1948.1 310.2 679.0 63.9 179.3 142.9 189.1 111.9 156.7  86.2 262.4\n",
       "17 2016 76.6 2016.2 327.4 716.1 73.5 204.1 152.3 199.8 114.9 160.9  87.3 281.7\n",
       "18 2017 73.3 1840.2 303.1 658.6 74.9 208.6 140.1 180.2 102.6 147.5  76.8 256.3\n",
       "19 2018 73.7 1840.6 305.2 655.8 80.7 220.3 127.1 165.7 103.2 148.4  74.0 257.8\n",
       "20 2019 73.3 1885.5 330.9 710.8 92.6 256.7 145.0 186.8 106.6 157.0  81.0 274.1\n",
       "21 2020 66.4 1731.6 301.2 646.8 92.9 253.4 130.6 167.6  97.7 140.9  68.9 251.9\n",
       "   REB   AST   STL  BLK  PTS   age  height_cm\n",
       "1  375.3 201.3 69.6 45.4 879.4 28.8 200.5    \n",
       "2  386.9 204.7 70.1 47.9 905.6 28.5 201.0    \n",
       "3  385.4 201.1 69.4 49.0 881.8 28.1 201.1    \n",
       "4  366.2 188.8 69.1 42.7 840.3 28.3 201.6    \n",
       "5  377.8 192.2 70.1 46.6 851.9 27.8 201.5    \n",
       "6  347.5 183.7 63.1 39.8 839.5 28.0 200.4    \n",
       "7  356.4 192.8 63.7 38.5 902.3 27.6 200.5    \n",
       "8  350.3 188.6 62.4 39.7 864.1 27.6 200.7    \n",
       "9  362.9 186.0 62.4 41.3 886.1 27.5 201.2    \n",
       "10 353.2 190.4 63.0 40.1 898.2 27.3 200.4    \n",
       "11 370.4 190.7 63.4 41.8 917.0 27.5 200.8    \n",
       "12 360.6 198.7 64.7 40.8 915.5 27.4 200.7    \n",
       "13 309.2 142.2 54.3 39.3 702.9 26.8 201.4    \n",
       "14 357.4 185.4 64.8 43.8 842.2 27.6 201.0    \n",
       "15 353.0 192.8 65.5 37.7 886.8 27.3 200.6    \n",
       "16 348.6 187.1 63.5 38.3 827.2 28.2 201.0    \n",
       "17 369.0 189.9 66.3 41.5 880.5 27.5 201.1    \n",
       "18 333.1 177.2 59.0 36.0 821.2 27.7 200.9    \n",
       "19 331.8 176.1 59.0 37.2 818.2 27.4 201.0    \n",
       "20 355.1 193.9 59.4 39.0 899.4 27.3 200.9    \n",
       "21 320.9 177.7 53.8 35.5 826.0 27.0 200.7    "
      ]
     },
     "metadata": {},
     "output_type": "display_data"
    }
   ],
   "source": [
    "NBA_grouped_year <- subset(NBA_data,select=c(2,7:24,29)) %>% group_by(year) %>% summarize(across(everything(), mean)) %>% mutate_at(vars(-year), funs(round(., 1)))\n",
    "NBA_grouped_year"
   ]
  },
  {
   "cell_type": "code",
   "execution_count": 8,
   "metadata": {},
   "outputs": [
    {
     "name": "stderr",
     "output_type": "stream",
     "text": [
      "`summarise()` ungrouping output (override with `.groups` argument)\n",
      "\n"
     ]
    },
    {
     "data": {
      "text/html": [
       "<table>\n",
       "<caption>A tibble: 31 × 20</caption>\n",
       "<thead>\n",
       "\t<tr><th scope=col>draft_pick</th><th scope=col>year</th><th scope=col>GP</th><th scope=col>MIN</th><th scope=col>FGM</th><th scope=col>FGA</th><th scope=col>X3PM</th><th scope=col>X3PA</th><th scope=col>FTM</th><th scope=col>FTA</th><th scope=col>TOV</th><th scope=col>PF</th><th scope=col>ORB</th><th scope=col>DRB</th><th scope=col>REB</th><th scope=col>AST</th><th scope=col>STL</th><th scope=col>BLK</th><th scope=col>PTS</th><th scope=col>age</th></tr>\n",
       "\t<tr><th scope=col>&lt;int&gt;</th><th scope=col>&lt;dbl&gt;</th><th scope=col>&lt;dbl&gt;</th><th scope=col>&lt;dbl&gt;</th><th scope=col>&lt;dbl&gt;</th><th scope=col>&lt;dbl&gt;</th><th scope=col>&lt;dbl&gt;</th><th scope=col>&lt;dbl&gt;</th><th scope=col>&lt;dbl&gt;</th><th scope=col>&lt;dbl&gt;</th><th scope=col>&lt;dbl&gt;</th><th scope=col>&lt;dbl&gt;</th><th scope=col>&lt;dbl&gt;</th><th scope=col>&lt;dbl&gt;</th><th scope=col>&lt;dbl&gt;</th><th scope=col>&lt;dbl&gt;</th><th scope=col>&lt;dbl&gt;</th><th scope=col>&lt;dbl&gt;</th><th scope=col>&lt;dbl&gt;</th><th scope=col>&lt;dbl&gt;</th></tr>\n",
       "</thead>\n",
       "<tbody>\n",
       "\t<tr><td> 1</td><td>2009.1</td><td>75.0</td><td>2395.7</td><td>477.6</td><td>970.4</td><td>40.2</td><td>115.4</td><td>268.9</td><td>376.7</td><td>165.1</td><td>190.6</td><td>142.2</td><td>396.5</td><td>538.8</td><td>228.1</td><td>70.4</td><td>80.0</td><td>1264.3</td><td>27.6</td></tr>\n",
       "\t<tr><td> 2</td><td>2009.3</td><td>75.8</td><td>2247.3</td><td>375.0</td><td>806.3</td><td>57.4</td><td>160.0</td><td>193.9</td><td>253.0</td><td>138.7</td><td>175.0</td><td>114.3</td><td>325.5</td><td>439.8</td><td>230.9</td><td>72.0</td><td>55.6</td><td>1001.3</td><td>28.0</td></tr>\n",
       "\t<tr><td> 3</td><td>2010.1</td><td>75.4</td><td>2256.0</td><td>398.2</td><td>859.0</td><td>75.2</td><td>204.4</td><td>225.5</td><td>283.7</td><td>143.1</td><td>180.3</td><td>104.3</td><td>308.0</td><td>412.4</td><td>231.5</td><td>66.5</td><td>48.8</td><td>1097.1</td><td>27.2</td></tr>\n",
       "\t<tr><td> 4</td><td>2009.7</td><td>75.1</td><td>2194.3</td><td>363.5</td><td>804.3</td><td>63.7</td><td>185.8</td><td>196.7</td><td>256.3</td><td>133.3</td><td>173.2</td><td> 97.5</td><td>298.9</td><td>396.4</td><td>243.3</td><td>74.4</td><td>42.0</td><td> 987.3</td><td>27.3</td></tr>\n",
       "\t<tr><td> 5</td><td>2010.4</td><td>75.9</td><td>2181.9</td><td>365.7</td><td>793.2</td><td>64.8</td><td>179.4</td><td>194.2</td><td>255.1</td><td>134.5</td><td>186.9</td><td>109.4</td><td>321.6</td><td>431.0</td><td>213.4</td><td>72.1</td><td>46.0</td><td> 990.4</td><td>28.2</td></tr>\n",
       "\t<tr><td> 6</td><td>2010.7</td><td>75.0</td><td>2046.9</td><td>337.4</td><td>730.0</td><td>72.0</td><td>195.2</td><td>156.4</td><td>204.9</td><td>113.6</td><td>172.7</td><td>105.0</td><td>284.2</td><td>389.2</td><td>164.5</td><td>60.9</td><td>43.2</td><td> 903.2</td><td>26.7</td></tr>\n",
       "\t<tr><td> 7</td><td>2010.1</td><td>75.3</td><td>2040.0</td><td>327.6</td><td>725.2</td><td>72.1</td><td>196.7</td><td>149.6</td><td>194.9</td><td>118.9</td><td>175.8</td><td> 88.2</td><td>251.6</td><td>339.8</td><td>186.9</td><td>64.3</td><td>37.0</td><td> 876.9</td><td>26.7</td></tr>\n",
       "\t<tr><td> 8</td><td>2010.5</td><td>75.5</td><td>2021.8</td><td>308.7</td><td>702.0</td><td>65.4</td><td>187.9</td><td>142.9</td><td>183.6</td><td>115.5</td><td>163.4</td><td> 78.3</td><td>231.9</td><td>310.2</td><td>197.6</td><td>65.5</td><td>36.0</td><td> 825.8</td><td>27.3</td></tr>\n",
       "\t<tr><td> 9</td><td>2010.2</td><td>75.6</td><td>2198.9</td><td>370.7</td><td>804.0</td><td>64.9</td><td>181.3</td><td>204.4</td><td>264.2</td><td>123.3</td><td>170.1</td><td>104.9</td><td>323.4</td><td>428.3</td><td>202.8</td><td>69.9</td><td>49.8</td><td>1010.8</td><td>27.4</td></tr>\n",
       "\t<tr><td>10</td><td>2010.3</td><td>75.9</td><td>2265.2</td><td>375.7</td><td>844.7</td><td>86.7</td><td>239.0</td><td>177.2</td><td>224.6</td><td>134.2</td><td>177.0</td><td> 77.8</td><td>264.4</td><td>342.2</td><td>231.4</td><td>75.4</td><td>39.1</td><td>1015.3</td><td>28.0</td></tr>\n",
       "\t<tr><td>11</td><td>2009.8</td><td>74.4</td><td>1891.7</td><td>300.9</td><td>664.3</td><td>77.6</td><td>206.0</td><td>134.2</td><td>169.7</td><td>106.4</td><td>157.3</td><td> 70.2</td><td>219.9</td><td>290.1</td><td>177.0</td><td>57.8</td><td>29.7</td><td> 813.7</td><td>27.9</td></tr>\n",
       "\t<tr><td>12</td><td>2011.1</td><td>74.8</td><td>1843.8</td><td>275.8</td><td>598.5</td><td>51.1</td><td>142.1</td><td>110.6</td><td>149.0</td><td> 93.1</td><td>167.7</td><td>102.5</td><td>248.1</td><td>350.6</td><td>119.7</td><td>57.0</td><td>34.6</td><td> 713.4</td><td>26.8</td></tr>\n",
       "\t<tr><td>13</td><td>2009.5</td><td>75.2</td><td>2015.5</td><td>344.9</td><td>752.6</td><td>57.0</td><td>159.1</td><td>210.8</td><td>266.0</td><td>124.6</td><td>179.5</td><td> 89.9</td><td>259.8</td><td>349.7</td><td>172.9</td><td>63.2</td><td>32.4</td><td> 957.5</td><td>27.9</td></tr>\n",
       "\t<tr><td>14</td><td>2009.2</td><td>75.3</td><td>2112.1</td><td>314.8</td><td>707.5</td><td>75.0</td><td>206.2</td><td>150.5</td><td>193.6</td><td>105.2</td><td>164.7</td><td> 83.8</td><td>250.6</td><td>334.4</td><td>169.4</td><td>69.7</td><td>26.5</td><td> 855.0</td><td>27.0</td></tr>\n",
       "\t<tr><td>15</td><td>2010.7</td><td>74.1</td><td>1933.5</td><td>329.1</td><td>695.6</td><td>60.4</td><td>163.3</td><td>169.5</td><td>216.2</td><td>118.6</td><td>156.6</td><td> 86.7</td><td>240.7</td><td>327.5</td><td>216.3</td><td>59.5</td><td>37.6</td><td> 888.1</td><td>27.8</td></tr>\n",
       "\t<tr><td>16</td><td>2010.4</td><td>74.4</td><td>1787.3</td><td>279.0</td><td>626.3</td><td>71.0</td><td>191.3</td><td>118.3</td><td>154.8</td><td> 95.2</td><td>158.7</td><td> 74.2</td><td>229.3</td><td>303.5</td><td>156.1</td><td>62.2</td><td>31.7</td><td> 747.3</td><td>28.5</td></tr>\n",
       "\t<tr><td>17</td><td>2009.6</td><td>74.9</td><td>2056.9</td><td>331.2</td><td>727.0</td><td>46.2</td><td>134.8</td><td>158.2</td><td>212.5</td><td>129.1</td><td>194.3</td><td>109.2</td><td>284.9</td><td>394.0</td><td>181.5</td><td>69.0</td><td>66.7</td><td> 866.9</td><td>27.2</td></tr>\n",
       "\t<tr><td>18</td><td>2010.0</td><td>75.0</td><td>1956.4</td><td>292.5</td><td>644.2</td><td>62.8</td><td>171.8</td><td>140.7</td><td>182.9</td><td>107.7</td><td>171.5</td><td> 85.0</td><td>253.4</td><td>338.4</td><td>178.2</td><td>61.7</td><td>45.5</td><td> 788.4</td><td>28.4</td></tr>\n",
       "\t<tr><td>19</td><td>2010.1</td><td>75.5</td><td>1898.8</td><td>312.9</td><td>678.1</td><td>49.8</td><td>138.0</td><td>145.8</td><td>192.4</td><td>108.1</td><td>163.7</td><td>102.9</td><td>264.0</td><td>366.9</td><td>151.2</td><td>56.9</td><td>34.2</td><td> 821.3</td><td>26.3</td></tr>\n",
       "\t<tr><td>20</td><td>2010.3</td><td>74.3</td><td>1701.2</td><td>240.8</td><td>530.2</td><td>45.8</td><td>124.9</td><td>113.0</td><td>150.4</td><td> 88.0</td><td>165.2</td><td> 86.2</td><td>194.7</td><td>280.9</td><td>126.6</td><td>47.0</td><td>39.4</td><td> 640.5</td><td>27.4</td></tr>\n",
       "\t<tr><td>21</td><td>2009.6</td><td>75.9</td><td>2073.8</td><td>304.6</td><td>667.5</td><td>66.2</td><td>176.7</td><td>119.7</td><td>154.8</td><td>112.7</td><td>159.3</td><td> 87.3</td><td>237.6</td><td>325.0</td><td>226.6</td><td>69.3</td><td>24.1</td><td> 795.0</td><td>28.2</td></tr>\n",
       "\t<tr><td>22</td><td>2011.4</td><td>75.2</td><td>1874.7</td><td>260.7</td><td>556.0</td><td>63.4</td><td>162.1</td><td>116.4</td><td>155.8</td><td> 95.5</td><td>154.8</td><td> 81.2</td><td>235.4</td><td>316.6</td><td>150.3</td><td>57.0</td><td>30.9</td><td> 701.2</td><td>27.6</td></tr>\n",
       "\t<tr><td>23</td><td>2009.3</td><td>75.6</td><td>1855.7</td><td>252.1</td><td>564.3</td><td>52.2</td><td>145.5</td><td>100.3</td><td>134.7</td><td> 80.0</td><td>148.6</td><td> 77.5</td><td>228.3</td><td>305.8</td><td>136.2</td><td>53.8</td><td>32.7</td><td> 656.7</td><td>27.8</td></tr>\n",
       "\t<tr><td>24</td><td>2008.2</td><td>75.6</td><td>1975.9</td><td>291.9</td><td>661.2</td><td>69.9</td><td>193.9</td><td>141.1</td><td>176.8</td><td>107.1</td><td>164.2</td><td> 64.8</td><td>207.5</td><td>272.3</td><td>206.6</td><td>63.2</td><td>37.0</td><td> 794.8</td><td>28.5</td></tr>\n",
       "\t<tr><td>25</td><td>2011.3</td><td>74.6</td><td>1904.7</td><td>284.6</td><td>628.0</td><td>69.0</td><td>193.1</td><td>121.1</td><td>164.2</td><td>106.2</td><td>159.3</td><td> 82.9</td><td>246.4</td><td>329.3</td><td>149.8</td><td>67.7</td><td>32.4</td><td> 759.4</td><td>27.2</td></tr>\n",
       "\t<tr><td>26</td><td>2010.2</td><td>75.4</td><td>1878.9</td><td>265.2</td><td>558.4</td><td>38.4</td><td>104.0</td><td>136.9</td><td>184.3</td><td>103.2</td><td>172.4</td><td>106.7</td><td>243.7</td><td>350.4</td><td>145.6</td><td>54.8</td><td>50.3</td><td> 705.7</td><td>27.9</td></tr>\n",
       "\t<tr><td>27</td><td>2010.8</td><td>74.4</td><td>1802.4</td><td>269.8</td><td>567.7</td><td>41.1</td><td>116.6</td><td>117.7</td><td>161.8</td><td> 96.4</td><td>170.2</td><td> 98.5</td><td>272.8</td><td>371.3</td><td>136.2</td><td>49.0</td><td>42.3</td><td> 698.5</td><td>27.5</td></tr>\n",
       "\t<tr><td>28</td><td>2010.2</td><td>73.4</td><td>1767.3</td><td>285.3</td><td>616.5</td><td>58.5</td><td>160.3</td><td>134.7</td><td>175.8</td><td>114.5</td><td>142.5</td><td> 50.3</td><td>174.7</td><td>225.0</td><td>225.5</td><td>59.0</td><td>23.9</td><td> 763.8</td><td>28.3</td></tr>\n",
       "\t<tr><td>29</td><td>2010.9</td><td>73.7</td><td>1525.2</td><td>220.2</td><td>481.6</td><td>29.2</td><td> 84.6</td><td> 93.5</td><td>130.0</td><td> 79.3</td><td>155.0</td><td> 94.1</td><td>209.1</td><td>303.2</td><td>124.4</td><td>52.3</td><td>35.5</td><td> 563.0</td><td>27.4</td></tr>\n",
       "\t<tr><td>30</td><td>2015.3</td><td>72.8</td><td>1986.0</td><td>336.6</td><td>702.1</td><td>54.2</td><td>153.1</td><td>206.4</td><td>253.8</td><td>110.6</td><td>150.4</td><td>106.9</td><td>286.6</td><td>393.5</td><td>203.3</td><td>70.1</td><td>29.3</td><td> 933.8</td><td>25.9</td></tr>\n",
       "\t<tr><td>NA</td><td>2010.5</td><td>74.4</td><td>1700.4</td><td>215.8</td><td>489.6</td><td>57.8</td><td>157.3</td><td> 93.1</td><td>124.1</td><td> 84.0</td><td>150.7</td><td> 66.5</td><td>195.8</td><td>262.3</td><td>154.5</td><td>54.5</td><td>27.9</td><td> 582.5</td><td>28.9</td></tr>\n",
       "</tbody>\n",
       "</table>\n"
      ],
      "text/latex": [
       "A tibble: 31 × 20\n",
       "\\begin{tabular}{llllllllllllllllllll}\n",
       " draft\\_pick & year & GP & MIN & FGM & FGA & X3PM & X3PA & FTM & FTA & TOV & PF & ORB & DRB & REB & AST & STL & BLK & PTS & age\\\\\n",
       " <int> & <dbl> & <dbl> & <dbl> & <dbl> & <dbl> & <dbl> & <dbl> & <dbl> & <dbl> & <dbl> & <dbl> & <dbl> & <dbl> & <dbl> & <dbl> & <dbl> & <dbl> & <dbl> & <dbl>\\\\\n",
       "\\hline\n",
       "\t  1 & 2009.1 & 75.0 & 2395.7 & 477.6 & 970.4 & 40.2 & 115.4 & 268.9 & 376.7 & 165.1 & 190.6 & 142.2 & 396.5 & 538.8 & 228.1 & 70.4 & 80.0 & 1264.3 & 27.6\\\\\n",
       "\t  2 & 2009.3 & 75.8 & 2247.3 & 375.0 & 806.3 & 57.4 & 160.0 & 193.9 & 253.0 & 138.7 & 175.0 & 114.3 & 325.5 & 439.8 & 230.9 & 72.0 & 55.6 & 1001.3 & 28.0\\\\\n",
       "\t  3 & 2010.1 & 75.4 & 2256.0 & 398.2 & 859.0 & 75.2 & 204.4 & 225.5 & 283.7 & 143.1 & 180.3 & 104.3 & 308.0 & 412.4 & 231.5 & 66.5 & 48.8 & 1097.1 & 27.2\\\\\n",
       "\t  4 & 2009.7 & 75.1 & 2194.3 & 363.5 & 804.3 & 63.7 & 185.8 & 196.7 & 256.3 & 133.3 & 173.2 &  97.5 & 298.9 & 396.4 & 243.3 & 74.4 & 42.0 &  987.3 & 27.3\\\\\n",
       "\t  5 & 2010.4 & 75.9 & 2181.9 & 365.7 & 793.2 & 64.8 & 179.4 & 194.2 & 255.1 & 134.5 & 186.9 & 109.4 & 321.6 & 431.0 & 213.4 & 72.1 & 46.0 &  990.4 & 28.2\\\\\n",
       "\t  6 & 2010.7 & 75.0 & 2046.9 & 337.4 & 730.0 & 72.0 & 195.2 & 156.4 & 204.9 & 113.6 & 172.7 & 105.0 & 284.2 & 389.2 & 164.5 & 60.9 & 43.2 &  903.2 & 26.7\\\\\n",
       "\t  7 & 2010.1 & 75.3 & 2040.0 & 327.6 & 725.2 & 72.1 & 196.7 & 149.6 & 194.9 & 118.9 & 175.8 &  88.2 & 251.6 & 339.8 & 186.9 & 64.3 & 37.0 &  876.9 & 26.7\\\\\n",
       "\t  8 & 2010.5 & 75.5 & 2021.8 & 308.7 & 702.0 & 65.4 & 187.9 & 142.9 & 183.6 & 115.5 & 163.4 &  78.3 & 231.9 & 310.2 & 197.6 & 65.5 & 36.0 &  825.8 & 27.3\\\\\n",
       "\t  9 & 2010.2 & 75.6 & 2198.9 & 370.7 & 804.0 & 64.9 & 181.3 & 204.4 & 264.2 & 123.3 & 170.1 & 104.9 & 323.4 & 428.3 & 202.8 & 69.9 & 49.8 & 1010.8 & 27.4\\\\\n",
       "\t 10 & 2010.3 & 75.9 & 2265.2 & 375.7 & 844.7 & 86.7 & 239.0 & 177.2 & 224.6 & 134.2 & 177.0 &  77.8 & 264.4 & 342.2 & 231.4 & 75.4 & 39.1 & 1015.3 & 28.0\\\\\n",
       "\t 11 & 2009.8 & 74.4 & 1891.7 & 300.9 & 664.3 & 77.6 & 206.0 & 134.2 & 169.7 & 106.4 & 157.3 &  70.2 & 219.9 & 290.1 & 177.0 & 57.8 & 29.7 &  813.7 & 27.9\\\\\n",
       "\t 12 & 2011.1 & 74.8 & 1843.8 & 275.8 & 598.5 & 51.1 & 142.1 & 110.6 & 149.0 &  93.1 & 167.7 & 102.5 & 248.1 & 350.6 & 119.7 & 57.0 & 34.6 &  713.4 & 26.8\\\\\n",
       "\t 13 & 2009.5 & 75.2 & 2015.5 & 344.9 & 752.6 & 57.0 & 159.1 & 210.8 & 266.0 & 124.6 & 179.5 &  89.9 & 259.8 & 349.7 & 172.9 & 63.2 & 32.4 &  957.5 & 27.9\\\\\n",
       "\t 14 & 2009.2 & 75.3 & 2112.1 & 314.8 & 707.5 & 75.0 & 206.2 & 150.5 & 193.6 & 105.2 & 164.7 &  83.8 & 250.6 & 334.4 & 169.4 & 69.7 & 26.5 &  855.0 & 27.0\\\\\n",
       "\t 15 & 2010.7 & 74.1 & 1933.5 & 329.1 & 695.6 & 60.4 & 163.3 & 169.5 & 216.2 & 118.6 & 156.6 &  86.7 & 240.7 & 327.5 & 216.3 & 59.5 & 37.6 &  888.1 & 27.8\\\\\n",
       "\t 16 & 2010.4 & 74.4 & 1787.3 & 279.0 & 626.3 & 71.0 & 191.3 & 118.3 & 154.8 &  95.2 & 158.7 &  74.2 & 229.3 & 303.5 & 156.1 & 62.2 & 31.7 &  747.3 & 28.5\\\\\n",
       "\t 17 & 2009.6 & 74.9 & 2056.9 & 331.2 & 727.0 & 46.2 & 134.8 & 158.2 & 212.5 & 129.1 & 194.3 & 109.2 & 284.9 & 394.0 & 181.5 & 69.0 & 66.7 &  866.9 & 27.2\\\\\n",
       "\t 18 & 2010.0 & 75.0 & 1956.4 & 292.5 & 644.2 & 62.8 & 171.8 & 140.7 & 182.9 & 107.7 & 171.5 &  85.0 & 253.4 & 338.4 & 178.2 & 61.7 & 45.5 &  788.4 & 28.4\\\\\n",
       "\t 19 & 2010.1 & 75.5 & 1898.8 & 312.9 & 678.1 & 49.8 & 138.0 & 145.8 & 192.4 & 108.1 & 163.7 & 102.9 & 264.0 & 366.9 & 151.2 & 56.9 & 34.2 &  821.3 & 26.3\\\\\n",
       "\t 20 & 2010.3 & 74.3 & 1701.2 & 240.8 & 530.2 & 45.8 & 124.9 & 113.0 & 150.4 &  88.0 & 165.2 &  86.2 & 194.7 & 280.9 & 126.6 & 47.0 & 39.4 &  640.5 & 27.4\\\\\n",
       "\t 21 & 2009.6 & 75.9 & 2073.8 & 304.6 & 667.5 & 66.2 & 176.7 & 119.7 & 154.8 & 112.7 & 159.3 &  87.3 & 237.6 & 325.0 & 226.6 & 69.3 & 24.1 &  795.0 & 28.2\\\\\n",
       "\t 22 & 2011.4 & 75.2 & 1874.7 & 260.7 & 556.0 & 63.4 & 162.1 & 116.4 & 155.8 &  95.5 & 154.8 &  81.2 & 235.4 & 316.6 & 150.3 & 57.0 & 30.9 &  701.2 & 27.6\\\\\n",
       "\t 23 & 2009.3 & 75.6 & 1855.7 & 252.1 & 564.3 & 52.2 & 145.5 & 100.3 & 134.7 &  80.0 & 148.6 &  77.5 & 228.3 & 305.8 & 136.2 & 53.8 & 32.7 &  656.7 & 27.8\\\\\n",
       "\t 24 & 2008.2 & 75.6 & 1975.9 & 291.9 & 661.2 & 69.9 & 193.9 & 141.1 & 176.8 & 107.1 & 164.2 &  64.8 & 207.5 & 272.3 & 206.6 & 63.2 & 37.0 &  794.8 & 28.5\\\\\n",
       "\t 25 & 2011.3 & 74.6 & 1904.7 & 284.6 & 628.0 & 69.0 & 193.1 & 121.1 & 164.2 & 106.2 & 159.3 &  82.9 & 246.4 & 329.3 & 149.8 & 67.7 & 32.4 &  759.4 & 27.2\\\\\n",
       "\t 26 & 2010.2 & 75.4 & 1878.9 & 265.2 & 558.4 & 38.4 & 104.0 & 136.9 & 184.3 & 103.2 & 172.4 & 106.7 & 243.7 & 350.4 & 145.6 & 54.8 & 50.3 &  705.7 & 27.9\\\\\n",
       "\t 27 & 2010.8 & 74.4 & 1802.4 & 269.8 & 567.7 & 41.1 & 116.6 & 117.7 & 161.8 &  96.4 & 170.2 &  98.5 & 272.8 & 371.3 & 136.2 & 49.0 & 42.3 &  698.5 & 27.5\\\\\n",
       "\t 28 & 2010.2 & 73.4 & 1767.3 & 285.3 & 616.5 & 58.5 & 160.3 & 134.7 & 175.8 & 114.5 & 142.5 &  50.3 & 174.7 & 225.0 & 225.5 & 59.0 & 23.9 &  763.8 & 28.3\\\\\n",
       "\t 29 & 2010.9 & 73.7 & 1525.2 & 220.2 & 481.6 & 29.2 &  84.6 &  93.5 & 130.0 &  79.3 & 155.0 &  94.1 & 209.1 & 303.2 & 124.4 & 52.3 & 35.5 &  563.0 & 27.4\\\\\n",
       "\t 30 & 2015.3 & 72.8 & 1986.0 & 336.6 & 702.1 & 54.2 & 153.1 & 206.4 & 253.8 & 110.6 & 150.4 & 106.9 & 286.6 & 393.5 & 203.3 & 70.1 & 29.3 &  933.8 & 25.9\\\\\n",
       "\t NA & 2010.5 & 74.4 & 1700.4 & 215.8 & 489.6 & 57.8 & 157.3 &  93.1 & 124.1 &  84.0 & 150.7 &  66.5 & 195.8 & 262.3 & 154.5 & 54.5 & 27.9 &  582.5 & 28.9\\\\\n",
       "\\end{tabular}\n"
      ],
      "text/markdown": [
       "\n",
       "A tibble: 31 × 20\n",
       "\n",
       "| draft_pick &lt;int&gt; | year &lt;dbl&gt; | GP &lt;dbl&gt; | MIN &lt;dbl&gt; | FGM &lt;dbl&gt; | FGA &lt;dbl&gt; | X3PM &lt;dbl&gt; | X3PA &lt;dbl&gt; | FTM &lt;dbl&gt; | FTA &lt;dbl&gt; | TOV &lt;dbl&gt; | PF &lt;dbl&gt; | ORB &lt;dbl&gt; | DRB &lt;dbl&gt; | REB &lt;dbl&gt; | AST &lt;dbl&gt; | STL &lt;dbl&gt; | BLK &lt;dbl&gt; | PTS &lt;dbl&gt; | age &lt;dbl&gt; |\n",
       "|---|---|---|---|---|---|---|---|---|---|---|---|---|---|---|---|---|---|---|---|\n",
       "|  1 | 2009.1 | 75.0 | 2395.7 | 477.6 | 970.4 | 40.2 | 115.4 | 268.9 | 376.7 | 165.1 | 190.6 | 142.2 | 396.5 | 538.8 | 228.1 | 70.4 | 80.0 | 1264.3 | 27.6 |\n",
       "|  2 | 2009.3 | 75.8 | 2247.3 | 375.0 | 806.3 | 57.4 | 160.0 | 193.9 | 253.0 | 138.7 | 175.0 | 114.3 | 325.5 | 439.8 | 230.9 | 72.0 | 55.6 | 1001.3 | 28.0 |\n",
       "|  3 | 2010.1 | 75.4 | 2256.0 | 398.2 | 859.0 | 75.2 | 204.4 | 225.5 | 283.7 | 143.1 | 180.3 | 104.3 | 308.0 | 412.4 | 231.5 | 66.5 | 48.8 | 1097.1 | 27.2 |\n",
       "|  4 | 2009.7 | 75.1 | 2194.3 | 363.5 | 804.3 | 63.7 | 185.8 | 196.7 | 256.3 | 133.3 | 173.2 |  97.5 | 298.9 | 396.4 | 243.3 | 74.4 | 42.0 |  987.3 | 27.3 |\n",
       "|  5 | 2010.4 | 75.9 | 2181.9 | 365.7 | 793.2 | 64.8 | 179.4 | 194.2 | 255.1 | 134.5 | 186.9 | 109.4 | 321.6 | 431.0 | 213.4 | 72.1 | 46.0 |  990.4 | 28.2 |\n",
       "|  6 | 2010.7 | 75.0 | 2046.9 | 337.4 | 730.0 | 72.0 | 195.2 | 156.4 | 204.9 | 113.6 | 172.7 | 105.0 | 284.2 | 389.2 | 164.5 | 60.9 | 43.2 |  903.2 | 26.7 |\n",
       "|  7 | 2010.1 | 75.3 | 2040.0 | 327.6 | 725.2 | 72.1 | 196.7 | 149.6 | 194.9 | 118.9 | 175.8 |  88.2 | 251.6 | 339.8 | 186.9 | 64.3 | 37.0 |  876.9 | 26.7 |\n",
       "|  8 | 2010.5 | 75.5 | 2021.8 | 308.7 | 702.0 | 65.4 | 187.9 | 142.9 | 183.6 | 115.5 | 163.4 |  78.3 | 231.9 | 310.2 | 197.6 | 65.5 | 36.0 |  825.8 | 27.3 |\n",
       "|  9 | 2010.2 | 75.6 | 2198.9 | 370.7 | 804.0 | 64.9 | 181.3 | 204.4 | 264.2 | 123.3 | 170.1 | 104.9 | 323.4 | 428.3 | 202.8 | 69.9 | 49.8 | 1010.8 | 27.4 |\n",
       "| 10 | 2010.3 | 75.9 | 2265.2 | 375.7 | 844.7 | 86.7 | 239.0 | 177.2 | 224.6 | 134.2 | 177.0 |  77.8 | 264.4 | 342.2 | 231.4 | 75.4 | 39.1 | 1015.3 | 28.0 |\n",
       "| 11 | 2009.8 | 74.4 | 1891.7 | 300.9 | 664.3 | 77.6 | 206.0 | 134.2 | 169.7 | 106.4 | 157.3 |  70.2 | 219.9 | 290.1 | 177.0 | 57.8 | 29.7 |  813.7 | 27.9 |\n",
       "| 12 | 2011.1 | 74.8 | 1843.8 | 275.8 | 598.5 | 51.1 | 142.1 | 110.6 | 149.0 |  93.1 | 167.7 | 102.5 | 248.1 | 350.6 | 119.7 | 57.0 | 34.6 |  713.4 | 26.8 |\n",
       "| 13 | 2009.5 | 75.2 | 2015.5 | 344.9 | 752.6 | 57.0 | 159.1 | 210.8 | 266.0 | 124.6 | 179.5 |  89.9 | 259.8 | 349.7 | 172.9 | 63.2 | 32.4 |  957.5 | 27.9 |\n",
       "| 14 | 2009.2 | 75.3 | 2112.1 | 314.8 | 707.5 | 75.0 | 206.2 | 150.5 | 193.6 | 105.2 | 164.7 |  83.8 | 250.6 | 334.4 | 169.4 | 69.7 | 26.5 |  855.0 | 27.0 |\n",
       "| 15 | 2010.7 | 74.1 | 1933.5 | 329.1 | 695.6 | 60.4 | 163.3 | 169.5 | 216.2 | 118.6 | 156.6 |  86.7 | 240.7 | 327.5 | 216.3 | 59.5 | 37.6 |  888.1 | 27.8 |\n",
       "| 16 | 2010.4 | 74.4 | 1787.3 | 279.0 | 626.3 | 71.0 | 191.3 | 118.3 | 154.8 |  95.2 | 158.7 |  74.2 | 229.3 | 303.5 | 156.1 | 62.2 | 31.7 |  747.3 | 28.5 |\n",
       "| 17 | 2009.6 | 74.9 | 2056.9 | 331.2 | 727.0 | 46.2 | 134.8 | 158.2 | 212.5 | 129.1 | 194.3 | 109.2 | 284.9 | 394.0 | 181.5 | 69.0 | 66.7 |  866.9 | 27.2 |\n",
       "| 18 | 2010.0 | 75.0 | 1956.4 | 292.5 | 644.2 | 62.8 | 171.8 | 140.7 | 182.9 | 107.7 | 171.5 |  85.0 | 253.4 | 338.4 | 178.2 | 61.7 | 45.5 |  788.4 | 28.4 |\n",
       "| 19 | 2010.1 | 75.5 | 1898.8 | 312.9 | 678.1 | 49.8 | 138.0 | 145.8 | 192.4 | 108.1 | 163.7 | 102.9 | 264.0 | 366.9 | 151.2 | 56.9 | 34.2 |  821.3 | 26.3 |\n",
       "| 20 | 2010.3 | 74.3 | 1701.2 | 240.8 | 530.2 | 45.8 | 124.9 | 113.0 | 150.4 |  88.0 | 165.2 |  86.2 | 194.7 | 280.9 | 126.6 | 47.0 | 39.4 |  640.5 | 27.4 |\n",
       "| 21 | 2009.6 | 75.9 | 2073.8 | 304.6 | 667.5 | 66.2 | 176.7 | 119.7 | 154.8 | 112.7 | 159.3 |  87.3 | 237.6 | 325.0 | 226.6 | 69.3 | 24.1 |  795.0 | 28.2 |\n",
       "| 22 | 2011.4 | 75.2 | 1874.7 | 260.7 | 556.0 | 63.4 | 162.1 | 116.4 | 155.8 |  95.5 | 154.8 |  81.2 | 235.4 | 316.6 | 150.3 | 57.0 | 30.9 |  701.2 | 27.6 |\n",
       "| 23 | 2009.3 | 75.6 | 1855.7 | 252.1 | 564.3 | 52.2 | 145.5 | 100.3 | 134.7 |  80.0 | 148.6 |  77.5 | 228.3 | 305.8 | 136.2 | 53.8 | 32.7 |  656.7 | 27.8 |\n",
       "| 24 | 2008.2 | 75.6 | 1975.9 | 291.9 | 661.2 | 69.9 | 193.9 | 141.1 | 176.8 | 107.1 | 164.2 |  64.8 | 207.5 | 272.3 | 206.6 | 63.2 | 37.0 |  794.8 | 28.5 |\n",
       "| 25 | 2011.3 | 74.6 | 1904.7 | 284.6 | 628.0 | 69.0 | 193.1 | 121.1 | 164.2 | 106.2 | 159.3 |  82.9 | 246.4 | 329.3 | 149.8 | 67.7 | 32.4 |  759.4 | 27.2 |\n",
       "| 26 | 2010.2 | 75.4 | 1878.9 | 265.2 | 558.4 | 38.4 | 104.0 | 136.9 | 184.3 | 103.2 | 172.4 | 106.7 | 243.7 | 350.4 | 145.6 | 54.8 | 50.3 |  705.7 | 27.9 |\n",
       "| 27 | 2010.8 | 74.4 | 1802.4 | 269.8 | 567.7 | 41.1 | 116.6 | 117.7 | 161.8 |  96.4 | 170.2 |  98.5 | 272.8 | 371.3 | 136.2 | 49.0 | 42.3 |  698.5 | 27.5 |\n",
       "| 28 | 2010.2 | 73.4 | 1767.3 | 285.3 | 616.5 | 58.5 | 160.3 | 134.7 | 175.8 | 114.5 | 142.5 |  50.3 | 174.7 | 225.0 | 225.5 | 59.0 | 23.9 |  763.8 | 28.3 |\n",
       "| 29 | 2010.9 | 73.7 | 1525.2 | 220.2 | 481.6 | 29.2 |  84.6 |  93.5 | 130.0 |  79.3 | 155.0 |  94.1 | 209.1 | 303.2 | 124.4 | 52.3 | 35.5 |  563.0 | 27.4 |\n",
       "| 30 | 2015.3 | 72.8 | 1986.0 | 336.6 | 702.1 | 54.2 | 153.1 | 206.4 | 253.8 | 110.6 | 150.4 | 106.9 | 286.6 | 393.5 | 203.3 | 70.1 | 29.3 |  933.8 | 25.9 |\n",
       "| NA | 2010.5 | 74.4 | 1700.4 | 215.8 | 489.6 | 57.8 | 157.3 |  93.1 | 124.1 |  84.0 | 150.7 |  66.5 | 195.8 | 262.3 | 154.5 | 54.5 | 27.9 |  582.5 | 28.9 |\n",
       "\n"
      ],
      "text/plain": [
       "   draft_pick year   GP   MIN    FGM   FGA   X3PM X3PA  FTM   FTA   TOV   PF   \n",
       "1   1         2009.1 75.0 2395.7 477.6 970.4 40.2 115.4 268.9 376.7 165.1 190.6\n",
       "2   2         2009.3 75.8 2247.3 375.0 806.3 57.4 160.0 193.9 253.0 138.7 175.0\n",
       "3   3         2010.1 75.4 2256.0 398.2 859.0 75.2 204.4 225.5 283.7 143.1 180.3\n",
       "4   4         2009.7 75.1 2194.3 363.5 804.3 63.7 185.8 196.7 256.3 133.3 173.2\n",
       "5   5         2010.4 75.9 2181.9 365.7 793.2 64.8 179.4 194.2 255.1 134.5 186.9\n",
       "6   6         2010.7 75.0 2046.9 337.4 730.0 72.0 195.2 156.4 204.9 113.6 172.7\n",
       "7   7         2010.1 75.3 2040.0 327.6 725.2 72.1 196.7 149.6 194.9 118.9 175.8\n",
       "8   8         2010.5 75.5 2021.8 308.7 702.0 65.4 187.9 142.9 183.6 115.5 163.4\n",
       "9   9         2010.2 75.6 2198.9 370.7 804.0 64.9 181.3 204.4 264.2 123.3 170.1\n",
       "10 10         2010.3 75.9 2265.2 375.7 844.7 86.7 239.0 177.2 224.6 134.2 177.0\n",
       "11 11         2009.8 74.4 1891.7 300.9 664.3 77.6 206.0 134.2 169.7 106.4 157.3\n",
       "12 12         2011.1 74.8 1843.8 275.8 598.5 51.1 142.1 110.6 149.0  93.1 167.7\n",
       "13 13         2009.5 75.2 2015.5 344.9 752.6 57.0 159.1 210.8 266.0 124.6 179.5\n",
       "14 14         2009.2 75.3 2112.1 314.8 707.5 75.0 206.2 150.5 193.6 105.2 164.7\n",
       "15 15         2010.7 74.1 1933.5 329.1 695.6 60.4 163.3 169.5 216.2 118.6 156.6\n",
       "16 16         2010.4 74.4 1787.3 279.0 626.3 71.0 191.3 118.3 154.8  95.2 158.7\n",
       "17 17         2009.6 74.9 2056.9 331.2 727.0 46.2 134.8 158.2 212.5 129.1 194.3\n",
       "18 18         2010.0 75.0 1956.4 292.5 644.2 62.8 171.8 140.7 182.9 107.7 171.5\n",
       "19 19         2010.1 75.5 1898.8 312.9 678.1 49.8 138.0 145.8 192.4 108.1 163.7\n",
       "20 20         2010.3 74.3 1701.2 240.8 530.2 45.8 124.9 113.0 150.4  88.0 165.2\n",
       "21 21         2009.6 75.9 2073.8 304.6 667.5 66.2 176.7 119.7 154.8 112.7 159.3\n",
       "22 22         2011.4 75.2 1874.7 260.7 556.0 63.4 162.1 116.4 155.8  95.5 154.8\n",
       "23 23         2009.3 75.6 1855.7 252.1 564.3 52.2 145.5 100.3 134.7  80.0 148.6\n",
       "24 24         2008.2 75.6 1975.9 291.9 661.2 69.9 193.9 141.1 176.8 107.1 164.2\n",
       "25 25         2011.3 74.6 1904.7 284.6 628.0 69.0 193.1 121.1 164.2 106.2 159.3\n",
       "26 26         2010.2 75.4 1878.9 265.2 558.4 38.4 104.0 136.9 184.3 103.2 172.4\n",
       "27 27         2010.8 74.4 1802.4 269.8 567.7 41.1 116.6 117.7 161.8  96.4 170.2\n",
       "28 28         2010.2 73.4 1767.3 285.3 616.5 58.5 160.3 134.7 175.8 114.5 142.5\n",
       "29 29         2010.9 73.7 1525.2 220.2 481.6 29.2  84.6  93.5 130.0  79.3 155.0\n",
       "30 30         2015.3 72.8 1986.0 336.6 702.1 54.2 153.1 206.4 253.8 110.6 150.4\n",
       "31 NA         2010.5 74.4 1700.4 215.8 489.6 57.8 157.3  93.1 124.1  84.0 150.7\n",
       "   ORB   DRB   REB   AST   STL  BLK  PTS    age \n",
       "1  142.2 396.5 538.8 228.1 70.4 80.0 1264.3 27.6\n",
       "2  114.3 325.5 439.8 230.9 72.0 55.6 1001.3 28.0\n",
       "3  104.3 308.0 412.4 231.5 66.5 48.8 1097.1 27.2\n",
       "4   97.5 298.9 396.4 243.3 74.4 42.0  987.3 27.3\n",
       "5  109.4 321.6 431.0 213.4 72.1 46.0  990.4 28.2\n",
       "6  105.0 284.2 389.2 164.5 60.9 43.2  903.2 26.7\n",
       "7   88.2 251.6 339.8 186.9 64.3 37.0  876.9 26.7\n",
       "8   78.3 231.9 310.2 197.6 65.5 36.0  825.8 27.3\n",
       "9  104.9 323.4 428.3 202.8 69.9 49.8 1010.8 27.4\n",
       "10  77.8 264.4 342.2 231.4 75.4 39.1 1015.3 28.0\n",
       "11  70.2 219.9 290.1 177.0 57.8 29.7  813.7 27.9\n",
       "12 102.5 248.1 350.6 119.7 57.0 34.6  713.4 26.8\n",
       "13  89.9 259.8 349.7 172.9 63.2 32.4  957.5 27.9\n",
       "14  83.8 250.6 334.4 169.4 69.7 26.5  855.0 27.0\n",
       "15  86.7 240.7 327.5 216.3 59.5 37.6  888.1 27.8\n",
       "16  74.2 229.3 303.5 156.1 62.2 31.7  747.3 28.5\n",
       "17 109.2 284.9 394.0 181.5 69.0 66.7  866.9 27.2\n",
       "18  85.0 253.4 338.4 178.2 61.7 45.5  788.4 28.4\n",
       "19 102.9 264.0 366.9 151.2 56.9 34.2  821.3 26.3\n",
       "20  86.2 194.7 280.9 126.6 47.0 39.4  640.5 27.4\n",
       "21  87.3 237.6 325.0 226.6 69.3 24.1  795.0 28.2\n",
       "22  81.2 235.4 316.6 150.3 57.0 30.9  701.2 27.6\n",
       "23  77.5 228.3 305.8 136.2 53.8 32.7  656.7 27.8\n",
       "24  64.8 207.5 272.3 206.6 63.2 37.0  794.8 28.5\n",
       "25  82.9 246.4 329.3 149.8 67.7 32.4  759.4 27.2\n",
       "26 106.7 243.7 350.4 145.6 54.8 50.3  705.7 27.9\n",
       "27  98.5 272.8 371.3 136.2 49.0 42.3  698.5 27.5\n",
       "28  50.3 174.7 225.0 225.5 59.0 23.9  763.8 28.3\n",
       "29  94.1 209.1 303.2 124.4 52.3 35.5  563.0 27.4\n",
       "30 106.9 286.6 393.5 203.3 70.1 29.3  933.8 25.9\n",
       "31  66.5 195.8 262.3 154.5 54.5 27.9  582.5 28.9"
      ]
     },
     "metadata": {},
     "output_type": "display_data"
    }
   ],
   "source": [
    "NBA_grouped_draftpick <- subset(NBA_data,select=c(2,7:24,35)) %>% group_by(draft_pick) %>% summarize(across(everything(), mean)) %>% mutate_at(vars(-draft_pick), funs(round(., 1)))\n",
    "NBA_grouped_draftpick"
   ]
  },
  {
   "cell_type": "code",
   "execution_count": null,
   "metadata": {},
   "outputs": [],
   "source": []
  },
  {
   "cell_type": "code",
   "execution_count": 10,
   "metadata": {},
   "outputs": [
    {
     "data": {
      "image/png": "[encoded data removed]",
      "text/plain": [
       "plot without title"
      ]
     },
     "metadata": {
      "image/png": {
       "height": 420,
       "width": 420
      }
     },
     "output_type": "display_data"
    }
   ],
   "source": [
    "ggplot(NBA_grouped_age) + aes(x = age, y = FGM) + geom_col()"
   ]
  },
  {
   "cell_type": "code",
   "execution_count": 39,
   "metadata": {},
   "outputs": [
    {
     "data": {
      "image/png": "[encoded data removed]",
      "text/plain": [
       "plot without title"
      ]
     },
     "metadata": {
      "image/png": {
       "height": 420,
       "width": 420
      }
     },
     "output_type": "display_data"
    }
   ],
   "source": [
    "ggplot(NBA_grouped_year, aes(x = year)) + \n",
    "    geom_line(aes(y = FGM), color = 'darkred') +\n",
    "    geom_line(aes(y = X3PM), color = 'darkblue') + \n",
    "    geom_area(aes(y = PTS), fill = 'orangered', color ='orangered', size = 1,alpha = 0.15) "
   ]
  },
  {
   "cell_type": "code",
   "execution_count": 54,
   "metadata": {},
   "outputs": [
    {
     "name": "stderr",
     "output_type": "stream",
     "text": [
      "Warning message:\n",
      "\"Removed 1 row(s) containing missing values (geom_path).\"\n",
      "Warning message:\n",
      "\"Removed 1 row(s) containing missing values (geom_path).\"\n"
     ]
    },
    {
     "data": {
      "image/png": "[encoded data removed]",
      "text/plain": [
       "plot without title"
      ]
     },
     "metadata": {
      "image/png": {
       "height": 420,
       "width": 420
      }
     },
     "output_type": "display_data"
    }
   ],
   "source": [
    "ggplot(NBA_grouped_draftpick, aes(x = draft_pick)) + geom_line(aes(y = PTS)) + geom_line(aes(y = AST))"
   ]
  },
  {
   "cell_type": "code",
   "execution_count": 12,
   "metadata": {},
   "outputs": [
    {
     "ename": "ERROR",
     "evalue": "Error in is_logical(.predicate): argument \".predicate\" is missing, with no default\n",
     "output_type": "error",
     "traceback": [
      "Error in is_logical(.predicate): argument \".predicate\" is missing, with no default\nTraceback:\n",
      "1. select_if(NBA_data)",
      "2. is_logical(.predicate)"
     ]
    }
   ],
   "source": [
    "names(select_if(NBA_data))"
   ]
  },
  {
   "cell_type": "code",
   "execution_count": null,
   "metadata": {},
   "outputs": [],
   "source": []
  },
  {
   "cell_type": "code",
   "execution_count": null,
   "metadata": {},
   "outputs": [],
   "source": []
  }
 ],
 "metadata": {
  "kernelspec": {
   "display_name": "R",
   "language": "R",
   "name": "ir"
  },
  "language_info": {
   "codemirror_mode": "r",
   "file_extension": ".r",
   "mimetype": "text/x-r-source",
   "name": "R",
   "pygments_lexer": "r",
   "version": "4.0.2"
  }
 },
 "nbformat": 4,
 "nbformat_minor": 4
}
