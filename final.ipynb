{
 "cells": [
  {
   "cell_type": "markdown",
   "metadata": {},
   "source": [
    "# Data 550 Project 2\n",
    "### Names: Connor Fairbanks, Graham Kerford\n",
    "### Date: February 13, 2021"
   ]
  },
  {
   "cell_type": "markdown",
   "metadata": {},
   "source": [
    "### Description of the Data\n",
    "\n",
    "The 'basketball players stats per season-49 leagues' dataset was used for this project. It comprises player data for 49 leagues from the year 1999 to present for each season. The dataset was downlaoded from [kaggle](https://www.kaggle.com/mirichoi0218/insurance/home) in January, 2020 and is available at: [https://www.kaggle.com/jacobbaruch/basketball-players-stats-per-season-49-leagues](https://www.kaggle.com/jacobbaruch/basketball-players-stats-per-season-49-leagues). In total ~11 thousand player's data was collected in 49 leagues. Due to the large amount of data available, the dataset used for this project was limited to players who played in more than 60 out of the possible 82 regular season games in only one league (the NBA). We omitted statistics from playoff games for this analysis. If a player played in more than 60 games in a season, it means they had close to a full season and did not miss an inordinate number of games due to injury. The dataset contains the following characteristics for each player:\n",
    "\n",
    "- `League`: The league that the players played in for the specified season, limited to the NBA for this analysis.\n",
    "\n",
    "- `Season`: Date of the NBA season (by year).\n",
    "\n",
    "- `Stage`: The period in the season during which the data was taken.\n",
    "\n",
    "- `Player`: The name of the player.\n",
    "\n",
    "- `Team`: The team the player played for during the season.\n",
    "\n",
    "- `GP`: Games played during the season. \n",
    "\n",
    "- `MIN`: Minutes played.\n",
    "\n",
    "- `FGM`: Field goals made.\n",
    "\n",
    "- `FGA`: Field goals attempts.\n",
    "\n",
    "- `3PM`: 3 pointers made.\n",
    "\n",
    "- `3PA`: 3 point attempts.\n",
    "\n",
    "- `FTM`: Free throws made.\n",
    "\n",
    "- `FTA`: Free throws attempts.\n",
    "\n",
    "- `TOV`: Turnovers\n",
    "\n",
    "- `PF`: Personal fouls\n",
    "\n",
    "- `ORB`: Offensive rebounds\n",
    "\n",
    "- `DRB`: Defensive rebounds\n",
    "\n",
    "- `REB`: Total rebounds\n",
    "\n",
    "- `AST`: Assists\n",
    "\n",
    "- `STL`: Steals\n",
    "\n",
    "- `BLK`: Blocks\n",
    "\n",
    "- `PTS`: Points\n",
    "\n",
    "- `Birth_year`: Year of birth\n",
    "\n",
    "- `Birth_month`: Month of birth\n",
    "\n",
    "- `Birth_date`: Birthdate\n",
    "\n",
    "- `height`: (feet - inches)\n",
    "\n",
    "- `height`: (cm)\n",
    "\n",
    "- `weight`: Weight in pounds\n",
    "\n",
    "- `weight_kg`: Weight in kilograms\n",
    "\n",
    "- `nationality`: Nationality of the player at birth\n",
    "\n",
    "- `high_school`: High school attended\n",
    "\n",
    "- `draft_round`: Draft hound\n",
    "\n",
    "- `draft_pick`: Draft pick\n",
    "\n",
    "- `draft_team`: Team drafted to"
   ]
  },
  {
   "cell_type": "code",
   "execution_count": 1,
   "metadata": {},
   "outputs": [
    {
     "name": "stderr",
     "output_type": "stream",
     "text": [
      "\n",
      "Attaching package: 'dplyr'\n",
      "\n",
      "\n",
      "The following objects are masked from 'package:stats':\n",
      "\n",
      "    filter, lag\n",
      "\n",
      "\n",
      "The following objects are masked from 'package:base':\n",
      "\n",
      "    intersect, setdiff, setequal, union\n",
      "\n",
      "\n",
      "-- \u001b[1mAttaching packages\u001b[22m --------------------------------------- tidyverse 1.3.0 --\n",
      "\n",
      "\u001b[32m<U+221A>\u001b[39m \u001b[34mtidyr  \u001b[39m 1.1.2     \u001b[32m<U+221A>\u001b[39m \u001b[34mstringr\u001b[39m 1.4.0\n",
      "\u001b[32m<U+221A>\u001b[39m \u001b[34mreadr  \u001b[39m 1.3.1     \u001b[32m<U+221A>\u001b[39m \u001b[34mforcats\u001b[39m 0.5.0\n",
      "\u001b[32m<U+221A>\u001b[39m \u001b[34mpurrr  \u001b[39m 0.3.4     \n",
      "\n",
      "-- \u001b[1mConflicts\u001b[22m ------------------------------------------ tidyverse_conflicts() --\n",
      "\u001b[31mx\u001b[39m \u001b[34mdplyr\u001b[39m::\u001b[32mfilter()\u001b[39m masks \u001b[34mstats\u001b[39m::filter()\n",
      "\u001b[31mx\u001b[39m \u001b[34mdplyr\u001b[39m::\u001b[32mlag()\u001b[39m    masks \u001b[34mstats\u001b[39m::lag()\n",
      "\n",
      "Warning message:\n",
      "\"package 'plotly' was built under R version 4.0.3\"\n",
      "\n",
      "Attaching package: 'plotly'\n",
      "\n",
      "\n",
      "The following object is masked from 'package:ggplot2':\n",
      "\n",
      "    last_plot\n",
      "\n",
      "\n",
      "The following object is masked from 'package:stats':\n",
      "\n",
      "    filter\n",
      "\n",
      "\n",
      "The following object is masked from 'package:graphics':\n",
      "\n",
      "    layout\n",
      "\n",
      "\n",
      "Warning message:\n",
      "\"package 'gapminder' was built under R version 4.0.3\"\n",
      "Warning message:\n",
      "\"package 'GGally' was built under R version 4.0.3\"\n",
      "Registered S3 method overwritten by 'GGally':\n",
      "  method from   \n",
      "  +.gg   ggplot2\n",
      "\n",
      "Warning message:\n",
      "\"package 'ggrepel' was built under R version 4.0.3\"\n"
     ]
    }
   ],
   "source": [
    "# Load necessary libraries\n",
    "library(dplyr) \n",
    "library(ggplot2)\n",
    "library(tibble)\n",
    "library(tidyverse)\n",
    "library(plotly)\n",
    "library(gapminder)\n",
    "library(GGally)\n",
    "library(ggrepel)\n",
    "\n",
    "# Set global theme\n",
    "my_theme <- theme_bw() +\n",
    "  theme(\n",
    "    text = element_text(size = 12),\n",
    "    panel.border = element_rect(colour = 'grey80'), \n",
    "    panel.grid.minor = element_blank(), \n",
    "    axis.title.x = element_text(margin = margin(t=10)),\n",
    "    axis.title.y = element_text(margin = margin(r=10))\n",
    "  )\n",
    "theme_set(my_theme)"
   ]
  },
  {
   "cell_type": "markdown",
   "metadata": {},
   "source": [
    "### Read in the data: "
   ]
  },
  {
   "cell_type": "code",
   "execution_count": 2,
   "metadata": {},
   "outputs": [
    {
     "data": {
      "text/html": [
       "<pre class=language-r><code>function (file, header = TRUE, sep = \",\", quote = \"\\\"\", dec = \".\", \n",
       "<span style=white-space:pre-wrap>    fill = TRUE, comment.char = \"\", ...) </span>\n",
       "read.table(file = file, header = header, sep = sep, quote = quote, \n",
       "<span style=white-space:pre-wrap>    dec = dec, fill = fill, comment.char = comment.char, ...)</span></code></pre>"
      ],
      "text/latex": [
       "\\begin{minted}{r}\n",
       "function (file, header = TRUE, sep = \",\", quote = \"\\textbackslash{}\"\", dec = \".\", \n",
       "    fill = TRUE, comment.char = \"\", ...) \n",
       "read.table(file = file, header = header, sep = sep, quote = quote, \n",
       "    dec = dec, fill = fill, comment.char = comment.char, ...)\n",
       "\\end{minted}"
      ],
      "text/markdown": [
       "```r\n",
       "function (file, header = TRUE, sep = \",\", quote = \"\\\"\", dec = \".\", \n",
       "    fill = TRUE, comment.char = \"\", ...) \n",
       "read.table(file = file, header = header, sep = sep, quote = quote, \n",
       "    dec = dec, fill = fill, comment.char = comment.char, ...)\n",
       "```"
      ],
      "text/plain": [
       "function (file, header = TRUE, sep = \",\", quote = \"\\\"\", dec = \".\", \n",
       "    fill = TRUE, comment.char = \"\", ...) \n",
       "read.table(file = file, header = header, sep = sep, quote = quote, \n",
       "    dec = dec, fill = fill, comment.char = comment.char, ...)\n",
       "<bytecode: 0x0000000020e58060>\n",
       "<environment: namespace:utils>"
      ]
     },
     "metadata": {},
     "output_type": "display_data"
    }
   ],
   "source": [
    "basketball_df <- read.csv('players_stats_by_season_full_details.csv')\n",
    "read.csv"
   ]
  },
  {
   "cell_type": "markdown",
   "metadata": {},
   "source": [
    "#### Filter the data to a more manageable size as mentioned in the description above: "
   ]
  },
  {
   "cell_type": "code",
   "execution_count": 3,
   "metadata": {},
   "outputs": [],
   "source": [
    "names(basketball_df)[1] <- 'League'\n",
    "NBA_data_filtered <- filter(basketball_df, Stage == 'Regular_Season' & League == 'NBA' & GP >60)"
   ]
  },
  {
   "cell_type": "markdown",
   "metadata": {},
   "source": [
    "### Exploration of the data and initial thoughts:\n",
    "\n",
    "First we will look at some summary statistics and the types of data in each column."
   ]
  },
  {
   "cell_type": "code",
   "execution_count": 4,
   "metadata": {},
   "outputs": [
    {
     "data": {
      "text/plain": [
       "    League             Season             Stage              Player         \n",
       " Length:4245        Length:4245        Length:4245        Length:4245       \n",
       " Class :character   Class :character   Class :character   Class :character  \n",
       " Mode  :character   Mode  :character   Mode  :character   Mode  :character  \n",
       "                                                                            \n",
       "                                                                            \n",
       "                                                                            \n",
       "                                                                            \n",
       "     Team                 GP             MIN              FGM       \n",
       " Length:4245        Min.   :61.00   Min.   : 266.8   Min.   : 17.0  \n",
       " Class :character   1st Qu.:71.00   1st Qu.:1549.7   1st Qu.:198.0  \n",
       " Mode  :character   Median :76.00   Median :2029.0   Median :290.0  \n",
       "                    Mean   :75.08   Mean   :2016.8   Mean   :321.3  \n",
       "                    3rd Qu.:80.00   3rd Qu.:2485.6   3rd Qu.:419.0  \n",
       "                    Max.   :85.00   Max.   :3485.0   Max.   :978.0  \n",
       "                                                                    \n",
       "      FGA              X3PM             X3PA           FTM       \n",
       " Min.   :  49.0   Min.   :  0.00   Min.   :   0   Min.   :  6.0  \n",
       " 1st Qu.: 438.0   1st Qu.:  3.00   1st Qu.:  15   1st Qu.: 75.0  \n",
       " Median : 642.0   Median : 53.00   Median : 155   Median :127.0  \n",
       " Mean   : 701.2   Mean   : 61.55   Mean   : 170   Mean   :159.1  \n",
       " 3rd Qu.: 913.0   3rd Qu.:101.00   3rd Qu.: 274   3rd Qu.:208.0  \n",
       " Max.   :2173.0   Max.   :402.00   Max.   :1028   Max.   :756.0  \n",
       "                                                                 \n",
       "      FTA             TOV              PF             ORB        \n",
       " Min.   : 10.0   Min.   :  7.0   Min.   : 27.0   Min.   :  5.00  \n",
       " 1st Qu.:101.0   1st Qu.: 70.0   1st Qu.:132.0   1st Qu.: 39.00  \n",
       " Median :171.0   Median :104.0   Median :167.0   Median : 71.00  \n",
       " Mean   :208.1   Mean   :115.8   Mean   :168.8   Mean   : 91.99  \n",
       " 3rd Qu.:271.0   3rd Qu.:150.0   3rd Qu.:204.0   3rd Qu.:129.00  \n",
       " Max.   :972.0   Max.   :464.0   Max.   :371.0   Max.   :440.00  \n",
       "                                                                 \n",
       "      DRB             REB              AST             STL        \n",
       " Min.   : 17.0   Min.   :  22.0   Min.   :  8.0   Min.   :  4.00  \n",
       " 1st Qu.:165.0   1st Qu.: 216.0   1st Qu.: 81.0   1st Qu.: 40.00  \n",
       " Median :230.0   Median : 309.0   Median :140.0   Median : 58.00  \n",
       " Mean   :264.2   Mean   : 356.2   Mean   :188.2   Mean   : 63.76  \n",
       " 3rd Qu.:333.0   3rd Qu.: 457.0   3rd Qu.:249.0   3rd Qu.: 82.00  \n",
       " Max.   :894.0   Max.   :1247.0   Max.   :925.0   Max.   :225.00  \n",
       "                                                                  \n",
       "      BLK              PTS           birth_year   birth_month       \n",
       " Min.   :  0.00   Min.   :  59.0   Min.   :1961   Length:4245       \n",
       " 1st Qu.: 14.00   1st Qu.: 523.0   1st Qu.:1977   Class :character  \n",
       " Median : 27.00   Median : 775.0   Median :1983   Mode  :character  \n",
       " Mean   : 40.97   Mean   : 863.2   Mean   :1982                     \n",
       " 3rd Qu.: 53.00   3rd Qu.:1119.0   3rd Qu.:1988                     \n",
       " Max.   :307.00   Max.   :2832.0   Max.   :2000                     \n",
       "                                                                    \n",
       "  birth_date           height            height_cm        weight         \n",
       " Length:4245        Length:4245        Min.   :160.0   Length:4245       \n",
       " Class :character   Class :character   1st Qu.:196.0   Class :character  \n",
       " Mode  :character   Mode  :character   Median :201.0   Mode  :character  \n",
       "                                       Mean   :200.9                     \n",
       "                                       3rd Qu.:208.0                     \n",
       "                                       Max.   :229.0                     \n",
       "                                                                         \n",
       "   weight_kg     nationality        high_school         draft_round   \n",
       " Min.   : 61.0   Length:4245        Length:4245        Min.   :1.000  \n",
       " 1st Qu.: 91.0   Class :character   Class :character   1st Qu.:1.000  \n",
       " Median :100.0   Mode  :character   Mode  :character   Median :1.000  \n",
       " Mean   :100.8                                         Mean   :1.224  \n",
       " 3rd Qu.:109.0                                         3rd Qu.:1.000  \n",
       " Max.   :147.0                                         Max.   :7.000  \n",
       "                                                       NA's   :419    \n",
       "   draft_pick    draft_team       \n",
       " Min.   : 1.0   Length:4245       \n",
       " 1st Qu.: 5.0   Class :character  \n",
       " Median :11.0   Mode  :character  \n",
       " Mean   :12.4                     \n",
       " 3rd Qu.:19.0                     \n",
       " Max.   :30.0                     \n",
       " NA's   :419                      "
      ]
     },
     "metadata": {},
     "output_type": "display_data"
    }
   ],
   "source": [
    "summary(NBA_data_filtered)"
   ]
  },
  {
   "cell_type": "markdown",
   "metadata": {},
   "source": [
    "\n",
    "Next we will look at the first few rows of the table to get an idea of what it looks like. \n"
   ]
  },
  {
   "cell_type": "code",
   "execution_count": 5,
   "metadata": {},
   "outputs": [
    {
     "data": {
      "text/html": [
       "<table>\n",
       "<caption>A data.frame: 6 × 34</caption>\n",
       "<thead>\n",
       "\t<tr><th></th><th scope=col>League</th><th scope=col>Season</th><th scope=col>Stage</th><th scope=col>Player</th><th scope=col>Team</th><th scope=col>GP</th><th scope=col>MIN</th><th scope=col>FGM</th><th scope=col>FGA</th><th scope=col>X3PM</th><th scope=col>...</th><th scope=col>birth_date</th><th scope=col>height</th><th scope=col>height_cm</th><th scope=col>weight</th><th scope=col>weight_kg</th><th scope=col>nationality</th><th scope=col>high_school</th><th scope=col>draft_round</th><th scope=col>draft_pick</th><th scope=col>draft_team</th></tr>\n",
       "\t<tr><th></th><th scope=col>&lt;chr&gt;</th><th scope=col>&lt;chr&gt;</th><th scope=col>&lt;chr&gt;</th><th scope=col>&lt;chr&gt;</th><th scope=col>&lt;chr&gt;</th><th scope=col>&lt;int&gt;</th><th scope=col>&lt;dbl&gt;</th><th scope=col>&lt;int&gt;</th><th scope=col>&lt;int&gt;</th><th scope=col>&lt;int&gt;</th><th scope=col>...</th><th scope=col>&lt;chr&gt;</th><th scope=col>&lt;chr&gt;</th><th scope=col>&lt;int&gt;</th><th scope=col>&lt;chr&gt;</th><th scope=col>&lt;int&gt;</th><th scope=col>&lt;chr&gt;</th><th scope=col>&lt;chr&gt;</th><th scope=col>&lt;int&gt;</th><th scope=col>&lt;int&gt;</th><th scope=col>&lt;chr&gt;</th></tr>\n",
       "</thead>\n",
       "<tbody>\n",
       "\t<tr><th scope=row>1</th><td>NBA</td><td>1999 - 2000</td><td>Regular_Season</td><td>Shaquille O'Neal</td><td>LAL</td><td>79</td><td>3163</td><td>956</td><td>1665</td><td>  0</td><td>...</td><td>Mar 6, 1972 </td><td>7-1</td><td>216</td><td>325</td><td>147</td><td>United States</td><td>Robert G. Cole High School </td><td>1</td><td> 1</td><td>Orlando Magic        </td></tr>\n",
       "\t<tr><th scope=row>2</th><td>NBA</td><td>1999 - 2000</td><td>Regular_Season</td><td>Vince Carter    </td><td>TOR</td><td>82</td><td>3126</td><td>788</td><td>1696</td><td> 95</td><td>...</td><td>Jan 26, 1977</td><td>6-6</td><td>198</td><td>220</td><td>100</td><td>United States</td><td>Mainland High School       </td><td>1</td><td> 5</td><td>Golden State Warriors</td></tr>\n",
       "\t<tr><th scope=row>3</th><td>NBA</td><td>1999 - 2000</td><td>Regular_Season</td><td>Karl Malone     </td><td>UTA</td><td>82</td><td>2947</td><td>752</td><td>1476</td><td>  2</td><td>...</td><td>Jul 24, 1963</td><td>6-9</td><td>206</td><td>265</td><td>120</td><td>United States</td><td>Summerfield High School    </td><td>1</td><td>13</td><td>Utah Jazz            </td></tr>\n",
       "\t<tr><th scope=row>4</th><td>NBA</td><td>1999 - 2000</td><td>Regular_Season</td><td>Allen Iverson   </td><td>PHI</td><td>70</td><td>2853</td><td>729</td><td>1733</td><td> 89</td><td>...</td><td>Jun 7, 1975 </td><td>6-0</td><td>183</td><td>165</td><td> 75</td><td>United States</td><td>Bethel High School         </td><td>1</td><td> 1</td><td>Philadelphia Sixers  </td></tr>\n",
       "\t<tr><th scope=row>5</th><td>NBA</td><td>1999 - 2000</td><td>Regular_Season</td><td>Gary Payton     </td><td>SEA</td><td>82</td><td>3425</td><td>747</td><td>1666</td><td>177</td><td>...</td><td>Jul 23, 1968</td><td>6-4</td><td>193</td><td>180</td><td> 82</td><td>United States</td><td>Skyline High School        </td><td>1</td><td> 2</td><td>Seattle SuperSonics  </td></tr>\n",
       "\t<tr><th scope=row>6</th><td>NBA</td><td>1999 - 2000</td><td>Regular_Season</td><td>Jerry Stackhouse</td><td>DET</td><td>82</td><td>3148</td><td>619</td><td>1447</td><td> 83</td><td>...</td><td>Nov 5, 1974 </td><td>6-6</td><td>198</td><td>218</td><td> 99</td><td>United States</td><td>Oak Hill Academy           </td><td>1</td><td> 3</td><td>Philadelphia Sixers  </td></tr>\n",
       "</tbody>\n",
       "</table>\n"
      ],
      "text/latex": [
       "A data.frame: 6 × 34\n",
       "\\begin{tabular}{r|lllllllllllllllllllll}\n",
       "  & League & Season & Stage & Player & Team & GP & MIN & FGM & FGA & X3PM & ... & birth\\_date & height & height\\_cm & weight & weight\\_kg & nationality & high\\_school & draft\\_round & draft\\_pick & draft\\_team\\\\\n",
       "  & <chr> & <chr> & <chr> & <chr> & <chr> & <int> & <dbl> & <int> & <int> & <int> & ... & <chr> & <chr> & <int> & <chr> & <int> & <chr> & <chr> & <int> & <int> & <chr>\\\\\n",
       "\\hline\n",
       "\t1 & NBA & 1999 - 2000 & Regular\\_Season & Shaquille O'Neal & LAL & 79 & 3163 & 956 & 1665 &   0 & ... & Mar 6, 1972  & 7-1 & 216 & 325 & 147 & United States & Robert G. Cole High School  & 1 &  1 & Orlando Magic        \\\\\n",
       "\t2 & NBA & 1999 - 2000 & Regular\\_Season & Vince Carter     & TOR & 82 & 3126 & 788 & 1696 &  95 & ... & Jan 26, 1977 & 6-6 & 198 & 220 & 100 & United States & Mainland High School        & 1 &  5 & Golden State Warriors\\\\\n",
       "\t3 & NBA & 1999 - 2000 & Regular\\_Season & Karl Malone      & UTA & 82 & 2947 & 752 & 1476 &   2 & ... & Jul 24, 1963 & 6-9 & 206 & 265 & 120 & United States & Summerfield High School     & 1 & 13 & Utah Jazz            \\\\\n",
       "\t4 & NBA & 1999 - 2000 & Regular\\_Season & Allen Iverson    & PHI & 70 & 2853 & 729 & 1733 &  89 & ... & Jun 7, 1975  & 6-0 & 183 & 165 &  75 & United States & Bethel High School          & 1 &  1 & Philadelphia Sixers  \\\\\n",
       "\t5 & NBA & 1999 - 2000 & Regular\\_Season & Gary Payton      & SEA & 82 & 3425 & 747 & 1666 & 177 & ... & Jul 23, 1968 & 6-4 & 193 & 180 &  82 & United States & Skyline High School         & 1 &  2 & Seattle SuperSonics  \\\\\n",
       "\t6 & NBA & 1999 - 2000 & Regular\\_Season & Jerry Stackhouse & DET & 82 & 3148 & 619 & 1447 &  83 & ... & Nov 5, 1974  & 6-6 & 198 & 218 &  99 & United States & Oak Hill Academy            & 1 &  3 & Philadelphia Sixers  \\\\\n",
       "\\end{tabular}\n"
      ],
      "text/markdown": [
       "\n",
       "A data.frame: 6 × 34\n",
       "\n",
       "| <!--/--> | League &lt;chr&gt; | Season &lt;chr&gt; | Stage &lt;chr&gt; | Player &lt;chr&gt; | Team &lt;chr&gt; | GP &lt;int&gt; | MIN &lt;dbl&gt; | FGM &lt;int&gt; | FGA &lt;int&gt; | X3PM &lt;int&gt; | ... ... | birth_date &lt;chr&gt; | height &lt;chr&gt; | height_cm &lt;int&gt; | weight &lt;chr&gt; | weight_kg &lt;int&gt; | nationality &lt;chr&gt; | high_school &lt;chr&gt; | draft_round &lt;int&gt; | draft_pick &lt;int&gt; | draft_team &lt;chr&gt; |\n",
       "|---|---|---|---|---|---|---|---|---|---|---|---|---|---|---|---|---|---|---|---|---|---|\n",
       "| 1 | NBA | 1999 - 2000 | Regular_Season | Shaquille O'Neal | LAL | 79 | 3163 | 956 | 1665 |   0 | ... | Mar 6, 1972  | 7-1 | 216 | 325 | 147 | United States | Robert G. Cole High School  | 1 |  1 | Orlando Magic         |\n",
       "| 2 | NBA | 1999 - 2000 | Regular_Season | Vince Carter     | TOR | 82 | 3126 | 788 | 1696 |  95 | ... | Jan 26, 1977 | 6-6 | 198 | 220 | 100 | United States | Mainland High School        | 1 |  5 | Golden State Warriors |\n",
       "| 3 | NBA | 1999 - 2000 | Regular_Season | Karl Malone      | UTA | 82 | 2947 | 752 | 1476 |   2 | ... | Jul 24, 1963 | 6-9 | 206 | 265 | 120 | United States | Summerfield High School     | 1 | 13 | Utah Jazz             |\n",
       "| 4 | NBA | 1999 - 2000 | Regular_Season | Allen Iverson    | PHI | 70 | 2853 | 729 | 1733 |  89 | ... | Jun 7, 1975  | 6-0 | 183 | 165 |  75 | United States | Bethel High School          | 1 |  1 | Philadelphia Sixers   |\n",
       "| 5 | NBA | 1999 - 2000 | Regular_Season | Gary Payton      | SEA | 82 | 3425 | 747 | 1666 | 177 | ... | Jul 23, 1968 | 6-4 | 193 | 180 |  82 | United States | Skyline High School         | 1 |  2 | Seattle SuperSonics   |\n",
       "| 6 | NBA | 1999 - 2000 | Regular_Season | Jerry Stackhouse | DET | 82 | 3148 | 619 | 1447 |  83 | ... | Nov 5, 1974  | 6-6 | 198 | 218 |  99 | United States | Oak Hill Academy            | 1 |  3 | Philadelphia Sixers   |\n",
       "\n"
      ],
      "text/plain": [
       "  League Season      Stage          Player           Team GP MIN  FGM FGA  X3PM\n",
       "1 NBA    1999 - 2000 Regular_Season Shaquille O'Neal LAL  79 3163 956 1665   0 \n",
       "2 NBA    1999 - 2000 Regular_Season Vince Carter     TOR  82 3126 788 1696  95 \n",
       "3 NBA    1999 - 2000 Regular_Season Karl Malone      UTA  82 2947 752 1476   2 \n",
       "4 NBA    1999 - 2000 Regular_Season Allen Iverson    PHI  70 2853 729 1733  89 \n",
       "5 NBA    1999 - 2000 Regular_Season Gary Payton      SEA  82 3425 747 1666 177 \n",
       "6 NBA    1999 - 2000 Regular_Season Jerry Stackhouse DET  82 3148 619 1447  83 \n",
       "  ... birth_date   height height_cm weight weight_kg nationality  \n",
       "1 ... Mar 6, 1972  7-1    216       325    147       United States\n",
       "2 ... Jan 26, 1977 6-6    198       220    100       United States\n",
       "3 ... Jul 24, 1963 6-9    206       265    120       United States\n",
       "4 ... Jun 7, 1975  6-0    183       165     75       United States\n",
       "5 ... Jul 23, 1968 6-4    193       180     82       United States\n",
       "6 ... Nov 5, 1974  6-6    198       218     99       United States\n",
       "  high_school                 draft_round draft_pick draft_team           \n",
       "1 Robert G. Cole High School  1            1         Orlando Magic        \n",
       "2 Mainland High School        1            5         Golden State Warriors\n",
       "3 Summerfield High School     1           13         Utah Jazz            \n",
       "4 Bethel High School          1            1         Philadelphia Sixers  \n",
       "5 Skyline High School         1            2         Seattle SuperSonics  \n",
       "6 Oak Hill Academy            1            3         Philadelphia Sixers  "
      ]
     },
     "metadata": {},
     "output_type": "display_data"
    }
   ],
   "source": [
    "head(NBA_data_filtered)"
   ]
  },
  {
   "cell_type": "markdown",
   "metadata": {},
   "source": [
    "\n",
    "We will perform part of our analysis on the nationality of NBA players, so we will first explore what the unique values are in that column. \n"
   ]
  },
  {
   "cell_type": "code",
   "execution_count": 6,
   "metadata": {},
   "outputs": [
    {
     "data": {
      "text/html": [
       "<style>\n",
       ".list-inline {list-style: none; margin:0; padding: 0}\n",
       ".list-inline>li {display: inline-block}\n",
       ".list-inline>li:not(:last-child)::after {content: \"\\00b7\"; padding: 0 .5ex}\n",
       "</style>\n",
       "<ol class=list-inline><li>'United States'</li><li>'Germany'</li><li>'Netherlands'</li><li>'Serbia'</li><li>'Democratic Republic of the Congo'</li><li>'United States / Jamaica'</li><li>'Serbia / Greece'</li><li>'United States / Spain'</li><li>'Nigeria / England'</li><li>'Lithuania'</li><li>'Ukraine'</li><li>'United States / Germany'</li><li>'Germany / United States'</li><li>'Canada / Bahamas'</li><li>'Slovenia'</li><li>'Australia'</li><li>'Haiti'</li><li>'Saint Vincent and the Grenadines / United States'</li><li>'Canada / South Africa'</li><li>'Dominican Republic'</li><li>'Turkey'</li><li>'Canada'</li><li>'Finland'</li><li>'Spain'</li><li>'Russia'</li><li>'France'</li><li>'Mexico'</li><li>'China'</li><li>'Croatia'</li><li>'Brazil'</li><li>'Montenegro'</li><li>'Argentina'</li><li>'Georgia'</li><li>'United States / Norway'</li><li>'Senegal'</li><li>'Puerto Rico / United States'</li><li>'Czech Republic'</li><li>'United States / Qatar'</li><li>'Canada / Haiti'</li><li>'Netherlands / United States'</li><li>'England / United States'</li><li>'England / South Sudan'</li><li>'United States / Dominican Republic'</li><li>'Netherlands / South Sudan'</li><li>'Latvia'</li><li>'Italy'</li><li>'United States / Nigeria'</li><li>'Argentina / Italy'</li><li>'Switzerland'</li><li>'Dominican Republic / United States'</li><li>'England / Nigeria'</li><li>'United States / Philippines'</li><li>'France / United States'</li><li>'Cameroon'</li><li>'Poland'</li><li>'Israel'</li><li>'Sweden'</li><li>'United States / Lebanon'</li><li>'Republic of the Congo / Spain'</li><li>'Venezuela'</li><li>'Switzerland / Turkey'</li><li>'Switzerland / Montenegro'</li><li>'United States / Greece'</li><li>'United States / Puerto Rico'</li><li>'Italy / United States'</li><li>'Nigeria'</li><li>'Tanzania'</li><li>'United States / Australia'</li><li>'Bosnia and Herzegovina'</li><li>'Greece / Nigeria'</li><li>'New Zealand'</li><li>'Montenegro / Spain'</li><li>'Bosnia and Herzegovina / Croatia'</li><li>'United States / Turkey'</li><li>'New Zealand / Australia'</li><li>'North Macedonia'</li><li>'Canada / United States'</li><li>'Bahamas'</li><li>'United States / Lithuania'</li><li>'United States / Croatia'</li><li>'Tunisia'</li><li>'Austria'</li><li>'United States / Democratic Republic of the Congo'</li><li>'Belgium / France'</li><li>'South Sudan / Australia'</li><li>'North Macedonia / Turkey'</li><li>'Nigeria / United States'</li><li>'Mali'</li><li>'United States / Egypt'</li><li>'Saint Lucia / Canada'</li></ol>\n"
      ],
      "text/latex": [
       "\\begin{enumerate*}\n",
       "\\item 'United States'\n",
       "\\item 'Germany'\n",
       "\\item 'Netherlands'\n",
       "\\item 'Serbia'\n",
       "\\item 'Democratic Republic of the Congo'\n",
       "\\item 'United States / Jamaica'\n",
       "\\item 'Serbia / Greece'\n",
       "\\item 'United States / Spain'\n",
       "\\item 'Nigeria / England'\n",
       "\\item 'Lithuania'\n",
       "\\item 'Ukraine'\n",
       "\\item 'United States / Germany'\n",
       "\\item 'Germany / United States'\n",
       "\\item 'Canada / Bahamas'\n",
       "\\item 'Slovenia'\n",
       "\\item 'Australia'\n",
       "\\item 'Haiti'\n",
       "\\item 'Saint Vincent and the Grenadines / United States'\n",
       "\\item 'Canada / South Africa'\n",
       "\\item 'Dominican Republic'\n",
       "\\item 'Turkey'\n",
       "\\item 'Canada'\n",
       "\\item 'Finland'\n",
       "\\item 'Spain'\n",
       "\\item 'Russia'\n",
       "\\item 'France'\n",
       "\\item 'Mexico'\n",
       "\\item 'China'\n",
       "\\item 'Croatia'\n",
       "\\item 'Brazil'\n",
       "\\item 'Montenegro'\n",
       "\\item 'Argentina'\n",
       "\\item 'Georgia'\n",
       "\\item 'United States / Norway'\n",
       "\\item 'Senegal'\n",
       "\\item 'Puerto Rico / United States'\n",
       "\\item 'Czech Republic'\n",
       "\\item 'United States / Qatar'\n",
       "\\item 'Canada / Haiti'\n",
       "\\item 'Netherlands / United States'\n",
       "\\item 'England / United States'\n",
       "\\item 'England / South Sudan'\n",
       "\\item 'United States / Dominican Republic'\n",
       "\\item 'Netherlands / South Sudan'\n",
       "\\item 'Latvia'\n",
       "\\item 'Italy'\n",
       "\\item 'United States / Nigeria'\n",
       "\\item 'Argentina / Italy'\n",
       "\\item 'Switzerland'\n",
       "\\item 'Dominican Republic / United States'\n",
       "\\item 'England / Nigeria'\n",
       "\\item 'United States / Philippines'\n",
       "\\item 'France / United States'\n",
       "\\item 'Cameroon'\n",
       "\\item 'Poland'\n",
       "\\item 'Israel'\n",
       "\\item 'Sweden'\n",
       "\\item 'United States / Lebanon'\n",
       "\\item 'Republic of the Congo / Spain'\n",
       "\\item 'Venezuela'\n",
       "\\item 'Switzerland / Turkey'\n",
       "\\item 'Switzerland / Montenegro'\n",
       "\\item 'United States / Greece'\n",
       "\\item 'United States / Puerto Rico'\n",
       "\\item 'Italy / United States'\n",
       "\\item 'Nigeria'\n",
       "\\item 'Tanzania'\n",
       "\\item 'United States / Australia'\n",
       "\\item 'Bosnia and Herzegovina'\n",
       "\\item 'Greece / Nigeria'\n",
       "\\item 'New Zealand'\n",
       "\\item 'Montenegro / Spain'\n",
       "\\item 'Bosnia and Herzegovina / Croatia'\n",
       "\\item 'United States / Turkey'\n",
       "\\item 'New Zealand / Australia'\n",
       "\\item 'North Macedonia'\n",
       "\\item 'Canada / United States'\n",
       "\\item 'Bahamas'\n",
       "\\item 'United States / Lithuania'\n",
       "\\item 'United States / Croatia'\n",
       "\\item 'Tunisia'\n",
       "\\item 'Austria'\n",
       "\\item 'United States / Democratic Republic of the Congo'\n",
       "\\item 'Belgium / France'\n",
       "\\item 'South Sudan / Australia'\n",
       "\\item 'North Macedonia / Turkey'\n",
       "\\item 'Nigeria / United States'\n",
       "\\item 'Mali'\n",
       "\\item 'United States / Egypt'\n",
       "\\item 'Saint Lucia / Canada'\n",
       "\\end{enumerate*}\n"
      ],
      "text/markdown": [
       "1. 'United States'\n",
       "2. 'Germany'\n",
       "3. 'Netherlands'\n",
       "4. 'Serbia'\n",
       "5. 'Democratic Republic of the Congo'\n",
       "6. 'United States / Jamaica'\n",
       "7. 'Serbia / Greece'\n",
       "8. 'United States / Spain'\n",
       "9. 'Nigeria / England'\n",
       "10. 'Lithuania'\n",
       "11. 'Ukraine'\n",
       "12. 'United States / Germany'\n",
       "13. 'Germany / United States'\n",
       "14. 'Canada / Bahamas'\n",
       "15. 'Slovenia'\n",
       "16. 'Australia'\n",
       "17. 'Haiti'\n",
       "18. 'Saint Vincent and the Grenadines / United States'\n",
       "19. 'Canada / South Africa'\n",
       "20. 'Dominican Republic'\n",
       "21. 'Turkey'\n",
       "22. 'Canada'\n",
       "23. 'Finland'\n",
       "24. 'Spain'\n",
       "25. 'Russia'\n",
       "26. 'France'\n",
       "27. 'Mexico'\n",
       "28. 'China'\n",
       "29. 'Croatia'\n",
       "30. 'Brazil'\n",
       "31. 'Montenegro'\n",
       "32. 'Argentina'\n",
       "33. 'Georgia'\n",
       "34. 'United States / Norway'\n",
       "35. 'Senegal'\n",
       "36. 'Puerto Rico / United States'\n",
       "37. 'Czech Republic'\n",
       "38. 'United States / Qatar'\n",
       "39. 'Canada / Haiti'\n",
       "40. 'Netherlands / United States'\n",
       "41. 'England / United States'\n",
       "42. 'England / South Sudan'\n",
       "43. 'United States / Dominican Republic'\n",
       "44. 'Netherlands / South Sudan'\n",
       "45. 'Latvia'\n",
       "46. 'Italy'\n",
       "47. 'United States / Nigeria'\n",
       "48. 'Argentina / Italy'\n",
       "49. 'Switzerland'\n",
       "50. 'Dominican Republic / United States'\n",
       "51. 'England / Nigeria'\n",
       "52. 'United States / Philippines'\n",
       "53. 'France / United States'\n",
       "54. 'Cameroon'\n",
       "55. 'Poland'\n",
       "56. 'Israel'\n",
       "57. 'Sweden'\n",
       "58. 'United States / Lebanon'\n",
       "59. 'Republic of the Congo / Spain'\n",
       "60. 'Venezuela'\n",
       "61. 'Switzerland / Turkey'\n",
       "62. 'Switzerland / Montenegro'\n",
       "63. 'United States / Greece'\n",
       "64. 'United States / Puerto Rico'\n",
       "65. 'Italy / United States'\n",
       "66. 'Nigeria'\n",
       "67. 'Tanzania'\n",
       "68. 'United States / Australia'\n",
       "69. 'Bosnia and Herzegovina'\n",
       "70. 'Greece / Nigeria'\n",
       "71. 'New Zealand'\n",
       "72. 'Montenegro / Spain'\n",
       "73. 'Bosnia and Herzegovina / Croatia'\n",
       "74. 'United States / Turkey'\n",
       "75. 'New Zealand / Australia'\n",
       "76. 'North Macedonia'\n",
       "77. 'Canada / United States'\n",
       "78. 'Bahamas'\n",
       "79. 'United States / Lithuania'\n",
       "80. 'United States / Croatia'\n",
       "81. 'Tunisia'\n",
       "82. 'Austria'\n",
       "83. 'United States / Democratic Republic of the Congo'\n",
       "84. 'Belgium / France'\n",
       "85. 'South Sudan / Australia'\n",
       "86. 'North Macedonia / Turkey'\n",
       "87. 'Nigeria / United States'\n",
       "88. 'Mali'\n",
       "89. 'United States / Egypt'\n",
       "90. 'Saint Lucia / Canada'\n",
       "\n",
       "\n"
      ],
      "text/plain": [
       " [1] \"United States\"                                   \n",
       " [2] \"Germany\"                                         \n",
       " [3] \"Netherlands\"                                     \n",
       " [4] \"Serbia\"                                          \n",
       " [5] \"Democratic Republic of the Congo\"                \n",
       " [6] \"United States / Jamaica\"                         \n",
       " [7] \"Serbia / Greece\"                                 \n",
       " [8] \"United States / Spain\"                           \n",
       " [9] \"Nigeria / England\"                               \n",
       "[10] \"Lithuania\"                                       \n",
       "[11] \"Ukraine\"                                         \n",
       "[12] \"United States / Germany\"                         \n",
       "[13] \"Germany / United States\"                         \n",
       "[14] \"Canada / Bahamas\"                                \n",
       "[15] \"Slovenia\"                                        \n",
       "[16] \"Australia\"                                       \n",
       "[17] \"Haiti\"                                           \n",
       "[18] \"Saint Vincent and the Grenadines / United States\"\n",
       "[19] \"Canada / South Africa\"                           \n",
       "[20] \"Dominican Republic\"                              \n",
       "[21] \"Turkey\"                                          \n",
       "[22] \"Canada\"                                          \n",
       "[23] \"Finland\"                                         \n",
       "[24] \"Spain\"                                           \n",
       "[25] \"Russia\"                                          \n",
       "[26] \"France\"                                          \n",
       "[27] \"Mexico\"                                          \n",
       "[28] \"China\"                                           \n",
       "[29] \"Croatia\"                                         \n",
       "[30] \"Brazil\"                                          \n",
       "[31] \"Montenegro\"                                      \n",
       "[32] \"Argentina\"                                       \n",
       "[33] \"Georgia\"                                         \n",
       "[34] \"United States / Norway\"                          \n",
       "[35] \"Senegal\"                                         \n",
       "[36] \"Puerto Rico / United States\"                     \n",
       "[37] \"Czech Republic\"                                  \n",
       "[38] \"United States / Qatar\"                           \n",
       "[39] \"Canada / Haiti\"                                  \n",
       "[40] \"Netherlands / United States\"                     \n",
       "[41] \"England / United States\"                         \n",
       "[42] \"England / South Sudan\"                           \n",
       "[43] \"United States / Dominican Republic\"              \n",
       "[44] \"Netherlands / South Sudan\"                       \n",
       "[45] \"Latvia\"                                          \n",
       "[46] \"Italy\"                                           \n",
       "[47] \"United States / Nigeria\"                         \n",
       "[48] \"Argentina / Italy\"                               \n",
       "[49] \"Switzerland\"                                     \n",
       "[50] \"Dominican Republic / United States\"              \n",
       "[51] \"England / Nigeria\"                               \n",
       "[52] \"United States / Philippines\"                     \n",
       "[53] \"France / United States\"                          \n",
       "[54] \"Cameroon\"                                        \n",
       "[55] \"Poland\"                                          \n",
       "[56] \"Israel\"                                          \n",
       "[57] \"Sweden\"                                          \n",
       "[58] \"United States / Lebanon\"                         \n",
       "[59] \"Republic of the Congo / Spain\"                   \n",
       "[60] \"Venezuela\"                                       \n",
       "[61] \"Switzerland / Turkey\"                            \n",
       "[62] \"Switzerland / Montenegro\"                        \n",
       "[63] \"United States / Greece\"                          \n",
       "[64] \"United States / Puerto Rico\"                     \n",
       "[65] \"Italy / United States\"                           \n",
       "[66] \"Nigeria\"                                         \n",
       "[67] \"Tanzania\"                                        \n",
       "[68] \"United States / Australia\"                       \n",
       "[69] \"Bosnia and Herzegovina\"                          \n",
       "[70] \"Greece / Nigeria\"                                \n",
       "[71] \"New Zealand\"                                     \n",
       "[72] \"Montenegro / Spain\"                              \n",
       "[73] \"Bosnia and Herzegovina / Croatia\"                \n",
       "[74] \"United States / Turkey\"                          \n",
       "[75] \"New Zealand / Australia\"                         \n",
       "[76] \"North Macedonia\"                                 \n",
       "[77] \"Canada / United States\"                          \n",
       "[78] \"Bahamas\"                                         \n",
       "[79] \"United States / Lithuania\"                       \n",
       "[80] \"United States / Croatia\"                         \n",
       "[81] \"Tunisia\"                                         \n",
       "[82] \"Austria\"                                         \n",
       "[83] \"United States / Democratic Republic of the Congo\"\n",
       "[84] \"Belgium / France\"                                \n",
       "[85] \"South Sudan / Australia\"                         \n",
       "[86] \"North Macedonia / Turkey\"                        \n",
       "[87] \"Nigeria / United States\"                         \n",
       "[88] \"Mali\"                                            \n",
       "[89] \"United States / Egypt\"                           \n",
       "[90] \"Saint Lucia / Canada\"                            "
      ]
     },
     "metadata": {},
     "output_type": "display_data"
    }
   ],
   "source": [
    "unique(NBA_data_filtered$nationality)"
   ]
  },
  {
   "cell_type": "markdown",
   "metadata": {},
   "source": [
    "\n",
    "We can see that there are many nationalities that state two countries for one player (separated by a backslash). This will be an important aspect to keep in mind when we perform our analysis. We will treat any player that has any country other than \"United States\" included in their `nationality` as being an \"International\" player (even if one of their countries listed is the \"United States\"). \n",
    "\n",
    "Next we would like to see the range of heights present in this dataset (in the format of \"feet - inches\")\n"
   ]
  },
  {
   "cell_type": "code",
   "execution_count": 7,
   "metadata": {},
   "outputs": [
    {
     "data": {
      "text/html": [
       "<style>\n",
       ".list-inline {list-style: none; margin:0; padding: 0}\n",
       ".list-inline>li {display: inline-block}\n",
       ".list-inline>li:not(:last-child)::after {content: \"\\00b7\"; padding: 0 .5ex}\n",
       "</style>\n",
       "<ol class=list-inline><li>'5-10'</li><li>'5-11'</li><li>'5-3'</li><li>'5-5'</li><li>'5-9'</li><li>'6-0'</li><li>'6-1'</li><li>'6-10'</li><li>'6-11'</li><li>'6-2'</li><li>'6-3'</li><li>'6-4'</li><li>'6-5'</li><li>'6-6'</li><li>'6-7'</li><li>'6-8'</li><li>'6-9'</li><li>'7-0'</li><li>'7-1'</li><li>'7-2'</li><li>'7-3'</li><li>'7-4'</li><li>'7-6'</li></ol>\n"
      ],
      "text/latex": [
       "\\begin{enumerate*}\n",
       "\\item '5-10'\n",
       "\\item '5-11'\n",
       "\\item '5-3'\n",
       "\\item '5-5'\n",
       "\\item '5-9'\n",
       "\\item '6-0'\n",
       "\\item '6-1'\n",
       "\\item '6-10'\n",
       "\\item '6-11'\n",
       "\\item '6-2'\n",
       "\\item '6-3'\n",
       "\\item '6-4'\n",
       "\\item '6-5'\n",
       "\\item '6-6'\n",
       "\\item '6-7'\n",
       "\\item '6-8'\n",
       "\\item '6-9'\n",
       "\\item '7-0'\n",
       "\\item '7-1'\n",
       "\\item '7-2'\n",
       "\\item '7-3'\n",
       "\\item '7-4'\n",
       "\\item '7-6'\n",
       "\\end{enumerate*}\n"
      ],
      "text/markdown": [
       "1. '5-10'\n",
       "2. '5-11'\n",
       "3. '5-3'\n",
       "4. '5-5'\n",
       "5. '5-9'\n",
       "6. '6-0'\n",
       "7. '6-1'\n",
       "8. '6-10'\n",
       "9. '6-11'\n",
       "10. '6-2'\n",
       "11. '6-3'\n",
       "12. '6-4'\n",
       "13. '6-5'\n",
       "14. '6-6'\n",
       "15. '6-7'\n",
       "16. '6-8'\n",
       "17. '6-9'\n",
       "18. '7-0'\n",
       "19. '7-1'\n",
       "20. '7-2'\n",
       "21. '7-3'\n",
       "22. '7-4'\n",
       "23. '7-6'\n",
       "\n",
       "\n"
      ],
      "text/plain": [
       " [1] \"5-10\" \"5-11\" \"5-3\"  \"5-5\"  \"5-9\"  \"6-0\"  \"6-1\"  \"6-10\" \"6-11\" \"6-2\" \n",
       "[11] \"6-3\"  \"6-4\"  \"6-5\"  \"6-6\"  \"6-7\"  \"6-8\"  \"6-9\"  \"7-0\"  \"7-1\"  \"7-2\" \n",
       "[21] \"7-3\"  \"7-4\"  \"7-6\" "
      ]
     },
     "metadata": {},
     "output_type": "display_data"
    }
   ],
   "source": [
    "sort(unique(NBA_data_filtered$height))"
   ]
  },
  {
   "cell_type": "markdown",
   "metadata": {},
   "source": [
    "\n",
    "We can see from the list above that our heights range from 5 foot 3 inches to 7 foot 6 inches. We can see that this column is in the class 'character', so it can't be sorted perfectly in ascending order. We will need to wrangle this data to be in some sort of numerical format if we want to use it properly in our analysis. \n",
    "\n",
    "Out of curiosity, who in the NBA was 5 foot 3?\n"
   ]
  },
  {
   "cell_type": "code",
   "execution_count": 8,
   "metadata": {},
   "outputs": [
    {
     "data": {
      "text/html": [
       "'Muggsy Bogues'"
      ],
      "text/latex": [
       "'Muggsy Bogues'"
      ],
      "text/markdown": [
       "'Muggsy Bogues'"
      ],
      "text/plain": [
       "[1] \"Muggsy Bogues\""
      ]
     },
     "metadata": {},
     "output_type": "display_data"
    }
   ],
   "source": [
    "NBA_data_filtered$Player[NBA_data_filtered$height == '5-3']"
   ]
  },
  {
   "cell_type": "markdown",
   "metadata": {},
   "source": [
    "That's amazing that Muggsy Bogues was only 5 foot 3 inches tall and he is still being considered for the [NBA Hall of Fame](https://godeacs.com/news/2019/12/20/mens-basketball-bogues-and-duncan-on-2020-naismith-hall-of-fame-ballot.aspx#:~:text=Muggsy%20Bogues%20(Class%20of%201987,for%20the%20fourth%20consecutive%20year.)\n",
    "\n",
    "Now back to the data, we will also check for missing values in our data.\n"
   ]
  },
  {
   "cell_type": "code",
   "execution_count": 9,
   "metadata": {},
   "outputs": [
    {
     "data": {
      "text/html": [
       "<style>\n",
       ".dl-inline {width: auto; margin:0; padding: 0}\n",
       ".dl-inline>dt, .dl-inline>dd {float: none; width: auto; display: inline-block}\n",
       ".dl-inline>dt::after {content: \":\\0020\"; padding-right: .5ex}\n",
       ".dl-inline>dt:not(:first-of-type) {padding-left: .5ex}\n",
       "</style><dl class=dl-inline><dt>League</dt><dd>0</dd><dt>Season</dt><dd>0</dd><dt>Stage</dt><dd>0</dd><dt>Player</dt><dd>0</dd><dt>Team</dt><dd>0</dd><dt>GP</dt><dd>0</dd><dt>MIN</dt><dd>0</dd><dt>FGM</dt><dd>0</dd><dt>FGA</dt><dd>0</dd><dt>X3PM</dt><dd>0</dd><dt>X3PA</dt><dd>0</dd><dt>FTM</dt><dd>0</dd><dt>FTA</dt><dd>0</dd><dt>TOV</dt><dd>0</dd><dt>PF</dt><dd>0</dd><dt>ORB</dt><dd>0</dd><dt>DRB</dt><dd>0</dd><dt>REB</dt><dd>0</dd><dt>AST</dt><dd>0</dd><dt>STL</dt><dd>0</dd><dt>BLK</dt><dd>0</dd><dt>PTS</dt><dd>0</dd><dt>birth_year</dt><dd>0</dd><dt>birth_month</dt><dd>0</dd><dt>birth_date</dt><dd>0</dd><dt>height</dt><dd>0</dd><dt>height_cm</dt><dd>0</dd><dt>weight</dt><dd>0</dd><dt>weight_kg</dt><dd>0</dd><dt>nationality</dt><dd>0</dd><dt>high_school</dt><dd>0</dd><dt>draft_round</dt><dd>419</dd><dt>draft_pick</dt><dd>419</dd><dt>draft_team</dt><dd>0</dd></dl>\n"
      ],
      "text/latex": [
       "\\begin{description*}\n",
       "\\item[League] 0\n",
       "\\item[Season] 0\n",
       "\\item[Stage] 0\n",
       "\\item[Player] 0\n",
       "\\item[Team] 0\n",
       "\\item[GP] 0\n",
       "\\item[MIN] 0\n",
       "\\item[FGM] 0\n",
       "\\item[FGA] 0\n",
       "\\item[X3PM] 0\n",
       "\\item[X3PA] 0\n",
       "\\item[FTM] 0\n",
       "\\item[FTA] 0\n",
       "\\item[TOV] 0\n",
       "\\item[PF] 0\n",
       "\\item[ORB] 0\n",
       "\\item[DRB] 0\n",
       "\\item[REB] 0\n",
       "\\item[AST] 0\n",
       "\\item[STL] 0\n",
       "\\item[BLK] 0\n",
       "\\item[PTS] 0\n",
       "\\item[birth\\textbackslash{}\\_year] 0\n",
       "\\item[birth\\textbackslash{}\\_month] 0\n",
       "\\item[birth\\textbackslash{}\\_date] 0\n",
       "\\item[height] 0\n",
       "\\item[height\\textbackslash{}\\_cm] 0\n",
       "\\item[weight] 0\n",
       "\\item[weight\\textbackslash{}\\_kg] 0\n",
       "\\item[nationality] 0\n",
       "\\item[high\\textbackslash{}\\_school] 0\n",
       "\\item[draft\\textbackslash{}\\_round] 419\n",
       "\\item[draft\\textbackslash{}\\_pick] 419\n",
       "\\item[draft\\textbackslash{}\\_team] 0\n",
       "\\end{description*}\n"
      ],
      "text/markdown": [
       "League\n",
       ":   0Season\n",
       ":   0Stage\n",
       ":   0Player\n",
       ":   0Team\n",
       ":   0GP\n",
       ":   0MIN\n",
       ":   0FGM\n",
       ":   0FGA\n",
       ":   0X3PM\n",
       ":   0X3PA\n",
       ":   0FTM\n",
       ":   0FTA\n",
       ":   0TOV\n",
       ":   0PF\n",
       ":   0ORB\n",
       ":   0DRB\n",
       ":   0REB\n",
       ":   0AST\n",
       ":   0STL\n",
       ":   0BLK\n",
       ":   0PTS\n",
       ":   0birth_year\n",
       ":   0birth_month\n",
       ":   0birth_date\n",
       ":   0height\n",
       ":   0height_cm\n",
       ":   0weight\n",
       ":   0weight_kg\n",
       ":   0nationality\n",
       ":   0high_school\n",
       ":   0draft_round\n",
       ":   419draft_pick\n",
       ":   419draft_team\n",
       ":   0\n",
       "\n"
      ],
      "text/plain": [
       "     League      Season       Stage      Player        Team          GP \n",
       "          0           0           0           0           0           0 \n",
       "        MIN         FGM         FGA        X3PM        X3PA         FTM \n",
       "          0           0           0           0           0           0 \n",
       "        FTA         TOV          PF         ORB         DRB         REB \n",
       "          0           0           0           0           0           0 \n",
       "        AST         STL         BLK         PTS  birth_year birth_month \n",
       "          0           0           0           0           0           0 \n",
       " birth_date      height   height_cm      weight   weight_kg nationality \n",
       "          0           0           0           0           0           0 \n",
       "high_school draft_round  draft_pick  draft_team \n",
       "          0         419         419           0 "
      ]
     },
     "metadata": {},
     "output_type": "display_data"
    }
   ],
   "source": [
    "colSums(is.na(NBA_data_filtered))"
   ]
  },
  {
   "cell_type": "markdown",
   "metadata": {},
   "source": [
    "\n",
    "We can see that there are only missing values in the `draft_round` and `draft_pick` columns. This makes sense because not all players make it into the NBA through the draft (for instance some players get signed after playing in other professional leagues overseas prior to the NBA).\n",
    "\n",
    "The last part of the initial data exploration will be to examine the correlation between the numerical categories in the dataset:\n"
   ]
  },
  {
   "cell_type": "code",
   "execution_count": 10,
   "metadata": {},
   "outputs": [
    {
     "data": {
      "image/png": "[encoded data removed]",
      "text/plain": [
       "plot without title"
      ]
     },
     "metadata": {
      "image/png": {
       "height": 420,
       "width": 420
      }
     },
     "output_type": "display_data"
    }
   ],
   "source": [
    "numbers <- NBA_data_filtered %>% select_if(is.numeric) \n",
    "\n",
    "# Drop draft_pick and draft_round columns that contain NA values. \n",
    "numbers_na <- numbers %>% select(which(colSums(is.na(.)) == 0))\n",
    "\n",
    "corr_df <- ggcorr(numbers_na) + ggtitle('Correlation of Numerical Statistics') + theme(title = element_text(size=20))\n",
    "\n",
    "corr_df\n"
   ]
  },
  {
   "cell_type": "markdown",
   "metadata": {},
   "source": [
    "\n",
    "The correlation plot displays many potential relationships that we can explore in the future. \n"
   ]
  },
  {
   "cell_type": "markdown",
   "metadata": {},
   "source": [
    "### Data Wrangling and Visualizations"
   ]
  },
  {
   "cell_type": "markdown",
   "metadata": {},
   "source": [
    "#### Research Question #1:\n",
    "\n",
    "What has happened to the rate of 3-point shooting in the NBA over time?"
   ]
  },
  {
   "cell_type": "code",
   "execution_count": 11,
   "metadata": {},
   "outputs": [],
   "source": [
    "# Make new data frame to alter for this plot \n",
    "df_threes <- NBA_data_filtered \n",
    "# Group dataframe by season and average ration of 3 pointers attempted out of total shots attempted\n",
    "df_3_ratio <- df_threes %>% group_by(Season) %>% mutate(X3PM_FGM_ratio = mean(X3PA/FGA))\n",
    "# Condense df\n",
    "df_3_ratio <- df_3_ratio %>% distinct(Season, X3PM_FGM_ratio)\n",
    "\n",
    "# Create new columns with the Stephen Curry MVP season rows to be highlighted as the only TRUE values. \n",
    "df_3_ratio$highlight <- FALSE\n",
    "df_3_ratio$highlight[df_3_ratio$Season == '2014 - 2015' | df_3_ratio$Season == '2015 - 2016'] <- TRUE"
   ]
  },
  {
   "cell_type": "code",
   "execution_count": 12,
   "metadata": {},
   "outputs": [
    {
     "data": {
      "image/png": "[encoded data removed]",
      "text/plain": [
       "plot without title"
      ]
     },
     "metadata": {
      "image/png": {
       "height": 600,
       "width": 600
      }
     },
     "output_type": "display_data"
    }
   ],
   "source": [
    "# Set size of plot\n",
    "options(repr.plot.width=10, repr.plot.height=10)\n",
    "# Create plot with label of highlighted bars. \n",
    "ggplot(df_3_ratio) + aes(x= Season, y= X3PM_FGM_ratio, fill= highlight) + \n",
    "    geom_col(show.legend=FALSE) +  \n",
    "    theme(axis.text.x = element_text(angle=-70, hjust=-0.2, size=12), axis.text.y= element_text(size = 12),\n",
    "     panel.grid.major = element_blank(), plot.title= element_text(size=18), axis.title.x= element_text(size=14),\n",
    "     axis.title.y= element_text(size=14), legend.title= element_text(size=14), legend.text = element_text(size = 12))+\n",
    "    labs(x= \"Year of Season\", y=\"Percentage of Shots that were 3-Pointers\", title= \"The Rise of the 3-Pointer in the NBA\") + \n",
    "    scale_y_continuous(labels = scales::percent) + scale_fill_manual(values= c(\"blue3\", \"gold\"))+\n",
    "    annotate('text', label = 'S. Curry MVP', x = 16.3, y = 0.295, size=4)"
   ]
  },
  {
   "cell_type": "markdown",
   "metadata": {},
   "source": [
    "We can see from the plot above that the rate of 3-point shot attempts has been steadily increasing over time. Part of this increase has been contributed to the increase in the use of [analytics in the NBA](https://www.theatlantic.com/entertainment/archive/2015/06/nba-data-analytics/396776/), but there is also evidence that the influence of a specific player has played a role. Stephen Curry of the Golden State Warriors is known as the most prolific 3-point shooter of all time, and we can see from the graph that as his influence in the NBA grew, there was a jump in the percentage of 3 point shot attempts throughout the league. Stephen Curry first named an \"All-Star\" in the 2013-2014 season, and he was named the NBA's most valuable player in the next two seasons. Although there is a general upward trend with time, these three seasons are where we see the most dramatic increases in 3-point attempts. Perhaps this is partially due to the popularity and success of Stephen Curry and his 3-point loving Golden State Warriors (that is why the plot is made in the Warriors team colors)."
   ]
  },
  {
   "cell_type": "markdown",
   "metadata": {},
   "source": [
    "\n",
    "#### Research Question #2: \n",
    "\n",
    "The NBA is popular in the United States, but they have been making efforts to become a worldwide league and spread the brand, and the game of basketball around the world. \n",
    "\n",
    "Have the NBA's efforts to globalize been successful? "
   ]
  },
  {
   "cell_type": "markdown",
   "metadata": {},
   "source": [
    "##### Note: \n",
    "For this plot, we removed the 2011-2012 and the 2019-2020 seasons. These were both shortened seasons (2011-2012 due to the NBA lockout, and 2019-2020 due to the coronavirus pandemic). Our data is filtered by the number of players that played in more than 60 games in each season, and in a shortened season (less than the regular 82 games), there are less players that make it to the 60-game benchmark. To accurately compare from year to year, we decided to remove the years with shortened seasons from this plot.\n"
   ]
  },
  {
   "cell_type": "code",
   "execution_count": 13,
   "metadata": {},
   "outputs": [],
   "source": [
    " \n",
    "# Make new data frame with two seasons that had a shortened amount of games removed (NBA lockout year and pandemic year). \n",
    "df_country <- NBA_data_filtered %>% filter(NBA_data_filtered$Season != '2011 - 2012' & NBA_data_filtered$Season != '2019 - 2020')\n",
    "# alter nationality column to be either 'United States' or 'International'\n",
    "df_int <- df_country %>% mutate(nationality = ifelse(nationality != 'United States', 'International', nationality))\n",
    "# Find out how many international and US players there are in each season. \n",
    "df_int_count <- df_int %>% group_by(Season) %>% count(nationality)"
   ]
  },
  {
   "cell_type": "code",
   "execution_count": 14,
   "metadata": {},
   "outputs": [
    {
     "data": {
      "image/png": "[encoded data removed]",
      "text/plain": [
       "plot without title"
      ]
     },
     "metadata": {
      "image/png": {
       "height": 600,
       "width": 600
      }
     },
     "output_type": "display_data"
    }
   ],
   "source": [
    "# Set variables for making the ticks marks on the x axis once every 10 years. \n",
    "end <- length(df_int_count$Season)\n",
    "var <- df_int_count$Season\n",
    "interval <- var[seq(1, end, by=10)]\n",
    "\n",
    "# Create the plot\n",
    "ggplot(df_int_count) + aes(x= Season, y= n, color= nationality) + geom_point(size=3) +\n",
    "scale_x_discrete(breaks= interval, labels= interval) + \n",
    "theme(axis.text.x = element_text(angle=-60, hjust=-0.1, size=12), axis.text.y= element_text(size = 12),\n",
    "     panel.grid.major = element_blank(), plot.title= element_text(size=18), axis.title.x= element_text(size=14),\n",
    "     axis.title.y= element_text(size=14), legend.title= element_text(size=14), legend.text = element_text(size = 12))+\n",
    "labs(x= \"Year of Season\", y=\"Number of Players\", title= \"International Recruiting Efforts of the NBA\", color= \"Player Nationality\")\n"
   ]
  },
  {
   "cell_type": "markdown",
   "metadata": {},
   "source": [
    "\n",
    "We can see from this plot that although there are many more American players than international players in the NBA, the number of international players is steadily increasing. It does appear that the NBA's efforts to globalize are starting to pay off. \n"
   ]
  },
  {
   "cell_type": "markdown",
   "metadata": {},
   "source": [
    "\n",
    "#### Follow-up Question #1 (Not Answered in this Project):\n",
    "\n",
    "With the increase in the number of international players, perhaps there are more international fans of the NBA. To determine if this is the case, we could pose the question:\n",
    "\n",
    "How have the NBA's international viewing ratings been affected by the increasing number of international players?\n",
    "\n",
    "In order to answer this question, we would need the TV ratings data from multiple countries around the world to analyze NBA viewing rates in each country. "
   ]
  },
  {
   "cell_type": "markdown",
   "metadata": {},
   "source": [
    "\n",
    "#### Research Question #3:\n",
    "\n",
    "How does age affect scoring ability of NBA players?\n",
    "\n",
    "To determine the variation in a players' scoring ability with age, a new column was created by subtracting the `Season` by the `birth_year` for each player. The new column called `year` was also added. The data was then filtered and grouped by age to include only numeric columns and to represent the mean value for each player statistic for each age group."
   ]
  },
  {
   "cell_type": "code",
   "execution_count": 15,
   "metadata": {},
   "outputs": [
    {
     "name": "stderr",
     "output_type": "stream",
     "text": [
      "`summarise()` ungrouping output (override with `.groups` argument)\n",
      "\n",
      "Warning message:\n",
      "\"`funs()` is deprecated as of dplyr 0.8.0.\n",
      "Please use a list of either functions or lambdas: \n",
      "\n",
      "  # Simple named list: \n",
      "  list(mean = mean, median = median)\n",
      "\n",
      "  # Auto named with `tibble::lst()`: \n",
      "  tibble::lst(mean, median)\n",
      "\n",
      "  # Using lambdas\n",
      "  list(~ mean(., trim = .2), ~ median(., na.rm = TRUE))\n",
      "\u001b[90mThis warning is displayed once every 8 hours.\u001b[39m\n",
      "\u001b[90mCall `lifecycle::last_warnings()` to see where this warning was generated.\u001b[39m\"\n"
     ]
    },
    {
     "data": {
      "text/html": [
       "<table>\n",
       "<caption>A tibble: 6 × 19</caption>\n",
       "<thead>\n",
       "\t<tr><th scope=col>age</th><th scope=col>year</th><th scope=col>GP</th><th scope=col>MIN</th><th scope=col>FGM</th><th scope=col>FGA</th><th scope=col>X3PM</th><th scope=col>X3PA</th><th scope=col>FTM</th><th scope=col>FTA</th><th scope=col>TOV</th><th scope=col>PF</th><th scope=col>ORB</th><th scope=col>DRB</th><th scope=col>REB</th><th scope=col>AST</th><th scope=col>STL</th><th scope=col>BLK</th><th scope=col>PTS</th></tr>\n",
       "\t<tr><th scope=col>&lt;dbl&gt;</th><th scope=col>&lt;dbl&gt;</th><th scope=col>&lt;dbl&gt;</th><th scope=col>&lt;dbl&gt;</th><th scope=col>&lt;dbl&gt;</th><th scope=col>&lt;dbl&gt;</th><th scope=col>&lt;dbl&gt;</th><th scope=col>&lt;dbl&gt;</th><th scope=col>&lt;dbl&gt;</th><th scope=col>&lt;dbl&gt;</th><th scope=col>&lt;dbl&gt;</th><th scope=col>&lt;dbl&gt;</th><th scope=col>&lt;dbl&gt;</th><th scope=col>&lt;dbl&gt;</th><th scope=col>&lt;dbl&gt;</th><th scope=col>&lt;dbl&gt;</th><th scope=col>&lt;dbl&gt;</th><th scope=col>&lt;dbl&gt;</th><th scope=col>&lt;dbl&gt;</th></tr>\n",
       "</thead>\n",
       "<tbody>\n",
       "\t<tr><td>20</td><td>2011.6</td><td>75.0</td><td>1836.6</td><td>277.8</td><td>635.0</td><td>47.2</td><td>143.9</td><td>139.4</td><td>193.3</td><td>115.0</td><td>160.0</td><td> 90.3</td><td>233.9</td><td>324.2</td><td>129.8</td><td>51.4</td><td>48.6</td><td>742.2</td></tr>\n",
       "\t<tr><td>21</td><td>2011.2</td><td>75.7</td><td>1945.2</td><td>308.3</td><td>679.2</td><td>47.9</td><td>142.0</td><td>155.0</td><td>212.7</td><td>124.0</td><td>174.6</td><td>102.1</td><td>259.7</td><td>361.8</td><td>162.1</td><td>63.9</td><td>48.5</td><td>819.4</td></tr>\n",
       "\t<tr><td>22</td><td>2011.0</td><td>74.8</td><td>1934.0</td><td>316.4</td><td>688.8</td><td>49.2</td><td>142.5</td><td>158.4</td><td>213.8</td><td>120.2</td><td>172.2</td><td> 99.3</td><td>257.7</td><td>357.0</td><td>166.5</td><td>61.6</td><td>45.4</td><td>840.3</td></tr>\n",
       "\t<tr><td>23</td><td>2010.2</td><td>75.0</td><td>1993.4</td><td>328.0</td><td>714.7</td><td>52.2</td><td>150.1</td><td>164.9</td><td>220.9</td><td>123.8</td><td>172.6</td><td> 99.6</td><td>268.2</td><td>367.8</td><td>186.9</td><td>66.1</td><td>43.0</td><td>873.1</td></tr>\n",
       "\t<tr><td>24</td><td>2010.1</td><td>75.5</td><td>1976.8</td><td>324.8</td><td>704.5</td><td>55.4</td><td>156.4</td><td>161.3</td><td>214.6</td><td>117.6</td><td>171.0</td><td> 95.3</td><td>256.8</td><td>352.2</td><td>178.8</td><td>65.1</td><td>41.9</td><td>866.3</td></tr>\n",
       "\t<tr><td>25</td><td>2010.3</td><td>75.0</td><td>2031.4</td><td>335.8</td><td>727.7</td><td>60.9</td><td>169.9</td><td>169.2</td><td>222.7</td><td>118.7</td><td>171.7</td><td> 96.9</td><td>266.0</td><td>362.9</td><td>182.6</td><td>65.5</td><td>42.1</td><td>901.7</td></tr>\n",
       "</tbody>\n",
       "</table>\n"
      ],
      "text/latex": [
       "A tibble: 6 × 19\n",
       "\\begin{tabular}{lllllllllllllllllll}\n",
       " age & year & GP & MIN & FGM & FGA & X3PM & X3PA & FTM & FTA & TOV & PF & ORB & DRB & REB & AST & STL & BLK & PTS\\\\\n",
       " <dbl> & <dbl> & <dbl> & <dbl> & <dbl> & <dbl> & <dbl> & <dbl> & <dbl> & <dbl> & <dbl> & <dbl> & <dbl> & <dbl> & <dbl> & <dbl> & <dbl> & <dbl> & <dbl>\\\\\n",
       "\\hline\n",
       "\t 20 & 2011.6 & 75.0 & 1836.6 & 277.8 & 635.0 & 47.2 & 143.9 & 139.4 & 193.3 & 115.0 & 160.0 &  90.3 & 233.9 & 324.2 & 129.8 & 51.4 & 48.6 & 742.2\\\\\n",
       "\t 21 & 2011.2 & 75.7 & 1945.2 & 308.3 & 679.2 & 47.9 & 142.0 & 155.0 & 212.7 & 124.0 & 174.6 & 102.1 & 259.7 & 361.8 & 162.1 & 63.9 & 48.5 & 819.4\\\\\n",
       "\t 22 & 2011.0 & 74.8 & 1934.0 & 316.4 & 688.8 & 49.2 & 142.5 & 158.4 & 213.8 & 120.2 & 172.2 &  99.3 & 257.7 & 357.0 & 166.5 & 61.6 & 45.4 & 840.3\\\\\n",
       "\t 23 & 2010.2 & 75.0 & 1993.4 & 328.0 & 714.7 & 52.2 & 150.1 & 164.9 & 220.9 & 123.8 & 172.6 &  99.6 & 268.2 & 367.8 & 186.9 & 66.1 & 43.0 & 873.1\\\\\n",
       "\t 24 & 2010.1 & 75.5 & 1976.8 & 324.8 & 704.5 & 55.4 & 156.4 & 161.3 & 214.6 & 117.6 & 171.0 &  95.3 & 256.8 & 352.2 & 178.8 & 65.1 & 41.9 & 866.3\\\\\n",
       "\t 25 & 2010.3 & 75.0 & 2031.4 & 335.8 & 727.7 & 60.9 & 169.9 & 169.2 & 222.7 & 118.7 & 171.7 &  96.9 & 266.0 & 362.9 & 182.6 & 65.5 & 42.1 & 901.7\\\\\n",
       "\\end{tabular}\n"
      ],
      "text/markdown": [
       "\n",
       "A tibble: 6 × 19\n",
       "\n",
       "| age &lt;dbl&gt; | year &lt;dbl&gt; | GP &lt;dbl&gt; | MIN &lt;dbl&gt; | FGM &lt;dbl&gt; | FGA &lt;dbl&gt; | X3PM &lt;dbl&gt; | X3PA &lt;dbl&gt; | FTM &lt;dbl&gt; | FTA &lt;dbl&gt; | TOV &lt;dbl&gt; | PF &lt;dbl&gt; | ORB &lt;dbl&gt; | DRB &lt;dbl&gt; | REB &lt;dbl&gt; | AST &lt;dbl&gt; | STL &lt;dbl&gt; | BLK &lt;dbl&gt; | PTS &lt;dbl&gt; |\n",
       "|---|---|---|---|---|---|---|---|---|---|---|---|---|---|---|---|---|---|---|\n",
       "| 20 | 2011.6 | 75.0 | 1836.6 | 277.8 | 635.0 | 47.2 | 143.9 | 139.4 | 193.3 | 115.0 | 160.0 |  90.3 | 233.9 | 324.2 | 129.8 | 51.4 | 48.6 | 742.2 |\n",
       "| 21 | 2011.2 | 75.7 | 1945.2 | 308.3 | 679.2 | 47.9 | 142.0 | 155.0 | 212.7 | 124.0 | 174.6 | 102.1 | 259.7 | 361.8 | 162.1 | 63.9 | 48.5 | 819.4 |\n",
       "| 22 | 2011.0 | 74.8 | 1934.0 | 316.4 | 688.8 | 49.2 | 142.5 | 158.4 | 213.8 | 120.2 | 172.2 |  99.3 | 257.7 | 357.0 | 166.5 | 61.6 | 45.4 | 840.3 |\n",
       "| 23 | 2010.2 | 75.0 | 1993.4 | 328.0 | 714.7 | 52.2 | 150.1 | 164.9 | 220.9 | 123.8 | 172.6 |  99.6 | 268.2 | 367.8 | 186.9 | 66.1 | 43.0 | 873.1 |\n",
       "| 24 | 2010.1 | 75.5 | 1976.8 | 324.8 | 704.5 | 55.4 | 156.4 | 161.3 | 214.6 | 117.6 | 171.0 |  95.3 | 256.8 | 352.2 | 178.8 | 65.1 | 41.9 | 866.3 |\n",
       "| 25 | 2010.3 | 75.0 | 2031.4 | 335.8 | 727.7 | 60.9 | 169.9 | 169.2 | 222.7 | 118.7 | 171.7 |  96.9 | 266.0 | 362.9 | 182.6 | 65.5 | 42.1 | 901.7 |\n",
       "\n"
      ],
      "text/plain": [
       "  age year   GP   MIN    FGM   FGA   X3PM X3PA  FTM   FTA   TOV   PF    ORB  \n",
       "1 20  2011.6 75.0 1836.6 277.8 635.0 47.2 143.9 139.4 193.3 115.0 160.0  90.3\n",
       "2 21  2011.2 75.7 1945.2 308.3 679.2 47.9 142.0 155.0 212.7 124.0 174.6 102.1\n",
       "3 22  2011.0 74.8 1934.0 316.4 688.8 49.2 142.5 158.4 213.8 120.2 172.2  99.3\n",
       "4 23  2010.2 75.0 1993.4 328.0 714.7 52.2 150.1 164.9 220.9 123.8 172.6  99.6\n",
       "5 24  2010.1 75.5 1976.8 324.8 704.5 55.4 156.4 161.3 214.6 117.6 171.0  95.3\n",
       "6 25  2010.3 75.0 2031.4 335.8 727.7 60.9 169.9 169.2 222.7 118.7 171.7  96.9\n",
       "  DRB   REB   AST   STL  BLK  PTS  \n",
       "1 233.9 324.2 129.8 51.4 48.6 742.2\n",
       "2 259.7 361.8 162.1 63.9 48.5 819.4\n",
       "3 257.7 357.0 166.5 61.6 45.4 840.3\n",
       "4 268.2 367.8 186.9 66.1 43.0 873.1\n",
       "5 256.8 352.2 178.8 65.1 41.9 866.3\n",
       "6 266.0 362.9 182.6 65.5 42.1 901.7"
      ]
     },
     "metadata": {},
     "output_type": "display_data"
    }
   ],
   "source": [
    "year <- list()\n",
    "age <- list()\n",
    "for(i in 1:nrow(NBA_data_filtered)){\n",
    "    current_year <- as.numeric(substring(NBA_data_filtered[i,2], 8,11))\n",
    "    age[i] <- current_year - NBA_data_filtered$birth_year[i]\n",
    "    year[i] <- current_year\n",
    "}\n",
    "\n",
    "NBA_data_temp <-add_column(NBA_data_filtered,age = as.numeric(age),.after=22)\n",
    "NBA_data_temp <-add_column(NBA_data_temp,year = as.numeric(year),.after=1)\n",
    "\n",
    "# Select only numerical columns and group by age and find mean of each stat\n",
    "NBA_grouped_age <- subset(NBA_data_temp,select=c(2,7:24)) %>% group_by(age) %>% summarize(across(everything(), mean)) %>% mutate_at(vars(-age), funs(round(., 1)))\n",
    "head(NBA_grouped_age)"
   ]
  },
  {
   "cell_type": "code",
   "execution_count": 16,
   "metadata": {},
   "outputs": [
    {
     "data": {
      "text/html": [
       "<table>\n",
       "<caption>A data.frame: 2 × 2</caption>\n",
       "<thead>\n",
       "\t<tr><th scope=col>age == 25</th><th scope=col>n</th></tr>\n",
       "\t<tr><th scope=col>&lt;lgl&gt;</th><th scope=col>&lt;int&gt;</th></tr>\n",
       "</thead>\n",
       "<tbody>\n",
       "\t<tr><td>FALSE</td><td>3845</td></tr>\n",
       "\t<tr><td> TRUE</td><td> 400</td></tr>\n",
       "</tbody>\n",
       "</table>\n"
      ],
      "text/latex": [
       "A data.frame: 2 × 2\n",
       "\\begin{tabular}{ll}\n",
       " age == 25 & n\\\\\n",
       " <lgl> & <int>\\\\\n",
       "\\hline\n",
       "\t FALSE & 3845\\\\\n",
       "\t  TRUE &  400\\\\\n",
       "\\end{tabular}\n"
      ],
      "text/markdown": [
       "\n",
       "A data.frame: 2 × 2\n",
       "\n",
       "| age == 25 &lt;lgl&gt; | n &lt;int&gt; |\n",
       "|---|---|\n",
       "| FALSE | 3845 |\n",
       "|  TRUE |  400 |\n",
       "\n"
      ],
      "text/plain": [
       "  age == 25 n   \n",
       "1 FALSE     3845\n",
       "2  TRUE      400"
      ]
     },
     "metadata": {},
     "output_type": "display_data"
    },
    {
     "data": {
      "text/html": [
       "<table>\n",
       "<caption>A data.frame: 2 × 2</caption>\n",
       "<thead>\n",
       "\t<tr><th scope=col>age == 30</th><th scope=col>n</th></tr>\n",
       "\t<tr><th scope=col>&lt;lgl&gt;</th><th scope=col>&lt;int&gt;</th></tr>\n",
       "</thead>\n",
       "<tbody>\n",
       "\t<tr><td>FALSE</td><td>3951</td></tr>\n",
       "\t<tr><td> TRUE</td><td> 294</td></tr>\n",
       "</tbody>\n",
       "</table>\n"
      ],
      "text/latex": [
       "A data.frame: 2 × 2\n",
       "\\begin{tabular}{ll}\n",
       " age == 30 & n\\\\\n",
       " <lgl> & <int>\\\\\n",
       "\\hline\n",
       "\t FALSE & 3951\\\\\n",
       "\t  TRUE &  294\\\\\n",
       "\\end{tabular}\n"
      ],
      "text/markdown": [
       "\n",
       "A data.frame: 2 × 2\n",
       "\n",
       "| age == 30 &lt;lgl&gt; | n &lt;int&gt; |\n",
       "|---|---|\n",
       "| FALSE | 3951 |\n",
       "|  TRUE |  294 |\n",
       "\n"
      ],
      "text/plain": [
       "  age == 30 n   \n",
       "1 FALSE     3951\n",
       "2  TRUE      294"
      ]
     },
     "metadata": {},
     "output_type": "display_data"
    },
    {
     "data": {
      "text/html": [
       "<table>\n",
       "<caption>A data.frame: 2 × 2</caption>\n",
       "<thead>\n",
       "\t<tr><th scope=col>age == 35</th><th scope=col>n</th></tr>\n",
       "\t<tr><th scope=col>&lt;lgl&gt;</th><th scope=col>&lt;int&gt;</th></tr>\n",
       "</thead>\n",
       "<tbody>\n",
       "\t<tr><td>FALSE</td><td>4146</td></tr>\n",
       "\t<tr><td> TRUE</td><td>  99</td></tr>\n",
       "</tbody>\n",
       "</table>\n"
      ],
      "text/latex": [
       "A data.frame: 2 × 2\n",
       "\\begin{tabular}{ll}\n",
       " age == 35 & n\\\\\n",
       " <lgl> & <int>\\\\\n",
       "\\hline\n",
       "\t FALSE & 4146\\\\\n",
       "\t  TRUE &   99\\\\\n",
       "\\end{tabular}\n"
      ],
      "text/markdown": [
       "\n",
       "A data.frame: 2 × 2\n",
       "\n",
       "| age == 35 &lt;lgl&gt; | n &lt;int&gt; |\n",
       "|---|---|\n",
       "| FALSE | 4146 |\n",
       "|  TRUE |   99 |\n",
       "\n"
      ],
      "text/plain": [
       "  age == 35 n   \n",
       "1 FALSE     4146\n",
       "2  TRUE       99"
      ]
     },
     "metadata": {},
     "output_type": "display_data"
    },
    {
     "data": {
      "text/html": [
       "<table>\n",
       "<caption>A data.frame: 2 × 2</caption>\n",
       "<thead>\n",
       "\t<tr><th scope=col>age == 40</th><th scope=col>n</th></tr>\n",
       "\t<tr><th scope=col>&lt;lgl&gt;</th><th scope=col>&lt;int&gt;</th></tr>\n",
       "</thead>\n",
       "<tbody>\n",
       "\t<tr><td>FALSE</td><td>4234</td></tr>\n",
       "\t<tr><td> TRUE</td><td>  11</td></tr>\n",
       "</tbody>\n",
       "</table>\n"
      ],
      "text/latex": [
       "A data.frame: 2 × 2\n",
       "\\begin{tabular}{ll}\n",
       " age == 40 & n\\\\\n",
       " <lgl> & <int>\\\\\n",
       "\\hline\n",
       "\t FALSE & 4234\\\\\n",
       "\t  TRUE &   11\\\\\n",
       "\\end{tabular}\n"
      ],
      "text/markdown": [
       "\n",
       "A data.frame: 2 × 2\n",
       "\n",
       "| age == 40 &lt;lgl&gt; | n &lt;int&gt; |\n",
       "|---|---|\n",
       "| FALSE | 4234 |\n",
       "|  TRUE |   11 |\n",
       "\n"
      ],
      "text/plain": [
       "  age == 40 n   \n",
       "1 FALSE     4234\n",
       "2  TRUE       11"
      ]
     },
     "metadata": {},
     "output_type": "display_data"
    }
   ],
   "source": [
    "# View counts of some ages in the NBA\n",
    "count(NBA_data_temp, age == 25);count(NBA_data_temp, age == 30);count(NBA_data_temp, age == 35);count(NBA_data_temp, age == 40)"
   ]
  },
  {
   "cell_type": "code",
   "execution_count": 17,
   "metadata": {},
   "outputs": [
    {
     "data": {
      "image/png": "[encoded data removed]",
      "text/plain": [
       "plot without title"
      ]
     },
     "metadata": {
      "image/png": {
       "height": 600,
       "width": 600
      }
     },
     "output_type": "display_data"
    }
   ],
   "source": [
    "#Create plot\n",
    "ggplot(NBA_grouped_age) + aes(x = age, y = PTS) + \n",
    "geom_col(fill = 'darkorange',alpha = 0.3) +\n",
    "scale_x_continuous(name=\"Age\") +\n",
    "scale_y_continuous(name=\"Average Total Points\") +\n",
    "ggtitle('Total Points Scored by NBA Players Each\\nSeason According to Age')+\n",
    "theme(axis.text=element_text(size=12),\n",
    "        axis.title=element_text(size=20,face=\"bold\"),\n",
    "        plot.title = element_text(size=25),\n",
    "        legend.position = \"none\")"
   ]
  },
  {
   "cell_type": "markdown",
   "metadata": {},
   "source": [
    "By modeling the total points scored based on the age of the player, we can observe that most players score an average of 750 points in their first season in the NBA, increasing to a peak of 900 points per season by the age of 25. At this point, a player's scoring rate plateaus until they turn 29, then it starts rapidly decreasing at a rate of 25 points per season each year. The data for players over 35 years old is highly variable as only a quarter of players remain in the NBA until the age of 35 and continue to play more than 60 games per season (99 players). The number of active players decreases to only 11 players by the age of 40."
   ]
  },
  {
   "cell_type": "markdown",
   "metadata": {},
   "source": [
    "We wanted to dig deeper into the breakdown of the type of points that are scored in the NBA. \n",
    "\n",
    "#### Research Question # 4:\n",
    "\n",
    "How are total points distributed by 2-pointers vs. 3-pointers in the NBA?\n"
   ]
  },
  {
   "cell_type": "code",
   "execution_count": 18,
   "metadata": {},
   "outputs": [
    {
     "name": "stderr",
     "output_type": "stream",
     "text": [
      "`summarise()` ungrouping output (override with `.groups` argument)\n",
      "\n"
     ]
    }
   ],
   "source": [
    "# Group by year and find mean of numerical stats\n",
    "NBA_grouped_year <- subset(NBA_data_temp,select=c(2,7:24,29)) %>% group_by(year) %>% summarize(across(everything(), mean)) %>% mutate_at(vars(-year), funs(round(., 1)))\n",
    "# Add column showing points scored from 3 pointers (multiply 3 pointers made by 2 points for each shot)\n",
    "NBA_grouped_year <-add_column(NBA_grouped_year,X3PM_corrected = NBA_grouped_year$X3PM*3)\n",
    "# Add column showing points scored from 2 pointers\n",
    "NBA_grouped_year <-add_column(NBA_grouped_year,X2P_corrected = NBA_grouped_year$PTS - NBA_grouped_year$X3PM*3)"
   ]
  },
  {
   "cell_type": "code",
   "execution_count": 19,
   "metadata": {},
   "outputs": [
    {
     "data": {
      "image/png": "[encoded data removed]",
      "text/plain": [
       "plot without title"
      ]
     },
     "metadata": {
      "image/png": {
       "height": 600,
       "width": 600
      }
     },
     "output_type": "display_data"
    }
   ],
   "source": [
    "# Create plot\n",
    "\n",
    "ggplot(NBA_grouped_year, aes(x = year)) + \n",
    "    geom_area(aes(y = X3PM_corrected), fill = 'lightblue', color ='blue', size = 1,alpha = 0.5)  +\n",
    "    geom_area(aes(y = X2P_corrected), fill = 'orangered', color ='orangered', size = 1,alpha = 0.15)  +\n",
    "    geom_area(aes(y = PTS), fill = 'lightgrey', color ='black', size = 1,alpha = 0.15)  +\n",
    "    scale_x_continuous(name=\"Year\") +\n",
    "    scale_y_continuous(name=\"Points\") +\n",
    "    ggtitle('Total points gained in the NBA using\\nthree and two pointers per year')+\n",
    "    theme(axis.text=element_text(size=12),\n",
    "        axis.title=element_text(size=20,face=\"bold\"),\n",
    "        plot.title = element_text(size=25),\n",
    "        panel.grid.major = element_blank(), panel.grid.minor = element_blank(),\n",
    "        legend.position=\"bottom\",legend.text = element_text(colour=\"blue\", size=10, \n",
    "                                     face=\"bold\")\n",
    ")+\n",
    "annotate('text', label = 'NBA lockout', x = 2013, y = 550, size=5)"
   ]
  },
  {
   "cell_type": "markdown",
   "metadata": {},
   "source": [
    "When the data is grouped by year, the plot above displays the overall total points, the total points from 3 pointers and the total points from 2 pointers over time. What we observed is that from the years 2000-2020. The total number of points scored from 2 pointers is significantly larger than that from 3 pointers, with 2 pointers scoring 750 points and 3 pointers totaling 130 points each year. However, by the year 2020, the number of points from 3 pointers has increased to 280 points, while points from 2 pointers has decreased to 550 points. This change in the distribution of points is fairly consistent, suggesting that within the next 16 years, assuming the trend stays consistent that the number of points from 3 pointers could overtake the number of points scored from 2 pointers. \n",
    "\n",
    "##### Note: \n",
    "We also see a dip in total points in the 2011-2012 season due to the NBA lockout causing there to be 66 games instead of the regular 82 games played that season. \n"
   ]
  },
  {
   "cell_type": "markdown",
   "metadata": {},
   "source": [
    "\n",
    "Now we will look at this same points breakdown by age of players instead of year of the season. \n"
   ]
  },
  {
   "cell_type": "code",
   "execution_count": 20,
   "metadata": {},
   "outputs": [],
   "source": [
    "# Perform same data wrangling as done for the previous chart, except grouping by age instead of year. \n",
    "NBA_grouped_age <-add_column(NBA_grouped_age,X3PM_corrected = NBA_grouped_age$X3PM*3)\n",
    "NBA_grouped_age <-add_column(NBA_grouped_age,X2P_corrected = NBA_grouped_age$PTS - NBA_grouped_age$X3PM*3)"
   ]
  },
  {
   "cell_type": "code",
   "execution_count": 21,
   "metadata": {},
   "outputs": [
    {
     "data": {
      "image/png": "[encoded data removed]",
      "text/plain": [
       "plot without title"
      ]
     },
     "metadata": {
      "image/png": {
       "height": 600,
       "width": 600
      }
     },
     "output_type": "display_data"
    }
   ],
   "source": [
    "# Create plot of points breakdown (3 pointers vs. 2 pointers) by age\n",
    "\n",
    "ggplot(NBA_grouped_age) + aes(x = age, y = PTS) + \n",
    " geom_area(aes(y = X3PM_corrected), fill = 'lightblue', color ='blue', size = 1,alpha = 0.5)  +\n",
    "    geom_area(aes(y = X2P_corrected), fill = 'orangered', color ='orangered', size = 1,alpha = 0.15)  +\n",
    "    geom_area(aes(y = PTS), fill = 'lightgrey', color ='black', size = 1,alpha = 0.15)  +\n",
    "    scale_x_continuous(name=\"Age\") +\n",
    "    scale_y_continuous(name=\"Points\") +\n",
    "    ggtitle('Differences in total three pointers and\\ntwo pointers for NBA players with age')+\n",
    "    theme(axis.text=element_text(size=12),\n",
    "        axis.title=element_text(size=20,face=\"bold\"),\n",
    "        plot.title = element_text(size=25),\n",
    "        panel.grid.major = element_blank(), panel.grid.minor = element_blank(),\n",
    "        legend.position=\"bottom\",legend.text = element_text(colour=\"blue\", size=10, \n",
    "                                     face=\"bold\")\n",
    ")"
   ]
  },
  {
   "cell_type": "markdown",
   "metadata": {},
   "source": [
    "As seen above, when we compared the distribution of points of two and three pointers made by players with their age, we observe that players quickly maximize their scoring ability for two pointer and plateau by the age of 23. In contrast, the players reach their maximum 3-point scoring rate when they're 29, and the rate decreases significantly more slowly than that of two pointers. This is expected as 3 pointers require technical ability that would develop over time while 2 pointers require more speed and agility. Therefore, as 3 pointers are increasingly becoming the dominate method for scoring points, it would suggest a change in demographic or strategy within the league, allowing for more older players to have a significant impact on scoring.\n"
   ]
  },
  {
   "cell_type": "markdown",
   "metadata": {},
   "source": [
    "#### Follow-Up Question #2 (Not Answered in this Project):\n",
    "\n",
    "Why does the 3-point scoring rate increase sharply at ages 40 and 42?\n",
    "\n",
    "To answer this question, we would need to determine how many players there are at those specific ages and determine who those individual players are. It is possible that if there are very few players at those ages, a single player who makes a large amount of three pointers would skew the data as seen above. "
   ]
  },
  {
   "cell_type": "markdown",
   "metadata": {},
   "source": [
    "\n",
    "### Summary\n",
    "\n",
    "We have learned from an exploratory analysis of this NBA data that the three pointer is becoming more important. If this trend continues, it may allow older players to continue to score at high rates as they age. We also learned that the NBA is seeing an increase in the number of international players, which suggests that the globalization efforts of the NBA are proving effective.   "
   ]
  },
  {
   "cell_type": "code",
   "execution_count": null,
   "metadata": {},
   "outputs": [],
   "source": []
  }
 ],
 "metadata": {
  "kernelspec": {
   "display_name": "R",
   "language": "R",
   "name": "ir"
  },
  "language_info": {
   "codemirror_mode": "r",
   "file_extension": ".r",
   "mimetype": "text/x-r-source",
   "name": "R",
   "pygments_lexer": "r",
   "version": "4.0.2"
  }
 },
 "nbformat": 4,
 "nbformat_minor": 4
}
